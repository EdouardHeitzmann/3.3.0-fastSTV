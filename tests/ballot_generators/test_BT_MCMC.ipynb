{
 "cells": [
  {
   "cell_type": "code",
   "execution_count": 21,
   "id": "302dce2f-b73e-4fc6-9867-1d4a42b25d29",
   "metadata": {},
   "outputs": [
    {
     "name": "stdout",
     "output_type": "stream",
     "text": [
      "['/Users/ppeaungvongpakdy/Documents/Research/votekit_bt/VoteKit', '/Users/ppeaungvongpakdy/miniforge3/lib/python312.zip', '/Users/ppeaungvongpakdy/miniforge3/lib/python3.12', '/Users/ppeaungvongpakdy/miniforge3/lib/python3.12/lib-dynload', '', '/Users/ppeaungvongpakdy/miniforge3/lib/python3.12/site-packages', '/Users/ppeaungvongpakdy/choix', '/Users/ppeaungvongpakdy/miniforge3/lib/python3.12/site-packages/setuptools/_vendor']\n"
     ]
    }
   ],
   "source": [
    "# adjust the directory so that we can import local source\n",
    "import sys\n",
    "import os\n",
    "\n",
    "# Add the repo root to sys.path\n",
    "ROOT_REL_PATH_FROM_NB = \"../..\"\n",
    "repo_path = os.path.abspath(os.path.join(os.getcwd(), ROOT_REL_PATH_FROM_NB))  # adjust as needed\n",
    "if repo_path not in sys.path:\n",
    "    sys.path.insert(0, repo_path)\n",
    "\n",
    "print(sys.path)"
   ]
  },
  {
   "cell_type": "code",
   "execution_count": 22,
   "id": "0af49331",
   "metadata": {},
   "outputs": [],
   "source": [
    "from src.votekit.ballot_generator import name_BradleyTerry \n",
    "from src.votekit.pref_interval import PreferenceInterval\n",
    "import matplotlib.pyplot as plt\n",
    "import numpy as np\n",
    "from tqdm import tqdm"
   ]
  },
  {
   "cell_type": "code",
   "execution_count": 3,
   "id": "57844ad7",
   "metadata": {},
   "outputs": [
    {
     "data": {
      "text/plain": [
       "8"
      ]
     },
     "execution_count": 3,
     "metadata": {},
     "output_type": "execute_result"
    }
   ],
   "source": [
    "## setup the classes\n",
    "#n_cands = 5\n",
    "#cands = [chr(ord('a')+i) for i in range(n_cands)] # TODO: need a better way of generating cands which allow us to go larger than 26\n",
    "#print(\"candidates: \", cands)\n",
    "\n",
    "cands = [\"W1\", \"W2\", \"C1\", \"C2\"]\n",
    "bt = name_BradleyTerry(\n",
    "    candidates=cands,\n",
    "        pref_intervals_by_bloc={\n",
    "            \"W\": {\n",
    "                \"W\": PreferenceInterval({\"W1\": 0.6, \"W2\": 0.3}),\n",
    "                \"C\": PreferenceInterval({\"C1\": 0.05, \"C2\": 0.05}),\n",
    "            },\n",
    "            \"C\": {\n",
    "                \"W\": PreferenceInterval({\"W1\": 0.2, \"W2\": 0.2}),\n",
    "                \"C\": PreferenceInterval({\"C1\": 0.3, \"C2\": 0.3}),\n",
    "            },\n",
    "        },\n",
    "        bloc_voter_prop={\"W\": 0.9, \"C\": 0.1 },\n",
    "        cohesion_parameters={\"W\": {\"W\": 0.5, \"C\": 0.5}, \"C\": {\"C\": 0.9, \"W\": 0.1}},\n",
    "    )\n",
    "\n",
    "'''\n",
    "pref_intervals_by_bloc={\n",
    "            \"W\": {\n",
    "                \"W\": PreferenceInterval({\"W1\": 0.4, \"W2\": 0.3}),\n",
    "                \"C\": PreferenceInterval({\"C1\": 0.2, \"C2\": 0.1}),\n",
    "            },\n",
    "            \"C\": {\n",
    "                \"W\": PreferenceInterval({\"W1\": 0.2, \"W2\": 0.2}),\n",
    "                \"C\": PreferenceInterval({\"C1\": 0.3, \"C2\": 0.3}),\n",
    "            },\n",
    "        },\n",
    "        #bloc_voter_prop={\"W\": 0.7, \"C\": 0.3},\n",
    "    '''\n",
    "8"
   ]
  },
  {
   "cell_type": "code",
   "execution_count": null,
   "id": "573f7c1f",
   "metadata": {},
   "outputs": [],
   "source": [
    "# bug testing\n"
   ]
  },
  {
   "cell_type": "markdown",
   "id": "1023cf74",
   "metadata": {},
   "source": [
    "## Preliminary Distribution Investigations"
   ]
  },
  {
   "cell_type": "code",
   "execution_count": 4,
   "id": "b5be5441",
   "metadata": {},
   "outputs": [],
   "source": [
    "# run BT both ways and then process the differences\n",
    "num_ballots = 10000#int(10e5)\n",
    "bals_BT_classic = bt.generate_profile(num_ballots)\n",
    "#bals_BT_MCMC = bt.generate_profile_MCMC(num_ballots, verbose=False)\n",
    "bals_BT_MCMC = bt.generate_profile_MCMC(num_ballots, verbose=False, on_shortcut_graph=False)\n",
    "bals_BT_MCMC_shortcut = bt.generate_profile_MCMC(num_ballots, verbose=False, on_shortcut_graph=True)\n"
   ]
  },
  {
   "cell_type": "code",
   "execution_count": 5,
   "id": "1ea54c65",
   "metadata": {},
   "outputs": [
    {
     "name": "stdout",
     "output_type": "stream",
     "text": [
      "{'W': {('W1', 'W2', 'C1', 'C2'): 0.04309764309764311, ('W1', 'W2', 'C2', 'C1'): 0.04309764309764311, ('W1', 'C1', 'W2', 'C2'): 0.06464646464646466, ('W1', 'C1', 'C2', 'W2'): 0.09696969696969698, ('W1', 'C2', 'W2', 'C1'): 0.06464646464646466, ('W1', 'C2', 'C1', 'W2'): 0.09696969696969698, ('W2', 'W1', 'C1', 'C2'): 0.021548821548821553, ('W2', 'W1', 'C2', 'C1'): 0.021548821548821553, ('W2', 'C1', 'W1', 'C2'): 0.016161616161616165, ('W2', 'C1', 'C2', 'W1'): 0.012121212121212123, ('W2', 'C2', 'W1', 'C1'): 0.016161616161616165, ('W2', 'C2', 'C1', 'W1'): 0.012121212121212123, ('C1', 'W1', 'W2', 'C2'): 0.04848484848484849, ('C1', 'W1', 'C2', 'W2'): 0.07272727272727272, ('C1', 'W2', 'W1', 'C2'): 0.024242424242424246, ('C1', 'W2', 'C2', 'W1'): 0.01818181818181818, ('C1', 'C2', 'W1', 'W2'): 0.054545454545454536, ('C1', 'C2', 'W2', 'W1'): 0.027272727272727268, ('C2', 'W1', 'W2', 'C1'): 0.04848484848484849, ('C2', 'W1', 'C1', 'W2'): 0.07272727272727272, ('C2', 'W2', 'W1', 'C1'): 0.024242424242424246, ('C2', 'W2', 'C1', 'W1'): 0.01818181818181818, ('C2', 'C1', 'W1', 'W2'): 0.054545454545454536, ('C2', 'C1', 'W2', 'W1'): 0.027272727272727268}, 'C': {('W1', 'W2', 'C1', 'C2'): 3.3503082283570095e-05, ('W1', 'W2', 'C2', 'C1'): 3.3503082283570095e-05, ('W1', 'C1', 'W2', 'C2'): 0.00030152774055213085, ('W1', 'C1', 'C2', 'W2'): 0.002713749664969178, ('W1', 'C2', 'W2', 'C1'): 0.00030152774055213085, ('W1', 'C2', 'C1', 'W2'): 0.002713749664969178, ('W2', 'W1', 'C1', 'C2'): 3.3503082283570095e-05, ('W2', 'W1', 'C2', 'C1'): 3.3503082283570095e-05, ('W2', 'C1', 'W1', 'C2'): 0.00030152774055213085, ('W2', 'C1', 'C2', 'W1'): 0.002713749664969178, ('W2', 'C2', 'W1', 'C1'): 0.00030152774055213085, ('W2', 'C2', 'C1', 'W1'): 0.002713749664969178, ('C1', 'W1', 'W2', 'C2'): 0.002713749664969178, ('C1', 'W1', 'C2', 'W2'): 0.024423746984722598, ('C1', 'W2', 'W1', 'C2'): 0.002713749664969178, ('C1', 'W2', 'C2', 'W1'): 0.024423746984722598, ('C1', 'C2', 'W1', 'W2'): 0.21981372286250336, ('C1', 'C2', 'W2', 'W1'): 0.21981372286250336, ('C2', 'W1', 'W2', 'C1'): 0.002713749664969178, ('C2', 'W1', 'C1', 'W2'): 0.024423746984722598, ('C2', 'W2', 'W1', 'C1'): 0.002713749664969178, ('C2', 'W2', 'C1', 'W1'): 0.024423746984722598, ('C2', 'C1', 'W1', 'W2'): 0.21981372286250336, ('C2', 'C1', 'W2', 'W1'): 0.21981372286250336}}\n"
     ]
    }
   ],
   "source": [
    "#print(sum(bt.pdfs_by_bloc['C'].values()))\n",
    "print(bt.pdfs_by_bloc)\n",
    "\n",
    "## cheat, since above we have the same number of ballots\n",
    "pdfs_BB_W = {\n",
    "    \"\".join(list(bal)) : bt.pdfs_by_bloc[\"W\"][bal] for bal in bt.pdfs_by_bloc[\"W\"]\n",
    "}\n",
    "pdfs_BB_C = {\n",
    "    \"\".join(list(bal)) : bt.pdfs_by_bloc[\"C\"][bal] for bal in bt.pdfs_by_bloc[\"C\"]\n",
    "}\n",
    "\n",
    "#pdfs_as_heights = {k : pdfs}\n"
   ]
  },
  {
   "cell_type": "markdown",
   "id": "a7c962c7",
   "metadata": {},
   "source": [
    "### Visualize the frequency differences between MCMC and classic BT method"
   ]
  },
  {
   "cell_type": "code",
   "execution_count": 6,
   "id": "e9a8e8f4",
   "metadata": {},
   "outputs": [
    {
     "name": "stdout",
     "output_type": "stream",
     "text": [
      "False\n",
      "{'C1W1W2C2': 470, 'C1W1C2W2': 24, 'C1C2W2W1': 239, 'C1C2W1W2': 211, 'C1W2C2W1': 31, 'C1W2W1C2': 2, 'W1C1W2C2': 1, 'W1C1C2W2': 1, 'W1C2W2C1': 608, 'W1C2C1W2': 1, 'W1W2C1C2': 364, 'W1W2C2C1': 398, 'C2W1W2C1': 5, 'C2W1C1W2': 37, 'C2C1W2W1': 204, 'C2C1W1W2': 206, 'C2W2C1W1': 34, 'C2W2W1C1': 211, 'W2W1C1C2': 208, 'W2W1C2C1': 208, 'W2C1C2W1': 4, 'W2C1W1C2': 150, 'W2C2C1W1': 112, 'W2C2W1C1': 157}\n",
      "['W1', 'W2', 'C1', 'C2']\n"
     ]
    },
    {
     "data": {
      "image/png": "[encoded data removed]",
      "text/plain": [
       "<Figure size 640x480 with 1 Axes>"
      ]
     },
     "metadata": {},
     "output_type": "display_data"
    }
   ],
   "source": [
    "ballot_rankings_MCMC = [bal.ranking for bal in bals_BT_MCMC.ballots]\n",
    "bal_labels_MCMC = [\"\".join([list(cand)[0] for cand in ranking]) for ranking in ballot_rankings_MCMC]\n",
    "bal_weights_MCMC = [int(bal.weight) for bal in bals_BT_MCMC.ballots]\n",
    "\n",
    "ballot_rankings_MCMC_shortcut = [bal.ranking for bal in bals_BT_MCMC_shortcut.ballots]\n",
    "bal_labels_MCMC_shortcut = [\"\".join([list(cand)[0] for cand in ranking]) for ranking in ballot_rankings_MCMC_shortcut]\n",
    "bal_weights_MCMC_shortcut = [int(bal.weight) for bal in bals_BT_MCMC_shortcut.ballots]\n",
    "\n",
    "ballot_rankings_classic = [bal.ranking for bal in bals_BT_classic.ballots]\n",
    "bal_labels_classic = [\"\".join([list(cand)[0] for cand in ranking]) for ranking in ballot_rankings_classic]\n",
    "bal_weights_classic = [int(bal.weight) for bal in bals_BT_classic.ballots]\n",
    "\n",
    "print(bal_labels_classic == bal_labels_MCMC) # labels not in the same order, so set up a map \n",
    "\n",
    "# map ballots to weights for each method\n",
    "bal_rankings_map_classic = {bal_labels_classic[i]: bal_weights_classic[i] for i in range(len(ballot_rankings_classic))}\n",
    "bal_rankings_map_MCMC = {bal_labels_MCMC[i]: bal_weights_MCMC[i] for i in range(len(ballot_rankings_MCMC))}\n",
    "bal_rankings_map_MCMC_shortcut = {bal_labels_MCMC_shortcut[i]: bal_weights_MCMC_shortcut[i] for i in range(len(ballot_rankings_MCMC_shortcut))}\n",
    "\n",
    "# convert the bt instance pdfs to a viz-able form\n",
    "\n",
    "print(bal_rankings_map_classic)\n",
    "x_labels = list(bal_rankings_map_classic.keys())\n",
    "\n",
    "plt.bar(x_labels, [bal_rankings_map_MCMC[k] for k in x_labels], label=\"MCMC freq\")\n",
    "#plt.bar(x_labels, [bal_rankings_map_MCMC_shortcut[k] for k in x_labels], label=\"MCMC shortcut freq\", alpha=0.6)\n",
    "plt.bar(x_labels, [bal_rankings_map_classic[k] for k in x_labels], label=\"classic freq\", alpha=0.6)\n",
    "plt.xticks(rotation=45, ha='right', fontsize=8)\n",
    "plt.legend()\n",
    "plt.ylabel(\"Frequency\")\n",
    "plt.title(f\"BT samples with MCMC and direct sampling for {len(cands)} candidates and {num_ballots:,} ballots\")\n",
    "\n",
    "8\n",
    "print(cands)\n"
   ]
  },
  {
   "cell_type": "code",
   "execution_count": 7,
   "id": "74fcfd9c",
   "metadata": {},
   "outputs": [
    {
     "data": {
      "text/plain": [
       "(Ranking\n",
       " 1.) W2, \n",
       " 2.) C1, \n",
       " 3.) W1, \n",
       " 4.) C2, \n",
       " Weight: 137.0,\n",
       " Ranking\n",
       " 1.) W2, \n",
       " 2.) C1, \n",
       " 3.) C2, \n",
       " 4.) W1, \n",
       " Weight: 113.0,\n",
       " Ranking\n",
       " 1.) W2, \n",
       " 2.) W1, \n",
       " 3.) C1, \n",
       " 4.) C2, \n",
       " Weight: 179.0,\n",
       " Ranking\n",
       " 1.) W2, \n",
       " 2.) W1, \n",
       " 3.) C2, \n",
       " 4.) C1, \n",
       " Weight: 191.0,\n",
       " Ranking\n",
       " 1.) W2, \n",
       " 2.) C2, \n",
       " 3.) W1, \n",
       " 4.) C1, \n",
       " Weight: 118.0,\n",
       " Ranking\n",
       " 1.) W2, \n",
       " 2.) C2, \n",
       " 3.) C1, \n",
       " 4.) W1, \n",
       " Weight: 104.0,\n",
       " Ranking\n",
       " 1.) W1, \n",
       " 2.) C1, \n",
       " 3.) C2, \n",
       " 4.) W2, \n",
       " Weight: 821.0,\n",
       " Ranking\n",
       " 1.) W1, \n",
       " 2.) C1, \n",
       " 3.) W2, \n",
       " 4.) C2, \n",
       " Weight: 578.0,\n",
       " Ranking\n",
       " 1.) W1, \n",
       " 2.) W2, \n",
       " 3.) C1, \n",
       " 4.) C2, \n",
       " Weight: 402.0,\n",
       " Ranking\n",
       " 1.) W1, \n",
       " 2.) W2, \n",
       " 3.) C2, \n",
       " 4.) C1, \n",
       " Weight: 422.0,\n",
       " Ranking\n",
       " 1.) W1, \n",
       " 2.) C2, \n",
       " 3.) C1, \n",
       " 4.) W2, \n",
       " Weight: 884.0,\n",
       " Ranking\n",
       " 1.) W1, \n",
       " 2.) C2, \n",
       " 3.) W2, \n",
       " 4.) C1, \n",
       " Weight: 609.0,\n",
       " Ranking\n",
       " 1.) C2, \n",
       " 2.) C1, \n",
       " 3.) W1, \n",
       " 4.) W2, \n",
       " Weight: 553.0,\n",
       " Ranking\n",
       " 1.) C2, \n",
       " 2.) C1, \n",
       " 3.) W2, \n",
       " 4.) W1, \n",
       " Weight: 272.0,\n",
       " Ranking\n",
       " 1.) C2, \n",
       " 2.) W1, \n",
       " 3.) C1, \n",
       " 4.) W2, \n",
       " Weight: 653.0,\n",
       " Ranking\n",
       " 1.) C2, \n",
       " 2.) W1, \n",
       " 3.) W2, \n",
       " 4.) C1, \n",
       " Weight: 467.0,\n",
       " Ranking\n",
       " 1.) C2, \n",
       " 2.) W2, \n",
       " 3.) W1, \n",
       " 4.) C1, \n",
       " Weight: 203.0,\n",
       " Ranking\n",
       " 1.) C2, \n",
       " 2.) W2, \n",
       " 3.) C1, \n",
       " 4.) W1, \n",
       " Weight: 175.0,\n",
       " Ranking\n",
       " 1.) C1, \n",
       " 2.) W1, \n",
       " 3.) C2, \n",
       " 4.) W2, \n",
       " Weight: 589.0,\n",
       " Ranking\n",
       " 1.) C1, \n",
       " 2.) W1, \n",
       " 3.) W2, \n",
       " 4.) C2, \n",
       " Weight: 399.0,\n",
       " Ranking\n",
       " 1.) C1, \n",
       " 2.) W2, \n",
       " 3.) W1, \n",
       " 4.) C2, \n",
       " Weight: 184.0,\n",
       " Ranking\n",
       " 1.) C1, \n",
       " 2.) W2, \n",
       " 3.) C2, \n",
       " 4.) W1, \n",
       " Weight: 150.0,\n",
       " Ranking\n",
       " 1.) C1, \n",
       " 2.) C2, \n",
       " 3.) W1, \n",
       " 4.) W2, \n",
       " Weight: 531.0,\n",
       " Ranking\n",
       " 1.) C1, \n",
       " 2.) C2, \n",
       " 3.) W2, \n",
       " 4.) W1, \n",
       " Weight: 266.0,\n",
       " Ranking\n",
       " 1.) W2, \n",
       " 2.) C1, \n",
       " 3.) C2, \n",
       " 4.) W1, \n",
       " Weight: 3.0,\n",
       " Ranking\n",
       " 1.) W2, \n",
       " 2.) C2, \n",
       " 3.) C1, \n",
       " 4.) W1, \n",
       " Weight: 2.0,\n",
       " Ranking\n",
       " 1.) C1, \n",
       " 2.) W2, \n",
       " 3.) C2, \n",
       " 4.) W1, \n",
       " Weight: 47.0,\n",
       " Ranking\n",
       " 1.) C1, \n",
       " 2.) W2, \n",
       " 3.) W1, \n",
       " 4.) C2, \n",
       " Weight: 6.0,\n",
       " Ranking\n",
       " 1.) C1, \n",
       " 2.) C2, \n",
       " 3.) W1, \n",
       " 4.) W2, \n",
       " Weight: 215.0,\n",
       " Ranking\n",
       " 1.) C1, \n",
       " 2.) C2, \n",
       " 3.) W2, \n",
       " 4.) W1, \n",
       " Weight: 215.0,\n",
       " Ranking\n",
       " 1.) C1, \n",
       " 2.) W1, \n",
       " 3.) C2, \n",
       " 4.) W2, \n",
       " Weight: 46.0,\n",
       " Ranking\n",
       " 1.) C1, \n",
       " 2.) W1, \n",
       " 3.) W2, \n",
       " 4.) C2, \n",
       " Weight: 8.0,\n",
       " Ranking\n",
       " 1.) C2, \n",
       " 2.) C1, \n",
       " 3.) W1, \n",
       " 4.) W2, \n",
       " Weight: 185.0,\n",
       " Ranking\n",
       " 1.) C2, \n",
       " 2.) C1, \n",
       " 3.) W2, \n",
       " 4.) W1, \n",
       " Weight: 208.0,\n",
       " Ranking\n",
       " 1.) C2, \n",
       " 2.) W2, \n",
       " 3.) W1, \n",
       " 4.) C1, \n",
       " Weight: 1.0,\n",
       " Ranking\n",
       " 1.) C2, \n",
       " 2.) W2, \n",
       " 3.) C1, \n",
       " 4.) W1, \n",
       " Weight: 24.0,\n",
       " Ranking\n",
       " 1.) C2, \n",
       " 2.) W1, \n",
       " 3.) W2, \n",
       " 4.) C1, \n",
       " Weight: 2.0,\n",
       " Ranking\n",
       " 1.) C2, \n",
       " 2.) W1, \n",
       " 3.) C1, \n",
       " 4.) W2, \n",
       " Weight: 23.0,\n",
       " Ranking\n",
       " 1.) W1, \n",
       " 2.) C1, \n",
       " 3.) C2, \n",
       " 4.) W2, \n",
       " Weight: 5.0,\n",
       " Ranking\n",
       " 1.) W1, \n",
       " 2.) C2, \n",
       " 3.) W2, \n",
       " 4.) C1, \n",
       " Weight: 2.0,\n",
       " Ranking\n",
       " 1.) W1, \n",
       " 2.) C2, \n",
       " 3.) C1, \n",
       " 4.) W2, \n",
       " Weight: 8.0)"
      ]
     },
     "execution_count": 7,
     "metadata": {},
     "output_type": "execute_result"
    }
   ],
   "source": [
    "bals_BT_MCMC.ballots"
   ]
  },
  {
   "cell_type": "markdown",
   "id": "79bdf393",
   "metadata": {},
   "source": [
    "## TV Distance Empirics"
   ]
  },
  {
   "cell_type": "code",
   "execution_count": 9,
   "id": "ce18ce23",
   "metadata": {},
   "outputs": [],
   "source": [
    "def total_variation_distance(P, Q, labels):\n",
    "    sum = 0 \n",
    "    for x in labels:\n",
    "        sum += abs(P[x] - Q[x])\n",
    "    return (1/2)*sum"
   ]
  },
  {
   "cell_type": "code",
   "execution_count": 10,
   "id": "a7c2024a",
   "metadata": {},
   "outputs": [
    {
     "name": "stdout",
     "output_type": "stream",
     "text": [
      "len set\n",
      "24\n",
      "10000\n",
      "<zip object at 0x2b489f700>\n",
      "10000\n"
     ]
    }
   ],
   "source": [
    "test_bals = bt.generate_profile(10000).group_ballots()\n",
    "sum([b.weight for b in test_bals.ballots])\n",
    "test_rankings = [bal.ranking for bal in test_bals.ballots]\n",
    "test_bal_labels = [  \"\".join([list(cand)[0] for cand in ranking])  for ranking in test_rankings]\n",
    "#print(bal_labels[0])\n",
    "test_bal_weights = [int(bal.weight) for bal in test_bals.ballots]\n",
    "#print(sum(test_bal_weights))\n",
    "#print(len(test_bal_weights))\n",
    "\n",
    "\n",
    "print(\"len set\")\n",
    "print(\n",
    "    len(set(test_bal_labels))\n",
    ")\n",
    "\n",
    "print(sum([test_bal_weights[i] for i in range(len(test_bal_labels))]))\n",
    "\n",
    "print(zip())\n",
    "\n",
    "test_map = {\n",
    "  test_bal_labels[i] : test_bal_weights[i] for i in range(len(test_bal_labels))  \n",
    "}\n",
    "\n",
    "\n",
    "\n",
    "print(sum(test_map.values()))"
   ]
  },
  {
   "cell_type": "code",
   "execution_count": 11,
   "id": "d4298d74",
   "metadata": {},
   "outputs": [
    {
     "data": {
      "text/plain": [
       "{'A': 3, 'B': 1, 'C': 2}"
      ]
     },
     "execution_count": 11,
     "metadata": {},
     "output_type": "execute_result"
    }
   ],
   "source": [
    "keys = [\"A\", \"B\", \"C\", \"A\"]\n",
    "values = [0,1,2,3]\n",
    "\n",
    "{keys[i] : values[i] for i in range(len(keys))}"
   ]
  },
  {
   "cell_type": "code",
   "execution_count": 19,
   "id": "7847d849",
   "metadata": {},
   "outputs": [
    {
     "name": "stderr",
     "output_type": "stream",
     "text": [
      "100%|███████████████████████████████████████████| 99/99 [11:41<00:00,  7.09s/it]\n"
     ]
    }
   ],
   "source": [
    "num_ballots_array = np.linspace(100, 2000, 100)\n",
    "num_ballots_array = num_ballots_array.astype(int)[1:]\n",
    "num_trials_per_ballot_size = 100\n",
    "\n",
    "tv_distances_non_shortcut = []\n",
    "tv_distances_shortcut = []\n",
    "for num_ballots in tqdm(num_ballots_array):\n",
    "    running_total_non_shortcut = 0\n",
    "    running_total_shortcut = 0\n",
    "    for _ in range(num_trials_per_ballot_size):\n",
    "        ## -- Intialize the ballots ------------ \n",
    "        bals_BT_MCMC = bt.generate_profile_MCMC(num_ballots, verbose=False).group_ballots()\n",
    "        bals_BT_MCMC_shortcut = bt.generate_profile_MCMC(num_ballots, verbose=False, on_shortcut_graph=True).group_ballots() ## TODO: ON_SHORTCUT IS NOT SPECIFIED HERE\n",
    "        bals_BT_classic = bt.generate_profile(num_ballots).group_ballots()\n",
    "        \n",
    "        ## -- Calculate the frequencies ----------------\n",
    "        ballot_rankings_MCMC = [bal.ranking for bal in bals_BT_MCMC.ballots]\n",
    "        bal_labels_MCMC = [\"\".join([list(cand)[0] for cand in ranking]) for ranking in ballot_rankings_MCMC]\n",
    "        bal_weights_MCMC = [int(bal.weight) for bal in bals_BT_MCMC.ballots]\n",
    "\n",
    "        ballot_rankings_MCMC_shortcut = [bal.ranking for bal in bals_BT_MCMC_shortcut.ballots]\n",
    "        bal_labels_MCMC_shortcut = [\"\".join([list(cand)[0] for cand in ranking]) for ranking in ballot_rankings_MCMC_shortcut]\n",
    "        bal_weights_MCMC_shortcut = [int(bal.weight) for bal in bals_BT_MCMC_shortcut.ballots]\n",
    "        \n",
    "        ballot_rankings_classic = [bal.ranking for bal in bals_BT_classic.ballots]\n",
    "        bal_labels_classic = [\"\".join([list(cand)[0] for cand in ranking]) for ranking in ballot_rankings_classic]\n",
    "        bal_weights_classic = [int(bal.weight) for bal in bals_BT_classic.ballots]\n",
    "        \n",
    "        \n",
    "        bal_rankings_map_classic_as_freq = {bal_labels_classic[i]: bal_weights_classic[i]/num_ballots for i in range(len(bal_labels_classic))}\n",
    "        bal_rankings_map_MCMC = {bal_labels_MCMC[i]: bal_weights_MCMC[i]/num_ballots for i in range(len(bal_labels_MCMC))}\n",
    "        bal_rankings_map_MCMC_shortcut_as_freq = {bal_labels_MCMC_shortcut[i]: bal_weights_MCMC_shortcut[i] / num_ballots for i in range(len(bal_labels_MCMC_shortcut))}\n",
    "\n",
    "        # populate any missing keys\n",
    "        # note: in general the classic map should have all the keys since\n",
    "        # it computes the pdf directly. However, this procedure should\n",
    "        # work in cases where we may not have the classic map\n",
    "        all_keys = [list(m.keys()) for m in [\n",
    "            bal_rankings_map_classic_as_freq, bal_rankings_map_MCMC, bal_rankings_map_MCMC_shortcut_as_freq\n",
    "        ]]\n",
    "        flattened_keys = [k for sublist in all_keys for k in sublist]\n",
    "\n",
    "        for key in flattened_keys:\n",
    "            bal_rankings_map_MCMC_shortcut_as_freq.setdefault(key, 0) \n",
    "            bal_rankings_map_MCMC.setdefault(key, 0) \n",
    "            bal_rankings_map_classic_as_freq.setdefault(key, 0) \n",
    "\n",
    "        # increment the recorded tv distances\n",
    "        x_labels = list(bal_rankings_map_classic_as_freq.keys())\n",
    "        running_total_non_shortcut += total_variation_distance(bal_rankings_map_MCMC, bal_rankings_map_classic_as_freq, x_labels)\n",
    "        running_total_shortcut += total_variation_distance(bal_rankings_map_MCMC_shortcut_as_freq, bal_rankings_map_classic_as_freq, x_labels)\n",
    "\n",
    "    tv_distances_non_shortcut.append(running_total_non_shortcut/num_trials_per_ballot_size)\n",
    "    tv_distances_shortcut.append(running_total_shortcut/num_trials_per_ballot_size)\n"
   ]
  },
  {
   "cell_type": "code",
   "execution_count": 20,
   "id": "98211703",
   "metadata": {},
   "outputs": [
    {
     "data": {
      "image/png": "[encoded data removed]",
      "text/plain": [
       "<Figure size 640x480 with 1 Axes>"
      ]
     },
     "metadata": {},
     "output_type": "display_data"
    }
   ],
   "source": [
    "### Plot TV Distance as a function of ballots\n",
    "plt.plot(num_ballots_array, tv_distances_non_shortcut, label=\"Non-shortcut\")\n",
    "plt.plot(num_ballots_array, tv_distances_shortcut, label=\"Shortcut\")\n",
    "plt.legend()\n",
    "plt.xlabel(\"Number of ballots\")\n",
    "plt.ylabel(\"Total Variation Distance to Calculated BT PDF\")\n",
    "plt.title(\"Total Variation Distance over number of ballots\")\n",
    "plt.show()"
   ]
  },
  {
   "cell_type": "markdown",
   "id": "31a7cfbf",
   "metadata": {},
   "source": [
    "### Time investigations for BT methods"
   ]
  },
  {
   "cell_type": "code",
   "execution_count": 15,
   "id": "8df5b6e0",
   "metadata": {},
   "outputs": [],
   "source": [
    "## run both classic and both types of MCMC runs for maybe 1k, 5k, 10k ballots with various n and see how they compare\n",
    "## might be worth writing a method to generate data for $n$ candidates so that we can scale $n$ easily\n",
    "def generate_BT_args(n_cands, alpha=1):\n",
    "    '''\n",
    "        generates arguments for name_BradleyTerry with n_cands,\n",
    "        generates single slate and single bloc, \n",
    "    '''\n",
    "    # num cands goes up to 26\n",
    "    cands = [chr(ord('a')+i) for i in range(n_cands)]\n",
    "    bloc_name = \"H\"\n",
    "    pref_interval = PreferenceInterval.from_dirichlet(candidates=cands, alpha=alpha)\n",
    "    pref_intervals_by_bloc = {\n",
    "        bloc_name: {\n",
    "            bloc_name : pref_interval\n",
    "        }\n",
    "    }\n",
    "    bloc_voter_prop = {bloc_name: 1}\n",
    "    cohesion_paramteters = {\n",
    "        bloc_name: {\n",
    "            bloc_name: 1\n",
    "        }\n",
    "    }\n",
    "    \n",
    "    return {\n",
    "        \"candidates\": cands,\n",
    "        \"pref_intervals_by_bloc\": pref_intervals_by_bloc,\n",
    "        \"bloc_voter_prop\" : bloc_voter_prop,\n",
    "        \"cohesion_parameters\": cohesion_paramteters\n",
    "    }\n",
    "\n",
    "\n",
    "#bt_args = generate_BT_args(5, alpha=1)\n",
    "#dummy_method(**bt_args)\n",
    "#test_BT = name_BradleyTerry(**bt_args)"
   ]
  },
  {
   "cell_type": "code",
   "execution_count": 16,
   "id": "aac8cc1b",
   "metadata": {},
   "outputs": [
    {
     "name": "stdout",
     "output_type": "stream",
     "text": [
      "52.9 ms ± 1.02 ms per loop (mean ± std. dev. of 7 runs, 10 loops each)\n",
      "50.3 ms ± 489 μs per loop (mean ± std. dev. of 7 runs, 10 loops each)\n"
     ]
    }
   ],
   "source": [
    "# 5 candidates run time sampling\n",
    "bt_5_cands = name_BradleyTerry(**generate_BT_args(n_cands=5, alpha=1))\n",
    "n_ballots = 5000\n",
    "%timeit bt_5_cands.generate_profile(n_ballots)\n",
    "%timeit bt_5_cands.generate_profile_MCMC(n_ballots)"
   ]
  },
  {
   "cell_type": "code",
   "execution_count": 17,
   "id": "aa81d928",
   "metadata": {},
   "outputs": [
    {
     "name": "stdout",
     "output_type": "stream",
     "text": [
      "514 ms ± 21.2 ms per loop (mean ± std. dev. of 7 runs, 1 loop each)\n",
      "56.9 ms ± 407 μs per loop (mean ± std. dev. of 7 runs, 10 loops each)\n"
     ]
    }
   ],
   "source": [
    "# 10 candidates run time sampleing\n",
    "bt_10_cands = name_BradleyTerry(**generate_BT_args(n_cands=10, alpha=1))\n",
    "n_ballots = 1000\n",
    "%timeit bt_10_cands.generate_profile(n_ballots)\n",
    "%timeit bt_10_cands.generate_profile_MCMC(n_ballots)"
   ]
  },
  {
   "cell_type": "code",
   "execution_count": 18,
   "id": "783ffbf5",
   "metadata": {},
   "outputs": [
    {
     "name": "stderr",
     "output_type": "stream",
     "text": [
      "/Users/ppeaungvongpakdy/Documents/Research/votekit_bt/VoteKit/src/votekit/ballot_generator.py:834: UserWarning: For 12 or more candidates, exact sampling is computationally infeasible.                     Please only use the built in generate_profile_MCMC method.\n",
      "  warnings.warn(\n"
     ]
    },
    {
     "name": "stdout",
     "output_type": "stream",
     "text": [
      "120 ms ± 641 μs per loop (mean ± std. dev. of 7 runs, 10 loops each)\n",
      "61.6 ms ± 604 μs per loop (mean ± std. dev. of 7 runs, 10 loops each)\n"
     ]
    }
   ],
   "source": [
    "# 20 candidates run time sampling\n",
    "bt_20_cands = name_BradleyTerry(**generate_BT_args(n_cands=20, alpha=1))\n",
    "n_ballots = 1000\n",
    "# check that generate_profile actually throws an error with this many cands\n",
    "%timeit bt_20_cands.generate_profile_MCMC(n_ballots)\n",
    "%timeit bt_20_cands.generate_profile_MCMC(n_ballots, on_shortcut_graph=True)"
   ]
  }
 ],
 "metadata": {
  "kernelspec": {
   "display_name": "Python 3 (ipykernel)",
   "language": "python",
   "name": "python3"
  },
  "language_info": {
   "codemirror_mode": {
    "name": "ipython",
    "version": 3
   },
   "file_extension": ".py",
   "mimetype": "text/x-python",
   "name": "python",
   "nbconvert_exporter": "python",
   "pygments_lexer": "ipython3",
   "version": "3.12.5"
  }
 },
 "nbformat": 4,
 "nbformat_minor": 5
}
