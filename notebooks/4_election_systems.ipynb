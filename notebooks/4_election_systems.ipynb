{
 "cells": [
  {
   "cell_type": "markdown",
   "metadata": {
    "id": "XUpNxYs-49Co"
   },
   "source": [
    "# Elections\n",
    "\n",
    "Elections are the systems or algorithms by which a `PreferenceProfile`, or collection of ballots, is converted into an outcome. There are infinitely many different possible election methods, whether the output is a single winner, a set of winners, or a consensus ranking. VoteKit has a host of built-in election methods, as well as the functionality to let you create your own system of election. By the end of this section, you will have been introduced to the STV and Borda elections, learned about the `Election` object, and created your own election type."
   ]
  },
  {
   "cell_type": "markdown",
   "metadata": {
    "id": "4wDDxZZ-BWsY"
   },
   "source": [
    "## STV\n",
    "\n",
    "To start, let's return to the Minneapolis 2013 mayoral race. We first saw this in [previous notebooks](2_real_and_simulated_profiles.html). As a reminder, this election had 35 named candidates running for one seat, and used an IRV election system (which is mathematically equivalent to a single-winner STV election) to choose the winner. Voters were only allowed to rank their top three candidates.\n",
    "\n",
    "Let's load in the **cast vote record** (CVR) from the election, and do all of the same cleaning we did before."
   ]
  },
  {
   "cell_type": "code",
   "execution_count": 1,
   "metadata": {
    "id": "x8PuYJyU26Mm"
   },
   "outputs": [
    {
     "name": "stdout",
     "output_type": "stream",
     "text": [
      "                                  Status  Round\n",
      "BETSY HODGES                     Elected     35\n",
      "MARK ANDREW                   Eliminated     34\n",
      "DON SAMUELS                   Eliminated     33\n",
      "CAM WINTON                    Eliminated     32\n",
      "JACKIE CHERRYHOMES            Eliminated     31\n",
      "BOB FINE                      Eliminated     30\n",
      "DAN COHEN                     Eliminated     29\n",
      "STEPHANIE WOODRUFF            Eliminated     28\n",
      "MARK V ANDERSON               Eliminated     27\n",
      "DOUG MANN                     Eliminated     26\n",
      "OLE SAVIOR                    Eliminated     25\n",
      "JAMES EVERETT                 Eliminated     24\n",
      "ALICIA K. BENNETT             Eliminated     23\n",
      "ABDUL M RAHAMAN \"THE ROCK\"    Eliminated     22\n",
      "CAPTAIN JACK SPARROW          Eliminated     21\n",
      "CHRISTOPHER CLARK             Eliminated     20\n",
      "TONY LANE                     Eliminated     19\n",
      "JAYMIE KELLY                  Eliminated     18\n",
      "MIKE GOULD                    Eliminated     17\n",
      "KURTIS W. HANNA               Eliminated     16\n",
      "CHRISTOPHER ROBIN ZIMMERMAN   Eliminated     15\n",
      "JEFFREY ALAN WAGNER           Eliminated     14\n",
      "NEAL BAXTER                   Eliminated     13\n",
      "TROY BENJEGERDES              Eliminated     12\n",
      "GREGG A. IVERSON              Eliminated     11\n",
      "MERRILL ANDERSON              Eliminated     10\n",
      "JOSHUA REA                    Eliminated      9\n",
      "BILL KAHN                     Eliminated      8\n",
      "JOHN LESLIE HARTWIG           Eliminated      7\n",
      "EDMUND BERNARD BRUYERE        Eliminated      6\n",
      "JAMES \"JIMMY\" L. STROUD, JR.  Eliminated      5\n",
      "RAHN V. WORKCUFF              Eliminated      4\n",
      "BOB \"AGAIN\" CARNEY JR         Eliminated      3\n",
      "CYD GORMAN                    Eliminated      2\n",
      "JOHN CHARLES WILSON           Eliminated      1\n"
     ]
    },
    {
     "name": "stderr",
     "output_type": "stream",
     "text": [
      "/Users/cdonnay/Documents/GitHub/MGGG/VoteKit/src/votekit/pref_profile/pref_profile.py:1109: UserWarning: Profile does not contain rankings but max_ranking_length=3. Setting max_ranking_length to 0.\n",
      "  warnings.warn(\n"
     ]
    }
   ],
   "source": [
    "from votekit.cvr_loaders import load_csv\n",
    "from votekit.elections import STV\n",
    "from votekit.cleaning import remove_and_condense\n",
    "\n",
    "minneapolis_profile = load_csv(\"mn_2013_cast_vote_record.csv\")\n",
    "minneapolis_profile = remove_and_condense([\"undervote\", \"overvote\", \"UWI\"], minneapolis_profile)\n",
    "\n",
    "# m = 1 means 1 seat\n",
    "minn_election = STV(profile=minneapolis_profile, m=1)\n",
    "print(minn_election)"
   ]
  },
  {
   "cell_type": "markdown",
   "metadata": {
    "id": "1QFRhOl7XX7P"
   },
   "source": [
    "First, what is this showing?  Generally, the winners are listed in the order they were elected, from the top down.  Eliminated candidates are filled in in the order they were eliminated, bottom-up.  If any candidates are still remaining without having been designated elected or eliminated, they are in a middle category called `Remaining`.  Ties are broken by strength, meaning for instance that if 3 candidates are remaining at the end, they are listed in the order of their first-place in the final election state.  This means that this output can be thought of as an aggregate ranking vector produced by applying the election method to the voters' ranking vectors.  "
   ]
  },
  {
   "cell_type": "markdown",
   "metadata": {
    "id": "oICFtPmp6E8S"
   },
   "source": [
    "So what exactly is happening in this STV election? STV stands for \"single transferable vote.\" Voters cast ranked choice ballots. A threshold is set of how much support is required for election; if a candidate crosses the threshold, they are designated as a winner. The threshold in VoteKit defaults to something called the **Droop quota**. If there are $N$ voters and $m$ seats, then Droop quota is computed as $T=\\lfloor N/(m+1)\\rfloor +1$. Another option is the **Hare quota**, which is just $T=N/m$, which is a little bit larger. Generally, all that is needed of a threshold is that it can't be the case that $m+1$ candidates exceed it.\n",
    "\n",
    "In the first round, the first-place votes for each candidate are tallied. If candidate $A$ crosses the threshold, they are elected. If there were surplus votes, then the ballots with $A$ in first place are transfered, with appropriately reduced weight, to the next choice of those voters. If another candidate receives enough transfered support to cross the threshold, they are elected. If no candidate does, the candidate with the fewest first-place votes is removed from all ballots, and their votes are transfered with full weight. This repeats until all seats are filled.\n",
    "\n",
    "Let's work out a small example where it is easier to see how STV works. We will use a fractional transfer rule. If the threshold is $T$ and a candidate received $rT$ votes in a given round, where $r>1$, then the excess is $(r-1)T$ and so ballots are now \"discounted\" to have new weight $(r-1)/r$. For instance if the candidate received 150 votes but only needed 100, there would be 50 \"excess\" votes.  Instead of randomly picking 50 out of 150 ballots to transfer, we transfer them all with a reduced weight of 50/150, or 1/3.  Here is a [link](https://mggg.org/publications/political-geometry/20-WeighillDuchin.pdf) to a more substantial explainer about ranked choice.\n",
    "\n",
    "In our example, suppose there are $N=23$ voters and $n=7$ candidates running for $m=3$ seats with the following profile."
   ]
  },
  {
   "cell_type": "code",
   "execution_count": 4,
   "metadata": {
    "id": "Vy_kQAL86EVn"
   },
   "outputs": [
    {
     "name": "stdout",
     "output_type": "stream",
     "text": [
      "             Ranking_1 Ranking_2 Ranking_3 Voter Set  Weight\n",
      "Ballot Index                                                \n",
      "0                  (A)       (B)       (~)        {}     3.0\n",
      "1                  (B)       (C)       (D)        {}     8.0\n",
      "2                  (C)       (A)       (B)        {}     1.0\n",
      "3                  (D)       (E)       (~)        {}     3.0\n",
      "4                  (E)       (D)       (F)        {}     1.0\n",
      "5                  (F)       (G)       (~)        {}     4.0\n",
      "6                  (G)       (E)       (F)        {}     3.0\n",
      "Sum of ballot weights: 23.0\n",
      "Number of candidates: 7\n",
      "\n",
      "Initial tiebreak was unsuccessful, performing random tiebreak\n",
      "Threshold: 6\n",
      "Number of rounds 6\n",
      "       Status  Round\n",
      "B     Elected      1\n",
      "D     Elected      4\n",
      "F     Elected      6\n",
      "A   Remaining      6\n",
      "G  Eliminated      5\n",
      "C  Eliminated      3\n",
      "E  Eliminated      2\n"
     ]
    }
   ],
   "source": [
    "from votekit.ballot import Ballot\n",
    "from votekit.pref_profile import PreferenceProfile\n",
    "\n",
    "candidates = [\"A\", \"B\", \"C\", \"D\", \"E\", \"F\", \"G\"]\n",
    "\n",
    "ballots = [\n",
    "    Ballot(ranking=[{\"A\"}, {\"B\"}], weight=3),\n",
    "    Ballot(ranking=[{\"B\"}, {\"C\"}, {\"D\"}], weight=8),\n",
    "    Ballot(ranking=[{\"C\"}, {\"A\"}, {\"B\"}], weight=1),\n",
    "    Ballot(ranking=[{\"D\"}, {\"E\"}], weight=3),\n",
    "    Ballot(ranking=[{\"E\"}, {\"D\"}, {\"F\"}], weight=1),\n",
    "    Ballot(ranking=[{\"F\"}, {\"G\"}], weight=4),\n",
    "    Ballot(ranking=[{\"G\"}, {\"E\"}, {\"F\"}], weight=3),\n",
    "]\n",
    "\n",
    "profile = PreferenceProfile(ballots=ballots)\n",
    "\n",
    "print(profile.df)\n",
    "print(\"Sum of ballot weights:\", profile.total_ballot_wt)\n",
    "print(\"Number of candidates:\", len(profile.candidates))\n",
    "print()\n",
    "election = STV(profile=profile, m=3)\n",
    "\n",
    "print(\"Threshold:\", election.threshold)\n",
    "print(\"Number of rounds\", len(election))\n",
    "print(election)"
   ]
  },
  {
   "cell_type": "markdown",
   "metadata": {
    "id": "4HcKnU3h9apD"
   },
   "source": [
    "What this code block did is create an `Election` object that lets us access all the information, round-by-round, about what would happen under the designated election method. The message about a tiebreak indicates that in some round, a random tiebreak was needed.\n",
    "\n",
    "We can review it step-by-step instead of all at once. Just from a brief glance at the profile and threshold, we see that candidate B should be elected in the first round. Let's see this happen in two ways.\n",
    "\n",
    "First, observe the first-place votes for each candidate. These are stored in the round 0 `ElectionState` object, which can be accessed as follows."
   ]
  },
  {
   "cell_type": "code",
   "execution_count": 5,
   "metadata": {
    "id": "jCPRgHTsxO4B"
   },
   "outputs": [
    {
     "data": {
      "text/plain": [
       "{'A': 3.0, 'B': 8.0, 'C': 1.0, 'D': 3.0, 'E': 1.0, 'F': 4.0, 'G': 3.0}"
      ]
     },
     "execution_count": 5,
     "metadata": {},
     "output_type": "execute_result"
    }
   ],
   "source": [
    "election.election_states[0].scores"
   ]
  },
  {
   "cell_type": "markdown",
   "metadata": {
    "id": "EAIwmPkIxjx8"
   },
   "source": [
    "We can see from this that only B is over the threshold.  The other way we can see who wins in the first round is by looking at the next `ElectionState`.\n",
    "\n"
   ]
  },
  {
   "cell_type": "code",
   "execution_count": 6,
   "metadata": {
    "id": "WXJs3HjQ5zV4"
   },
   "outputs": [
    {
     "name": "stdout",
     "output_type": "stream",
     "text": [
      "elected (frozenset({'B'}),)\n",
      "\n",
      "eliminated (frozenset(),)\n",
      "\n",
      "remaining (frozenset({'F'}), frozenset({'C', 'G', 'A', 'D'}), frozenset({'E'}))\n"
     ]
    }
   ],
   "source": [
    "print(\"elected\", election.election_states[1].elected)\n",
    "print(\"\\neliminated\", election.election_states[1].eliminated)\n",
    "print(\"\\nremaining\", election.election_states[1].remaining)"
   ]
  },
  {
   "cell_type": "markdown",
   "metadata": {
    "id": "z2o_K_rw99Dl"
   },
   "source": [
    "$B$ passed the threshold by 2 votes with a total of 8, so the $B,C,D$ ballot is going to have $B$ removed and be given weight $2/8$ (excess/total) times its previous weight of 8. To check this, election objects have a method called `get_profile()` that returns the `PreferenceProfile` after a particular round."
   ]
  },
  {
   "cell_type": "code",
   "execution_count": 8,
   "metadata": {},
   "outputs": [
    {
     "data": {
      "text/html": [
       "<div>\n",
       "<style scoped>\n",
       "    .dataframe tbody tr th:only-of-type {\n",
       "        vertical-align: middle;\n",
       "    }\n",
       "\n",
       "    .dataframe tbody tr th {\n",
       "        vertical-align: top;\n",
       "    }\n",
       "\n",
       "    .dataframe thead th {\n",
       "        text-align: right;\n",
       "    }\n",
       "</style>\n",
       "<table border=\"1\" class=\"dataframe\">\n",
       "  <thead>\n",
       "    <tr style=\"text-align: right;\">\n",
       "      <th></th>\n",
       "      <th>Ranking_1</th>\n",
       "      <th>Ranking_2</th>\n",
       "      <th>Ranking_3</th>\n",
       "      <th>Voter Set</th>\n",
       "      <th>Weight</th>\n",
       "    </tr>\n",
       "    <tr>\n",
       "      <th>Ballot Index</th>\n",
       "      <th></th>\n",
       "      <th></th>\n",
       "      <th></th>\n",
       "      <th></th>\n",
       "      <th></th>\n",
       "    </tr>\n",
       "  </thead>\n",
       "  <tbody>\n",
       "    <tr>\n",
       "      <th>0</th>\n",
       "      <td>(C)</td>\n",
       "      <td>(D)</td>\n",
       "      <td>(~)</td>\n",
       "      <td>{}</td>\n",
       "      <td>2.0</td>\n",
       "    </tr>\n",
       "    <tr>\n",
       "      <th>1</th>\n",
       "      <td>(G)</td>\n",
       "      <td>(E)</td>\n",
       "      <td>(F)</td>\n",
       "      <td>{}</td>\n",
       "      <td>3.0</td>\n",
       "    </tr>\n",
       "    <tr>\n",
       "      <th>2</th>\n",
       "      <td>(C)</td>\n",
       "      <td>(A)</td>\n",
       "      <td>(~)</td>\n",
       "      <td>{}</td>\n",
       "      <td>1.0</td>\n",
       "    </tr>\n",
       "    <tr>\n",
       "      <th>3</th>\n",
       "      <td>(A)</td>\n",
       "      <td>(~)</td>\n",
       "      <td>(~)</td>\n",
       "      <td>{}</td>\n",
       "      <td>3.0</td>\n",
       "    </tr>\n",
       "    <tr>\n",
       "      <th>4</th>\n",
       "      <td>(F)</td>\n",
       "      <td>(G)</td>\n",
       "      <td>(~)</td>\n",
       "      <td>{}</td>\n",
       "      <td>4.0</td>\n",
       "    </tr>\n",
       "    <tr>\n",
       "      <th>5</th>\n",
       "      <td>(D)</td>\n",
       "      <td>(E)</td>\n",
       "      <td>(~)</td>\n",
       "      <td>{}</td>\n",
       "      <td>3.0</td>\n",
       "    </tr>\n",
       "    <tr>\n",
       "      <th>6</th>\n",
       "      <td>(E)</td>\n",
       "      <td>(D)</td>\n",
       "      <td>(F)</td>\n",
       "      <td>{}</td>\n",
       "      <td>1.0</td>\n",
       "    </tr>\n",
       "  </tbody>\n",
       "</table>\n",
       "</div>"
      ],
      "text/plain": [
       "             Ranking_1 Ranking_2 Ranking_3 Voter Set  Weight\n",
       "Ballot Index                                                \n",
       "0                  (C)       (D)       (~)        {}     2.0\n",
       "1                  (G)       (E)       (F)        {}     3.0\n",
       "2                  (C)       (A)       (~)        {}     1.0\n",
       "3                  (A)       (~)       (~)        {}     3.0\n",
       "4                  (F)       (G)       (~)        {}     4.0\n",
       "5                  (D)       (E)       (~)        {}     3.0\n",
       "6                  (E)       (D)       (F)        {}     1.0"
      ]
     },
     "execution_count": 8,
     "metadata": {},
     "output_type": "execute_result"
    }
   ],
   "source": [
    "election.get_profile(1).df"
   ]
  },
  {
   "cell_type": "markdown",
   "metadata": {
    "id": "tlgqYVl8-niT"
   },
   "source": [
    "Look, $B$ is now removed from all ballots, and the $B,C,D$ ballot became $C,D$ with weight 2. No one has enough votes to cross the 6 threshold, so the candidate with the least support will be eliminated---that is candidate $E$, with only one first-place vote.\n",
    "\n",
    "We also introduce the `get_step()` method which accesses the profile and state of a given round."
   ]
  },
  {
   "cell_type": "code",
   "execution_count": 9,
   "metadata": {
    "id": "hjr3-ekT-Kd7"
   },
   "outputs": [
    {
     "name": "stdout",
     "output_type": "stream",
     "text": [
      "fpv after round 1: {'C': 3.0, 'D': 3.0, 'G': 3.0, 'E': 1.0, 'F': 4.0, 'A': 3.0}\n",
      "go to the next step\n",
      "\n",
      "elected (frozenset(),)\n",
      "\n",
      "eliminated (frozenset({'E'}),)\n",
      "\n",
      "remaining (frozenset({'F', 'D'}), frozenset({'C', 'G', 'A'}))\n",
      "             Ranking_1 Ranking_2 Ranking_3 Voter Set  Weight\n",
      "Ballot Index                                                \n",
      "0                  (C)       (D)       (~)        {}     2.0\n",
      "1                  (G)       (F)       (~)        {}     3.0\n",
      "2                  (C)       (A)       (~)        {}     1.0\n",
      "3                  (A)       (~)       (~)        {}     3.0\n",
      "4                  (F)       (G)       (~)        {}     4.0\n",
      "5                  (D)       (~)       (~)        {}     3.0\n",
      "6                  (D)       (F)       (~)        {}     1.0\n"
     ]
    }
   ],
   "source": [
    "print(\"fpv after round 1:\", election.election_states[1].scores)\n",
    "print(\"go to the next step\\n\")\n",
    "\n",
    "profile, state = election.get_step(2)\n",
    "print(\"elected\", state.elected)\n",
    "print(\"\\neliminated\", state.eliminated)\n",
    "print(\"\\nremaining\", state.remaining)\n",
    "print(profile.df)"
   ]
  },
  {
   "cell_type": "markdown",
   "metadata": {
    "id": "h1M1zak-_GHP"
   },
   "source": [
    "$E$ has been removed from all of the ballots. Again, no one crosses the threshold so the candidate with the fewest first-place votes will be eliminated."
   ]
  },
  {
   "cell_type": "code",
   "execution_count": 10,
   "metadata": {
    "id": "KkW9UbQW_CqZ"
   },
   "outputs": [
    {
     "name": "stdout",
     "output_type": "stream",
     "text": [
      "fpv after round 2: {'C': 3.0, 'G': 3.0, 'A': 3.0, 'F': 4.0, 'D': 4.0}\n",
      "go to the next step\n",
      "\n",
      "elected (frozenset(),)\n",
      "\n",
      "eliminated (frozenset({'C'}),)\n",
      "\n",
      "remaining (frozenset({'D'}), frozenset({'F', 'A'}), frozenset({'G'}))\n",
      "\n",
      "tiebreak resolution {frozenset({'C', 'G', 'A'}): (frozenset({'A'}), frozenset({'G'}), frozenset({'C'}))}\n",
      "\n",
      "Initial tiebreak was unsuccessful, performing random tiebreak\n",
      "             Ranking_1 Ranking_2 Ranking_3 Voter Set  Weight\n",
      "Ballot Index                                                \n",
      "0                  (D)       (~)       (~)        {}     2.0\n",
      "1                  (G)       (F)       (~)        {}     3.0\n",
      "2                  (A)       (~)       (~)        {}     1.0\n",
      "3                  (A)       (~)       (~)        {}     3.0\n",
      "4                  (F)       (G)       (~)        {}     4.0\n",
      "5                  (D)       (~)       (~)        {}     3.0\n",
      "6                  (D)       (F)       (~)        {}     1.0\n"
     ]
    }
   ],
   "source": [
    "print(\"fpv after round 2:\", election.election_states[2].scores)\n",
    "print(\"go to the next step\\n\")\n",
    "\n",
    "\n",
    "print(\"elected\", election.election_states[3].elected)\n",
    "print(\"\\neliminated\", election.election_states[3].eliminated)\n",
    "print(\"\\nremaining\", election.election_states[3].remaining)\n",
    "print(\"\\ntiebreak resolution\", election.election_states[3].tiebreaks)\n",
    "print()\n",
    "print(election.get_profile(3).df)"
   ]
  },
  {
   "cell_type": "markdown",
   "metadata": {
    "id": "gbwYg51L_qFm"
   },
   "source": [
    "Note that here, several candidates were tied for the fewest first-place votes at this stage. When this happens in STV, you use the first-place votes from the original profile to break ties. This means C will be eliminated. The `tiebreaks` parameter records the resolution of the tie; since we are looking for the person with the least first-place votes, the candidate in the final entry of the tuple is eliminated. The reason the message \"Initial tiebreak was unsuccessful, performing random tiebreak\" appeared is that A and G were tied by first-place votes, and thus a random tiebreak was needed to separate them. This didn't affect the outcome, since C had the fewest first-place votes.\n",
    "\n",
    "### **Try it yourself**\n",
    "> Keep printing the first-place votes and running a step of the election until all seats have been filled. At each step, think through why the election state transitioned as it did."
   ]
  },
  {
   "cell_type": "markdown",
   "metadata": {
    "id": "eonJGL8WBjDK"
   },
   "source": [
    "We now change the transfer type. Using the same profile as above, we'll now use `random_transfer`. In the default fractional transfer, we reweighted all of the ballots in proportion to the surplus. Here, we will randomly choose the appropriate number of ballots to transfer (the same number as the surplus).  Though it sounds strange, this is the method actually used in Cambridge, MA.  (Recall that Cambridge has used STV continuously since 1941 so back in the day they probably needed a low-tech physical way to do the transfers.)"
   ]
  },
  {
   "cell_type": "code",
   "execution_count": 11,
   "metadata": {
    "id": "B7-O3PgEBORN"
   },
   "outputs": [
    {
     "name": "stdout",
     "output_type": "stream",
     "text": [
      "             Ranking_1 Ranking_2 Ranking_3 Voter Set  Weight\n",
      "Ballot Index                                                \n",
      "0                  (A)       (B)       (~)        {}     3.0\n",
      "1                  (B)       (C)       (D)        {}     8.0\n",
      "2                  (B)       (D)       (C)        {}     8.0\n",
      "3                  (C)       (A)       (B)        {}     1.0\n",
      "4                  (D)       (E)       (~)        {}     1.0\n",
      "5                  (E)       (D)       (F)        {}     1.0\n",
      "6                  (F)       (G)       (~)        {}     4.0\n",
      "7                  (G)       (E)       (F)        {}     1.0\n",
      "Sum of ballot weights: 27.0\n",
      "Number of candidates: 7\n",
      "\n",
      "Initial tiebreak was unsuccessful, performing random tiebreak\n",
      "       Status  Round\n",
      "B     Elected      1\n",
      "D     Elected      7\n",
      "F  Eliminated      6\n",
      "A  Eliminated      5\n",
      "C  Eliminated      4\n",
      "G  Eliminated      3\n",
      "E  Eliminated      2\n"
     ]
    }
   ],
   "source": [
    "from votekit.elections import random_transfer\n",
    "\n",
    "candidates = [\"A\", \"B\", \"C\", \"D\", \"E\", \"F\", \"G\"]\n",
    "\n",
    "ballots = [\n",
    "    Ballot(ranking=[{\"A\"}, {\"B\"}], weight=3),\n",
    "    Ballot(ranking=[{\"B\"}, {\"C\"}, {\"D\"}], weight=8),\n",
    "    Ballot(ranking=[{\"B\"}, {\"D\"}, {\"C\"}], weight=8),\n",
    "    Ballot(ranking=[{\"C\"}, {\"A\"}, {\"B\"}], weight=1),\n",
    "    Ballot(ranking=[{\"D\"}, {\"E\"}], weight=1),\n",
    "    Ballot(ranking=[{\"E\"}, {\"D\"}, {\"F\"}], weight=1),\n",
    "    Ballot(ranking=[{\"F\"}, {\"G\"}], weight=4),\n",
    "    Ballot(ranking=[{\"G\"}, {\"E\"}, {\"F\"}], weight=1),\n",
    "]\n",
    "\n",
    "profile = PreferenceProfile(ballots=ballots)\n",
    "\n",
    "print(profile.df)\n",
    "print(\"Sum of ballot weights:\", profile.total_ballot_wt)\n",
    "print(\"Number of candidates:\", len(profile.candidates))\n",
    "print()\n",
    "\n",
    "election = STV(profile=profile, transfer=random_transfer, m=2)\n",
    "\n",
    "print(election)"
   ]
  },
  {
   "cell_type": "markdown",
   "metadata": {},
   "source": [
    "### **Try it yourself**\n",
    "> Rerun the code above until you see that different candidates can win under random transfer."
   ]
  },
  {
   "cell_type": "markdown",
   "metadata": {
    "id": "umu1Zkk-CoIS"
   },
   "source": [
    "## Election\n",
    "\n",
    "Let's poke around the `Election` class a bit more. It contains a lot of useful information about what is happening in an election. We will also introduce the Borda election."
   ]
  },
  {
   "cell_type": "markdown",
   "metadata": {
    "id": "x4GtxNXtC--Z"
   },
   "source": [
    "### Borda Election\n",
    "\n",
    "In a Borda election, ranked ballots are converted to a score for a candidate, and then the candidates with the highest scores win. The traditional score vector is $(n,n-1,\\dots,1)$: that is, if there are $n$ candidates, the first-place candidate on a ballot is given $n$ points, the second place $n-1$, all the way down to last, who is given $1$ point. You can change the score vector using the `score_vector` parameter."
   ]
  },
  {
   "cell_type": "code",
   "execution_count": 12,
   "metadata": {
    "id": "YdcDjNxZDaQ8"
   },
   "outputs": [],
   "source": [
    "from votekit.elections import Borda\n",
    "import votekit.ballot_generator as bg\n",
    "\n",
    "candidates = [\"A\", \"B\", \"C\", \"D\", \"E\", \"F\"]\n",
    "\n",
    "# recall IAC generates an \"all bets are off\" profile\n",
    "iac = bg.ImpartialAnonymousCulture(candidates=candidates)\n",
    "profile = iac.generate_profile(number_of_ballots=1000)\n",
    "\n",
    "election = Borda(profile, m=3)"
   ]
  },
  {
   "cell_type": "code",
   "execution_count": 15,
   "metadata": {
    "id": "YsWE2pe3EAa5"
   },
   "outputs": [
    {
     "name": "stdout",
     "output_type": "stream",
     "text": [
      "             Ranking_1 Ranking_2 Ranking_3 Ranking_4 Ranking_5 Ranking_6 Voter Set  Weight\n",
      "Ballot Index                                                                              \n",
      "0                  (E)       (F)       (B)       (A)       (D)       (C)        {}    13.0\n",
      "1                  (C)       (A)       (F)       (B)       (E)       (D)        {}     4.0\n",
      "2                  (F)       (D)       (A)       (E)       (B)       (C)        {}     3.0\n",
      "3                  (B)       (F)       (E)       (C)       (A)       (D)        {}     4.0\n",
      "4                  (F)       (E)       (B)       (C)       (D)       (A)        {}     3.0\n",
      "5                  (A)       (D)       (C)       (E)       (F)       (B)        {}     4.0\n",
      "6                  (F)       (D)       (C)       (A)       (E)       (B)        {}     6.0\n",
      "7                  (E)       (A)       (D)       (B)       (F)       (C)        {}     2.0\n",
      "8                  (D)       (E)       (C)       (B)       (F)       (A)        {}     2.0\n",
      "9                  (B)       (C)       (A)       (F)       (E)       (D)        {}     1.0\n",
      "10                 (E)       (A)       (B)       (C)       (D)       (F)        {}     5.0\n",
      "11                 (F)       (B)       (A)       (D)       (C)       (E)        {}     3.0\n",
      "12                 (D)       (F)       (E)       (A)       (C)       (B)        {}     5.0\n",
      "13                 (E)       (C)       (D)       (F)       (B)       (A)        {}     1.0\n",
      "14                 (A)       (B)       (C)       (F)       (D)       (E)        {}     3.0\n",
      "15                 (F)       (C)       (E)       (A)       (B)       (D)        {}     4.0\n",
      "16                 (A)       (B)       (E)       (D)       (C)       (F)        {}     2.0\n",
      "17                 (F)       (A)       (E)       (B)       (D)       (C)        {}     5.0\n",
      "18                 (F)       (E)       (D)       (B)       (A)       (C)        {}     1.0\n",
      "19                 (B)       (C)       (F)       (E)       (A)       (D)        {}     5.0\n",
      "20                 (B)       (C)       (D)       (A)       (E)       (F)        {}     5.0\n",
      "21                 (F)       (E)       (B)       (D)       (C)       (A)        {}     3.0\n",
      "22                 (A)       (B)       (D)       (F)       (E)       (C)        {}     1.0\n",
      "23                 (D)       (A)       (B)       (C)       (E)       (F)        {}    14.0\n",
      "24                 (C)       (E)       (D)       (F)       (B)       (A)        {}     8.0\n",
      "25                 (A)       (F)       (B)       (C)       (D)       (E)        {}     3.0\n",
      "26                 (A)       (C)       (E)       (F)       (D)       (B)        {}     9.0\n",
      "27                 (A)       (C)       (E)       (F)       (B)       (D)        {}     2.0\n",
      "28                 (B)       (C)       (D)       (E)       (F)       (A)        {}     4.0\n",
      "29                 (B)       (E)       (F)       (A)       (D)       (C)        {}     1.0\n",
      "30                 (E)       (F)       (A)       (C)       (D)       (B)        {}     1.0\n",
      "31                 (F)       (B)       (D)       (E)       (A)       (C)        {}     7.0\n",
      "32                 (A)       (D)       (E)       (C)       (F)       (B)        {}     6.0\n",
      "33                 (F)       (D)       (A)       (B)       (E)       (C)        {}     1.0\n",
      "34                 (C)       (F)       (D)       (B)       (A)       (E)        {}     2.0\n",
      "35                 (D)       (C)       (A)       (B)       (E)       (F)        {}     5.0\n",
      "36                 (D)       (A)       (F)       (B)       (E)       (C)        {}     3.0\n",
      "37                 (C)       (F)       (B)       (A)       (E)       (D)        {}     2.0\n",
      "38                 (C)       (B)       (A)       (F)       (D)       (E)        {}    12.0\n",
      "39                 (D)       (F)       (A)       (E)       (B)       (C)        {}     5.0\n",
      "40                 (C)       (E)       (A)       (F)       (B)       (D)        {}     2.0\n",
      "41                 (E)       (F)       (C)       (B)       (A)       (D)        {}     3.0\n",
      "42                 (A)       (F)       (C)       (E)       (B)       (D)        {}     3.0\n",
      "43                 (A)       (C)       (D)       (B)       (E)       (F)        {}     4.0\n",
      "44                 (E)       (A)       (D)       (F)       (C)       (B)        {}     4.0\n",
      "45                 (B)       (A)       (C)       (E)       (F)       (D)        {}     3.0\n",
      "46                 (B)       (E)       (F)       (C)       (D)       (A)        {}     1.0\n",
      "47                 (E)       (C)       (B)       (F)       (A)       (D)        {}     2.0\n",
      "48                 (F)       (B)       (E)       (C)       (D)       (A)        {}     4.0\n",
      "49                 (E)       (C)       (D)       (B)       (F)       (A)        {}     5.0\n",
      "50                 (A)       (C)       (D)       (B)       (F)       (E)        {}     4.0\n",
      "51                 (C)       (B)       (A)       (D)       (F)       (E)        {}     3.0\n",
      "52                 (F)       (B)       (D)       (A)       (C)       (E)        {}     1.0\n",
      "53                 (E)       (F)       (B)       (C)       (D)       (A)        {}     6.0\n",
      "54                 (F)       (A)       (D)       (B)       (C)       (E)        {}     2.0\n",
      "55                 (F)       (A)       (D)       (C)       (E)       (B)        {}     7.0\n",
      "56                 (B)       (A)       (F)       (C)       (D)       (E)        {}     4.0\n",
      "57                 (B)       (F)       (E)       (A)       (D)       (C)        {}     1.0\n",
      "58                 (A)       (F)       (E)       (B)       (D)       (C)        {}     9.0\n",
      "59                 (E)       (A)       (D)       (C)       (B)       (F)        {}     4.0\n",
      "60                 (A)       (F)       (D)       (C)       (B)       (E)        {}     4.0\n",
      "61                 (F)       (B)       (C)       (A)       (D)       (E)        {}     1.0\n",
      "62                 (B)       (C)       (F)       (D)       (E)       (A)        {}     3.0\n",
      "63                 (B)       (A)       (F)       (D)       (C)       (E)        {}     2.0\n",
      "64                 (F)       (D)       (B)       (A)       (E)       (C)        {}     1.0\n",
      "65                 (F)       (B)       (C)       (D)       (A)       (E)        {}     2.0\n",
      "66                 (F)       (B)       (E)       (A)       (C)       (D)        {}     1.0\n",
      "67                 (B)       (C)       (A)       (D)       (F)       (E)        {}     2.0\n",
      "68                 (C)       (F)       (E)       (B)       (A)       (D)        {}     4.0\n",
      "69                 (B)       (E)       (C)       (F)       (A)       (D)        {}     6.0\n",
      "70                 (E)       (F)       (C)       (B)       (D)       (A)        {}     4.0\n",
      "71                 (F)       (B)       (C)       (E)       (D)       (A)        {}     7.0\n",
      "72                 (A)       (F)       (B)       (E)       (D)       (C)        {}     5.0\n",
      "73                 (F)       (C)       (B)       (D)       (A)       (E)        {}     3.0\n",
      "74                 (E)       (A)       (F)       (D)       (B)       (C)        {}     2.0\n",
      "75                 (C)       (D)       (E)       (F)       (A)       (B)        {}     6.0\n",
      "76                 (A)       (F)       (B)       (E)       (C)       (D)        {}     2.0\n",
      "77                 (A)       (B)       (D)       (E)       (C)       (F)        {}     1.0\n",
      "78                 (C)       (D)       (F)       (B)       (A)       (E)        {}     3.0\n",
      "79                 (F)       (E)       (D)       (A)       (C)       (B)        {}     1.0\n",
      "80                 (E)       (F)       (C)       (D)       (A)       (B)        {}     1.0\n",
      "81                 (B)       (F)       (C)       (E)       (A)       (D)        {}     7.0\n",
      "82                 (F)       (A)       (D)       (B)       (E)       (C)        {}    13.0\n",
      "83                 (D)       (F)       (E)       (C)       (B)       (A)        {}     6.0\n",
      "84                 (F)       (A)       (B)       (C)       (E)       (D)        {}     5.0\n",
      "85                 (D)       (B)       (A)       (F)       (E)       (C)        {}     7.0\n",
      "86                 (D)       (E)       (C)       (F)       (B)       (A)        {}     1.0\n",
      "87                 (E)       (A)       (C)       (B)       (D)       (F)        {}     1.0\n",
      "88                 (F)       (D)       (E)       (B)       (A)       (C)        {}     3.0\n",
      "89                 (A)       (C)       (B)       (F)       (D)       (E)        {}     6.0\n",
      "90                 (B)       (A)       (D)       (C)       (F)       (E)        {}     4.0\n",
      "91                 (D)       (F)       (A)       (E)       (C)       (B)        {}     9.0\n",
      "92                 (C)       (D)       (B)       (F)       (A)       (E)        {}     5.0\n",
      "93                 (F)       (A)       (B)       (D)       (E)       (C)        {}     9.0\n",
      "94                 (F)       (B)       (D)       (C)       (E)       (A)        {}     2.0\n",
      "95                 (F)       (A)       (D)       (E)       (B)       (C)        {}     4.0\n",
      "96                 (E)       (A)       (C)       (D)       (B)       (F)        {}     2.0\n",
      "97                 (D)       (B)       (E)       (A)       (C)       (F)        {}     2.0\n",
      "98                 (E)       (F)       (D)       (C)       (B)       (A)        {}     4.0\n",
      "99                 (B)       (A)       (D)       (F)       (E)       (C)        {}     6.0\n",
      "100                (B)       (D)       (A)       (C)       (E)       (F)        {}     3.0\n",
      "101                (D)       (A)       (E)       (F)       (B)       (C)        {}     5.0\n",
      "102                (C)       (D)       (B)       (A)       (F)       (E)        {}     1.0\n",
      "103                (A)       (D)       (F)       (C)       (E)       (B)        {}     2.0\n",
      "104                (D)       (E)       (B)       (C)       (A)       (F)        {}     2.0\n",
      "105                (A)       (B)       (C)       (D)       (F)       (E)        {}     1.0\n",
      "106                (C)       (F)       (D)       (B)       (E)       (A)        {}     3.0\n",
      "107                (C)       (E)       (F)       (A)       (D)       (B)        {}     2.0\n",
      "108                (C)       (D)       (F)       (E)       (A)       (B)        {}     5.0\n",
      "109                (E)       (F)       (A)       (D)       (B)       (C)        {}     2.0\n",
      "110                (F)       (C)       (A)       (E)       (B)       (D)        {}     2.0\n",
      "111                (C)       (A)       (D)       (F)       (E)       (B)        {}     5.0\n",
      "112                (B)       (C)       (E)       (D)       (A)       (F)        {}     1.0\n",
      "113                (A)       (F)       (C)       (D)       (E)       (B)        {}     4.0\n",
      "114                (B)       (E)       (C)       (D)       (F)       (A)        {}     1.0\n",
      "115                (B)       (E)       (D)       (C)       (A)       (F)        {}     3.0\n",
      "116                (B)       (E)       (F)       (A)       (C)       (D)        {}     6.0\n",
      "117                (C)       (B)       (E)       (A)       (D)       (F)        {}     7.0\n",
      "118                (C)       (D)       (A)       (F)       (E)       (B)        {}     5.0\n",
      "119                (B)       (E)       (A)       (C)       (F)       (D)        {}     1.0\n",
      "120                (C)       (A)       (E)       (F)       (D)       (B)        {}     4.0\n",
      "121                (B)       (E)       (A)       (F)       (C)       (D)        {}     1.0\n",
      "122                (C)       (A)       (F)       (E)       (D)       (B)        {}     1.0\n",
      "123                (D)       (C)       (B)       (A)       (F)       (E)        {}     4.0\n",
      "124                (A)       (B)       (F)       (E)       (C)       (D)        {}     4.0\n",
      "125                (C)       (A)       (E)       (D)       (F)       (B)        {}     2.0\n",
      "126                (F)       (C)       (A)       (B)       (D)       (E)        {}     1.0\n",
      "127                (E)       (B)       (D)       (A)       (C)       (F)        {}     3.0\n",
      "128                (E)       (F)       (D)       (A)       (B)       (C)        {}     3.0\n",
      "129                (D)       (A)       (B)       (E)       (C)       (F)        {}     5.0\n",
      "130                (D)       (F)       (E)       (A)       (B)       (C)        {}     4.0\n",
      "131                (C)       (E)       (D)       (B)       (A)       (F)        {}     2.0\n",
      "132                (E)       (B)       (F)       (C)       (A)       (D)        {}     2.0\n",
      "133                (E)       (C)       (A)       (D)       (B)       (F)        {}     1.0\n",
      "134                (D)       (B)       (A)       (E)       (C)       (F)        {}     1.0\n",
      "135                (B)       (D)       (F)       (E)       (A)       (C)        {}    11.0\n",
      "136                (C)       (A)       (F)       (D)       (B)       (E)        {}     5.0\n",
      "137                (F)       (C)       (A)       (B)       (E)       (D)        {}     3.0\n",
      "138                (D)       (A)       (E)       (C)       (F)       (B)        {}     1.0\n",
      "139                (F)       (C)       (E)       (A)       (D)       (B)        {}     3.0\n",
      "140                (B)       (C)       (D)       (E)       (A)       (F)        {}     2.0\n",
      "141                (D)       (F)       (A)       (C)       (E)       (B)        {}     1.0\n",
      "142                (B)       (F)       (C)       (A)       (E)       (D)        {}     4.0\n",
      "143                (F)       (D)       (B)       (C)       (A)       (E)        {}     1.0\n",
      "144                (A)       (E)       (C)       (B)       (F)       (D)        {}     3.0\n",
      "145                (D)       (F)       (C)       (B)       (E)       (A)        {}     4.0\n",
      "146                (E)       (F)       (A)       (C)       (B)       (D)        {}     1.0\n",
      "147                (F)       (A)       (E)       (C)       (D)       (B)        {}     5.0\n",
      "148                (F)       (B)       (D)       (A)       (E)       (C)        {}     3.0\n",
      "149                (B)       (D)       (A)       (E)       (C)       (F)        {}     1.0\n",
      "150                (C)       (B)       (D)       (E)       (A)       (F)        {}     4.0\n",
      "151                (F)       (A)       (C)       (B)       (D)       (E)        {}     1.0\n",
      "152                (C)       (A)       (D)       (B)       (E)       (F)        {}     1.0\n",
      "153                (D)       (A)       (F)       (C)       (B)       (E)        {}     7.0\n",
      "154                (E)       (F)       (B)       (D)       (C)       (A)        {}     2.0\n",
      "155                (C)       (E)       (A)       (B)       (F)       (D)        {}     1.0\n",
      "156                (B)       (A)       (F)       (D)       (E)       (C)        {}     3.0\n",
      "157                (D)       (A)       (F)       (B)       (C)       (E)        {}     1.0\n",
      "158                (F)       (E)       (B)       (C)       (A)       (D)        {}     2.0\n",
      "159                (D)       (B)       (A)       (C)       (E)       (F)        {}     2.0\n",
      "160                (D)       (E)       (A)       (B)       (C)       (F)        {}     1.0\n",
      "161                (E)       (D)       (C)       (A)       (B)       (F)        {}     2.0\n",
      "162                (D)       (E)       (B)       (C)       (F)       (A)        {}     2.0\n",
      "163                (D)       (E)       (A)       (F)       (C)       (B)        {}     3.0\n",
      "164                (B)       (F)       (E)       (D)       (C)       (A)        {}     1.0\n",
      "165                (E)       (C)       (B)       (D)       (F)       (A)        {}     6.0\n",
      "166                (B)       (E)       (A)       (F)       (D)       (C)        {}     3.0\n",
      "167                (D)       (C)       (A)       (E)       (B)       (F)        {}     1.0\n",
      "168                (C)       (F)       (A)       (E)       (B)       (D)        {}     3.0\n",
      "169                (C)       (E)       (A)       (D)       (B)       (F)        {}     1.0\n",
      "170                (F)       (B)       (D)       (E)       (C)       (A)        {}     1.0\n",
      "171                (B)       (E)       (F)       (D)       (A)       (C)        {}     7.0\n",
      "172                (A)       (F)       (C)       (D)       (B)       (E)        {}     1.0\n",
      "173                (D)       (F)       (C)       (A)       (B)       (E)        {}     8.0\n",
      "174                (E)       (D)       (F)       (A)       (B)       (C)        {}     2.0\n",
      "175                (C)       (A)       (E)       (F)       (B)       (D)        {}     2.0\n",
      "176                (C)       (E)       (A)       (B)       (D)       (F)        {}     6.0\n",
      "177                (B)       (D)       (C)       (F)       (A)       (E)        {}     1.0\n",
      "178                (E)       (C)       (D)       (A)       (B)       (F)        {}     1.0\n",
      "179                (F)       (C)       (A)       (E)       (D)       (B)        {}     1.0\n",
      "180                (E)       (A)       (C)       (F)       (D)       (B)        {}     1.0\n",
      "181                (D)       (C)       (A)       (F)       (E)       (B)        {}     3.0\n",
      "182                (E)       (B)       (F)       (A)       (D)       (C)        {}     2.0\n",
      "183                (A)       (B)       (C)       (E)       (F)       (D)        {}     8.0\n",
      "184                (A)       (F)       (B)       (C)       (E)       (D)        {}     1.0\n",
      "185                (D)       (C)       (A)       (F)       (B)       (E)        {}     2.0\n",
      "186                (D)       (C)       (B)       (F)       (A)       (E)        {}     2.0\n",
      "187                (B)       (E)       (D)       (F)       (A)       (C)        {}     1.0\n",
      "188                (A)       (C)       (D)       (F)       (E)       (B)        {}     1.0\n",
      "189                (B)       (E)       (C)       (A)       (F)       (D)        {}     2.0\n",
      "190                (A)       (E)       (D)       (C)       (F)       (B)        {}     4.0\n",
      "191                (C)       (D)       (E)       (A)       (B)       (F)        {}     5.0\n",
      "192                (C)       (A)       (D)       (F)       (B)       (E)        {}     1.0\n",
      "193                (E)       (C)       (D)       (F)       (A)       (B)        {}     3.0\n",
      "194                (B)       (F)       (C)       (E)       (D)       (A)        {}     3.0\n",
      "195                (C)       (A)       (B)       (F)       (E)       (D)        {}     2.0\n",
      "196                (F)       (C)       (A)       (D)       (B)       (E)        {}     1.0\n",
      "197                (C)       (B)       (F)       (E)       (A)       (D)        {}     2.0\n",
      "198                (C)       (D)       (F)       (B)       (E)       (A)        {}     1.0\n",
      "199                (D)       (C)       (A)       (B)       (F)       (E)        {}     2.0\n",
      "200                (D)       (C)       (F)       (E)       (A)       (B)        {}     5.0\n",
      "201                (F)       (D)       (A)       (C)       (B)       (E)        {}     3.0\n",
      "202                (D)       (F)       (C)       (E)       (B)       (A)        {}     1.0\n",
      "203                (F)       (C)       (D)       (A)       (B)       (E)        {}     2.0\n",
      "204                (A)       (F)       (B)       (D)       (C)       (E)        {}     7.0\n",
      "205                (C)       (B)       (D)       (A)       (E)       (F)        {}     2.0\n",
      "206                (A)       (C)       (E)       (B)       (F)       (D)        {}     2.0\n",
      "207                (D)       (A)       (E)       (B)       (F)       (C)        {}     1.0\n",
      "208                (A)       (F)       (D)       (E)       (C)       (B)        {}     2.0\n",
      "209                (C)       (D)       (A)       (E)       (F)       (B)        {}     3.0\n",
      "210                (A)       (D)       (B)       (C)       (E)       (F)        {}     2.0\n",
      "211                (A)       (D)       (E)       (B)       (F)       (C)        {}     2.0\n",
      "212                (B)       (F)       (D)       (A)       (E)       (C)        {}     2.0\n",
      "213                (F)       (C)       (D)       (E)       (B)       (A)        {}     3.0\n",
      "214                (A)       (B)       (D)       (C)       (F)       (E)        {}     4.0\n",
      "215                (E)       (B)       (C)       (F)       (A)       (D)        {}     3.0\n",
      "216                (B)       (F)       (A)       (E)       (C)       (D)        {}     2.0\n",
      "217                (B)       (D)       (C)       (E)       (F)       (A)        {}     3.0\n",
      "218                (F)       (C)       (A)       (D)       (E)       (B)        {}     3.0\n",
      "219                (D)       (F)       (C)       (A)       (E)       (B)        {}     3.0\n",
      "220                (B)       (C)       (A)       (D)       (E)       (F)        {}     1.0\n",
      "221                (A)       (E)       (B)       (D)       (F)       (C)        {}     1.0\n",
      "222                (C)       (F)       (D)       (E)       (A)       (B)        {}     1.0\n",
      "223                (A)       (C)       (B)       (F)       (E)       (D)        {}     1.0\n",
      "224                (B)       (A)       (F)       (E)       (C)       (D)        {}     2.0\n",
      "225                (E)       (B)       (A)       (C)       (D)       (F)        {}     2.0\n",
      "226                (A)       (C)       (B)       (D)       (F)       (E)        {}     1.0\n",
      "227                (F)       (D)       (C)       (B)       (A)       (E)        {}     1.0\n",
      "228                (F)       (E)       (A)       (D)       (C)       (B)        {}     2.0\n",
      "229                (B)       (C)       (E)       (A)       (F)       (D)        {}     2.0\n",
      "230                (F)       (E)       (C)       (B)       (A)       (D)        {}     5.0\n",
      "231                (B)       (E)       (A)       (C)       (D)       (F)        {}     2.0\n",
      "232                (A)       (B)       (D)       (E)       (F)       (C)        {}     4.0\n",
      "233                (F)       (C)       (D)       (A)       (E)       (B)        {}     3.0\n",
      "234                (A)       (E)       (C)       (F)       (B)       (D)        {}     3.0\n",
      "235                (C)       (E)       (B)       (A)       (F)       (D)        {}     1.0\n",
      "236                (B)       (D)       (A)       (F)       (C)       (E)        {}     2.0\n",
      "237                (B)       (D)       (F)       (E)       (C)       (A)        {}     1.0\n",
      "238                (D)       (F)       (C)       (B)       (A)       (E)        {}     1.0\n",
      "239                (C)       (A)       (B)       (E)       (F)       (D)        {}     3.0\n",
      "240                (D)       (F)       (E)       (B)       (A)       (C)        {}     1.0\n",
      "241                (C)       (B)       (F)       (D)       (A)       (E)        {}     2.0\n",
      "242                (A)       (E)       (C)       (D)       (F)       (B)        {}     1.0\n",
      "243                (A)       (E)       (F)       (B)       (C)       (D)        {}     3.0\n",
      "244                (B)       (F)       (A)       (C)       (E)       (D)        {}     1.0\n",
      "245                (E)       (D)       (B)       (F)       (A)       (C)        {}     3.0\n",
      "246                (C)       (E)       (F)       (A)       (B)       (D)        {}     1.0\n",
      "247                (D)       (C)       (E)       (F)       (B)       (A)        {}     1.0\n",
      "248                (B)       (A)       (D)       (C)       (E)       (F)        {}     1.0\n",
      "249                (D)       (B)       (E)       (A)       (F)       (C)        {}     2.0\n",
      "250                (D)       (F)       (E)       (C)       (A)       (B)        {}     1.0\n",
      "251                (F)       (A)       (B)       (D)       (C)       (E)        {}     2.0\n",
      "252                (E)       (B)       (C)       (A)       (D)       (F)        {}     2.0\n",
      "253                (C)       (A)       (F)       (E)       (B)       (D)        {}     3.0\n",
      "254                (A)       (F)       (E)       (C)       (B)       (D)        {}     1.0\n",
      "255                (A)       (D)       (F)       (E)       (B)       (C)        {}     2.0\n",
      "256                (C)       (A)       (B)       (E)       (D)       (F)        {}     3.0\n",
      "257                (E)       (F)       (D)       (B)       (C)       (A)        {}     3.0\n",
      "258                (F)       (A)       (E)       (C)       (B)       (D)        {}     1.0\n",
      "259                (E)       (B)       (C)       (D)       (A)       (F)        {}     1.0\n",
      "260                (E)       (D)       (F)       (B)       (A)       (C)        {}     4.0\n",
      "261                (C)       (B)       (F)       (D)       (E)       (A)        {}     2.0\n",
      "262                (E)       (F)       (A)       (B)       (C)       (D)        {}     3.0\n",
      "263                (D)       (C)       (B)       (E)       (F)       (A)        {}     2.0\n",
      "264                (D)       (B)       (E)       (C)       (F)       (A)        {}     2.0\n",
      "265                (F)       (C)       (E)       (B)       (A)       (D)        {}     2.0\n",
      "266                (D)       (B)       (C)       (A)       (F)       (E)        {}     1.0\n",
      "267                (F)       (B)       (E)       (D)       (A)       (C)        {}     3.0\n",
      "268                (C)       (D)       (B)       (E)       (F)       (A)        {}     3.0\n",
      "269                (A)       (B)       (F)       (C)       (E)       (D)        {}     3.0\n",
      "270                (A)       (E)       (F)       (D)       (C)       (B)        {}     2.0\n",
      "271                (C)       (B)       (F)       (A)       (D)       (E)        {}     2.0\n",
      "272                (D)       (E)       (B)       (F)       (A)       (C)        {}     2.0\n",
      "273                (F)       (C)       (B)       (E)       (D)       (A)        {}     2.0\n",
      "274                (A)       (F)       (D)       (B)       (E)       (C)        {}     2.0\n",
      "275                (B)       (F)       (E)       (C)       (D)       (A)        {}     1.0\n",
      "276                (E)       (B)       (A)       (C)       (F)       (D)        {}     2.0\n",
      "277                (F)       (D)       (B)       (E)       (A)       (C)        {}     1.0\n",
      "278                (B)       (A)       (C)       (F)       (D)       (E)        {}     1.0\n",
      "279                (F)       (D)       (B)       (C)       (E)       (A)        {}     1.0\n",
      "280                (C)       (D)       (A)       (B)       (E)       (F)        {}     2.0\n",
      "281                (F)       (A)       (C)       (E)       (D)       (B)        {}     2.0\n",
      "282                (B)       (A)       (D)       (E)       (C)       (F)        {}     1.0\n",
      "283                (D)       (B)       (F)       (E)       (C)       (A)        {}     1.0\n",
      "284                (D)       (B)       (C)       (F)       (E)       (A)        {}     4.0\n",
      "285                (D)       (E)       (A)       (F)       (B)       (C)        {}     2.0\n",
      "286                (A)       (D)       (B)       (F)       (C)       (E)        {}     3.0\n",
      "287                (C)       (D)       (E)       (B)       (A)       (F)        {}     1.0\n",
      "288                (F)       (A)       (C)       (B)       (E)       (D)        {}     1.0\n",
      "289                (D)       (B)       (C)       (E)       (F)       (A)        {}     1.0\n",
      "290                (E)       (C)       (A)       (F)       (B)       (D)        {}     1.0\n",
      "291                (A)       (C)       (E)       (B)       (D)       (F)        {}     2.0\n",
      "292                (D)       (A)       (C)       (E)       (B)       (F)        {}     1.0\n",
      "293                (A)       (B)       (E)       (C)       (D)       (F)        {}     1.0\n",
      "294                (B)       (E)       (C)       (D)       (A)       (F)        {}     1.0\n",
      "295                (C)       (A)       (B)       (D)       (E)       (F)        {}     3.0\n",
      "296                (F)       (E)       (B)       (A)       (D)       (C)        {}     2.0\n",
      "297                (F)       (A)       (D)       (E)       (C)       (B)        {}     2.0\n",
      "298                (B)       (F)       (E)       (A)       (C)       (D)        {}     1.0\n",
      "299                (E)       (B)       (D)       (C)       (F)       (A)        {}     1.0\n",
      "300                (A)       (E)       (F)       (C)       (B)       (D)        {}     1.0\n",
      "301                (E)       (A)       (F)       (C)       (B)       (D)        {}     1.0\n",
      "302                (F)       (C)       (E)       (D)       (B)       (A)        {}     3.0\n",
      "303                (E)       (D)       (C)       (B)       (F)       (A)        {}     1.0\n",
      "304                (D)       (B)       (E)       (F)       (A)       (C)        {}     2.0\n",
      "305                (E)       (B)       (C)       (A)       (F)       (D)        {}     2.0\n",
      "306                (E)       (A)       (F)       (C)       (D)       (B)        {}     1.0\n",
      "307                (A)       (E)       (D)       (F)       (C)       (B)        {}     3.0\n",
      "308                (C)       (F)       (D)       (A)       (B)       (E)        {}     2.0\n",
      "309                (D)       (B)       (F)       (C)       (E)       (A)        {}     1.0\n",
      "310                (C)       (E)       (D)       (A)       (B)       (F)        {}     1.0\n",
      "311                (A)       (C)       (F)       (E)       (B)       (D)        {}     1.0\n",
      "312                (D)       (E)       (C)       (A)       (B)       (F)        {}     1.0\n",
      "313                (E)       (F)       (C)       (D)       (B)       (A)        {}     1.0\n",
      "314                (F)       (C)       (D)       (B)       (E)       (A)        {}     1.0\n",
      "315                (C)       (F)       (D)       (A)       (E)       (B)        {}     1.0\n",
      "316                (A)       (C)       (F)       (E)       (D)       (B)        {}     2.0\n",
      "317                (C)       (D)       (B)       (F)       (E)       (A)        {}     3.0\n",
      "318                (D)       (E)       (F)       (A)       (C)       (B)        {}     2.0\n",
      "319                (B)       (D)       (F)       (C)       (E)       (A)        {}     2.0\n",
      "320                (F)       (E)       (D)       (C)       (B)       (A)        {}     1.0\n",
      "321                (E)       (B)       (D)       (A)       (F)       (C)        {}     2.0\n",
      "322                (C)       (F)       (B)       (E)       (D)       (A)        {}     1.0\n",
      "323                (E)       (A)       (B)       (D)       (C)       (F)        {}     1.0\n",
      "324                (C)       (F)       (E)       (A)       (B)       (D)        {}     3.0\n",
      "325                (F)       (E)       (D)       (A)       (B)       (C)        {}     1.0\n",
      "326                (D)       (B)       (C)       (E)       (A)       (F)        {}     1.0\n",
      "327                (C)       (B)       (D)       (F)       (E)       (A)        {}     2.0\n",
      "328                (F)       (E)       (C)       (D)       (B)       (A)        {}     1.0\n",
      "329                (C)       (A)       (F)       (D)       (E)       (B)        {}     1.0\n",
      "330                (C)       (D)       (B)       (E)       (A)       (F)        {}     1.0\n",
      "331                (E)       (B)       (F)       (C)       (D)       (A)        {}     1.0\n",
      "332                (E)       (B)       (F)       (D)       (C)       (A)        {}     1.0\n",
      "333                (D)       (B)       (F)       (C)       (A)       (E)        {}     1.0\n",
      "334                (B)       (C)       (E)       (F)       (D)       (A)        {}     1.0\n",
      "335                (A)       (B)       (F)       (C)       (D)       (E)        {}     1.0\n",
      "336                (A)       (C)       (F)       (D)       (E)       (B)        {}     1.0\n",
      "337                (A)       (C)       (B)       (E)       (F)       (D)        {}     1.0\n",
      "338                (C)       (B)       (A)       (E)       (D)       (F)        {}     3.0\n",
      "339                (B)       (A)       (D)       (E)       (F)       (C)        {}     1.0\n",
      "340                (C)       (E)       (F)       (D)       (A)       (B)        {}     2.0\n",
      "341                (A)       (E)       (B)       (F)       (D)       (C)        {}     1.0\n",
      "342                (F)       (D)       (A)       (C)       (E)       (B)        {}     2.0\n",
      "343                (F)       (A)       (C)       (D)       (B)       (E)        {}     3.0\n",
      "344                (D)       (E)       (C)       (A)       (F)       (B)        {}     1.0\n",
      "345                (B)       (E)       (D)       (A)       (C)       (F)        {}     1.0\n",
      "346                (C)       (F)       (B)       (D)       (A)       (E)        {}     1.0\n",
      "347                (D)       (C)       (B)       (E)       (A)       (F)        {}     1.0\n",
      "348                (C)       (B)       (D)       (E)       (F)       (A)        {}     1.0\n",
      "349                (B)       (A)       (C)       (D)       (E)       (F)        {}     1.0\n",
      "350                (C)       (D)       (F)       (A)       (B)       (E)        {}     1.0\n",
      "351                (A)       (D)       (E)       (C)       (B)       (F)        {}     1.0\n",
      "352                (E)       (B)       (D)       (F)       (A)       (C)        {}     1.0\n",
      "353                (B)       (C)       (F)       (A)       (E)       (D)        {}     2.0\n",
      "354                (F)       (D)       (C)       (E)       (B)       (A)        {}     1.0\n",
      "355                (C)       (F)       (A)       (B)       (D)       (E)        {}     2.0\n",
      "356                (A)       (F)       (E)       (D)       (B)       (C)        {}     2.0\n",
      "357                (A)       (D)       (C)       (E)       (B)       (F)        {}     1.0\n",
      "358                (F)       (E)       (A)       (B)       (C)       (D)        {}     1.0\n",
      "359                (B)       (E)       (F)       (C)       (A)       (D)        {}     1.0\n",
      "360                (B)       (A)       (C)       (D)       (F)       (E)        {}     2.0\n",
      "361                (E)       (F)       (D)       (A)       (C)       (B)        {}     1.0\n",
      "362                (F)       (C)       (B)       (A)       (D)       (E)        {}     1.0\n",
      "363                (C)       (A)       (D)       (E)       (F)       (B)        {}     2.0\n",
      "364                (C)       (E)       (A)       (F)       (D)       (B)        {}     1.0\n",
      "365                (D)       (B)       (C)       (F)       (A)       (E)        {}     2.0\n",
      "366                (B)       (F)       (D)       (E)       (A)       (C)        {}     2.0\n",
      "367                (E)       (F)       (C)       (A)       (B)       (D)        {}     1.0\n",
      "368                (E)       (B)       (D)       (C)       (A)       (F)        {}     1.0\n",
      "369                (C)       (E)       (D)       (B)       (F)       (A)        {}     1.0\n",
      "370                (F)       (A)       (E)       (D)       (B)       (C)        {}     1.0\n",
      "371                (B)       (C)       (F)       (E)       (D)       (A)        {}     1.0\n",
      "372                (A)       (C)       (D)       (E)       (B)       (F)        {}     1.0\n",
      "373                (D)       (C)       (B)       (A)       (E)       (F)        {}     1.0\n",
      "374                (E)       (B)       (A)       (D)       (C)       (F)        {}     1.0\n",
      "375                (D)       (F)       (B)       (C)       (E)       (A)        {}     1.0\n",
      "376                (D)       (E)       (C)       (F)       (A)       (B)        {}     1.0\n",
      "377                (E)       (B)       (C)       (D)       (F)       (A)        {}     1.0\n",
      "378                (C)       (B)       (F)       (A)       (E)       (D)        {}     1.0\n",
      "379                (E)       (A)       (B)       (D)       (F)       (C)        {}     1.0\n",
      "380                (E)       (D)       (A)       (F)       (C)       (B)        {}     1.0\n",
      "381                (A)       (C)       (D)       (F)       (B)       (E)        {}     1.0\n",
      "382                (A)       (C)       (D)       (E)       (F)       (B)        {}     1.0\n",
      "383                (D)       (C)       (E)       (B)       (F)       (A)        {}     1.0\n",
      "384                (C)       (E)       (A)       (D)       (F)       (B)        {}     1.0\n",
      "385                (A)       (B)       (C)       (E)       (D)       (F)        {}     1.0\n",
      "386                (A)       (E)       (F)       (C)       (D)       (B)        {}     1.0\n",
      "387                (A)       (D)       (F)       (E)       (C)       (B)        {}     2.0\n",
      "388                (F)       (B)       (C)       (A)       (E)       (D)        {}     1.0\n",
      "389                (D)       (A)       (B)       (E)       (F)       (C)        {}     1.0\n",
      "390                (F)       (E)       (C)       (A)       (B)       (D)        {}     1.0\n",
      "391                (E)       (D)       (C)       (B)       (A)       (F)        {}     1.0\n",
      "392                (C)       (A)       (B)       (D)       (F)       (E)        {}     1.0\n",
      "393                (F)       (B)       (E)       (A)       (D)       (C)        {}     1.0\n",
      "394                (A)       (F)       (C)       (E)       (D)       (B)        {}     1.0\n",
      "395                (D)       (E)       (A)       (C)       (B)       (F)        {}     1.0\n",
      "396                (C)       (D)       (A)       (B)       (F)       (E)        {}     1.0\n",
      "\n",
      "      Status  Round\n",
      "F    Elected      1\n",
      "A    Elected      1\n",
      "C    Elected      1\n",
      "B  Remaining      1\n",
      "D  Remaining      1\n",
      "E  Remaining      1\n"
     ]
    }
   ],
   "source": [
    "print(election.get_profile(0).df.to_string())\n",
    "print()\n",
    "\n",
    "print(election)"
   ]
  },
  {
   "cell_type": "markdown",
   "metadata": {
    "id": "63ekmbZ7LfXd"
   },
   "source": [
    "The Borda election is one-shot (like plurality), so running a step or the election is equivalent. Let's see what the election stores.\n",
    "\n"
   ]
  },
  {
   "cell_type": "code",
   "execution_count": 16,
   "metadata": {
    "id": "neBbirEdLdyF"
   },
   "outputs": [
    {
     "name": "stdout",
     "output_type": "stream",
     "text": [
      "Winners: (frozenset({'F'}), frozenset({'A'}), frozenset({'C'}))\n",
      "Eliminated: ()\n",
      "Ranking: (frozenset({'F'}), frozenset({'A'}), frozenset({'C'}), frozenset({'B'}), frozenset({'D'}), frozenset({'E'}))\n",
      "Outcome of round 1:\n",
      "       Status  Round\n",
      "F    Elected      1\n",
      "A    Elected      1\n",
      "C    Elected      1\n",
      "B  Remaining      1\n",
      "D  Remaining      1\n",
      "E  Remaining      1\n"
     ]
    }
   ],
   "source": [
    "# the winners up to the given round, -1 means final round\n",
    "print(\"Winners:\", election.get_elected(-1))\n",
    "\n",
    "# the eliminated candidates up to the given round\n",
    "print(\"Eliminated:\", election.get_eliminated(-1))\n",
    "\n",
    "# the ranking of the candidates up to the given round\n",
    "print(\"Ranking:\", election.get_ranking(-1))\n",
    "\n",
    "# the outcome of the given round\n",
    "print(\"Outcome of round 1:\\n\", election.get_status_df(1))"
   ]
  },
  {
   "cell_type": "markdown",
   "metadata": {
    "id": "As2Qb6TU0E7z"
   },
   "source": [
    "### **Try it yourself**\n",
    "\n",
    "> Using the following preference profile, try changing the score vector of a Borda election. Try replacing 3,2,1 with other Borda weights (decreasing and non-negative) showing that each candidate can be elected."
   ]
  },
  {
   "cell_type": "code",
   "execution_count": 12,
   "metadata": {
    "id": "IOdRlppX0ME-"
   },
   "outputs": [
    {
     "name": "stdout",
     "output_type": "stream",
     "text": [
      "      Status  Round\n",
      "C    Elected      1\n",
      "B  Remaining      1\n",
      "A  Remaining      1\n"
     ]
    }
   ],
   "source": [
    "ballots = [\n",
    "    Ballot(ranking=[{\"A\"}, {\"B\"}, {\"C\"}], weight=3),\n",
    "    Ballot(ranking=[{\"A\"}, {\"C\"}, {\"B\"}], weight=2),\n",
    "    Ballot(ranking=[{\"B\"}, {\"C\"}, {\"A\"}], weight=2),\n",
    "    Ballot(ranking=[{\"C\"}, {\"B\"}, {\"A\"}], weight=4),\n",
    "]\n",
    "\n",
    "profile = PreferenceProfile(ballots=ballots, candidates=[\"A\", \"B\", \"C\"])\n",
    "\n",
    "# borda election\n",
    "score_vector = [3, 2, 1]\n",
    "election = Borda(profile, m=1, score_vector=score_vector)\n",
    "print(election)"
   ]
  },
  {
   "cell_type": "markdown",
   "metadata": {
    "id": "pklj64qsNiAL"
   },
   "source": [
    "Since a Borda election is a one-shot election, most of the information stored in the `Election` is extraneous, but you can see its utility in an STV election where there are many rounds."
   ]
  },
  {
   "cell_type": "code",
   "execution_count": 17,
   "metadata": {
    "id": "ptzwPBIOL7rq"
   },
   "outputs": [
    {
     "name": "stdout",
     "output_type": "stream",
     "text": [
      "Round 1\n",
      "\n",
      "Winners: ()\n",
      "Eliminated: (frozenset({'JOHN CHARLES WILSON'}),)\n",
      "Remaining: (frozenset({'BETSY HODGES'}), frozenset({'MARK ANDREW'}), frozenset({'DON SAMUELS'}), frozenset({'CAM WINTON'}), frozenset({'JACKIE CHERRYHOMES'}), frozenset({'BOB FINE'}), frozenset({'DAN COHEN'}), frozenset({'STEPHANIE WOODRUFF'}), frozenset({'MARK V ANDERSON'}), frozenset({'DOUG MANN'}), frozenset({'OLE SAVIOR'}), frozenset({'ABDUL M RAHAMAN \"THE ROCK\"'}), frozenset({'ALICIA K. BENNETT'}), frozenset({'JAMES EVERETT'}), frozenset({'CAPTAIN JACK SPARROW'}), frozenset({'TONY LANE'}), frozenset({'MIKE GOULD'}), frozenset({'KURTIS W. HANNA'}), frozenset({'JAYMIE KELLY'}), frozenset({'CHRISTOPHER CLARK'}), frozenset({'CHRISTOPHER ROBIN ZIMMERMAN'}), frozenset({'JEFFREY ALAN WAGNER'}), frozenset({'TROY BENJEGERDES'}), frozenset({'GREGG A. IVERSON', 'NEAL BAXTER'}), frozenset({'JOSHUA REA'}), frozenset({'MERRILL ANDERSON'}), frozenset({'BILL KAHN'}), frozenset({'JOHN LESLIE HARTWIG'}), frozenset({'EDMUND BERNARD BRUYERE'}), frozenset({'JAMES \"JIMMY\" L. STROUD, JR.', 'RAHN V. WORKCUFF'}), frozenset({'BOB \"AGAIN\" CARNEY JR'}), frozenset({'CYD GORMAN'}))\n",
      "                                  Status  Round\n",
      "BETSY HODGES                   Remaining      1\n",
      "MARK ANDREW                    Remaining      1\n",
      "DON SAMUELS                    Remaining      1\n",
      "CAM WINTON                     Remaining      1\n",
      "JACKIE CHERRYHOMES             Remaining      1\n",
      "BOB FINE                       Remaining      1\n",
      "DAN COHEN                      Remaining      1\n",
      "STEPHANIE WOODRUFF             Remaining      1\n",
      "MARK V ANDERSON                Remaining      1\n",
      "DOUG MANN                      Remaining      1\n",
      "OLE SAVIOR                     Remaining      1\n",
      "ABDUL M RAHAMAN \"THE ROCK\"     Remaining      1\n",
      "ALICIA K. BENNETT              Remaining      1\n",
      "JAMES EVERETT                  Remaining      1\n",
      "CAPTAIN JACK SPARROW           Remaining      1\n",
      "TONY LANE                      Remaining      1\n",
      "MIKE GOULD                     Remaining      1\n",
      "KURTIS W. HANNA                Remaining      1\n",
      "JAYMIE KELLY                   Remaining      1\n",
      "CHRISTOPHER CLARK              Remaining      1\n",
      "CHRISTOPHER ROBIN ZIMMERMAN    Remaining      1\n",
      "JEFFREY ALAN WAGNER            Remaining      1\n",
      "TROY BENJEGERDES               Remaining      1\n",
      "GREGG A. IVERSON               Remaining      1\n",
      "NEAL BAXTER                    Remaining      1\n",
      "JOSHUA REA                     Remaining      1\n",
      "MERRILL ANDERSON               Remaining      1\n",
      "BILL KAHN                      Remaining      1\n",
      "JOHN LESLIE HARTWIG            Remaining      1\n",
      "EDMUND BERNARD BRUYERE         Remaining      1\n",
      "JAMES \"JIMMY\" L. STROUD, JR.   Remaining      1\n",
      "RAHN V. WORKCUFF               Remaining      1\n",
      "BOB \"AGAIN\" CARNEY JR          Remaining      1\n",
      "CYD GORMAN                     Remaining      1\n",
      "JOHN CHARLES WILSON           Eliminated      1\n",
      "\n",
      "Round 2\n",
      "\n",
      "Winners: ()\n",
      "Eliminated: (frozenset({'CYD GORMAN'}), frozenset({'JOHN CHARLES WILSON'}))\n",
      "Remaining: (frozenset({'BETSY HODGES'}), frozenset({'MARK ANDREW'}), frozenset({'DON SAMUELS'}), frozenset({'CAM WINTON'}), frozenset({'JACKIE CHERRYHOMES'}), frozenset({'BOB FINE'}), frozenset({'DAN COHEN'}), frozenset({'STEPHANIE WOODRUFF'}), frozenset({'MARK V ANDERSON'}), frozenset({'DOUG MANN'}), frozenset({'OLE SAVIOR'}), frozenset({'ABDUL M RAHAMAN \"THE ROCK\"'}), frozenset({'ALICIA K. BENNETT'}), frozenset({'JAMES EVERETT'}), frozenset({'CAPTAIN JACK SPARROW'}), frozenset({'TONY LANE'}), frozenset({'MIKE GOULD'}), frozenset({'KURTIS W. HANNA'}), frozenset({'JAYMIE KELLY'}), frozenset({'CHRISTOPHER CLARK'}), frozenset({'CHRISTOPHER ROBIN ZIMMERMAN'}), frozenset({'JEFFREY ALAN WAGNER'}), frozenset({'TROY BENJEGERDES'}), frozenset({'GREGG A. IVERSON'}), frozenset({'NEAL BAXTER'}), frozenset({'JOSHUA REA'}), frozenset({'MERRILL ANDERSON'}), frozenset({'BILL KAHN'}), frozenset({'JOHN LESLIE HARTWIG'}), frozenset({'EDMUND BERNARD BRUYERE'}), frozenset({'JAMES \"JIMMY\" L. STROUD, JR.', 'RAHN V. WORKCUFF'}), frozenset({'BOB \"AGAIN\" CARNEY JR'}))\n",
      "                                  Status  Round\n",
      "BETSY HODGES                   Remaining      2\n",
      "MARK ANDREW                    Remaining      2\n",
      "DON SAMUELS                    Remaining      2\n",
      "CAM WINTON                     Remaining      2\n",
      "JACKIE CHERRYHOMES             Remaining      2\n",
      "BOB FINE                       Remaining      2\n",
      "DAN COHEN                      Remaining      2\n",
      "STEPHANIE WOODRUFF             Remaining      2\n",
      "MARK V ANDERSON                Remaining      2\n",
      "DOUG MANN                      Remaining      2\n",
      "OLE SAVIOR                     Remaining      2\n",
      "ABDUL M RAHAMAN \"THE ROCK\"     Remaining      2\n",
      "ALICIA K. BENNETT              Remaining      2\n",
      "JAMES EVERETT                  Remaining      2\n",
      "CAPTAIN JACK SPARROW           Remaining      2\n",
      "TONY LANE                      Remaining      2\n",
      "MIKE GOULD                     Remaining      2\n",
      "KURTIS W. HANNA                Remaining      2\n",
      "JAYMIE KELLY                   Remaining      2\n",
      "CHRISTOPHER CLARK              Remaining      2\n",
      "CHRISTOPHER ROBIN ZIMMERMAN    Remaining      2\n",
      "JEFFREY ALAN WAGNER            Remaining      2\n",
      "TROY BENJEGERDES               Remaining      2\n",
      "GREGG A. IVERSON               Remaining      2\n",
      "NEAL BAXTER                    Remaining      2\n",
      "JOSHUA REA                     Remaining      2\n",
      "MERRILL ANDERSON               Remaining      2\n",
      "BILL KAHN                      Remaining      2\n",
      "JOHN LESLIE HARTWIG            Remaining      2\n",
      "EDMUND BERNARD BRUYERE         Remaining      2\n",
      "JAMES \"JIMMY\" L. STROUD, JR.   Remaining      2\n",
      "RAHN V. WORKCUFF               Remaining      2\n",
      "BOB \"AGAIN\" CARNEY JR          Remaining      2\n",
      "CYD GORMAN                    Eliminated      2\n",
      "JOHN CHARLES WILSON           Eliminated      1\n",
      "\n",
      "Round 3\n",
      "\n",
      "Winners: ()\n",
      "Eliminated: (frozenset({'BOB \"AGAIN\" CARNEY JR'}), frozenset({'CYD GORMAN'}), frozenset({'JOHN CHARLES WILSON'}))\n",
      "Remaining: (frozenset({'BETSY HODGES'}), frozenset({'MARK ANDREW'}), frozenset({'DON SAMUELS'}), frozenset({'CAM WINTON'}), frozenset({'JACKIE CHERRYHOMES'}), frozenset({'BOB FINE'}), frozenset({'DAN COHEN'}), frozenset({'STEPHANIE WOODRUFF'}), frozenset({'MARK V ANDERSON'}), frozenset({'DOUG MANN'}), frozenset({'OLE SAVIOR'}), frozenset({'ABDUL M RAHAMAN \"THE ROCK\"'}), frozenset({'ALICIA K. BENNETT'}), frozenset({'JAMES EVERETT'}), frozenset({'CAPTAIN JACK SPARROW'}), frozenset({'TONY LANE'}), frozenset({'MIKE GOULD'}), frozenset({'KURTIS W. HANNA'}), frozenset({'JAYMIE KELLY'}), frozenset({'CHRISTOPHER CLARK'}), frozenset({'CHRISTOPHER ROBIN ZIMMERMAN'}), frozenset({'JEFFREY ALAN WAGNER'}), frozenset({'TROY BENJEGERDES'}), frozenset({'GREGG A. IVERSON'}), frozenset({'NEAL BAXTER'}), frozenset({'JOSHUA REA', 'MERRILL ANDERSON'}), frozenset({'BILL KAHN'}), frozenset({'JOHN LESLIE HARTWIG'}), frozenset({'EDMUND BERNARD BRUYERE'}), frozenset({'JAMES \"JIMMY\" L. STROUD, JR.'}), frozenset({'RAHN V. WORKCUFF'}))\n",
      "                                  Status  Round\n",
      "BETSY HODGES                   Remaining      3\n",
      "MARK ANDREW                    Remaining      3\n",
      "DON SAMUELS                    Remaining      3\n",
      "CAM WINTON                     Remaining      3\n",
      "JACKIE CHERRYHOMES             Remaining      3\n",
      "BOB FINE                       Remaining      3\n",
      "DAN COHEN                      Remaining      3\n",
      "STEPHANIE WOODRUFF             Remaining      3\n",
      "MARK V ANDERSON                Remaining      3\n",
      "DOUG MANN                      Remaining      3\n",
      "OLE SAVIOR                     Remaining      3\n",
      "ABDUL M RAHAMAN \"THE ROCK\"     Remaining      3\n",
      "ALICIA K. BENNETT              Remaining      3\n",
      "JAMES EVERETT                  Remaining      3\n",
      "CAPTAIN JACK SPARROW           Remaining      3\n",
      "TONY LANE                      Remaining      3\n",
      "MIKE GOULD                     Remaining      3\n",
      "KURTIS W. HANNA                Remaining      3\n",
      "JAYMIE KELLY                   Remaining      3\n",
      "CHRISTOPHER CLARK              Remaining      3\n",
      "CHRISTOPHER ROBIN ZIMMERMAN    Remaining      3\n",
      "JEFFREY ALAN WAGNER            Remaining      3\n",
      "TROY BENJEGERDES               Remaining      3\n",
      "GREGG A. IVERSON               Remaining      3\n",
      "NEAL BAXTER                    Remaining      3\n",
      "JOSHUA REA                     Remaining      3\n",
      "MERRILL ANDERSON               Remaining      3\n",
      "BILL KAHN                      Remaining      3\n",
      "JOHN LESLIE HARTWIG            Remaining      3\n",
      "EDMUND BERNARD BRUYERE         Remaining      3\n",
      "JAMES \"JIMMY\" L. STROUD, JR.   Remaining      3\n",
      "RAHN V. WORKCUFF               Remaining      3\n",
      "BOB \"AGAIN\" CARNEY JR         Eliminated      3\n",
      "CYD GORMAN                    Eliminated      2\n",
      "JOHN CHARLES WILSON           Eliminated      1\n",
      "\n",
      "Round 4\n",
      "\n",
      "Winners: ()\n",
      "Eliminated: (frozenset({'RAHN V. WORKCUFF'}), frozenset({'BOB \"AGAIN\" CARNEY JR'}), frozenset({'CYD GORMAN'}), frozenset({'JOHN CHARLES WILSON'}))\n",
      "Remaining: (frozenset({'BETSY HODGES'}), frozenset({'MARK ANDREW'}), frozenset({'DON SAMUELS'}), frozenset({'CAM WINTON'}), frozenset({'JACKIE CHERRYHOMES'}), frozenset({'BOB FINE'}), frozenset({'DAN COHEN'}), frozenset({'STEPHANIE WOODRUFF'}), frozenset({'MARK V ANDERSON'}), frozenset({'DOUG MANN'}), frozenset({'OLE SAVIOR'}), frozenset({'JAMES EVERETT', 'ABDUL M RAHAMAN \"THE ROCK\"'}), frozenset({'ALICIA K. BENNETT'}), frozenset({'CAPTAIN JACK SPARROW'}), frozenset({'TONY LANE'}), frozenset({'MIKE GOULD'}), frozenset({'KURTIS W. HANNA'}), frozenset({'JAYMIE KELLY'}), frozenset({'CHRISTOPHER CLARK'}), frozenset({'CHRISTOPHER ROBIN ZIMMERMAN'}), frozenset({'JEFFREY ALAN WAGNER'}), frozenset({'NEAL BAXTER'}), frozenset({'TROY BENJEGERDES'}), frozenset({'GREGG A. IVERSON'}), frozenset({'JOSHUA REA'}), frozenset({'MERRILL ANDERSON'}), frozenset({'BILL KAHN'}), frozenset({'JOHN LESLIE HARTWIG'}), frozenset({'EDMUND BERNARD BRUYERE'}), frozenset({'JAMES \"JIMMY\" L. STROUD, JR.'}))\n",
      "                                  Status  Round\n",
      "BETSY HODGES                   Remaining      4\n",
      "MARK ANDREW                    Remaining      4\n",
      "DON SAMUELS                    Remaining      4\n",
      "CAM WINTON                     Remaining      4\n",
      "JACKIE CHERRYHOMES             Remaining      4\n",
      "BOB FINE                       Remaining      4\n",
      "DAN COHEN                      Remaining      4\n",
      "STEPHANIE WOODRUFF             Remaining      4\n",
      "MARK V ANDERSON                Remaining      4\n",
      "DOUG MANN                      Remaining      4\n",
      "OLE SAVIOR                     Remaining      4\n",
      "JAMES EVERETT                  Remaining      4\n",
      "ABDUL M RAHAMAN \"THE ROCK\"     Remaining      4\n",
      "ALICIA K. BENNETT              Remaining      4\n",
      "CAPTAIN JACK SPARROW           Remaining      4\n",
      "TONY LANE                      Remaining      4\n",
      "MIKE GOULD                     Remaining      4\n",
      "KURTIS W. HANNA                Remaining      4\n",
      "JAYMIE KELLY                   Remaining      4\n",
      "CHRISTOPHER CLARK              Remaining      4\n",
      "CHRISTOPHER ROBIN ZIMMERMAN    Remaining      4\n",
      "JEFFREY ALAN WAGNER            Remaining      4\n",
      "NEAL BAXTER                    Remaining      4\n",
      "TROY BENJEGERDES               Remaining      4\n",
      "GREGG A. IVERSON               Remaining      4\n",
      "JOSHUA REA                     Remaining      4\n",
      "MERRILL ANDERSON               Remaining      4\n",
      "BILL KAHN                      Remaining      4\n",
      "JOHN LESLIE HARTWIG            Remaining      4\n",
      "EDMUND BERNARD BRUYERE         Remaining      4\n",
      "JAMES \"JIMMY\" L. STROUD, JR.   Remaining      4\n",
      "RAHN V. WORKCUFF              Eliminated      4\n",
      "BOB \"AGAIN\" CARNEY JR         Eliminated      3\n",
      "CYD GORMAN                    Eliminated      2\n",
      "JOHN CHARLES WILSON           Eliminated      1\n",
      "\n",
      "Round 5\n",
      "\n",
      "Winners: ()\n",
      "Eliminated: (frozenset({'JAMES \"JIMMY\" L. STROUD, JR.'}), frozenset({'RAHN V. WORKCUFF'}), frozenset({'BOB \"AGAIN\" CARNEY JR'}), frozenset({'CYD GORMAN'}), frozenset({'JOHN CHARLES WILSON'}))\n",
      "Remaining: (frozenset({'BETSY HODGES'}), frozenset({'MARK ANDREW'}), frozenset({'DON SAMUELS'}), frozenset({'CAM WINTON'}), frozenset({'JACKIE CHERRYHOMES'}), frozenset({'BOB FINE'}), frozenset({'DAN COHEN'}), frozenset({'STEPHANIE WOODRUFF'}), frozenset({'MARK V ANDERSON'}), frozenset({'DOUG MANN'}), frozenset({'OLE SAVIOR'}), frozenset({'ABDUL M RAHAMAN \"THE ROCK\"'}), frozenset({'ALICIA K. BENNETT'}), frozenset({'JAMES EVERETT'}), frozenset({'CAPTAIN JACK SPARROW'}), frozenset({'TONY LANE'}), frozenset({'MIKE GOULD'}), frozenset({'JAYMIE KELLY'}), frozenset({'KURTIS W. HANNA'}), frozenset({'CHRISTOPHER CLARK'}), frozenset({'CHRISTOPHER ROBIN ZIMMERMAN'}), frozenset({'JEFFREY ALAN WAGNER'}), frozenset({'NEAL BAXTER'}), frozenset({'TROY BENJEGERDES'}), frozenset({'GREGG A. IVERSON'}), frozenset({'MERRILL ANDERSON'}), frozenset({'JOSHUA REA'}), frozenset({'BILL KAHN'}), frozenset({'JOHN LESLIE HARTWIG'}), frozenset({'EDMUND BERNARD BRUYERE'}))\n",
      "                                  Status  Round\n",
      "BETSY HODGES                   Remaining      5\n",
      "MARK ANDREW                    Remaining      5\n",
      "DON SAMUELS                    Remaining      5\n",
      "CAM WINTON                     Remaining      5\n",
      "JACKIE CHERRYHOMES             Remaining      5\n",
      "BOB FINE                       Remaining      5\n",
      "DAN COHEN                      Remaining      5\n",
      "STEPHANIE WOODRUFF             Remaining      5\n",
      "MARK V ANDERSON                Remaining      5\n",
      "DOUG MANN                      Remaining      5\n",
      "OLE SAVIOR                     Remaining      5\n",
      "ABDUL M RAHAMAN \"THE ROCK\"     Remaining      5\n",
      "ALICIA K. BENNETT              Remaining      5\n",
      "JAMES EVERETT                  Remaining      5\n",
      "CAPTAIN JACK SPARROW           Remaining      5\n",
      "TONY LANE                      Remaining      5\n",
      "MIKE GOULD                     Remaining      5\n",
      "JAYMIE KELLY                   Remaining      5\n",
      "KURTIS W. HANNA                Remaining      5\n",
      "CHRISTOPHER CLARK              Remaining      5\n",
      "CHRISTOPHER ROBIN ZIMMERMAN    Remaining      5\n",
      "JEFFREY ALAN WAGNER            Remaining      5\n",
      "NEAL BAXTER                    Remaining      5\n",
      "TROY BENJEGERDES               Remaining      5\n",
      "GREGG A. IVERSON               Remaining      5\n",
      "MERRILL ANDERSON               Remaining      5\n",
      "JOSHUA REA                     Remaining      5\n",
      "BILL KAHN                      Remaining      5\n",
      "JOHN LESLIE HARTWIG            Remaining      5\n",
      "EDMUND BERNARD BRUYERE         Remaining      5\n",
      "JAMES \"JIMMY\" L. STROUD, JR.  Eliminated      5\n",
      "RAHN V. WORKCUFF              Eliminated      4\n",
      "BOB \"AGAIN\" CARNEY JR         Eliminated      3\n",
      "CYD GORMAN                    Eliminated      2\n",
      "JOHN CHARLES WILSON           Eliminated      1\n",
      "\n"
     ]
    },
    {
     "name": "stderr",
     "output_type": "stream",
     "text": [
      "/Users/cdonnay/Documents/GitHub/MGGG/VoteKit/src/votekit/pref_profile/pref_profile.py:1109: UserWarning: Profile does not contain rankings but max_ranking_length=3. Setting max_ranking_length to 0.\n",
      "  warnings.warn(\n"
     ]
    }
   ],
   "source": [
    "minneapolis_profile = load_csv(\"mn_2013_cast_vote_record.csv\")\n",
    "minneapolis_profile = remove_and_condense([\"undervote\", \"overvote\", \"UWI\"], minneapolis_profile)\n",
    "\n",
    "minn_election = STV(profile=minneapolis_profile, m=1)\n",
    "\n",
    "for i in range(1, 6):\n",
    "    print(f\"Round {i}\\n\")\n",
    "    # the winners up to the current round\n",
    "    print(\"Winners:\", minn_election.get_elected(i))\n",
    "\n",
    "    # the eliminated candidates up to the current round\n",
    "    print(\"Eliminated:\", minn_election.get_eliminated(i))\n",
    "\n",
    "    # the remaining candidates, sorted by first-place votes\n",
    "    print(\"Remaining:\", minn_election.get_remaining(i))\n",
    "\n",
    "    # the same information as a df\n",
    "    print(minn_election.get_status_df(i))\n",
    "\n",
    "    print()"
   ]
  },
  {
   "cell_type": "markdown",
   "metadata": {
    "id": "Hvr476McWgwX"
   },
   "source": [
    "## Conclusion\n",
    "There are many different possible election methods, both for choosing a single seat or multiple seats. `VoteKit` has a host of built-in election methods, as well as the functionality to let you create your own kind of election. You have been introduced to the STV and Borda elections and learned about the `Election` object. This should allow you to model any kind of elections you see in the real world, including rules that have not yet been implemented in `VoteKit`."
   ]
  },
  {
   "cell_type": "markdown",
   "metadata": {
    "id": "D6NdYJ9GPVOO"
   },
   "source": [
    "### Further Prompts: Creating your own election system\n",
    "\n",
    "`VoteKit` can't be comprehensive in terms of possible election rules. However, with the `Election` and `ElectionState` classes, you can create your own. Let's create a bit of a silly example; to elect $m$ seats, at each stage of the election we randomly choose one candidate to elect. Most of the methods are handled by the `RankingElection` class, so we really only need to define how a step works, and how to know when it's over."
   ]
  },
  {
   "cell_type": "code",
   "execution_count": 18,
   "metadata": {
    "id": "UsKmLHFzQKGM"
   },
   "outputs": [],
   "source": [
    "from votekit.elections import RankingElection, ElectionState\n",
    "from votekit.cleaning import remove_cand\n",
    "import random\n",
    "\n",
    "\n",
    "class RandomWinners(RankingElection):\n",
    "    \"\"\"\n",
    "    Simulates an election where we randomly choose winners at each stage.\n",
    "\n",
    "    Args:\n",
    "        profile (PreferenceProfile): Profile to run election on.\n",
    "        m (int, optional): Number of seats to elect.\n",
    "    \"\"\"\n",
    "\n",
    "    def __init__(self, profile: PreferenceProfile, m: int = 1):\n",
    "        # the super method says call the RankingElection class\n",
    "        self.m = m\n",
    "        super().__init__(profile)\n",
    "\n",
    "    def _is_finished(self) -> bool:\n",
    "        \"\"\"\n",
    "        Determines if another round is needed.\n",
    "\n",
    "        Returns:\n",
    "            bool: True if number of seats has been met, False otherwise.\n",
    "        \"\"\"\n",
    "        # need to unpack list of sets\n",
    "        elected = [c for s in self.get_elected() for c in s]\n",
    "\n",
    "        if len(elected) == self.m:\n",
    "            return True\n",
    "\n",
    "        return False\n",
    "\n",
    "    def _run_step(\n",
    "        self, profile: PreferenceProfile, prev_state: ElectionState, store_states=False\n",
    "    ) -> PreferenceProfile:\n",
    "        \"\"\"\n",
    "        Run one step of an election from the given profile and previous state.\n",
    "\n",
    "        Args:\n",
    "            profile (PreferenceProfile): Profile of ballots.\n",
    "            prev_state (ElectionState): The previous ElectionState.\n",
    "            store_states (bool, optional): True if `self.election_states` should be updated with the\n",
    "                ElectionState generated by this round. This should only be True when used by\n",
    "                `self._run_election()`. Defaults to False.\n",
    "\n",
    "        Returns:\n",
    "            PreferenceProfile: The profile of ballots after the round is completed.\n",
    "        \"\"\"\n",
    "\n",
    "        elected_cand = random.choice(profile.candidates)\n",
    "        new_profile = remove_cand(elected_cand, profile)\n",
    "\n",
    "        # we only store the states the first time an election is run,\n",
    "        # but this is all handled by the other methods of the class\n",
    "        if store_states:\n",
    "            self.election_states.append(\n",
    "                ElectionState(\n",
    "                    round_number=prev_state.round_number + 1,\n",
    "                    remaining=(frozenset(new_profile.candidates),),\n",
    "                    elected=(frozenset(elected_cand),),\n",
    "                )\n",
    "            )\n",
    "\n",
    "        return new_profile"
   ]
  },
  {
   "cell_type": "code",
   "execution_count": 19,
   "metadata": {
    "id": "H1yqeXnlRbfV"
   },
   "outputs": [],
   "source": [
    "candidates = [\"A\", \"B\", \"C\", \"D\", \"E\", \"F\"]\n",
    "profile = bg.ImpartialCulture(candidates=candidates).generate_profile(1000)\n",
    "\n",
    "election = RandomWinners(profile=profile, m=3)"
   ]
  },
  {
   "cell_type": "code",
   "execution_count": 20,
   "metadata": {
    "id": "6-JzyjToRqFK"
   },
   "outputs": [
    {
     "name": "stdout",
     "output_type": "stream",
     "text": [
      "      Status  Round\n",
      "E    Elected      1\n",
      "D    Elected      2\n",
      "A    Elected      3\n",
      "F  Remaining      3\n",
      "C  Remaining      3\n",
      "B  Remaining      3\n"
     ]
    }
   ],
   "source": [
    "print(election)"
   ]
  },
  {
   "cell_type": "markdown",
   "metadata": {
    "id": "1EdvPv0H1KbG"
   },
   "source": [
    "### **Try it yourself**\n",
    "\n",
    "> Create an election class called `AlphabeticalElection` that elects a number of candidates decided by the user simply based on alphabetical order. You mind find it helpful to use the following code which sorts a list of strings:\n",
    "\n"
   ]
  },
  {
   "cell_type": "code",
   "execution_count": 17,
   "metadata": {},
   "outputs": [
    {
     "name": "stdout",
     "output_type": "stream",
     "text": [
      "['apple', 'banana', 'grape', 'orange']\n"
     ]
    }
   ],
   "source": [
    "# Original list of strings\n",
    "original_list = [\"banana\", \"apple\", \"grape\", \"orange\"]\n",
    "\n",
    "# Alphabetically sorted list\n",
    "sorted_list = sorted(original_list)\n",
    "\n",
    "# Print the sorted list\n",
    "print(sorted_list)"
   ]
  },
  {
   "cell_type": "code",
   "execution_count": 18,
   "metadata": {
    "id": "bR7z7Vwz1KNs"
   },
   "outputs": [],
   "source": [
    "class AlphabeticaElection(RankingElection):\n",
    "    \"\"\"\n",
    "    Simulates an election where we choose winners alphabetically at each stage.\n",
    "\n",
    "    Args:\n",
    "        profile (PreferenceProfile): Profile to run election on.\n",
    "        m (int, optional): Number of seats to elect.\n",
    "    \"\"\"\n",
    "\n",
    "    def __init__(self, profile: PreferenceProfile, m: int = 1):\n",
    "        # the super method says call the RankingElection class\n",
    "        self.m = m\n",
    "        super().__init__(profile)\n",
    "\n",
    "    def _is_finished(self) -> bool:\n",
    "        \"\"\"\n",
    "        Determines if another round is needed.\n",
    "\n",
    "        Returns:\n",
    "            bool: True if number of seats has been met, False otherwise.\n",
    "        \"\"\"\n",
    "        # need to unpack list of sets\n",
    "        elected = [c for s in self.get_elected() for c in s]\n",
    "\n",
    "        if len(elected) == self.m:\n",
    "            return True\n",
    "\n",
    "        return False\n",
    "\n",
    "    def _run_step(\n",
    "        self, profile: PreferenceProfile, prev_state: ElectionState, store_states=False\n",
    "    ) -> PreferenceProfile:\n",
    "        \"\"\"\n",
    "        Run one step of an election from the given profile and previous state.\n",
    "\n",
    "        Args:\n",
    "            profile (PreferenceProfile): Profile of ballots.\n",
    "            prev_state (ElectionState): The previous ElectionState.\n",
    "            store_states (bool, optional): True if `self.election_states` should be updated with the\n",
    "                ElectionState generated by this round. This should only be True when used by\n",
    "                `self._run_election()`. Defaults to False.\n",
    "\n",
    "        Returns:\n",
    "            PreferenceProfile: The profile of ballots after the round is completed.\n",
    "        \"\"\"\n",
    "\n",
    "        pass"
   ]
  }
 ],
 "metadata": {
  "colab": {
   "provenance": []
  },
  "kernelspec": {
   "display_name": ".venv",
   "language": "python",
   "name": "python3"
  },
  "language_info": {
   "codemirror_mode": {
    "name": "ipython",
    "version": 3
   },
   "file_extension": ".py",
   "mimetype": "text/x-python",
   "name": "python",
   "nbconvert_exporter": "python",
   "pygments_lexer": "ipython3",
   "version": "3.13.2"
  }
 },
 "nbformat": 4,
 "nbformat_minor": 0
}
