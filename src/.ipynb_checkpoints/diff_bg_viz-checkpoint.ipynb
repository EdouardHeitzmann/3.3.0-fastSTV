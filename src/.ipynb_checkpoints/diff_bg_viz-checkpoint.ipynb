{
 "cells": [
  {
   "cell_type": "code",
   "execution_count": 1,
   "id": "66e52cfb",
   "metadata": {},
   "outputs": [
    {
     "ename": "ModuleNotFoundError",
     "evalue": "No module named 'ballot_generator'",
     "output_type": "error",
     "traceback": [
      "\u001b[0;31m---------------------------------------------------------------------------\u001b[0m",
      "\u001b[0;31mModuleNotFoundError\u001b[0m                       Traceback (most recent call last)",
      "Cell \u001b[0;32mIn[1], line 1\u001b[0m\n\u001b[0;32m----> 1\u001b[0m \u001b[38;5;28;01mfrom\u001b[39;00m \u001b[38;5;21;01mballot_generator\u001b[39;00m \u001b[38;5;28;01mimport\u001b[39;00m PlackettLuce\n\u001b[1;32m      3\u001b[0m \u001b[38;5;66;03m# from ..votekit import ballot_generator as bg\u001b[39;00m\n\u001b[1;32m      4\u001b[0m \u001b[38;5;66;03m# import ..votekit.election_types as elections\u001b[39;00m\n\u001b[1;32m      5\u001b[0m \u001b[38;5;66;03m# from pathlib import Path\u001b[39;00m\n\u001b[1;32m      6\u001b[0m \u001b[38;5;66;03m# from votekit.pref_profile import PreferenceProfile\u001b[39;00m\n\u001b[1;32m      7\u001b[0m \u001b[38;5;66;03m# from votekit.utils import fractional_transfer, make_ballot\u001b[39;00m\n",
      "\u001b[0;31mModuleNotFoundError\u001b[0m: No module named 'ballot_generator'"
     ]
    }
   ],
   "source": [
    "from ballot_generator import PlackettLuce\n",
    "\n",
    "# from ..votekit import ballot_generator as bg\n",
    "# import ..votekit.election_types as elections\n",
    "# from pathlib import Path\n",
    "# from votekit.pref_profile import PreferenceProfile\n",
    "# from votekit.utils import fractional_transfer, make_ballot"
   ]
  },
  {
   "cell_type": "code",
   "execution_count": 10,
   "id": "08a1f5fc",
   "metadata": {},
   "outputs": [
    {
     "ename": "SyntaxError",
     "evalue": "invalid syntax (2484034834.py, line 2)",
     "output_type": "error",
     "traceback": [
      "\u001b[0;36m  Cell \u001b[0;32mIn[10], line 2\u001b[0;36m\u001b[0m\n\u001b[0;31m    pip install pydantic\u001b[0m\n\u001b[0m        ^\u001b[0m\n\u001b[0;31mSyntaxError\u001b[0m\u001b[0;31m:\u001b[0m invalid syntax\n"
     ]
    }
   ],
   "source": [
    "!pip install votekit\n",
    "!pip install pydantic"
   ]
  },
  {
   "cell_type": "code",
   "execution_count": 11,
   "id": "9b5376e8",
   "metadata": {},
   "outputs": [
    {
     "name": "stdout",
     "output_type": "stream",
     "text": [
      "Requirement already satisfied: pydantic in /Users/jenniferwang/.pyenv/versions/3.10.12/lib/python3.10/site-packages (1.10.9)\n",
      "Requirement already satisfied: typing-extensions>=4.2.0 in /Users/jenniferwang/.pyenv/versions/3.10.12/lib/python3.10/site-packages (from pydantic) (4.5.0)\n",
      "\n",
      "\u001b[1m[\u001b[0m\u001b[34;49mnotice\u001b[0m\u001b[1;39;49m]\u001b[0m\u001b[39;49m A new release of pip is available: \u001b[0m\u001b[31;49m23.1.2\u001b[0m\u001b[39;49m -> \u001b[0m\u001b[32;49m23.2.1\u001b[0m\n",
      "\u001b[1m[\u001b[0m\u001b[34;49mnotice\u001b[0m\u001b[1;39;49m]\u001b[0m\u001b[39;49m To update, run: \u001b[0m\u001b[32;49mpip install --upgrade pip\u001b[0m\n"
     ]
    }
   ],
   "source": [
    "!pip install pydantic"
   ]
  },
  {
   "cell_type": "code",
   "execution_count": 12,
   "id": "f63eff13",
   "metadata": {},
   "outputs": [
    {
     "ename": "ModuleNotFoundError",
     "evalue": "No module named 'pydantic'",
     "output_type": "error",
     "traceback": [
      "\u001b[0;31m---------------------------------------------------------------------------\u001b[0m",
      "\u001b[0;31mModuleNotFoundError\u001b[0m                       Traceback (most recent call last)",
      "Cell \u001b[0;32mIn[12], line 1\u001b[0m\n\u001b[0;32m----> 1\u001b[0m \u001b[38;5;28;01mimport\u001b[39;00m \u001b[38;5;21;01mvotekit\u001b[39;00m\u001b[38;5;21;01m.\u001b[39;00m\u001b[38;5;21;01mballot_generator\u001b[39;00m \u001b[38;5;28;01mas\u001b[39;00m \u001b[38;5;21;01mbg\u001b[39;00m\n",
      "File \u001b[0;32m~/Projects/MGGG/VoteKit/src/votekit/ballot_generator.py:11\u001b[0m\n\u001b[1;32m      8\u001b[0m \u001b[38;5;28;01mimport\u001b[39;00m \u001b[38;5;21;01mrandom\u001b[39;00m\n\u001b[1;32m      9\u001b[0m \u001b[38;5;28;01mfrom\u001b[39;00m \u001b[38;5;21;01mtyping\u001b[39;00m \u001b[38;5;28;01mimport\u001b[39;00m Optional, Union\n\u001b[0;32m---> 11\u001b[0m \u001b[38;5;28;01mfrom\u001b[39;00m \u001b[38;5;21;01m.\u001b[39;00m\u001b[38;5;21;01mballot\u001b[39;00m \u001b[38;5;28;01mimport\u001b[39;00m Ballot\n\u001b[1;32m     12\u001b[0m \u001b[38;5;28;01mfrom\u001b[39;00m \u001b[38;5;21;01m.\u001b[39;00m\u001b[38;5;21;01mpref_profile\u001b[39;00m \u001b[38;5;28;01mimport\u001b[39;00m PreferenceProfile\n\u001b[1;32m     15\u001b[0m \u001b[38;5;28;01mclass\u001b[39;00m \u001b[38;5;21;01mBallotGenerator\u001b[39;00m:\n\u001b[1;32m     16\u001b[0m \n\u001b[1;32m     17\u001b[0m     \u001b[38;5;66;03m# cand is a set\u001b[39;00m\n\u001b[0;32m   (...)\u001b[0m\n\u001b[1;32m     22\u001b[0m     \u001b[38;5;66;03m# pref_interval_by_bloc: Optional[dict] = None  # race: {candidate : interval length}\u001b[39;00m\n\u001b[1;32m     23\u001b[0m     \u001b[38;5;66;03m# demo_breakdown: Optional[dict] = None  # race: percentage\u001b[39;00m\n",
      "File \u001b[0;32m~/Projects/MGGG/VoteKit/src/votekit/ballot.py:2\u001b[0m\n\u001b[1;32m      1\u001b[0m \u001b[38;5;28;01mfrom\u001b[39;00m \u001b[38;5;21;01mfractions\u001b[39;00m \u001b[38;5;28;01mimport\u001b[39;00m Fraction\n\u001b[0;32m----> 2\u001b[0m \u001b[38;5;28;01mfrom\u001b[39;00m \u001b[38;5;21;01mpydantic\u001b[39;00m \u001b[38;5;28;01mimport\u001b[39;00m BaseModel\n\u001b[1;32m      3\u001b[0m \u001b[38;5;28;01mfrom\u001b[39;00m \u001b[38;5;21;01mtyping\u001b[39;00m \u001b[38;5;28;01mimport\u001b[39;00m Optional\n\u001b[1;32m      6\u001b[0m \u001b[38;5;28;01mclass\u001b[39;00m \u001b[38;5;21;01mBallot\u001b[39;00m(BaseModel):\n",
      "\u001b[0;31mModuleNotFoundError\u001b[0m: No module named 'pydantic'"
     ]
    }
   ],
   "source": [
    "import votekit.ballot_generator as bg"
   ]
  },
  {
   "cell_type": "code",
   "execution_count": 9,
   "id": "a2928772",
   "metadata": {},
   "outputs": [
    {
     "ename": "ImportError",
     "evalue": "cannot import name 'PlackettLuce' from 'votekit' (/Users/jenniferwang/Projects/MGGG/VoteKit/src/votekit/__init__.py)",
     "output_type": "error",
     "traceback": [
      "\u001b[0;31m---------------------------------------------------------------------------\u001b[0m",
      "\u001b[0;31mImportError\u001b[0m                               Traceback (most recent call last)",
      "Cell \u001b[0;32mIn[9], line 1\u001b[0m\n\u001b[0;32m----> 1\u001b[0m \u001b[38;5;28;01mfrom\u001b[39;00m \u001b[38;5;21;01mvotekit\u001b[39;00m \u001b[38;5;28;01mimport\u001b[39;00m PlackettLuce\n",
      "\u001b[0;31mImportError\u001b[0m: cannot import name 'PlackettLuce' from 'votekit' (/Users/jenniferwang/Projects/MGGG/VoteKit/src/votekit/__init__.py)"
     ]
    }
   ],
   "source": [
    "from votekit "
   ]
  },
  {
   "cell_type": "code",
   "execution_count": null,
   "id": "7ec182a8",
   "metadata": {},
   "outputs": [],
   "source": [
    "# parameters\n",
    "\n",
    "number_of_ballots = 100\n",
    "candidates = [\"W1\", \"W2\", \"C1\", \"C2\"]\n",
    "slate_to_candidate = {\"W\": [\"W1\", \"W2\"], \"C\": [\"C1\", \"C2\"]}\n",
    "bloc_crossover_rate = {\"W\": {\"C\": 0.3}, \"C\": {\"W\": 0.4}}\n",
    "pref_interval_by_bloc = {\n",
    "    \"W\": {\"W1\": 0.4, \"W2\": 0.3, \"C1\": 0.2, \"C2\": 0.1},\n",
    "    \"C\": {\"W1\": 0.2, \"W2\": 0.2, \"C1\": 0.3, \"C2\": 0.3},\n",
    "}\n",
    "bloc_voter_prop = {\"W\": 0.7, \"C\": 0.3}"
   ]
  }
 ],
 "metadata": {
  "kernelspec": {
   "display_name": "csci1470 Python 3.9.12",
   "language": "python",
   "name": "csci1470"
  },
  "language_info": {
   "codemirror_mode": {
    "name": "ipython",
    "version": 3
   },
   "file_extension": ".py",
   "mimetype": "text/x-python",
   "name": "python",
   "nbconvert_exporter": "python",
   "pygments_lexer": "ipython3",
   "version": "3.9.12"
  }
 },
 "nbformat": 4,
 "nbformat_minor": 5
}
