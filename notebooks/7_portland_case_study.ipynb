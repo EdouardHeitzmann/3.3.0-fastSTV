{
 "cells": [
  {
   "cell_type": "markdown",
   "metadata": {},
   "source": [
    "# Portland Case Study\n",
    "\n",
    "In November 2022, voters in Portland, Oregon approved an overhaul to their system of election.\n",
    "Previously, Portland had a commission model, with four councillors elected at-large, plus the mayor\n",
    "as a member of the council. In that system, candidates ran for numbered seats—for instance \"City\n",
    "Commissioner Position 4\"—for which the whole city voted. The new system holds the mayor separate and expands to 12 seats, with four geographical districts electing three councillors each through ranked-choice voting.\n",
    "\n",
    "The precise system of election now in place is called STV or \"single transferable vote\"; support\n",
    "from roughly a quarter of the district’s voters is the threshold required for election. Voters can rank\n",
    "up to six candidates, and rounds of tabulation are conducted with support transferring down the\n",
    "ballot until three candidates cross the threshold.\n",
    "\n",
    "The Data and Democracy Lab released a report studying the election, in particular the mechanics of the STV election to explain that the voting system played a direct role in securing such strong representation for communities of color. You can read the report [here.](https://mggg.org/ppm)\n",
    "In this tutorial notebook, we show how VoteKit can be used to replicate the analysis done in the report. For a more thorough replication repository, you can visit [this GitHub repo.](https://github.com/mggg/Portland-Postmortem)"
   ]
  },
  {
   "cell_type": "markdown",
   "metadata": {},
   "source": [
    "## Cast Vote Record (CVR)"
   ]
  },
  {
   "cell_type": "markdown",
   "metadata": {},
   "source": [
    "The city of Portland released the cast vote record (CVR) for the election in a format that reflected the scantron style ballot. Each voter was given a row in a table, and each candidate was given 6 columns, one for each ranking position. A vote for a candidate in position i was recorded as a 1 in that candidate's \"Ranking i\" column, and 0 otherwise. This allows for the possiblity of overvotes---multiple candidates can have a 1 in their \"Ranking i\" column--- and skips---no candidate has a 1 in their \"Ranking i\" column. In order to make this format readable by VoteKit, we need to transform it so that there are only 6 columns total. Each column represents one position of a ranking, and the entry of that column is the candidate ranked in that position. \n",
    "\n",
    "In addition to this format, the city also released the data by district, but included every voter from the entire city in each data set. So we will have to scrub the voters that are from the other 3 districts.\n",
    "\n",
    "If you want to skip all of the cleaning steps below, you can download the prepared data [here](https://github.com/mggg/VoteKit/blob/main/notebooks/Portland_D1_cleaned_votekit_pref_profile.pkl). Save the pkl file in the same working directory as your Python notebook."
   ]
  },
  {
   "cell_type": "markdown",
   "metadata": {},
   "source": [
    "## Cleaning the data and analyzing voter errors"
   ]
  },
  {
   "cell_type": "markdown",
   "metadata": {},
   "source": [
    "First, we will read in the csv of the cast vote record, scrub the non-district 1 voters, and create new columns that match the format needed by VoteKit. The csv is too large to be stored in GitHub, so [here is a link.](https://multco.us/info/turnout-and-statistics-november-2024-general-election) You will want the \"Councilor District 1 Cast Vote Record Data\". Alternatively, we can use a package called ``gdown`` to download the data from the Google Drive folder that Portland stored it in.\n",
    "\n",
    "After that, we will use VoteKit to perform the rest of the cleaning."
   ]
  },
  {
   "cell_type": "code",
   "execution_count": null,
   "metadata": {},
   "outputs": [
    {
     "name": "stderr",
     "output_type": "stream",
     "text": [
      "Downloading...\n",
      "From: https://drive.google.com/uc?id=1ly3IcjeQTpet-zvxd49DM_OmY_i4uftB\n",
      "To: /Users/cdonnay/Documents/GitHub/MGGG/VoteKit/notebooks/Portland_D1_raw_from_city.csv\n",
      " 64%|██████▎   | 66.1M/104M [00:05<00:04, 9.28MB/s]"
     ]
    }
   ],
   "source": [
    "import pandas as pd\n",
    "import gdown\n",
    "\n",
    "file_id = \"1ly3IcjeQTpet-zvxd49DM_OmY_i4uftB\"\n",
    "url = f\"https://drive.google.com/uc?id={file_id}\"\n",
    "save_to = \"Portland_D1_raw_from_city.csv\"\n",
    "\n",
    "gdown.download(url, save_to, quiet=False)"
   ]
  },
  {
   "cell_type": "code",
   "execution_count": null,
   "metadata": {},
   "outputs": [],
   "source": [
    "D1_df = pd.read_csv(save_to) \n",
    "# D1_df = pd.read_csv(\"file_name.csv\") # if you downloaded the file directly, uncomment this and insert the file name\n",
    "D1_df.head()"
   ]
  },
  {
   "cell_type": "code",
   "execution_count": null,
   "metadata": {},
   "outputs": [],
   "source": [
    "# stores all columns that have ranking information\n",
    "rank_columns = {i:[col for col in D1_df.columns if f'{i}:Number' in col] for i in range(1,7)}\n",
    "all_rank_cols = [col for col_list in rank_columns.values() for col in col_list]"
   ]
  },
  {
   "cell_type": "markdown",
   "metadata": {},
   "source": [
    "The code below scrubs any voter who did not cast at least one vote, which in turn removes any voter not from district 1."
   ]
  },
  {
   "cell_type": "code",
   "execution_count": null,
   "metadata": {},
   "outputs": [],
   "source": [
    "D1_voters_df = D1_df[D1_df[all_rank_cols].sum(axis=1) > 0].reset_index(drop=True) # just resets the index of the df"
   ]
  },
  {
   "cell_type": "markdown",
   "metadata": {},
   "source": [
    "We now add the new ranking columns that match the VoteKit format.\n",
    "\n",
    "In the process, we will lose some information about overvotes, when voters put more than one candidate in a ranking."
   ]
  },
  {
   "cell_type": "code",
   "execution_count": null,
   "metadata": {},
   "outputs": [],
   "source": [
    "ranking_data = {i:[-1 for _ in range(len(D1_voters_df))] for i in range(1,7)}\n",
    "\n",
    "for voter_index, row in D1_voters_df.iterrows():\n",
    "    for rank_position in range(1,7):\n",
    "        num_votes_cast = row[rank_columns[rank_position]].sum()\n",
    "\n",
    "        if num_votes_cast == 0:\n",
    "            cast_vote = \"\"\n",
    "        \n",
    "        elif num_votes_cast > 1:\n",
    "            cast_vote = \"overvote\"\n",
    "\n",
    "            # here we lost knowledge of who was in the overvote. That's how Portland runs their election\n",
    "            # system, but it could be interesting to study who is in the overvote!\n",
    "\n",
    "        else:\n",
    "            # find candidate name from column\n",
    "            pd_series = row[rank_columns[rank_position]]\n",
    "            cast_vote_column_name = pd_series.loc[pd_series == 1].index.tolist()[0]\n",
    "            cast_vote = cast_vote_column_name.split(\":\")[-2]\n",
    "\n",
    "        ranking_data[rank_position][voter_index] = cast_vote \n",
    "\n",
    "# add the new columns\n",
    "for rank_position in range(1,7):\n",
    "    D1_voters_df[f\"Rank {rank_position}\"] = ranking_data[rank_position]"
   ]
  },
  {
   "cell_type": "code",
   "execution_count": null,
   "metadata": {},
   "outputs": [],
   "source": [
    "D1_voters_df.head()"
   ]
  },
  {
   "cell_type": "code",
   "execution_count": null,
   "metadata": {},
   "outputs": [],
   "source": [
    "D1_voters_df[[f\"Rank {rank_position}\" for rank_position in range(1,7)]].to_csv(\"Portland_D1_raw_votekit_format.csv\")"
   ]
  },
  {
   "cell_type": "markdown",
   "metadata": {},
   "source": [
    "Now that the csv is in the correct format for VoteKit, we can complete our cleaning using VoteKit's built in cleaning tools."
   ]
  },
  {
   "cell_type": "code",
   "execution_count": null,
   "metadata": {},
   "outputs": [],
   "source": [
    "from votekit.cvr_loaders import load_csv\n",
    "\n",
    "profile = load_csv(\"Portland_D1_raw_votekit_format.csv\", rank_cols=[1,2,3,4,5,6])"
   ]
  },
  {
   "cell_type": "code",
   "execution_count": null,
   "metadata": {},
   "outputs": [],
   "source": [
    "profile"
   ]
  },
  {
   "cell_type": "markdown",
   "metadata": {},
   "source": [
    "Notice above that there is a difference between the number of total ballots and the total weight. This indicates that the profile has been grouped; that is, ballots with the same ranking have been aggregated so that there is one ballot, but with increased weight. We need to be careful and sum the ballot weights, not the number of ballots, if we want to know the total number of voters.\n",
    "\n",
    "We will take this moment to analyze how many overvotes occurred in first place, as well as how many occurred anywhere on the ballot."
   ]
  },
  {
   "cell_type": "code",
   "execution_count": null,
   "metadata": {},
   "outputs": [],
   "source": [
    "num_ballots_cast = profile.total_ballot_wt\n",
    "\n",
    "num_overvotes_first_place = sum(b.weight for b in profile.ballots if b.ranking[0] == {\"overvote\"})\n",
    "num_ballots_with_overvotes = sum(b.weight for b in profile.ballots if any(cand_set == {\"overvote\"} for cand_set in b.ranking))\n",
    "\n",
    "print(f\"There were {num_overvotes_first_place} overvotes in first place, or {num_overvotes_first_place/num_ballots_cast:.1%} of the ballots.\")\n",
    "print(f\"There were {num_ballots_with_overvotes} ballots with overvotes in any place, or {num_ballots_with_overvotes/num_ballots_cast:.1%} of the ballots.\")"
   ]
  },
  {
   "cell_type": "markdown",
   "metadata": {},
   "source": [
    "In the rules of Portland's election, which you can find [here](), any skipped positions and overvotes are ignored by the STV algorithm, and any candidates that were ranked below the position are moved up. The same thing occurs to three of the write in categories, but oddly enough, not to the \"Uncertified Write-in\" category.\n",
    "\n",
    "While Portland did not alter the ballots themselves, but rather told the STV algorithm how to ignore ballot errors, this is mathematically equvalent to pre-processing the ballots. VoteKit's ``remove_and_condense`` function removes candidates and then condenses any ballot positions left empty after scrubbing the given candidates.\n",
    "\n",
    "We will take this moment to also analyze spoilage. We call a ballot \"spoiled\" if it is removed during the cleaning process. We will record the percentage of ballots that are spoiled."
   ]
  },
  {
   "cell_type": "code",
   "execution_count": null,
   "metadata": {},
   "outputs": [],
   "source": [
    "from votekit.cleaning import remove_and_condense\n",
    "\n",
    "profile = remove_and_condense(\"overvote\", profile)\n",
    "\n",
    "num_ballots_spoiled_by_ov_skips = num_ballots_cast - profile.total_ballot_wt \n",
    "print(f\"{num_ballots_spoiled_by_ov_skips} ballots, or {num_ballots_spoiled_by_ov_skips/num_ballots_cast:.1%} of all ballots, were spoiled by overvotes or skips in D1.\")\n",
    "\n",
    "profile = remove_and_condense(['Write-in-120', 'Write-in-121', 'Write-in-122'], profile)\n",
    "\n",
    "num_ballots_scrubbed_by_wi = num_ballots_cast - num_ballots_spoiled_by_ov_skips-profile.total_ballot_wt \n",
    "print(f\"{num_ballots_scrubbed_by_wi} ballots, or {num_ballots_scrubbed_by_wi/num_ballots_cast:.1%} of all ballots, were scrubbed by write ins in D1.\")"
   ]
  },
  {
   "cell_type": "markdown",
   "metadata": {},
   "source": [
    "We also have to handle one more item of cleaning. It is entirely possible that a voter listed the same candidate more than once on their ballot, which is not allowed. Portland chose to keep the first occurrence, and ignore any later occurrences, condensing any positions left empty as a result."
   ]
  },
  {
   "cell_type": "code",
   "execution_count": null,
   "metadata": {},
   "outputs": [],
   "source": [
    "from votekit.cleaning import remove_repeated_candidates, condense_profile\n",
    "\n",
    "profile = condense_profile(remove_repeated_candidates(profile))"
   ]
  },
  {
   "cell_type": "markdown",
   "metadata": {},
   "source": [
    "Now to compute the adjusted and tabulated rate, which is the percentage of ballots that were touched by a cleaning rule but still used in the final tabulation.\n",
    "To do this we use the ``CleanedProfile`` class, which keeps track of the previous profile before a cleaning step, as well as which ballots were altered along the way."
   ]
  },
  {
   "cell_type": "code",
   "execution_count": null,
   "metadata": {},
   "outputs": [],
   "source": [
    "def find_all_parents(profile):\n",
    "    \"\"\"\n",
    "    Find all of the parent profiles of a CleanedProfile. \n",
    "    Returns a list, where the first entry is the input profile, and the last entry is the original\n",
    "    pre-cleaned profile.\n",
    "    \"\"\"\n",
    "    if hasattr(profile, \"parent_profile\"):\n",
    "        return [profile] + find_all_parents(profile.parent_profile)\n",
    "    \n",
    "    return [profile]\n",
    "\n",
    "def adjusted_and_tabulated(profile):\n",
    "    \"\"\"\n",
    "    Compute the number of ballots that were adjusted by a cleaning rule but eventually used in the\n",
    "    tabulation.\n",
    "    \"\"\" \n",
    "    adj_idxs = set().union(*[p.nonempty_altr_idxs for p in find_all_parents(profile)[:-1]])\n",
    "\n",
    "    adj_and_tab_idxs = list(adj_idxs.intersection(profile.df.index))\n",
    "\n",
    "    return sum(profile.df.loc[adj_and_tab_idxs, \"Weight\"])\n",
    "\n",
    "\n",
    "num_adj_and_tabulated = adjusted_and_tabulated(profile)\n",
    "print(f\"{num_adj_and_tabulated} ballots, or {num_adj_and_tabulated/num_ballots_cast:.2%} of all ballots, were adjusted before tabulation in D1.\")"
   ]
  },
  {
   "cell_type": "markdown",
   "metadata": {},
   "source": [
    "Finally, the profile is cleaned and we can save it for analysis. We save it as a pickle file, which is a way of storing Python variables."
   ]
  },
  {
   "cell_type": "code",
   "execution_count": null,
   "metadata": {},
   "outputs": [],
   "source": [
    "profile.to_pickle(\"Portland_D1_cleaned_votekit_pref_profile.pkl\")\n",
    "print(f\"After cleaning, there are now {profile.total_ballot_wt:,} ballots.\")"
   ]
  },
  {
   "cell_type": "markdown",
   "metadata": {},
   "source": [
    "# Analysis"
   ]
  },
  {
   "cell_type": "markdown",
   "metadata": {},
   "source": [
    "Finally, we have a CVR that is cleaned and ready to be analyzed. If youskipped all of the cleaning steps above, you can download the prepared data [here](https://github.com/mggg/VoteKit/blob/main/notebooks/Portland_D1_cleaned_votekit_pref_profile.pkl). Save the pkl file in the same working directory as your Python notebook.\n",
    "\n",
    "The first thing we should do is verify that our data and outcome matches that of the official election."
   ]
  },
  {
   "cell_type": "code",
   "execution_count": null,
   "metadata": {},
   "outputs": [],
   "source": [
    "from votekit.pref_profile import PreferenceProfile\n",
    "\n",
    "profile = PreferenceProfile.from_pickle(\"Portland_D1_cleaned_votekit_pref_profile.pkl\")"
   ]
  },
  {
   "cell_type": "markdown",
   "metadata": {},
   "source": [
    "Do we have the correct candidates? Do we have the same vote totals? Do we get the same STV winner set? In district 1, Avalos, Dunphy, and Smith were elected. The winners, first place vote distribution, and lots of other stats we can double check, are given [here](https://www.portland.gov/sites/default/files/2024/Portland-District-1-Certified-Abstract-Nov-2024.pdf)."
   ]
  },
  {
   "cell_type": "code",
   "execution_count": null,
   "metadata": {},
   "outputs": [],
   "source": [
    "from votekit.elections import STV\n",
    "from votekit.utils import first_place_votes\n",
    "\n",
    "\n",
    "# 3 seat election\n",
    "election = STV(profile, m=3)\n",
    "print(\"Winners in order of election\")\n",
    "i=0\n",
    "for cand_set in election.get_elected():\n",
    "    for cand in cand_set:\n",
    "        i+=1\n",
    "        print(i, cand)\n",
    "\n",
    "# threshold\n",
    "print(\"\\nThreshold: \", election.threshold, \"\\n\")\n",
    "\n",
    "fpv_dict = first_place_votes(profile)\n",
    "cands_sorted_by_fpv = sorted(zip(fpv_dict.keys(), fpv_dict.values()), # creates a list of tuples, (name, fpv)\n",
    "                                reverse=True,  #decreasing order\n",
    "                                key = lambda x: x[1], # sort by second element of tuple, which is fpv)\n",
    "                                    )\n",
    "\n",
    "print(\"Candidates in decreasing order of first place votes.\\n\")\n",
    "for cand, fpv in cands_sorted_by_fpv:\n",
    "    print(cand, fpv)"
   ]
  },
  {
   "cell_type": "markdown",
   "metadata": {},
   "source": [
    "Take a moment to verify these against the [official record](https://www.portland.gov/sites/default/files/2024/Portland-District-1-Certified-Abstract-Nov-2024.pdf)."
   ]
  },
  {
   "cell_type": "markdown",
   "metadata": {},
   "source": [
    "## Candidate Statistics"
   ]
  },
  {
   "cell_type": "markdown",
   "metadata": {},
   "source": [
    "### Viable Candidates"
   ]
  },
  {
   "cell_type": "markdown",
   "metadata": {},
   "source": [
    "Portland had a LOT of candidates running. District 1 had 16 named candidates and a handful of write ins.\n",
    "\n",
    "We choose to categorize the candidates as viable and non-viable in order to focus the scale of our analysis. A viable candidate is one that received at least as many mentions as the STV threshold. We call them viable because this is a necessary condition to win. \n",
    "\n",
    "(Well, technically it is possible for a non-viable candidate to win by being the last person standing after eliminations, but it is an edge case and does not occur in Portland. Only viable candidates win across all four districts.)\n",
    "\n",
    "First, let's plot the candidate mentions, along with the threshold for election."
   ]
  },
  {
   "cell_type": "code",
   "execution_count": null,
   "metadata": {},
   "outputs": [],
   "source": [
    "from votekit.plots import profile_mentions_plot\n",
    "\n",
    "ax = profile_mentions_plot(profile, \n",
    "                            threshold_values=election.threshold, \n",
    "                            threshold_kwds={\"label\": f\"Threshold: {election.threshold:,}\", \n",
    "                                        \"color\":\"black\", \n",
    "                                        \"linestyle\": \"--\"},\n",
    "                            show_profile_legend=True)"
   ]
  },
  {
   "cell_type": "markdown",
   "metadata": {},
   "source": [
    "Well the candidate names are too long to fit on the axis, so let's relabel them."
   ]
  },
  {
   "cell_type": "code",
   "execution_count": null,
   "metadata": {},
   "outputs": [],
   "source": [
    "ax = profile_mentions_plot(profile, \n",
    "                            threshold_values=election.threshold, \n",
    "                            threshold_kwds={\"label\": f\"Threshold: {election.threshold:,}\", \n",
    "                                        \"color\":\"black\", \n",
    "                                        \"linestyle\": \"--\"},\n",
    "                            show_profile_legend=True,\n",
    "                            relabel_candidates_with_int=True)"
   ]
  },
  {
   "cell_type": "markdown",
   "metadata": {},
   "source": [
    "We now see visually who is viable: Avalos, Routh, Dunphy, Smith, Ender, Hayes, and Ernst.\n",
    "\n",
    "To determine the viable candidates Pythonically, you can do the following."
   ]
  },
  {
   "cell_type": "code",
   "execution_count": null,
   "metadata": {},
   "outputs": [],
   "source": [
    "from votekit.utils import mentions\n",
    "\n",
    "mentions_dict = mentions(profile)\n",
    "viable_cands = [c for c, mentions in mentions_dict.items() if mentions >= election.threshold]\n",
    "\n",
    "viable_cands = sorted(viable_cands, reverse=True, key = lambda x: mentions_dict[x])\n",
    "print(\"Viable candidates in decreasing order of mentions\")\n",
    "\n",
    "for i, cand in enumerate(viable_cands):\n",
    "    print(i+1, cand)"
   ]
  },
  {
   "cell_type": "markdown",
   "metadata": {},
   "source": [
    "Let's also plot their first place votes, next to their mentions. After all, STV is based on first place votes, and this can help explain the winner set we observe. To make a plot this customized, we have to do a bit more work and expose the underlying function that `profile_mentions_plot` is a wrapper for."
   ]
  },
  {
   "cell_type": "code",
   "execution_count": null,
   "metadata": {},
   "outputs": [],
   "source": [
    "from votekit.plots import multi_bar_plot\n",
    "\n",
    "viable_cands_mentions = {cand:mentions for cand, mentions in mentions_dict.items() if cand in viable_cands}\n",
    "viable_cands_fpv = {cand: fpv for cand, fpv in first_place_votes(profile).items() if cand in viable_cands}\n",
    "\n",
    "ax = multi_bar_plot({\"Mentions\": viable_cands_mentions, \"FPV\": viable_cands_fpv},  \n",
    "                            threshold_values=election.threshold, \n",
    "                            threshold_kwds={\"label\": f\"Threshold: {election.threshold:,}\", \n",
    "                                        \"color\":\"black\", \n",
    "                                        \"linestyle\": \"--\"},\n",
    "                    )"
   ]
  },
  {
   "cell_type": "markdown",
   "metadata": {},
   "source": [
    "Whoops, the candidates are not in our desired order. This is also easy to fix by adding the `candidate_ordering` parameter."
   ]
  },
  {
   "cell_type": "code",
   "execution_count": null,
   "metadata": {},
   "outputs": [],
   "source": [
    "ax = multi_bar_plot({\"Mentions\": viable_cands_mentions, \"FPV\": viable_cands_fpv},\n",
    "                    category_ordering = viable_cands,\n",
    "                    threshold_values=election.threshold, \n",
    "                    threshold_kwds={\"label\": f\"Threshold: {election.threshold:,}\", \n",
    "                                        \"color\":\"black\", \n",
    "                                        \"linestyle\": \"--\"},\n",
    ")"
   ]
  },
  {
   "cell_type": "markdown",
   "metadata": {},
   "source": [
    "We see that part of the reason Routh was not elected is that he has significantly less FPV support than Dunphy and Smith, who were elected."
   ]
  },
  {
   "cell_type": "markdown",
   "metadata": {},
   "source": [
    "### Dominating Tiers"
   ]
  },
  {
   "cell_type": "markdown",
   "metadata": {},
   "source": [
    "A dominating tier of candidates is a set of candidates that beat all other candidates in lower tiers in head to head comparisons.\n",
    "If there is a unique member of the highest tier, i.e. a candidate that beats all other candidates head to head, they are called the Condorcet winner, or Condorcet candidate.\n",
    "\n",
    "In Portland, all four districts have Condorcet candidates—and in fact all four districts have a\n",
    "Condorcet order on their viable candidates. Interestingly, District 3 also contains what is known as a Condorcet cycle: three non-viable candidates (Knab, Wanner, Azul Otero) receive conflicting head-to-head support from voters.\n",
    "Wanner is preferred to Knab 18,021 to 17,658; Knab is preferred to Azul Otero 16,415 to 12,225; but Azul Otero is narrowly\n",
    "preferred to Wanner, 18,602 to 18,289."
   ]
  },
  {
   "cell_type": "markdown",
   "metadata": {},
   "source": [
    "To compute dominating tiers, we do the following."
   ]
  },
  {
   "cell_type": "code",
   "execution_count": null,
   "metadata": {},
   "outputs": [],
   "source": [
    "from votekit.graphs import PairwiseComparisonGraph\n",
    "\n",
    "pwcg = PairwiseComparisonGraph(profile)\n",
    "dominating_tiers = pwcg.get_dominating_tiers()\n",
    "\n",
    "print(\"The dominating tiers are: \")\n",
    "for tier in dominating_tiers:\n",
    "    print(tier)\n",
    "\n",
    "if pwcg.has_condorcet_winner():\n",
    "    print(f\"\\nThe Condorcet candidate is: {next(iter(dominating_tiers[0]))}\")\n",
    "else:\n",
    "    print(f\"\\n There is no unique Condorcet winner. The top tier is {dominating_tiers[0]}\")"
   ]
  },
  {
   "cell_type": "markdown",
   "metadata": {},
   "source": [
    "### Candidate Similarity\n",
    "\n",
    "Finally, we can plot a collection of matrices that tell us something about the relationship between candidates. The three kinds of matrices are: boost, candidate distance, and comentions. \n",
    "\n",
    "The (i,j) entry of the boost matrix shows P(mention i | mention j) - P(mention i). Thus, the i,j entry shows the boost given to candidate i by candidate j."
   ]
  },
  {
   "cell_type": "code",
   "execution_count": null,
   "metadata": {},
   "outputs": [],
   "source": [
    "from votekit.matrices import matrix_heatmap, boost_matrix, candidate_distance_matrix, comentions_matrix\n",
    "\n",
    "all_cands_sorted_by_mentions = sorted(profile.candidates, reverse=True, key = lambda x: mentions_dict[x])\n",
    "\n",
    "# computes the matrix\n",
    "bm  = boost_matrix(profile, candidates = all_cands_sorted_by_mentions)"
   ]
  },
  {
   "cell_type": "code",
   "execution_count": null,
   "metadata": {},
   "outputs": [],
   "source": [
    "all_last_names = [name.split(\" \")[-1] if \"Write In\" not in name \n",
    "                                        else \"UWI\" \n",
    "                                        for name in all_cands_sorted_by_mentions]\n",
    "\n",
    "# plots the matrix\n",
    "ax  = matrix_heatmap(bm, row_labels=all_last_names, \n",
    "                        column_labels=all_last_names,\n",
    "                        row_label_rotation = 0,\n",
    "                        column_label_rotation = 90)"
   ]
  },
  {
   "cell_type": "markdown",
   "metadata": {},
   "source": [
    "Since there are so many candidates, we should adjust the figure size and maybe the font size as well."
   ]
  },
  {
   "cell_type": "code",
   "execution_count": null,
   "metadata": {},
   "outputs": [],
   "source": [
    "import matplotlib.pyplot as plt\n",
    "\n",
    "fig, ax = plt.subplots(figsize=(12,12))\n",
    "\n",
    "ax  = matrix_heatmap(bm, row_labels=all_last_names, \n",
    "                        column_labels=all_last_names,\n",
    "                        row_label_rotation = 0,\n",
    "                        column_label_rotation = 90,\n",
    "                        ax = ax,\n",
    "                        cell_font_size = 12)"
   ]
  },
  {
   "cell_type": "markdown",
   "metadata": {},
   "source": [
    "The matrix heatmap uses a scale from purple to green, where dark purple means more negative, and dark green means more positive.\n",
    "Let's examine a few entries.\n",
    "\n",
    "The (Routh, Dunphy) entry is the largest positive value (0.22). This means that you were 22% more likely to rank Routh on your ballot if you ranked Dunphy. The corresponding entry (Dunphy, Routh) is also strongly positive at 0.20, which means that Routh and Dunphy received support from the same voters.\n",
    "\n",
    "The (Avalos, Ernst) entry is by far the most negative at -0.18. This means that if you ranked Ernst, you were less likely to rank Avalos. The corresponding entry (Ernst, Avalos) is -0.09, so voters who ranked Avalos were less likely to rank Ernst, although to a lesser degree. This indicates distinct support bases for the two candidates."
   ]
  },
  {
   "cell_type": "markdown",
   "metadata": {},
   "source": [
    "Here are the other two matrices, which we will define but not discuss. \n",
    "\n",
    "The (i,j) entry of the candidate distance matrix shows the average distance between candidates i and j when i >= j on the same ballot."
   ]
  },
  {
   "cell_type": "code",
   "execution_count": null,
   "metadata": {},
   "outputs": [],
   "source": [
    "cdm  = candidate_distance_matrix(profile, candidates = viable_cands)\n",
    "\n",
    "last_names_viable = [name.split(\" \")[-1] for name in viable_cands]\n",
    "\n",
    "ax  = matrix_heatmap(cdm, row_labels=last_names_viable, \n",
    "                        column_labels=last_names_viable,\n",
    "                        row_label_rotation = 0,\n",
    "                        column_label_rotation = 90)"
   ]
  },
  {
   "cell_type": "markdown",
   "metadata": {},
   "source": [
    "Finally, the (i,j) entry of the comentions matrix shows the number of times candidates i,j were mentioned on the same ballot with i >= j. There is an option to symmetrize the matrix, which makes the (i,j) entry the number of times that i and j were mentioned on the same ballot (irrespective of position)."
   ]
  },
  {
   "cell_type": "code",
   "execution_count": null,
   "metadata": {},
   "outputs": [],
   "source": [
    "cmm_asym  = comentions_matrix(profile, candidates = viable_cands)\n",
    "ax  = matrix_heatmap(cmm_asym, row_labels=last_names_viable, \n",
    "                        column_labels=last_names_viable,\n",
    "                        row_label_rotation = 0,\n",
    "                        column_label_rotation = 90)\n",
    "\n",
    "plt.title(\"Asymmetric Comentions\") \n",
    "plt.show()"
   ]
  },
  {
   "cell_type": "code",
   "execution_count": null,
   "metadata": {},
   "outputs": [],
   "source": [
    "cmm_sym  = comentions_matrix(profile, candidates = viable_cands, symmetric=True)\n",
    "ax  = matrix_heatmap(cmm_sym, row_labels=last_names_viable, \n",
    "                        column_labels=last_names_viable,\n",
    "                        row_label_rotation = 0,\n",
    "                        column_label_rotation = 90) \n",
    "\n",
    "plt.title(\"Symmetric Comentions\")\n",
    "plt.show()"
   ]
  },
  {
   "cell_type": "markdown",
   "metadata": {},
   "source": [
    "## Voter Behavior\n"
   ]
  },
  {
   "cell_type": "markdown",
   "metadata": {},
   "source": [
    "### Ballot Length\n",
    "\n",
    "We can look at the patterns of ballot length, or the\n",
    "number of candidates ranked. In other real-world ranked choice elections, like Scotland, when voters are ranking candidates to fill m seats, the most\n",
    "common ballot length is m, and typically the next most common behavior is to rank all available\n",
    "candidates. It is natural to interpret a ballot ranking exactly m candidates with an expression of the\n",
    "voter’s preferred winner set."
   ]
  },
  {
   "cell_type": "code",
   "execution_count": null,
   "metadata": {},
   "outputs": [],
   "source": [
    "from votekit.plots import profile_ballot_lengths_plot\n",
    "import matplotlib.pyplot as plt\n",
    "\n",
    "ax = profile_ballot_lengths_plot(profile, title=\"Ballot Lengths in D1\", normalize=True, y_axis_name=\"Percentage\", x_axis_name=\"Length\")\n",
    "\n",
    "# change the tick labels to percentages\n",
    "ax.set_yticks(ax.get_yticks())\n",
    "ax.set_yticklabels([f\"{float(x.get_text()):.0%}\" for x in ax.get_yticklabels()])\n",
    "\n",
    "plt.show()"
   ]
  },
  {
   "cell_type": "markdown",
   "metadata": {},
   "source": [
    "Portland D1 voters did a great job casting complete ballots: almost 40% of them were complete, and less than 15% of them were bullet votes for a single person.\n",
    "\n",
    "Some observers worried that minority communities might be more likely to vote short ballots.\n",
    "One way to get a vantage point on that is to consider whether ballots with a first-choice vote for a\n",
    "candidate of color look different in terms of their overall length. However, the identity of the top\n",
    "choice seems to make no meaningful difference in the ballot length pattern.\n",
    "\n",
    "We use the self-identified race of each candidate to determine if they are a candidate of color. 4 of the 16 candidates did not identify, and we have chosen to categorize them as non-POC. You can change one line below to categorize them as POC, and note that this does not change the results meaningfully."
   ]
  },
  {
   "cell_type": "code",
   "execution_count": null,
   "metadata": {},
   "outputs": [],
   "source": [
    "from votekit.pref_profile import PreferenceProfile\n",
    "from votekit.plots import multi_profile_ballot_lengths_plot\n",
    "\n",
    "d1_candidate_to_race = {\n",
    "    'Noah Ernst': 'White',\n",
    "    'Joe Allen':'White',\n",
    "    'Terrence Hayes': 'Black',\n",
    "    'David Linn':'White',\n",
    "    'Jamie Dunphy': 'White',\n",
    "    'Steph Routh': 'White',\n",
    "    'Peggy Sue Owens': 'White',\n",
    "    'Loretta Smith': 'Black',\n",
    "    'Timur Ender': 'White',\n",
    "    'Doug Clove': 'White',\n",
    "    'Candace Avalos': 'Black/Latina',\n",
    "    'Cayle Tern': 'Asian'\n",
    "}\n",
    "\n",
    "missing_race_classify = \"White\" # change this to non-White to see how classify the 4 cands with missing race\n",
    "# differently would change the analysis\n",
    "\n",
    "w_ballots = [b for b in profile.ballots if d1_candidate_to_race.get(next(iter(b.ranking[0])), missing_race_classify) == \"White\"]\n",
    "poc_ballots = [b for b in profile.ballots if d1_candidate_to_race.get(next(iter(b.ranking[0])), missing_race_classify) != \"White\"]\n",
    "\n",
    "sub_profile_w = PreferenceProfile(ballots=w_ballots)\n",
    "sub_profile_poc = PreferenceProfile(ballots = poc_ballots)\n",
    "\n",
    "ax = multi_profile_ballot_lengths_plot({\"POC Rank 1\": sub_profile_poc, \"non-POC Rank 1\": sub_profile_w}, \n",
    "                                       show_profile_legend=True, normalize=True,\n",
    "                                       y_axis_name=\"Percentage\",\n",
    "                                       title = \"Ballot Lengths in D1 by Rank 1 Race\",\n",
    "                                       x_axis_name=\"Length\")\n",
    "\n",
    "# change the tick labels to percentages\n",
    "ax.set_yticks(ax.get_yticks())\n",
    "ax.set_yticklabels([f\"{float(x.get_text()):.0%}\" for x in ax.get_yticklabels()])\n",
    "\n",
    "plt.show()\n"
   ]
  },
  {
   "cell_type": "markdown",
   "metadata": {},
   "source": [
    "### Ballot Exhaustion"
   ]
  },
  {
   "cell_type": "markdown",
   "metadata": {},
   "source": [
    "In a ranked-choice election which unfolds round by round, a ballot is often called exhausted if the\n",
    "ballot is not used in the final round of meaningful tabulation. Here in District 1, Candace\n",
    "Avalos crosses threshold in Round 13, and those ranking Avalos first have some surplus weight\n",
    "transferred to their next choice. Round 15 is the last round of tabulation before the winners are\n",
    "confirmed, when Dunphy, Hayes, and Smith are still in contention for the two remaining seats.\n",
    "Thus, in District 1, for a ballot to not be considered exhausted, it must include at least one of these\n",
    "three candidates. \n",
    "\n",
    "In single-winner ranked-choice elections, exhausted ballots are often viewed as\n",
    "problematic because they do not contribute to the determination of the winner. In the multi-winner\n",
    "(STV) context, this makes less sense. For example, consider a District 1 voter who bullet-votes for\n",
    "Avalos versus a voter who bullet-votes for Smith. The former ballot is considered exhausted (be-\n",
    "cause Avalos is elected early) while the latter is not. But the Avalos bullet voter may be completely\n",
    "satisfied with the outcome. For this reason, we find it useful to nuance the idea of ballot exhaustion\n",
    "by offering other, more interpretable measures."
   ]
  },
  {
   "cell_type": "markdown",
   "metadata": {},
   "source": [
    "Active rate: How many ballots were still active when the last decision was made?"
   ]
  },
  {
   "cell_type": "code",
   "execution_count": null,
   "metadata": {},
   "outputs": [],
   "source": [
    "from votekit.ballot import Ballot\n",
    "\n",
    "deduplicated_ballots = [Ballot(ranking=b.ranking, weight=1) for b in profile.ballots for _ in range(int(b.weight))]\n",
    "ballots_with_ids = [Ballot(ranking=b.ranking, voter_set = {f\"{i}\"}, weight = 1) for i,b in enumerate(deduplicated_ballots)]\n",
    "profile_with_ids = PreferenceProfile(ballots=ballots_with_ids)\n",
    "election_with_ids = STV(profile_with_ids, m=3)\n",
    "\n",
    "initial_ballot_count = profile.total_ballot_wt\n",
    "\n",
    "final_profile = election_with_ids.get_profile(14)\n",
    "\n",
    "remaining_voters = [voter for b in final_profile.ballots for voter in b.voter_set]\n",
    "remaining_count = len(remaining_voters)\n",
    "\n",
    "print(f\"The active rate is {remaining_count/initial_ballot_count:.1%}.\")"
   ]
  },
  {
   "cell_type": "markdown",
   "metadata": {},
   "source": [
    "STV exhaustion rate: How many ballots ranked fewer than six candidates, and did not include\n",
    "any winner or the last candidate eliminated?\n",
    "\n",
    "Futility rate: How many ballots ranked six candidates, but did not include any winner or the last candidate eliminated?"
   ]
  },
  {
   "cell_type": "code",
   "execution_count": null,
   "metadata": {},
   "outputs": [],
   "source": [
    "stv_exhausted = 0\n",
    "futile = 0\n",
    "\n",
    "winners = [c for s in election.get_elected() for c in s]\n",
    "last_cand_elim = election.get_eliminated()[0]\n",
    "\n",
    "relevant_cands = last_cand_elim.union(winners)\n",
    "\n",
    "for ballot in profile.ballots:\n",
    "    num_ranked = len(ballot.ranking)\n",
    "\n",
    "    ranked_cands = [c for s in ballot.ranking for c in s]\n",
    "    num_ranked_rel_cands = len(relevant_cands.intersection(ranked_cands))\n",
    "\n",
    "    if num_ranked_rel_cands == 0:\n",
    "\n",
    "        if num_ranked < 6:\n",
    "            stv_exhausted+= ballot.weight\n",
    "        elif num_ranked == 6:\n",
    "            futile += ballot.weight\n",
    "\n",
    "\n",
    "\n",
    "print(f\"The STV exhaustion rate in D1 is {stv_exhausted/initial_ballot_count:.1%}.\")\n",
    "print(f\"The futility rate in D1 is {futile/initial_ballot_count:.1%}.\")\n"
   ]
  },
  {
   "cell_type": "markdown",
   "metadata": {},
   "source": [
    "## Comparing to other systems"
   ]
  },
  {
   "cell_type": "markdown",
   "metadata": {},
   "source": [
    "### R-Representation Scores\n",
    "\n",
    "The r-representation score is a measure of how satisfied the voters are. Given a set of candidates, the r-represenation score of a profile is the proportion of voters who ranked at least one of the candidates in one of the top-r positions of their ballot. Common choices for r include 1, the number of seats, and the maximum length of a ballot.\n",
    "\n",
    "Let's explore these scores for the STV election in Portland, and see how they differ across other choices of election system."
   ]
  },
  {
   "cell_type": "code",
   "execution_count": null,
   "metadata": {},
   "outputs": [],
   "source": [
    "from votekit.representation_scores import r_representation_score, winner_sets_r_representation_scores\n",
    "\n",
    "stv_winners = [c for s in election.get_elected() for c in s]\n",
    "stv_1_representation = r_representation_score(profile, r=1, candidate_list=stv_winners)\n",
    "stv_3_representation = r_representation_score(profile, r=3, candidate_list=stv_winners)\n",
    "stv_6_representation = r_representation_score(profile, r=6, candidate_list=stv_winners)\n",
    "\n",
    "print(f\"STV 1-representation score for {stv_winners}: {stv_1_representation:.1%}\")\n",
    "print(f\"STV 3-representation score for {stv_winners}: {stv_3_representation:.1%}\")\n",
    "print(f\"STV 6-representation score for {stv_winners}: {stv_6_representation:.1%}\")"
   ]
  },
  {
   "cell_type": "markdown",
   "metadata": {},
   "source": [
    "So almost 80% of the voters have some winner listed somewhere on their ballot. That is pretty high satisfaction!\n",
    "Let's compare that to a few other election systems."
   ]
  },
  {
   "cell_type": "code",
   "execution_count": null,
   "metadata": {},
   "outputs": [],
   "source": [
    "from votekit.elections import CondoBorda, Plurality, Borda\n",
    "\n",
    "\n",
    "alt_elections = {\"Condorcet\": CondoBorda(profile, m=3),\n",
    "                 \"Borda\": Borda(profile, m=3),\n",
    "                 \"Plurality\": Plurality(profile, m=3),\n",
    "                 }\n",
    "\n",
    "for e_name, e in alt_elections.items():\n",
    "    print(e_name)\n",
    "    e_winners = [c for s in e.get_elected() for c in s]\n",
    "    e_1_representation = r_representation_score(profile, r=1, candidate_list=e_winners)\n",
    "    e_3_representation = r_representation_score(profile, r=3, candidate_list=e_winners)\n",
    "    e_6_representation = r_representation_score(profile, r=6, candidate_list=e_winners)\n",
    "\n",
    "    print(f\"{e_name} 1-representation score for {e_winners}: {e_1_representation:.1%}\")\n",
    "    print(f\"{e_name} 3-representation score for {e_winners}: {e_3_representation:.1%}\")\n",
    "    print(f\"{e_name} 6-representation score for {e_winners}: {e_6_representation:.1%}\")\n",
    "    print(\"\\n----------------------------\\n\")"
   ]
  },
  {
   "cell_type": "markdown",
   "metadata": {},
   "source": [
    "We can also see who the most representative winner set would have been."
   ]
  },
  {
   "cell_type": "code",
   "execution_count": null,
   "metadata": {},
   "outputs": [],
   "source": [
    "for r in [1,3,6]:\n",
    "    winner_sets_score_dict = winner_sets_r_representation_scores(profile, m=3, r=r)\n",
    "    winner_sets_score_tuples = [(set(k),v) for k,v in winner_sets_score_dict.items()]\n",
    "    sorted_winner_sets = sorted(winner_sets_score_tuples, reverse=True, key= lambda x: x[1])\n",
    "\n",
    "    print(f'{r}-representation winner sets, top 5 most representative')\n",
    "    for winner_set, score in sorted_winner_sets[:5]:\n",
    "        print(winner_set, f\"{score:.1%}\")\n",
    "    print(\"\\n--------------------\\n\")\n"
   ]
  },
  {
   "cell_type": "markdown",
   "metadata": {},
   "source": [
    "Notice that Ernst, Avalos, Smith would actually be a more represenative set under some choices of r than Dunphy, Avalos, Smith.\n",
    "STV does not choose Ernst however because many of the votes for Ernst were bullet votes, and thus lose information when he is eliminated."
   ]
  }
 ],
 "metadata": {
  "kernelspec": {
   "display_name": ".venv",
   "language": "python",
   "name": "python3"
  },
  "language_info": {
   "codemirror_mode": {
    "name": "ipython",
    "version": 3
   },
   "file_extension": ".py",
   "mimetype": "text/x-python",
   "name": "python",
   "nbconvert_exporter": "python",
   "pygments_lexer": "ipython3",
   "version": "3.13.2"
  }
 },
 "nbformat": 4,
 "nbformat_minor": 2
}
