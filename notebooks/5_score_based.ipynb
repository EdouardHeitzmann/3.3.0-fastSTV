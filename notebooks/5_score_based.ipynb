{
 "cells": [
  {
   "cell_type": "markdown",
   "metadata": {},
   "source": [
    "# Score-based Voting"
   ]
  },
  {
   "cell_type": "markdown",
   "metadata": {},
   "source": [
    "As we saw in the introductory notebook, in addition to ranking-based voting, there are also a host of election systems that make use of score-based ballots. By the end of this section, you should be comfortable with score ballots, Rating elections, and Cumulative elections and generators."
   ]
  },
  {
   "cell_type": "markdown",
   "metadata": {},
   "source": [
    "## Score ballots\n",
    "First, let's revisit how to define score ballots."
   ]
  },
  {
   "cell_type": "code",
   "execution_count": 1,
   "metadata": {},
   "outputs": [
    {
     "name": "stdout",
     "output_type": "stream",
     "text": [
      "Scores\n",
      "A: 4.00\n",
      "B: 3.00\n",
      "C: 4.00\n",
      "Weight: 3\n",
      "\n",
      "ranking: None\n"
     ]
    }
   ],
   "source": [
    "from votekit import Ballot\n",
    "\n",
    "score_ballot = Ballot(scores = {\"A\":4, \"B\": 3, \"C\":4}, weight = 3)\n",
    "print(score_ballot)\n",
    "print(\"ranking:\", score_ballot.ranking)"
   ]
  },
  {
   "cell_type": "markdown",
   "metadata": {},
   "source": [
    "Notice that despite the scores inducing the ranking $A,C>B$, the ballot only knows the scores. This is to conceptually separate score ballots from ranking ballots. If you want to convert a score ballot to a ranking, you can use the ``score_dict_to_ranking`` function from the ``utils`` module."
   ]
  },
  {
   "cell_type": "code",
   "execution_count": 2,
   "metadata": {},
   "outputs": [
    {
     "name": "stdout",
     "output_type": "stream",
     "text": [
      "(frozenset({'C', 'A'}), frozenset({'B'}))\n",
      "Ranking\n",
      "1.) C, A, (tie)\n",
      "2.) B, \n",
      "Weight: 3\n",
      "\n"
     ]
    }
   ],
   "source": [
    "from votekit.utils import score_dict_to_ranking\n",
    "\n",
    "ranking=score_dict_to_ranking(score_ballot.scores)\n",
    "print(ranking)\n",
    "\n",
    "ranked_ballot = Ballot(ranking = ranking, weight = score_ballot.weight)\n",
    "print(ranked_ballot)"
   ]
  },
  {
   "cell_type": "markdown",
   "metadata": {},
   "source": [
    "If you had an entire profile of score ballots and wanted to convert them all to ranked, you could do so as follows."
   ]
  },
  {
   "cell_type": "code",
   "execution_count": 3,
   "metadata": {},
   "outputs": [
    {
     "name": "stdout",
     "output_type": "stream",
     "text": [
      "Score profile\n",
      " Ranking                   Scores Weight\n",
      "     () (A:1.00, B:5.00, C:4.00)      5\n",
      "     () (A:4.00, B:3.00, C:4.00)      3\n",
      "     ()                (B:2.00,)      3\n",
      "     () (A:2.00, B:3.00, C:4.00)      2\n",
      "Ranked profile\n",
      "               Ranking Scores Weight\n",
      "            (B, C, A)     ()      5\n",
      "({'C', 'A'} (Tie), B)     ()      3\n",
      "                 (B,)     ()      3\n",
      "            (C, B, A)     ()      2\n"
     ]
    }
   ],
   "source": [
    "from votekit import PreferenceProfile\n",
    "score_profile = PreferenceProfile(ballots = [Ballot(scores = {\"A\":4, \"B\": 3, \"C\":4}, weight = 3),\n",
    "                                  Ballot(scores = {\"A\":2, \"B\": 3, \"C\":4}, weight = 2),\n",
    "                                  Ballot(scores = {\"A\":1, \"B\": 5, \"C\":4}, weight = 5),\n",
    "                                  Ballot(scores = {\"A\":0, \"B\": 2, \"C\":0}, weight = 3)])\n",
    "\n",
    "print(\"Score profile\\n\",score_profile)\n",
    "\n",
    "ranked_ballots = [Ballot(ranking = score_dict_to_ranking(b.scores),\n",
    "                        weight = b.weight) \n",
    "                for b in score_profile.ballots]\n",
    "\n",
    "ranked_profile = PreferenceProfile(ballots = ranked_ballots)\n",
    "\n",
    "\n",
    "print(\"Ranked profile\\n\", ranked_profile)"
   ]
  },
  {
   "cell_type": "markdown",
   "metadata": {},
   "source": [
    "Score ballots are flexible enough to allow any non-zero score, including negative scores. Scores of 0 are dropped from the dictionary. Note that not all election methods support negative scoring, but these elections in ``VoteKit`` validate your ballots and will raise a ``TypeError`` if an invalid score is passed."
   ]
  },
  {
   "cell_type": "code",
   "execution_count": 5,
   "metadata": {},
   "outputs": [
    {
     "name": "stdout",
     "output_type": "stream",
     "text": [
      "Scores\n",
      "A: -1.00\n",
      "B: 3.14\n",
      "Weight: 3\n",
      "\n"
     ]
    }
   ],
   "source": [
    "score_ballot = Ballot(scores = {\"A\":-1, \"B\": 3.14159, \"C\":0}, weight = 3)\n",
    "print(score_ballot)"
   ]
  },
  {
   "cell_type": "markdown",
   "metadata": {},
   "source": [
    "## Rating Election\n",
    "In a Rating election, to fill $m$ seats, voters score each candidate independently from $0-L$, where $L$ is some user-specified limit.  The $m$ winners are those with the highest total score.\n"
   ]
  },
  {
   "cell_type": "code",
   "execution_count": 8,
   "metadata": {},
   "outputs": [
    {
     "name": "stdout",
     "output_type": "stream",
     "text": [
      "      Status  Round\n",
      "B    Elected      1\n",
      "C  Remaining      1\n",
      "A  Remaining      1\n"
     ]
    }
   ],
   "source": [
    "from votekit.elections import Rating\n",
    "\n",
    "score_profile = PreferenceProfile(ballots = [Ballot(scores = {\"A\":4, \"B\": 3, \"C\":4}, weight = 3),\n",
    "                                  Ballot(scores = {\"A\":2, \"B\": 3, \"C\":4}, weight = 2),\n",
    "                                  Ballot(scores = {\"A\":1, \"B\": 5, \"C\":4}, weight = 5),\n",
    "                                  Ballot(scores = {\"A\":0, \"B\": 2, \"C\":0}, weight = 3)])\n",
    "\n",
    "# elect 1 seat, each voter can rate candidates up to 5 points independently\n",
    "election = Rating(score_profile, m = 1, L = 5)\n",
    "print(election)"
   ]
  },
  {
   "cell_type": "markdown",
   "metadata": {},
   "source": [
    "Let's look at the score totals to convince ourselves B was the winner."
   ]
  },
  {
   "cell_type": "code",
   "execution_count": 9,
   "metadata": {},
   "outputs": [
    {
     "name": "stdout",
     "output_type": "stream",
     "text": [
      "{'B': Fraction(46, 1), 'C': Fraction(40, 1), 'A': Fraction(21, 1)}\n"
     ]
    }
   ],
   "source": [
    "print(election.election_states[0].scores)"
   ]
  },
  {
   "cell_type": "markdown",
   "metadata": {},
   "source": [
    "Now let's see that the Rating election validates our profile before running the election. All of these code blocks should raise ``TypeError``s."
   ]
  },
  {
   "cell_type": "code",
   "execution_count": 11,
   "metadata": {},
   "outputs": [
    {
     "ename": "TypeError",
     "evalue": "All ballots must have score dictionary.",
     "output_type": "error",
     "traceback": [
      "\u001b[0;31m---------------------------------------------------------------------------\u001b[0m",
      "\u001b[0;31mTypeError\u001b[0m                                 Traceback (most recent call last)",
      "Cell \u001b[0;32mIn[11], line 4\u001b[0m\n\u001b[1;32m      1\u001b[0m ranking_profile \u001b[38;5;241m=\u001b[39m PreferenceProfile(ballots \u001b[38;5;241m=\u001b[39m [Ballot(ranking\u001b[38;5;241m=\u001b[39m [{\u001b[38;5;124m\"\u001b[39m\u001b[38;5;124mA\u001b[39m\u001b[38;5;124m\"\u001b[39m}, {\u001b[38;5;124m\"\u001b[39m\u001b[38;5;124mB\u001b[39m\u001b[38;5;124m\"\u001b[39m}, {\u001b[38;5;124m\"\u001b[39m\u001b[38;5;124mC\u001b[39m\u001b[38;5;124m\"\u001b[39m}])])\n\u001b[1;32m      3\u001b[0m \u001b[38;5;66;03m# should raise a TypeError since this profile has no scores\u001b[39;00m\n\u001b[0;32m----> 4\u001b[0m election \u001b[38;5;241m=\u001b[39m \u001b[43mRating\u001b[49m\u001b[43m(\u001b[49m\u001b[43mranking_profile\u001b[49m\u001b[43m,\u001b[49m\u001b[43m \u001b[49m\u001b[43mm\u001b[49m\u001b[43m \u001b[49m\u001b[38;5;241;43m=\u001b[39;49m\u001b[43m \u001b[49m\u001b[38;5;241;43m1\u001b[39;49m\u001b[43m,\u001b[49m\u001b[43m \u001b[49m\u001b[43mL\u001b[49m\u001b[43m \u001b[49m\u001b[38;5;241;43m=\u001b[39;49m\u001b[43m \u001b[49m\u001b[38;5;241;43m5\u001b[39;49m\u001b[43m)\u001b[49m\n",
      "File \u001b[0;32m~/PycharmProjects/VoteKit/src/votekit/elections/election_types/scores/rating.py:153\u001b[0m, in \u001b[0;36mRating.__init__\u001b[0;34m(self, profile, m, L, tiebreak)\u001b[0m\n\u001b[1;32m    146\u001b[0m \u001b[38;5;28;01mdef\u001b[39;00m \u001b[38;5;21m__init__\u001b[39m(\n\u001b[1;32m    147\u001b[0m     \u001b[38;5;28mself\u001b[39m,\n\u001b[1;32m    148\u001b[0m     profile: PreferenceProfile,\n\u001b[0;32m   (...)\u001b[0m\n\u001b[1;32m    151\u001b[0m     tiebreak: Optional[\u001b[38;5;28mstr\u001b[39m] \u001b[38;5;241m=\u001b[39m \u001b[38;5;28;01mNone\u001b[39;00m,\n\u001b[1;32m    152\u001b[0m ):\n\u001b[0;32m--> 153\u001b[0m     \u001b[38;5;28;43msuper\u001b[39;49m\u001b[43m(\u001b[49m\u001b[43m)\u001b[49m\u001b[38;5;241;43m.\u001b[39;49m\u001b[38;5;21;43m__init__\u001b[39;49m\u001b[43m(\u001b[49m\u001b[43mprofile\u001b[49m\u001b[43m,\u001b[49m\u001b[43m \u001b[49m\u001b[43mm\u001b[49m\u001b[38;5;241;43m=\u001b[39;49m\u001b[43mm\u001b[49m\u001b[43m,\u001b[49m\u001b[43m \u001b[49m\u001b[43mL\u001b[49m\u001b[38;5;241;43m=\u001b[39;49m\u001b[43mL\u001b[49m\u001b[43m,\u001b[49m\u001b[43m \u001b[49m\u001b[43mtiebreak\u001b[49m\u001b[38;5;241;43m=\u001b[39;49m\u001b[43mtiebreak\u001b[49m\u001b[43m)\u001b[49m\n",
      "File \u001b[0;32m~/PycharmProjects/VoteKit/src/votekit/elections/election_types/scores/rating.py:46\u001b[0m, in \u001b[0;36mGeneralRating.__init__\u001b[0;34m(self, profile, m, L, k, tiebreak)\u001b[0m\n\u001b[1;32m     44\u001b[0m \u001b[38;5;28mself\u001b[39m\u001b[38;5;241m.\u001b[39mk \u001b[38;5;241m=\u001b[39m k\n\u001b[1;32m     45\u001b[0m \u001b[38;5;28mself\u001b[39m\u001b[38;5;241m.\u001b[39mtiebreak \u001b[38;5;241m=\u001b[39m tiebreak\n\u001b[0;32m---> 46\u001b[0m \u001b[38;5;28;43mself\u001b[39;49m\u001b[38;5;241;43m.\u001b[39;49m\u001b[43m_validate_profile\u001b[49m\u001b[43m(\u001b[49m\u001b[43mprofile\u001b[49m\u001b[43m)\u001b[49m\n\u001b[1;32m     47\u001b[0m \u001b[38;5;28msuper\u001b[39m()\u001b[38;5;241m.\u001b[39m\u001b[38;5;21m__init__\u001b[39m(\n\u001b[1;32m     48\u001b[0m     profile, score_function\u001b[38;5;241m=\u001b[39mscore_profile_from_ballot_scores, sort_high_low\u001b[38;5;241m=\u001b[39m\u001b[38;5;28;01mTrue\u001b[39;00m\n\u001b[1;32m     49\u001b[0m )\n",
      "File \u001b[0;32m~/PycharmProjects/VoteKit/src/votekit/elections/election_types/scores/rating.py:63\u001b[0m, in \u001b[0;36mGeneralRating._validate_profile\u001b[0;34m(self, profile)\u001b[0m\n\u001b[1;32m     61\u001b[0m \u001b[38;5;28;01mfor\u001b[39;00m b \u001b[38;5;129;01min\u001b[39;00m profile\u001b[38;5;241m.\u001b[39mballots:\n\u001b[1;32m     62\u001b[0m     \u001b[38;5;28;01mif\u001b[39;00m \u001b[38;5;129;01mnot\u001b[39;00m b\u001b[38;5;241m.\u001b[39mscores:\n\u001b[0;32m---> 63\u001b[0m         \u001b[38;5;28;01mraise\u001b[39;00m \u001b[38;5;167;01mTypeError\u001b[39;00m(\u001b[38;5;124m\"\u001b[39m\u001b[38;5;124mAll ballots must have score dictionary.\u001b[39m\u001b[38;5;124m\"\u001b[39m)\n\u001b[1;32m     64\u001b[0m     \u001b[38;5;28;01melif\u001b[39;00m \u001b[38;5;28many\u001b[39m(score \u001b[38;5;241m>\u001b[39m \u001b[38;5;28mself\u001b[39m\u001b[38;5;241m.\u001b[39mL \u001b[38;5;28;01mfor\u001b[39;00m score \u001b[38;5;129;01min\u001b[39;00m b\u001b[38;5;241m.\u001b[39mscores\u001b[38;5;241m.\u001b[39mvalues()):\n\u001b[1;32m     65\u001b[0m         \u001b[38;5;28;01mraise\u001b[39;00m \u001b[38;5;167;01mTypeError\u001b[39;00m(\n\u001b[1;32m     66\u001b[0m             \u001b[38;5;124mf\u001b[39m\u001b[38;5;124m\"\u001b[39m\u001b[38;5;124mBallot \u001b[39m\u001b[38;5;132;01m{\u001b[39;00mb\u001b[38;5;132;01m}\u001b[39;00m\u001b[38;5;124m violates score limit \u001b[39m\u001b[38;5;132;01m{\u001b[39;00m\u001b[38;5;28mself\u001b[39m\u001b[38;5;241m.\u001b[39mL\u001b[38;5;132;01m}\u001b[39;00m\u001b[38;5;124m per candidate.\u001b[39m\u001b[38;5;124m\"\u001b[39m\n\u001b[1;32m     67\u001b[0m         )\n",
      "\u001b[0;31mTypeError\u001b[0m: All ballots must have score dictionary."
     ]
    }
   ],
   "source": [
    "ranking_profile = PreferenceProfile(ballots = [Ballot(ranking= [{\"A\"}, {\"B\"}, {\"C\"}])])\n",
    "\n",
    "# should raise a TypeError since this profile has no scores\n",
    "election = Rating(ranking_profile, m = 1, L = 5)"
   ]
  },
  {
   "cell_type": "code",
   "execution_count": 13,
   "metadata": {},
   "outputs": [
    {
     "ename": "TypeError",
     "evalue": "Ballot Scores\nA: -1.00\nB: 3.14\nWeight: 1\n must have non-negative scores.",
     "output_type": "error",
     "traceback": [
      "\u001b[0;31m---------------------------------------------------------------------------\u001b[0m",
      "\u001b[0;31mTypeError\u001b[0m                                 Traceback (most recent call last)",
      "Cell \u001b[0;32mIn[13], line 4\u001b[0m\n\u001b[1;32m      1\u001b[0m negative_profile \u001b[38;5;241m=\u001b[39m PreferenceProfile(ballots \u001b[38;5;241m=\u001b[39m [Ballot(scores \u001b[38;5;241m=\u001b[39m {\u001b[38;5;124m\"\u001b[39m\u001b[38;5;124mA\u001b[39m\u001b[38;5;124m\"\u001b[39m:\u001b[38;5;241m-\u001b[39m\u001b[38;5;241m1\u001b[39m, \u001b[38;5;124m\"\u001b[39m\u001b[38;5;124mB\u001b[39m\u001b[38;5;124m\"\u001b[39m: \u001b[38;5;241m3.14159\u001b[39m, \u001b[38;5;124m\"\u001b[39m\u001b[38;5;124mC\u001b[39m\u001b[38;5;124m\"\u001b[39m:\u001b[38;5;241m0\u001b[39m})])\n\u001b[1;32m      3\u001b[0m \u001b[38;5;66;03m# should raise a TypeError since this profile has negative\u001b[39;00m\n\u001b[0;32m----> 4\u001b[0m election \u001b[38;5;241m=\u001b[39m \u001b[43mRating\u001b[49m\u001b[43m(\u001b[49m\u001b[43mnegative_profile\u001b[49m\u001b[43m,\u001b[49m\u001b[43m \u001b[49m\u001b[43mm\u001b[49m\u001b[43m \u001b[49m\u001b[38;5;241;43m=\u001b[39;49m\u001b[43m \u001b[49m\u001b[38;5;241;43m1\u001b[39;49m\u001b[43m,\u001b[49m\u001b[43m \u001b[49m\u001b[43mL\u001b[49m\u001b[43m \u001b[49m\u001b[38;5;241;43m=\u001b[39;49m\u001b[43m \u001b[49m\u001b[38;5;241;43m5\u001b[39;49m\u001b[43m)\u001b[49m\n",
      "File \u001b[0;32m~/PycharmProjects/VoteKit/src/votekit/elections/election_types/scores/rating.py:153\u001b[0m, in \u001b[0;36mRating.__init__\u001b[0;34m(self, profile, m, L, tiebreak)\u001b[0m\n\u001b[1;32m    146\u001b[0m \u001b[38;5;28;01mdef\u001b[39;00m \u001b[38;5;21m__init__\u001b[39m(\n\u001b[1;32m    147\u001b[0m     \u001b[38;5;28mself\u001b[39m,\n\u001b[1;32m    148\u001b[0m     profile: PreferenceProfile,\n\u001b[0;32m   (...)\u001b[0m\n\u001b[1;32m    151\u001b[0m     tiebreak: Optional[\u001b[38;5;28mstr\u001b[39m] \u001b[38;5;241m=\u001b[39m \u001b[38;5;28;01mNone\u001b[39;00m,\n\u001b[1;32m    152\u001b[0m ):\n\u001b[0;32m--> 153\u001b[0m     \u001b[38;5;28;43msuper\u001b[39;49m\u001b[43m(\u001b[49m\u001b[43m)\u001b[49m\u001b[38;5;241;43m.\u001b[39;49m\u001b[38;5;21;43m__init__\u001b[39;49m\u001b[43m(\u001b[49m\u001b[43mprofile\u001b[49m\u001b[43m,\u001b[49m\u001b[43m \u001b[49m\u001b[43mm\u001b[49m\u001b[38;5;241;43m=\u001b[39;49m\u001b[43mm\u001b[49m\u001b[43m,\u001b[49m\u001b[43m \u001b[49m\u001b[43mL\u001b[49m\u001b[38;5;241;43m=\u001b[39;49m\u001b[43mL\u001b[49m\u001b[43m,\u001b[49m\u001b[43m \u001b[49m\u001b[43mtiebreak\u001b[49m\u001b[38;5;241;43m=\u001b[39;49m\u001b[43mtiebreak\u001b[49m\u001b[43m)\u001b[49m\n",
      "File \u001b[0;32m~/PycharmProjects/VoteKit/src/votekit/elections/election_types/scores/rating.py:46\u001b[0m, in \u001b[0;36mGeneralRating.__init__\u001b[0;34m(self, profile, m, L, k, tiebreak)\u001b[0m\n\u001b[1;32m     44\u001b[0m \u001b[38;5;28mself\u001b[39m\u001b[38;5;241m.\u001b[39mk \u001b[38;5;241m=\u001b[39m k\n\u001b[1;32m     45\u001b[0m \u001b[38;5;28mself\u001b[39m\u001b[38;5;241m.\u001b[39mtiebreak \u001b[38;5;241m=\u001b[39m tiebreak\n\u001b[0;32m---> 46\u001b[0m \u001b[38;5;28;43mself\u001b[39;49m\u001b[38;5;241;43m.\u001b[39;49m\u001b[43m_validate_profile\u001b[49m\u001b[43m(\u001b[49m\u001b[43mprofile\u001b[49m\u001b[43m)\u001b[49m\n\u001b[1;32m     47\u001b[0m \u001b[38;5;28msuper\u001b[39m()\u001b[38;5;241m.\u001b[39m\u001b[38;5;21m__init__\u001b[39m(\n\u001b[1;32m     48\u001b[0m     profile, score_function\u001b[38;5;241m=\u001b[39mscore_profile_from_ballot_scores, sort_high_low\u001b[38;5;241m=\u001b[39m\u001b[38;5;28;01mTrue\u001b[39;00m\n\u001b[1;32m     49\u001b[0m )\n",
      "File \u001b[0;32m~/PycharmProjects/VoteKit/src/votekit/elections/election_types/scores/rating.py:69\u001b[0m, in \u001b[0;36mGeneralRating._validate_profile\u001b[0;34m(self, profile)\u001b[0m\n\u001b[1;32m     65\u001b[0m     \u001b[38;5;28;01mraise\u001b[39;00m \u001b[38;5;167;01mTypeError\u001b[39;00m(\n\u001b[1;32m     66\u001b[0m         \u001b[38;5;124mf\u001b[39m\u001b[38;5;124m\"\u001b[39m\u001b[38;5;124mBallot \u001b[39m\u001b[38;5;132;01m{\u001b[39;00mb\u001b[38;5;132;01m}\u001b[39;00m\u001b[38;5;124m violates score limit \u001b[39m\u001b[38;5;132;01m{\u001b[39;00m\u001b[38;5;28mself\u001b[39m\u001b[38;5;241m.\u001b[39mL\u001b[38;5;132;01m}\u001b[39;00m\u001b[38;5;124m per candidate.\u001b[39m\u001b[38;5;124m\"\u001b[39m\n\u001b[1;32m     67\u001b[0m     )\n\u001b[1;32m     68\u001b[0m \u001b[38;5;28;01melif\u001b[39;00m \u001b[38;5;28many\u001b[39m(score \u001b[38;5;241m<\u001b[39m \u001b[38;5;241m0\u001b[39m \u001b[38;5;28;01mfor\u001b[39;00m score \u001b[38;5;129;01min\u001b[39;00m b\u001b[38;5;241m.\u001b[39mscores\u001b[38;5;241m.\u001b[39mvalues()):\n\u001b[0;32m---> 69\u001b[0m     \u001b[38;5;28;01mraise\u001b[39;00m \u001b[38;5;167;01mTypeError\u001b[39;00m(\u001b[38;5;124mf\u001b[39m\u001b[38;5;124m\"\u001b[39m\u001b[38;5;124mBallot \u001b[39m\u001b[38;5;132;01m{\u001b[39;00mb\u001b[38;5;132;01m}\u001b[39;00m\u001b[38;5;124m must have non-negative scores.\u001b[39m\u001b[38;5;124m\"\u001b[39m)\n\u001b[1;32m     71\u001b[0m \u001b[38;5;28;01mif\u001b[39;00m \u001b[38;5;28mself\u001b[39m\u001b[38;5;241m.\u001b[39mk:\n\u001b[1;32m     72\u001b[0m     \u001b[38;5;28;01mif\u001b[39;00m \u001b[38;5;28msum\u001b[39m(b\u001b[38;5;241m.\u001b[39mscores\u001b[38;5;241m.\u001b[39mvalues()) \u001b[38;5;241m>\u001b[39m \u001b[38;5;28mself\u001b[39m\u001b[38;5;241m.\u001b[39mk:\n",
      "\u001b[0;31mTypeError\u001b[0m: Ballot Scores\nA: -1.00\nB: 3.14\nWeight: 1\n must have non-negative scores."
     ]
    }
   ],
   "source": [
    "negative_profile = PreferenceProfile(ballots = [Ballot(scores = {\"A\":-1, \"B\": 3.14159, \"C\":0})])\n",
    "\n",
    "# should raise a TypeError since this profile has negative score\n",
    "election = Rating(negative_profile, m = 1, L = 5)"
   ]
  },
  {
   "cell_type": "code",
   "execution_count": 14,
   "metadata": {},
   "outputs": [
    {
     "ename": "TypeError",
     "evalue": "Ballot Scores\nB: 10.00\nC: 1.00\nWeight: 1\n violates score limit 5 per candidate.",
     "output_type": "error",
     "traceback": [
      "\u001b[0;31m---------------------------------------------------------------------------\u001b[0m",
      "\u001b[0;31mTypeError\u001b[0m                                 Traceback (most recent call last)",
      "Cell \u001b[0;32mIn[14], line 4\u001b[0m\n\u001b[1;32m      1\u001b[0m over_L_profile \u001b[38;5;241m=\u001b[39m PreferenceProfile(ballots \u001b[38;5;241m=\u001b[39m [Ballot(scores \u001b[38;5;241m=\u001b[39m {\u001b[38;5;124m\"\u001b[39m\u001b[38;5;124mA\u001b[39m\u001b[38;5;124m\"\u001b[39m:\u001b[38;5;241m0\u001b[39m, \u001b[38;5;124m\"\u001b[39m\u001b[38;5;124mB\u001b[39m\u001b[38;5;124m\"\u001b[39m: \u001b[38;5;241m10\u001b[39m, \u001b[38;5;124m\"\u001b[39m\u001b[38;5;124mC\u001b[39m\u001b[38;5;124m\"\u001b[39m:\u001b[38;5;241m1\u001b[39m})])\n\u001b[1;32m      3\u001b[0m \u001b[38;5;66;03m# should raise a TypeError since this profile has score over 5\u001b[39;00m\n\u001b[0;32m----> 4\u001b[0m election \u001b[38;5;241m=\u001b[39m \u001b[43mRating\u001b[49m\u001b[43m(\u001b[49m\u001b[43mover_L_profile\u001b[49m\u001b[43m,\u001b[49m\u001b[43m \u001b[49m\u001b[43mm\u001b[49m\u001b[43m \u001b[49m\u001b[38;5;241;43m=\u001b[39;49m\u001b[43m \u001b[49m\u001b[38;5;241;43m1\u001b[39;49m\u001b[43m,\u001b[49m\u001b[43m \u001b[49m\u001b[43mL\u001b[49m\u001b[43m \u001b[49m\u001b[38;5;241;43m=\u001b[39;49m\u001b[43m \u001b[49m\u001b[38;5;241;43m5\u001b[39;49m\u001b[43m)\u001b[49m\n",
      "File \u001b[0;32m~/PycharmProjects/VoteKit/src/votekit/elections/election_types/scores/rating.py:153\u001b[0m, in \u001b[0;36mRating.__init__\u001b[0;34m(self, profile, m, L, tiebreak)\u001b[0m\n\u001b[1;32m    146\u001b[0m \u001b[38;5;28;01mdef\u001b[39;00m \u001b[38;5;21m__init__\u001b[39m(\n\u001b[1;32m    147\u001b[0m     \u001b[38;5;28mself\u001b[39m,\n\u001b[1;32m    148\u001b[0m     profile: PreferenceProfile,\n\u001b[0;32m   (...)\u001b[0m\n\u001b[1;32m    151\u001b[0m     tiebreak: Optional[\u001b[38;5;28mstr\u001b[39m] \u001b[38;5;241m=\u001b[39m \u001b[38;5;28;01mNone\u001b[39;00m,\n\u001b[1;32m    152\u001b[0m ):\n\u001b[0;32m--> 153\u001b[0m     \u001b[38;5;28;43msuper\u001b[39;49m\u001b[43m(\u001b[49m\u001b[43m)\u001b[49m\u001b[38;5;241;43m.\u001b[39;49m\u001b[38;5;21;43m__init__\u001b[39;49m\u001b[43m(\u001b[49m\u001b[43mprofile\u001b[49m\u001b[43m,\u001b[49m\u001b[43m \u001b[49m\u001b[43mm\u001b[49m\u001b[38;5;241;43m=\u001b[39;49m\u001b[43mm\u001b[49m\u001b[43m,\u001b[49m\u001b[43m \u001b[49m\u001b[43mL\u001b[49m\u001b[38;5;241;43m=\u001b[39;49m\u001b[43mL\u001b[49m\u001b[43m,\u001b[49m\u001b[43m \u001b[49m\u001b[43mtiebreak\u001b[49m\u001b[38;5;241;43m=\u001b[39;49m\u001b[43mtiebreak\u001b[49m\u001b[43m)\u001b[49m\n",
      "File \u001b[0;32m~/PycharmProjects/VoteKit/src/votekit/elections/election_types/scores/rating.py:46\u001b[0m, in \u001b[0;36mGeneralRating.__init__\u001b[0;34m(self, profile, m, L, k, tiebreak)\u001b[0m\n\u001b[1;32m     44\u001b[0m \u001b[38;5;28mself\u001b[39m\u001b[38;5;241m.\u001b[39mk \u001b[38;5;241m=\u001b[39m k\n\u001b[1;32m     45\u001b[0m \u001b[38;5;28mself\u001b[39m\u001b[38;5;241m.\u001b[39mtiebreak \u001b[38;5;241m=\u001b[39m tiebreak\n\u001b[0;32m---> 46\u001b[0m \u001b[38;5;28;43mself\u001b[39;49m\u001b[38;5;241;43m.\u001b[39;49m\u001b[43m_validate_profile\u001b[49m\u001b[43m(\u001b[49m\u001b[43mprofile\u001b[49m\u001b[43m)\u001b[49m\n\u001b[1;32m     47\u001b[0m \u001b[38;5;28msuper\u001b[39m()\u001b[38;5;241m.\u001b[39m\u001b[38;5;21m__init__\u001b[39m(\n\u001b[1;32m     48\u001b[0m     profile, score_function\u001b[38;5;241m=\u001b[39mscore_profile_from_ballot_scores, sort_high_low\u001b[38;5;241m=\u001b[39m\u001b[38;5;28;01mTrue\u001b[39;00m\n\u001b[1;32m     49\u001b[0m )\n",
      "File \u001b[0;32m~/PycharmProjects/VoteKit/src/votekit/elections/election_types/scores/rating.py:65\u001b[0m, in \u001b[0;36mGeneralRating._validate_profile\u001b[0;34m(self, profile)\u001b[0m\n\u001b[1;32m     63\u001b[0m     \u001b[38;5;28;01mraise\u001b[39;00m \u001b[38;5;167;01mTypeError\u001b[39;00m(\u001b[38;5;124m\"\u001b[39m\u001b[38;5;124mAll ballots must have score dictionary.\u001b[39m\u001b[38;5;124m\"\u001b[39m)\n\u001b[1;32m     64\u001b[0m \u001b[38;5;28;01melif\u001b[39;00m \u001b[38;5;28many\u001b[39m(score \u001b[38;5;241m>\u001b[39m \u001b[38;5;28mself\u001b[39m\u001b[38;5;241m.\u001b[39mL \u001b[38;5;28;01mfor\u001b[39;00m score \u001b[38;5;129;01min\u001b[39;00m b\u001b[38;5;241m.\u001b[39mscores\u001b[38;5;241m.\u001b[39mvalues()):\n\u001b[0;32m---> 65\u001b[0m     \u001b[38;5;28;01mraise\u001b[39;00m \u001b[38;5;167;01mTypeError\u001b[39;00m(\n\u001b[1;32m     66\u001b[0m         \u001b[38;5;124mf\u001b[39m\u001b[38;5;124m\"\u001b[39m\u001b[38;5;124mBallot \u001b[39m\u001b[38;5;132;01m{\u001b[39;00mb\u001b[38;5;132;01m}\u001b[39;00m\u001b[38;5;124m violates score limit \u001b[39m\u001b[38;5;132;01m{\u001b[39;00m\u001b[38;5;28mself\u001b[39m\u001b[38;5;241m.\u001b[39mL\u001b[38;5;132;01m}\u001b[39;00m\u001b[38;5;124m per candidate.\u001b[39m\u001b[38;5;124m\"\u001b[39m\n\u001b[1;32m     67\u001b[0m     )\n\u001b[1;32m     68\u001b[0m \u001b[38;5;28;01melif\u001b[39;00m \u001b[38;5;28many\u001b[39m(score \u001b[38;5;241m<\u001b[39m \u001b[38;5;241m0\u001b[39m \u001b[38;5;28;01mfor\u001b[39;00m score \u001b[38;5;129;01min\u001b[39;00m b\u001b[38;5;241m.\u001b[39mscores\u001b[38;5;241m.\u001b[39mvalues()):\n\u001b[1;32m     69\u001b[0m     \u001b[38;5;28;01mraise\u001b[39;00m \u001b[38;5;167;01mTypeError\u001b[39;00m(\u001b[38;5;124mf\u001b[39m\u001b[38;5;124m\"\u001b[39m\u001b[38;5;124mBallot \u001b[39m\u001b[38;5;132;01m{\u001b[39;00mb\u001b[38;5;132;01m}\u001b[39;00m\u001b[38;5;124m must have non-negative scores.\u001b[39m\u001b[38;5;124m\"\u001b[39m)\n",
      "\u001b[0;31mTypeError\u001b[0m: Ballot Scores\nB: 10.00\nC: 1.00\nWeight: 1\n violates score limit 5 per candidate."
     ]
    }
   ],
   "source": [
    "over_L_profile = PreferenceProfile(ballots = [Ballot(scores = {\"A\":0, \"B\": 10, \"C\":1})])\n",
    "\n",
    "# should raise a TypeError since this profile has score over 5\n",
    "election = Rating(over_L_profile, m = 1, L = 5)"
   ]
  },
  {
   "cell_type": "markdown",
   "metadata": {},
   "source": [
    "## Cumulative election\n",
    "\n",
    "In a Cumulative election, voters can score each candidate as in a Rating election, but have a total budget of $m$ points, where $m$ is the number of seats to be filled. This means candidates cannot be scored independently, the total must sum to no more than $m$.\n",
    "\n",
    "Winners are those with highest total score. Giving a candidate multiple points is known as \"plumping\" the vote."
   ]
  },
  {
   "cell_type": "code",
   "execution_count": 19,
   "metadata": {},
   "outputs": [
    {
     "name": "stdout",
     "output_type": "stream",
     "text": [
      "      Status  Round\n",
      "B    Elected      1\n",
      "C    Elected      1\n",
      "A  Remaining      1\n",
      "(frozenset({'B', 'C'}), frozenset({'A'}))\n",
      "{'B': Fraction(10, 1), 'C': Fraction(10, 1), 'A': Fraction(8, 1)}\n"
     ]
    }
   ],
   "source": [
    "from votekit.elections import Cumulative\n",
    "\n",
    "score_profile = PreferenceProfile(ballots = [Ballot(scores = {\"A\":2, \"B\": 0, \"C\":0}, weight = 3),\n",
    "                                  Ballot(scores = {\"A\":1, \"B\": 1, \"C\":0}, weight = 2),\n",
    "                                  Ballot(scores = {\"A\":0, \"B\": 0, \"C\":2}, weight = 5),\n",
    "                                  Ballot(scores = {\"A\":0, \"B\": 2, \"C\":0}, weight = 4)])\n",
    "\n",
    "# elect 2 seat, each voter can rate candidates up to 2 points total\n",
    "election = Cumulative(score_profile, m = 2)\n",
    "print(election)\n",
    "print(election.get_ranking())\n",
    "print(election.election_states[0].scores)"
   ]
  },
  {
   "cell_type": "markdown",
   "metadata": {},
   "source": [
    "Here, B and C tied for 10 points and are thus elected in the same set.\n",
    "\n",
    "Again, the Cumulative class does validation for us."
   ]
  },
  {
   "cell_type": "code",
   "execution_count": 22,
   "metadata": {},
   "outputs": [
    {
     "ename": "TypeError",
     "evalue": "Ballot Scores\nB: 2.00\nC: 1.00\nWeight: 1\n violates total score budget 2.",
     "output_type": "error",
     "traceback": [
      "\u001b[0;31m---------------------------------------------------------------------------\u001b[0m",
      "\u001b[0;31mTypeError\u001b[0m                                 Traceback (most recent call last)",
      "Cell \u001b[0;32mIn[22], line 4\u001b[0m\n\u001b[1;32m      1\u001b[0m over_m_profile \u001b[38;5;241m=\u001b[39m PreferenceProfile(ballots \u001b[38;5;241m=\u001b[39m [Ballot(scores \u001b[38;5;241m=\u001b[39m {\u001b[38;5;124m\"\u001b[39m\u001b[38;5;124mA\u001b[39m\u001b[38;5;124m\"\u001b[39m:\u001b[38;5;241m0\u001b[39m, \u001b[38;5;124m\"\u001b[39m\u001b[38;5;124mB\u001b[39m\u001b[38;5;124m\"\u001b[39m: \u001b[38;5;241m2\u001b[39m, \u001b[38;5;124m\"\u001b[39m\u001b[38;5;124mC\u001b[39m\u001b[38;5;124m\"\u001b[39m:\u001b[38;5;241m1\u001b[39m})])\n\u001b[1;32m      3\u001b[0m \u001b[38;5;66;03m# should raise a TypeError since this profile has total score over 2\u001b[39;00m\n\u001b[0;32m----> 4\u001b[0m election \u001b[38;5;241m=\u001b[39m \u001b[43mCumulative\u001b[49m\u001b[43m(\u001b[49m\u001b[43mover_m_profile\u001b[49m\u001b[43m,\u001b[49m\u001b[43m \u001b[49m\u001b[43mm\u001b[49m\u001b[43m \u001b[49m\u001b[38;5;241;43m=\u001b[39;49m\u001b[43m \u001b[49m\u001b[38;5;241;43m2\u001b[39;49m\u001b[43m)\u001b[49m\n",
      "File \u001b[0;32m~/PycharmProjects/VoteKit/src/votekit/elections/election_types/scores/rating.py:197\u001b[0m, in \u001b[0;36mCumulative.__init__\u001b[0;34m(self, profile, m, tiebreak)\u001b[0m\n\u001b[1;32m    194\u001b[0m \u001b[38;5;28;01mdef\u001b[39;00m \u001b[38;5;21m__init__\u001b[39m(\n\u001b[1;32m    195\u001b[0m     \u001b[38;5;28mself\u001b[39m, profile: PreferenceProfile, m: \u001b[38;5;28mint\u001b[39m \u001b[38;5;241m=\u001b[39m \u001b[38;5;241m1\u001b[39m, tiebreak: Optional[\u001b[38;5;28mstr\u001b[39m] \u001b[38;5;241m=\u001b[39m \u001b[38;5;28;01mNone\u001b[39;00m\n\u001b[1;32m    196\u001b[0m ):\n\u001b[0;32m--> 197\u001b[0m     \u001b[38;5;28;43msuper\u001b[39;49m\u001b[43m(\u001b[49m\u001b[43m)\u001b[49m\u001b[38;5;241;43m.\u001b[39;49m\u001b[38;5;21;43m__init__\u001b[39;49m\u001b[43m(\u001b[49m\u001b[43mprofile\u001b[49m\u001b[43m,\u001b[49m\u001b[43m \u001b[49m\u001b[43mm\u001b[49m\u001b[38;5;241;43m=\u001b[39;49m\u001b[43mm\u001b[49m\u001b[43m,\u001b[49m\u001b[43m \u001b[49m\u001b[43mk\u001b[49m\u001b[38;5;241;43m=\u001b[39;49m\u001b[43mm\u001b[49m\u001b[43m,\u001b[49m\u001b[43m \u001b[49m\u001b[43mtiebreak\u001b[49m\u001b[38;5;241;43m=\u001b[39;49m\u001b[43mtiebreak\u001b[49m\u001b[43m)\u001b[49m\n",
      "File \u001b[0;32m~/PycharmProjects/VoteKit/src/votekit/elections/election_types/scores/rating.py:179\u001b[0m, in \u001b[0;36mLimited.__init__\u001b[0;34m(self, profile, m, k, tiebreak)\u001b[0m\n\u001b[1;32m    177\u001b[0m     \u001b[38;5;28;01mraise\u001b[39;00m \u001b[38;5;167;01mValueError\u001b[39;00m(\u001b[38;5;124m\"\u001b[39m\u001b[38;5;124mk must be less than or equal to m.\u001b[39m\u001b[38;5;124m\"\u001b[39m)\n\u001b[1;32m    178\u001b[0m \u001b[38;5;66;03m# if budget is k, limit per candidate is k\u001b[39;00m\n\u001b[0;32m--> 179\u001b[0m \u001b[38;5;28;43msuper\u001b[39;49m\u001b[43m(\u001b[49m\u001b[43m)\u001b[49m\u001b[38;5;241;43m.\u001b[39;49m\u001b[38;5;21;43m__init__\u001b[39;49m\u001b[43m(\u001b[49m\u001b[43mprofile\u001b[49m\u001b[43m,\u001b[49m\u001b[43m \u001b[49m\u001b[43mm\u001b[49m\u001b[38;5;241;43m=\u001b[39;49m\u001b[43mm\u001b[49m\u001b[43m,\u001b[49m\u001b[43m \u001b[49m\u001b[43mL\u001b[49m\u001b[38;5;241;43m=\u001b[39;49m\u001b[43mk\u001b[49m\u001b[43m,\u001b[49m\u001b[43m \u001b[49m\u001b[43mk\u001b[49m\u001b[38;5;241;43m=\u001b[39;49m\u001b[43mk\u001b[49m\u001b[43m,\u001b[49m\u001b[43m \u001b[49m\u001b[43mtiebreak\u001b[49m\u001b[38;5;241;43m=\u001b[39;49m\u001b[43mtiebreak\u001b[49m\u001b[43m)\u001b[49m\n",
      "File \u001b[0;32m~/PycharmProjects/VoteKit/src/votekit/elections/election_types/scores/rating.py:46\u001b[0m, in \u001b[0;36mGeneralRating.__init__\u001b[0;34m(self, profile, m, L, k, tiebreak)\u001b[0m\n\u001b[1;32m     44\u001b[0m \u001b[38;5;28mself\u001b[39m\u001b[38;5;241m.\u001b[39mk \u001b[38;5;241m=\u001b[39m k\n\u001b[1;32m     45\u001b[0m \u001b[38;5;28mself\u001b[39m\u001b[38;5;241m.\u001b[39mtiebreak \u001b[38;5;241m=\u001b[39m tiebreak\n\u001b[0;32m---> 46\u001b[0m \u001b[38;5;28;43mself\u001b[39;49m\u001b[38;5;241;43m.\u001b[39;49m\u001b[43m_validate_profile\u001b[49m\u001b[43m(\u001b[49m\u001b[43mprofile\u001b[49m\u001b[43m)\u001b[49m\n\u001b[1;32m     47\u001b[0m \u001b[38;5;28msuper\u001b[39m()\u001b[38;5;241m.\u001b[39m\u001b[38;5;21m__init__\u001b[39m(\n\u001b[1;32m     48\u001b[0m     profile, score_function\u001b[38;5;241m=\u001b[39mscore_profile_from_ballot_scores, sort_high_low\u001b[38;5;241m=\u001b[39m\u001b[38;5;28;01mTrue\u001b[39;00m\n\u001b[1;32m     49\u001b[0m )\n",
      "File \u001b[0;32m~/PycharmProjects/VoteKit/src/votekit/elections/election_types/scores/rating.py:73\u001b[0m, in \u001b[0;36mGeneralRating._validate_profile\u001b[0;34m(self, profile)\u001b[0m\n\u001b[1;32m     71\u001b[0m \u001b[38;5;28;01mif\u001b[39;00m \u001b[38;5;28mself\u001b[39m\u001b[38;5;241m.\u001b[39mk:\n\u001b[1;32m     72\u001b[0m     \u001b[38;5;28;01mif\u001b[39;00m \u001b[38;5;28msum\u001b[39m(b\u001b[38;5;241m.\u001b[39mscores\u001b[38;5;241m.\u001b[39mvalues()) \u001b[38;5;241m>\u001b[39m \u001b[38;5;28mself\u001b[39m\u001b[38;5;241m.\u001b[39mk:\n\u001b[0;32m---> 73\u001b[0m         \u001b[38;5;28;01mraise\u001b[39;00m \u001b[38;5;167;01mTypeError\u001b[39;00m(\u001b[38;5;124mf\u001b[39m\u001b[38;5;124m\"\u001b[39m\u001b[38;5;124mBallot \u001b[39m\u001b[38;5;132;01m{\u001b[39;00mb\u001b[38;5;132;01m}\u001b[39;00m\u001b[38;5;124m violates total score budget \u001b[39m\u001b[38;5;132;01m{\u001b[39;00m\u001b[38;5;28mself\u001b[39m\u001b[38;5;241m.\u001b[39mk\u001b[38;5;132;01m}\u001b[39;00m\u001b[38;5;124m.\u001b[39m\u001b[38;5;124m\"\u001b[39m)\n",
      "\u001b[0;31mTypeError\u001b[0m: Ballot Scores\nB: 2.00\nC: 1.00\nWeight: 1\n violates total score budget 2."
     ]
    }
   ],
   "source": [
    "over_m_profile = PreferenceProfile(ballots = [Ballot(scores = {\"A\":0, \"B\": 2, \"C\":1})])\n",
    "\n",
    "# should raise a TypeError since this profile has total score over 2\n",
    "election = Cumulative(over_m_profile, m = 2)"
   ]
  },
  {
   "cell_type": "markdown",
   "metadata": {},
   "source": [
    "## Cumulative generator\n",
    "\n",
    "We have a ballot generator that generates cumulative style ballots from a preference interval. It samples with replacement, thus allowing for the possibility that you give one candidate multiple points (this is known as \"plumping\")."
   ]
  },
  {
   "cell_type": "code",
   "execution_count": 24,
   "metadata": {},
   "outputs": [
    {
     "name": "stdout",
     "output_type": "stream",
     "text": [
      "Ranking           Scores Weight\n",
      "     ()        (A:2.00,)     63\n",
      "     () (A:1.00, B:1.00)     28\n",
      "     () (A:1.00, C:1.00)      5\n",
      "     () (B:1.00, C:1.00)      2\n",
      "     ()        (B:2.00,)      2\n"
     ]
    }
   ],
   "source": [
    "import votekit.ballot_generator as bg\n",
    "from votekit import PreferenceInterval\n",
    "\n",
    "m = 2\n",
    "bloc_voter_prop = {\"all_voters\": 1}\n",
    "slate_to_candidates= {\"all_voters\": [\"A\", \"B\", \"C\"]}\n",
    "\n",
    "# the preference interval (80,15,5)\n",
    "pref_intervals_by_bloc = {\"all_voters\":  \n",
    "                          {\"all_voters\": PreferenceInterval({\"A\": .80,  \"B\": .15,  \"C\": .05})}\n",
    "                          }\n",
    "\n",
    "cohesion_parameters = {\"all_voters\": {\"all_voters\": 1}}\n",
    "\n",
    "# the num_votes parameter says how many total points the voter is given\n",
    "# for a cumulative election, this is m, the number of seats\n",
    "# in a limited election, this could be less than m\n",
    "cumu = bg.name_Cumulative(pref_intervals_by_bloc = pref_intervals_by_bloc,\n",
    "                     bloc_voter_prop = bloc_voter_prop,\n",
    "                     slate_to_candidates = slate_to_candidates,\n",
    "                     cohesion_parameters=cohesion_parameters,\n",
    "                      num_votes=m)\n",
    "\n",
    "profile = cumu.generate_profile(number_of_ballots = 100)\n",
    "print(profile)"
   ]
  },
  {
   "cell_type": "markdown",
   "metadata": {},
   "source": [
    "Verify that the ballots make sense given the interval. A should receive the most votes."
   ]
  },
  {
   "cell_type": "code",
   "execution_count": 25,
   "metadata": {},
   "outputs": [
    {
     "data": {
      "text/plain": [
       "      Status  Round\n",
       "A    Elected      1\n",
       "B    Elected      1\n",
       "C  Remaining      1"
      ]
     },
     "execution_count": 25,
     "metadata": {},
     "output_type": "execute_result"
    }
   ],
   "source": [
    "Cumulative(profile, m)"
   ]
  },
  {
   "cell_type": "markdown",
   "metadata": {},
   "source": [
    "### **Try it yourself**\n",
    "> Change the preference interval and rerun the election. Does the profile make sense?"
   ]
  },
  {
   "cell_type": "markdown",
   "metadata": {},
   "source": [
    "## Conclusion\n",
    "\n",
    "You have now seen score ballots, Rating elections, and Cumulative elections and generators. `VoteKit` also implements Limited elections, as well as approval elections, which are like score-based elections but each candidate can only be scored 0 or 1."
   ]
  },
  {
   "cell_type": "code",
   "execution_count": null,
   "metadata": {},
   "outputs": [],
   "source": []
  }
 ],
 "metadata": {
  "kernelspec": {
   "display_name": ".venv",
   "language": "python",
   "name": "python3"
  },
  "language_info": {
   "codemirror_mode": {
    "name": "ipython",
    "version": 3
   },
   "file_extension": ".py",
   "mimetype": "text/x-python",
   "name": "python",
   "nbconvert_exporter": "python",
   "pygments_lexer": "ipython3",
   "version": "3.11.8"
  }
 },
 "nbformat": 4,
 "nbformat_minor": 2
}
