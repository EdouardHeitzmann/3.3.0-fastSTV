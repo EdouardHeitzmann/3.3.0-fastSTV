{
 "cells": [
  {
   "cell_type": "code",
   "execution_count": 5,
   "id": "a78e118b",
   "metadata": {},
   "outputs": [
    {
     "ename": "ImportError",
     "evalue": "cannot import name 'make_ballot' from 'votekit.utils' (/Users/jenniferwang/miniconda3/lib/python3.9/site-packages/votekit/utils.py)",
     "output_type": "error",
     "traceback": [
      "\u001b[0;31m---------------------------------------------------------------------------\u001b[0m",
      "\u001b[0;31mImportError\u001b[0m                               Traceback (most recent call last)",
      "Cell \u001b[0;32mIn[5], line 4\u001b[0m\n\u001b[1;32m      2\u001b[0m \u001b[39mimport\u001b[39;00m \u001b[39mvotekit\u001b[39;00m\u001b[39m.\u001b[39;00m\u001b[39melection_types\u001b[39;00m \u001b[39mas\u001b[39;00m \u001b[39melections\u001b[39;00m\n\u001b[1;32m      3\u001b[0m \u001b[39mfrom\u001b[39;00m \u001b[39mvotekit\u001b[39;00m\u001b[39m.\u001b[39;00m\u001b[39mpref_profile\u001b[39;00m \u001b[39mimport\u001b[39;00m PreferenceProfile\n\u001b[0;32m----> 4\u001b[0m \u001b[39mfrom\u001b[39;00m \u001b[39mvotekit\u001b[39;00m\u001b[39m.\u001b[39;00m\u001b[39mutils\u001b[39;00m \u001b[39mimport\u001b[39;00m fractional_transfer, make_ballot\n",
      "\u001b[0;31mImportError\u001b[0m: cannot import name 'make_ballot' from 'votekit.utils' (/Users/jenniferwang/miniconda3/lib/python3.9/site-packages/votekit/utils.py)"
     ]
    }
   ],
   "source": [
    "import votekit.ballot_generator as bg\n",
    "import votekit.election_types as elections\n",
    "from votekit.pref_profile import PreferenceProfile\n",
    "from votekit.utils import fractional_transfer, make_ballot"
   ]
  },
  {
   "cell_type": "code",
   "execution_count": null,
   "id": "7ec182a8",
   "metadata": {},
   "outputs": [],
   "source": [
    "# parameters\n",
    "\n",
    "number_of_ballots = 100\n",
    "candidates = [\"W1\", \"W2\", \"C1\", \"C2\"]\n",
    "slate_to_candidate = {\"W\": [\"W1\", \"W2\"], \"C\": [\"C1\", \"C2\"]}\n",
    "bloc_crossover_rate = {\"W\": {\"C\": 0.3}, \"C\": {\"W\": 0.4}}\n",
    "pref_interval_by_bloc = {\n",
    "    \"W\": {\"W1\": 0.4, \"W2\": 0.3, \"C1\": 0.2, \"C2\": 0.1},\n",
    "    \"C\": {\"W1\": 0.2, \"W2\": 0.2, \"C1\": 0.3, \"C2\": 0.3},\n",
    "}\n",
    "bloc_voter_prop = {\"W\": 0.7, \"C\": 0.3}"
   ]
  }
 ],
 "metadata": {
  "kernelspec": {
   "display_name": "csci1470 Python 3.9.12",
   "language": "python",
   "name": "csci1470"
  },
  "language_info": {
   "codemirror_mode": {
    "name": "ipython",
    "version": 3
   },
   "file_extension": ".py",
   "mimetype": "text/x-python",
   "name": "python",
   "nbconvert_exporter": "python",
   "pygments_lexer": "ipython3",
   "version": "3.9.12"
  }
 },
 "nbformat": 4,
 "nbformat_minor": 5
}
