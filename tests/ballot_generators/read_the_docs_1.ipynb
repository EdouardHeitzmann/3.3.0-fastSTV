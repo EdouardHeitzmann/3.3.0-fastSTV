{
 "cells": [
  {
   "cell_type": "markdown",
   "id": "4b805fa1",
   "metadata": {},
   "source": [
    "## Introduction: Computationally Sampling Bradley-Terry\n",
    "\n",
    "Given a preference interval $\\mathbf u$ Bradley-Terry (BT) is a model for\n",
    "drawing ballots when generating elections (TODO: insert link here).\n",
    "In particular, `name_Bradley_Terry.generate_profile()` is a method\n",
    "which, when given a preference interval, list of candidates and a number of ballots,\n",
    "samples a profile of ballots according to the Bradley-Terry\n",
    "distribution.  \n",
    "\n",
    "In votekit today, sampling BT profiles is done by computing the probability mass function on\n",
    "the set of ballots and then drawing from this pmf a single ballot at a\n",
    "time. However, this involves computing $n!$ terms and\n",
    "then storing all $n!$ probabilities. Using this method would mean that\n",
    "Votekit is only able to support BT generative elections with up $11$\n",
    "candidates. In this notebook we detail and investigate a Markov Chain\n",
    "Monte Carlo approach which allows us to effectively simulate BT\n",
    "elections with more than $30$ candidates and more than $1,000,000$\n",
    "ballots."
   ]
  }
 ],
 "metadata": {
  "language_info": {
   "name": "python"
  }
 },
 "nbformat": 4,
 "nbformat_minor": 5
}
