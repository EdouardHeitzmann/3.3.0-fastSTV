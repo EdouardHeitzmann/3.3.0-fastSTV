{
 "cells": [
  {
   "cell_type": "markdown",
   "metadata": {},
   "source": [
    "We now turn to the remaining models of ballot generator.\n",
    "- slate-Plackett Luce\n",
    "- slate-Bradley Terry\n",
    "- Alternating Crossover\n",
    "- Cambridge Sampler"
   ]
  },
  {
   "cell_type": "markdown",
   "metadata": {},
   "source": [
    "### Slate Models\n",
    "\n",
    "The slate-Plackett Luce and slate-Bradley Terry models function very similarly to their name counterparts. In the name models, ballots were constructed directly from preference intervals and candidate names. In the slate models, we will first construct a ballot type where each entry of the ballot is the name of a slate, then fill in the candidate names separately. See our social choice documentation for more information."
   ]
  },
  {
   "cell_type": "code",
   "execution_count": 1,
   "metadata": {},
   "outputs": [],
   "source": [
    "import votekit.ballot_generator as bg\n",
    "from votekit.pref_interval import PreferenceInterval"
   ]
  },
  {
   "cell_type": "markdown",
   "metadata": {},
   "source": [
    "In order to properly use the slate models, we must delineate which candidates belong to which slate. We do so with the `slate_to_candidates` parameter."
   ]
  },
  {
   "cell_type": "code",
   "execution_count": 2,
   "metadata": {},
   "outputs": [],
   "source": [
    "slate_to_candidates = {\"Q\": [\"Q1\", \"Q2\"],\n",
    "                       \"R\":[\"R1\", \"R2\"]}\n",
    "number_of_ballots = 50\n",
    "\n",
    "bloc_voter_prop = {\"Q\": 0.7, \"R\": 0.3}\n",
    "\n",
    "pref_intervals_by_bloc = {\n",
    "    \"Q\": {\"Q\":PreferenceInterval({\"Q1\": 0.4, \"Q2\": 0.3}),\n",
    "          \"R\":PreferenceInterval({\"R1\": 0.2, \"R2\": 0.1})},\n",
    "    \"R\": {\"Q\":PreferenceInterval({\"Q1\": 0.3, \"Q2\": 0.7}),\n",
    "          \"R\":PreferenceInterval({\"R1\": 0.4, \"R2\": 0.6})}\n",
    "}\n",
    "\n",
    "cohesion_parameters = {\"Q\": {\"Q\": .8, \"R\":.2},\n",
    "                       \"R\": {\"R\":.9, \"Q\":.1}}\n",
    "\n",
    "pl = bg.slate_PlackettLuce(pref_intervals_by_bloc=pref_intervals_by_bloc,\n",
    "                     bloc_voter_prop=bloc_voter_prop, \n",
    "                     slate_to_candidates=slate_to_candidates,\n",
    "                     cohesion_parameters=cohesion_parameters)\n",
    "\n",
    "bt = bg.slate_BradleyTerry(pref_intervals_by_bloc=pref_intervals_by_bloc,\n",
    "                     bloc_voter_prop=bloc_voter_prop, \n",
    "                     slate_to_candidates=slate_to_candidates,\n",
    "                     cohesion_parameters=cohesion_parameters)"
   ]
  },
  {
   "cell_type": "markdown",
   "metadata": {},
   "source": [
    "### Alternating Crossover\n",
    "\n",
    "The Alternating Crossover model was first introduced in Benade et al. \"Ranked Choice Voting and Proportional Representation\" (February 2, 2021). Available at SSRN: https://ssrn.com/abstract=3778021. This model assumes there are two blocs over voters. Within a bloc, voters either vote with the bloc, or \"crossover\" to the other bloc. The proportion of such voters is controlled by the cohesion parameter.\n",
    "\n",
    "Bloc voters rank all of the candidates from their bloc above all of the candidates from the other bloc. They choose their ranking of candidates via the PL model. Crossover voters first rank a candidate from the other bloc, then their bloc, etc, alternating until they run out of candidates from one bloc (at which point they stop.) Note that this means the AC model can generate incomplete ballots. Again, they choose their ranking via the PL model. \n",
    "\n",
    "A note on the preference intervals for this model. In this context, there are really two preference intervals for each bloc: the preference interval for their own candidates, and the preference interval for the opposing candidates. To input this as one preference interval, simply divide every value by 2.\n"
   ]
  },
  {
   "cell_type": "code",
   "execution_count": 3,
   "metadata": {},
   "outputs": [],
   "source": [
    "candidates = [\"Q1\", \"Q2\", \"R1\", \"R2\"]\n",
    "\n",
    "pref_intervals_by_bloc = {\n",
    "    \"Q\": {\"Q\":PreferenceInterval({\"Q1\": 0.4, \"Q2\": 0.3}),\n",
    "          \"R\":PreferenceInterval({\"R1\": 0.2, \"R2\": 0.1})},\n",
    "    \"R\": {\"Q\":PreferenceInterval({\"Q1\": 0.3, \"Q2\": 0.7}),\n",
    "          \"R\":PreferenceInterval({\"R1\": 0.4, \"R2\": 0.6})}\n",
    "}\n",
    "\n",
    "bloc_voter_prop = {\"Q\": .7, \"R\": .3}\n",
    "slate_to_candidates = {\"Q\": [\"Q1\", \"Q2\"],\n",
    "                       \"R\": [\"R1\", \"R2\"]}\n",
    "\n",
    "cohesion_parameters = {\"Q\": {\"Q\": .8, \"R\":.2},\n",
    "                       \"R\": {\"R\":.9, \"Q\":.1}}\n",
    "\n",
    "ac = bg.AlternatingCrossover(candidates = candidates,\n",
    "                             pref_intervals_by_bloc =pref_intervals_by_bloc,\n",
    "                             bloc_voter_prop = bloc_voter_prop,\n",
    "                             slate_to_candidates = slate_to_candidates,\n",
    "                             cohesion_parameters = cohesion_parameters)"
   ]
  },
  {
   "cell_type": "code",
   "execution_count": 4,
   "metadata": {},
   "outputs": [
    {
     "name": "stdout",
     "output_type": "stream",
     "text": [
      "PreferenceProfile too long, only showing 15 out of 15 rows.\n"
     ]
    },
    {
     "data": {
      "text/plain": [
       "         Ballots Weight\n",
       "(Q1, Q2, R2, R1)     20\n",
       "(Q2, Q1, R1, R2)     15\n",
       "(Q1, Q2, R1, R2)     13\n",
       "(R1, R2, Q1, Q2)      9\n",
       "(Q2, Q1, R2, R1)      8\n",
       "(R2, R1, Q2, Q1)      7\n",
       "(R1, R2, Q2, Q1)      6\n",
       "(R2, Q1, R1, Q2)      5\n",
       "(R2, R1, Q1, Q2)      5\n",
       "(R1, Q2, R2, Q1)      4\n",
       "(R2, Q2, R1, Q1)      3\n",
       "(R1, Q1, R2, Q2)      2\n",
       "(Q2, R2, Q1, R1)      1\n",
       "(Q1, R2, Q2, R1)      1\n",
       "(Q1, R1, Q2, R2)      1"
      ]
     },
     "execution_count": 4,
     "metadata": {},
     "output_type": "execute_result"
    }
   ],
   "source": [
    "ac.generate_profile(100)"
   ]
  },
  {
   "cell_type": "markdown",
   "metadata": {},
   "source": [
    "### Cambridge Sampler\n",
    "\n",
    "The Cambridge Sampler uses historical election data from Cambridge, MA to generate new ballots. You can use your own historical data with some of the provided optional parameters. The model assumes there is a majority and a minority bloc. Again there is a cohesion parameter measuring how often voters defect from the bloc. If voters vote with the bloc, they rank a bloc candidate first, and then the ballot is sampled from historical data with matching first entry. If they vote with the opposing bloc, they rank an opposing candidate first and then sample.\n",
    "\n",
    "The historical ballots only give the order in which majority/minority bloc candidates are listed ( for example, WWC says there were two majority candidates and then a minority on the ballot).\n",
    "Once the model decides which ballot type a voter has, it fills in the ballot with actual candidates using the preference interval ala PL.\n",
    "\n",
    "Since it samples from historical data, it's possible to generate incomplete ballots."
   ]
  },
  {
   "cell_type": "code",
   "execution_count": 5,
   "metadata": {},
   "outputs": [],
   "source": [
    "candidates = [\"Q1\", \"Q2\", \"R1\", \"R2\"]\n",
    "\n",
    "pref_intervals_by_bloc = {\n",
    "    \"Q\": {\"Q\":PreferenceInterval({\"Q1\": 0.4, \"Q2\": 0.3}),\n",
    "          \"R\":PreferenceInterval({\"R1\": 0.2, \"R2\": 0.1})},\n",
    "    \"R\": {\"Q\":PreferenceInterval({\"Q1\": 0.3, \"Q2\": 0.7}),\n",
    "          \"R\":PreferenceInterval({\"R1\": 0.4, \"R2\": 0.6})}\n",
    "}\n",
    "\n",
    "bloc_voter_prop = {\"Q\": .7, \"R\": .3}\n",
    "slate_to_candidates = {\"Q\": [\"Q1\", \"Q2\"],\n",
    "                       \"R\": [\"R1\", \"R2\"]}\n",
    "\n",
    "cohesion_parameters = {\"Q\": {\"Q\": .8, \"R\":.2},\n",
    "                       \"R\": {\"R\":.9, \"Q\":.1}}\n",
    "\n",
    "cs = bg.CambridgeSampler(pref_intervals_by_bloc=pref_intervals_by_bloc,\n",
    "                         bloc_voter_prop=bloc_voter_prop, candidates=candidates,\n",
    "                         slate_to_candidates=slate_to_candidates, cohesion_parameters=cohesion_parameters)"
   ]
  },
  {
   "cell_type": "code",
   "execution_count": 6,
   "metadata": {},
   "outputs": [
    {
     "name": "stdout",
     "output_type": "stream",
     "text": [
      "PreferenceProfile too long, only showing 15 out of 51 rows.\n"
     ]
    },
    {
     "data": {
      "text/plain": [
       "         Ballots Weight\n",
       "    (Q2, Q1, R1)      6\n",
       "        (Q2, Q1)      5\n",
       "(R2, R1, Q2, Q1)      4\n",
       "(Q2, Q1, R1, R2)      4\n",
       "(R2, Q2, Q1, R1)      4\n",
       "           (Q1,)      4\n",
       "        (Q1, Q2)      4\n",
       "(Q1, R1, Q2, R2)      4\n",
       "(Q1, Q2, R1, R2)      4\n",
       "(Q2, R1, Q1, R2)      3\n",
       "    (R2, Q2, Q1)      3\n",
       "(Q2, R1, R2, Q1)      3\n",
       "(R1, R2, Q1, Q2)      3\n",
       "    (Q2, Q1, R2)      3\n",
       "        (R1, R2)      2"
      ]
     },
     "execution_count": 6,
     "metadata": {},
     "output_type": "execute_result"
    }
   ],
   "source": [
    "cs.generate_profile(number_of_ballots=100)"
   ]
  },
  {
   "cell_type": "code",
   "execution_count": null,
   "metadata": {},
   "outputs": [],
   "source": []
  }
 ],
 "metadata": {
  "kernelspec": {
   "display_name": "votekit_release",
   "language": "python",
   "name": "votekit_release"
  },
  "language_info": {
   "codemirror_mode": {
    "name": "ipython",
    "version": 3
   },
   "file_extension": ".py",
   "mimetype": "text/x-python",
   "name": "python",
   "nbconvert_exporter": "python",
   "pygments_lexer": "ipython3",
   "version": "3.11.8"
  },
  "vscode": {
   "interpreter": {
    "hash": "c9cab7341294103ebf7257a147cf9be94788632525945846b8162a9349f00e3c"
   }
  }
 },
 "nbformat": 4,
 "nbformat_minor": 2
}
