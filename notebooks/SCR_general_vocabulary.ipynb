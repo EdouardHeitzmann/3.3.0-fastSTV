{
 "cells": [
  {
   "cell_type": "markdown",
   "metadata": {},
   "source": [
    "# General Vocabulary"
   ]
  },
  {
   "cell_type": "markdown",
   "metadata": {},
   "source": [
    "- Social choice theory: the study of making decisions from collective input.\n",
    "- Bullet vote: casting a vote for a single candidate.\n",
    "- Ranked choice voting: the act of electing candidates using rankings instead of bullet votes.\n",
    "- Linear ranking: an ordering of the candidates $A>C>B$ by your preference for each. $A>C$ means you prefer $A$ to $C$.\n",
    "- Ballot: the information gathered from a voter, usually a ranking, but could be points as well.\n",
    "- Preference profile: a collection of ballots from voters. Note, this is not the same as an election.\n",
    "- Election: a choice of rules for converting a preference profile into an outcome.\n",
    "- Ballot generator: a method for creating ballots.\n",
    "- Bloc: a group of voters who share some similar voting patterns.\n",
    "- CVR: cast vote record, i.e., the collection of ballots.\n",
    "- BLT: a file type used to record CVRs in Scottish elections.\n"
   ]
  },
  {
   "cell_type": "markdown",
   "metadata": {},
   "source": []
  }
 ],
 "metadata": {
  "language_info": {
   "name": "python"
  }
 },
 "nbformat": 4,
 "nbformat_minor": 2
}
