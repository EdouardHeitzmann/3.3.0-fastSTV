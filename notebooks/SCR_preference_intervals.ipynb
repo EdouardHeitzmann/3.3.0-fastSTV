{
 "cells": [
  {
   "cell_type": "markdown",
   "metadata": {},
   "source": [
    "# Preference Intervals"
   ]
  },
  {
   "cell_type": "markdown",
   "metadata": {},
   "source": [
    "A preference interval stores information about a voter's preferences for candidates. We visualize this, unsurprisingly, as an interval. We take the interval $[0,1]$ and divide it into pieces, where each piece is proportional to the voter's preference for a particular candidate. If we have two candidates $A,B$, we fix an order of our interval and say that the first piece will denote our preference for $A,$ and the second for $B$. As an abuse of notaton, one could write $(A,B)$, where we let $A$ represent the candidate and the length of the interval. For example, if a voter likes candidate $A$ a lot more than $B$, they might have the preference interval $(0.9, 0.1)$. This can be extended to any number of candidates, as long as each entry is non-negative and the total of the entries is 1.\n",
    "\n",
    "We have not said how this preference interval actually gets translated into a ranked ballot for a particular voter. That we leave up to the ballot generator models, like the Plackett-Luce model.\n",
    "\n",
    "It should be remarked that there is a difference, at least to VoteKit, between the intervals $(0.9,0.1,0.0)$ and $(0.9,0.1)$. While both say there is no preference for a third candidate, if the latter interval is fed into VoteKit, that third candidate will never appear on a generated ballot. If we feed it the former interval, the third candidate will always appear at the bottom of the ballot."
   ]
  },
  {
   "cell_type": "markdown",
   "metadata": {},
   "source": [
    "![](../docs/assets/preference_interval.png)"
   ]
  },
  {
   "cell_type": "markdown",
   "metadata": {},
   "source": [
    "VoteKit provides an option, [from_params](../docs/api.md#ballot-generators), which allows you to randomly generate preference intervals. For more on how this is done, see the page on [Simplices](SCR_simplex.ipynb)."
   ]
  },
  {
   "cell_type": "markdown",
   "metadata": {},
   "source": []
  }
 ],
 "metadata": {
  "kernelspec": {
   "display_name": "Python 3 (ipykernel)",
   "language": "python",
   "name": "python3"
  },
  "language_info": {
   "codemirror_mode": {
    "name": "ipython",
    "version": 3
   },
   "file_extension": ".py",
   "mimetype": "text/x-python",
   "name": "python",
   "nbconvert_exporter": "python",
   "pygments_lexer": "ipython3",
   "version": "3.8.8"
  }
 },
 "nbformat": 4,
 "nbformat_minor": 2
}
