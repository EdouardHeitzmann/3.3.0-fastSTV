{
 "cells": [
  {
   "cell_type": "code",
   "execution_count": 1,
   "metadata": {},
   "outputs": [],
   "source": [
    "import votekit.ballot_generator as bg"
   ]
  },
  {
   "cell_type": "markdown",
   "metadata": {},
   "source": [
    "# Alternating Crossover\n",
    "\n",
    "The Alternating Crossover model was first introduced in Benade et al. \"Ranked Choice Voting and Proportional Representation\" (February 2, 2021). Available at SSRN: https://ssrn.com/abstract=3778021. This model assumes there are two blocs over voters. Within a bloc, voters either vote with the bloc, or \"crossover\" to the other bloc. The proportion of such voters is controlled by the cohesion parameter.\n",
    "\n",
    "Bloc voters rank all of the candidates from their bloc above all of the candidates from the other bloc. They choose their ranking of candidates via the PL model. Crossover voters first rank a candidate from the other bloc, then their bloc, etc, alternating until they run out of candidates from one bloc (at which point they stop.) Note that this means the AC model can generate incomplete ballots. Again, they choose their ranking via the PL model. \n",
    "\n",
    "A note on the preference intervals for this model. In this context, there are really two preference intervals for each bloc: the preference interval for their own candidates, and the preference interval for the opposing candidates. To input this as one preference interval, simply divide every value by 2.\n"
   ]
  },
  {
   "cell_type": "code",
   "execution_count": 2,
   "metadata": {},
   "outputs": [],
   "source": [
    "candidates = [\"Q1\", \"Q2\", \"R1\", \"R2\"]\n",
    "\n",
    "# this is really saying the Q bloc has bloc preference .6,.4\n",
    "# and cross preference .5,.5\n",
    "pref_interval_by_bloc = {\"Q\": {\"Q1\":.3, \"Q2\":.2, \"R1\":.25, \"R2\":.25},\n",
    "                          \"R\": {\"Q1\":.15, \"Q2\":.35, \"R1\":.1, \"R2\":.4}}\n",
    "\n",
    "bloc_voter_prop = {\"Q\": .7, \"R\": .3}\n",
    "slate_to_candidates = {\"Q\": [\"Q1\", \"Q2\"],\n",
    "                       \"R\": [\"R1\", \"R2\"]}\n",
    "cohesion_parameters = {\"Q\": .9, \"R\": .7}\n",
    "\n",
    "ac = bg.AlternatingCrossover(candidates = candidates,\n",
    "                             pref_interval_by_bloc =pref_interval_by_bloc,\n",
    "                             bloc_voter_prop = bloc_voter_prop,\n",
    "                             slate_to_candidates = slate_to_candidates,\n",
    "                             cohesion_parameters = cohesion_parameters)"
   ]
  },
  {
   "cell_type": "code",
   "execution_count": 3,
   "metadata": {},
   "outputs": [
    {
     "name": "stdout",
     "output_type": "stream",
     "text": [
      "Data frame truncated to 15 rows.\n"
     ]
    },
    {
     "data": {
      "text/plain": [
       "         Ballots  Weight\n",
       "(Q2, Q1, R1, R2)      19\n",
       "(Q2, Q1, R2, R1)      18\n",
       "(Q1, Q2, R2, R1)      16\n",
       "(Q1, Q2, R1, R2)      10\n",
       "(R2, R1, Q1, Q2)       7\n",
       "(R2, R1, Q2, Q1)       6\n",
       "(R1, R2, Q2, Q1)       4\n",
       "(R1, R2, Q1, Q2)       4\n",
       "(Q2, R1, Q1, R2)       3\n",
       "(R1, Q1, R2, Q2)       2\n",
       "(R1, Q2, R2, Q1)       2\n",
       "(R2, Q1, R1, Q2)       2\n",
       "(Q1, R2, Q2, R1)       2\n",
       "(Q1, R1, Q2, R2)       2\n",
       "(Q2, R2, Q1, R1)       2"
      ]
     },
     "execution_count": 3,
     "metadata": {},
     "output_type": "execute_result"
    }
   ],
   "source": [
    "ac.generate_profile(100)"
   ]
  },
  {
   "cell_type": "markdown",
   "metadata": {},
   "source": [
    "# Cambridge Sampler\n",
    "\n",
    "The Cambridge Sampler uses historical election data from Cambridge, MA to generate new ballots. You can use your own historical data with some of the provided optional parameters. The model assumes there is a majority and a minority bloc. Again there is a cohesion parameter measuring how often voters defect from the bloc. If voters vote with the bloc, they rank a bloc candidate first, and then the ballot is sampled from historical data with matching first entry. If they vote with the opposing bloc, they rank an opposing candidate first and then sample.\n",
    "\n",
    "The historical ballots only give the order in which majority/minority bloc candidates are listed ( for example, WWC says there were two majority candidates and then a minority on the ballot).\n",
    "Once the model decides which ballot type a voter has, it fills in the ballot with actual candidates using the preference interval ala PL.\n",
    "\n",
    "Since it samples from historical data, it's possible to generate incomplete ballots."
   ]
  },
  {
   "cell_type": "code",
   "execution_count": 8,
   "metadata": {},
   "outputs": [],
   "source": [
    "candidates = [\"Q1\", \"Q2\", \"R1\", \"R2\"]\n",
    "slate_to_candidates = {\"Q\": [\"Q1\", \"Q2\"],\n",
    "                       \"R\": [\"R1\", \"R2\"]}\n",
    "\n",
    "bloc_voter_prop = {\"Q\": .6, \"R\": .4}\n",
    "pref_interval_by_bloc = {\n",
    "    \"Q\": {\"Q1\": 0.4, \"Q2\": 0.3, \"R1\": 0.2, \"R2\": 0.1},\n",
    "    \"R\": {\"Q1\": 0.2, \"Q2\": 0.2, \"R1\": 0.3, \"R2\": 0.3},\n",
    "}\n",
    "\n",
    "cohesion_parameters = {\"Q\": .7, \"R\": .9}\n",
    "\n",
    "cs = bg.CambridgeSampler(pref_interval_by_bloc=pref_interval_by_bloc,\n",
    "                         bloc_voter_prop=bloc_voter_prop, candidates=candidates,\n",
    "                         slate_to_candidates=slate_to_candidates, cohesion_parameters=cohesion_parameters)"
   ]
  },
  {
   "cell_type": "code",
   "execution_count": 9,
   "metadata": {},
   "outputs": [
    {
     "name": "stdout",
     "output_type": "stream",
     "text": [
      "Data frame truncated to 15 rows.\n"
     ]
    },
    {
     "data": {
      "text/plain": [
       "         Ballots  Weight\n",
       "        (Q2, Q1)       8\n",
       "(R1, R2, Q1, Q2)       7\n",
       "(Q1, Q2, R2, R1)       5\n",
       "(R1, Q1, R2, Q2)       4\n",
       "(R2, Q2, Q1, R1)       4\n",
       "(R1, R2, Q2, Q1)       4\n",
       "(Q1, Q2, R1, R2)       3\n",
       "        (R1, Q2)       3\n",
       "(R1, Q1, Q2, R2)       3\n",
       "(R1, Q2, R2, Q1)       3\n",
       "(Q2, R1, R2, Q1)       3\n",
       "        (R1, R2)       3\n",
       "(Q1, R1, R2, Q2)       3\n",
       "    (Q1, R1, R2)       2\n",
       "           (R1,)       2"
      ]
     },
     "execution_count": 9,
     "metadata": {},
     "output_type": "execute_result"
    }
   ],
   "source": [
    "cs.generate_profile(number_of_ballots=100)"
   ]
  },
  {
   "cell_type": "code",
   "execution_count": null,
   "metadata": {},
   "outputs": [],
   "source": []
  }
 ],
 "metadata": {
  "kernelspec": {
   "display_name": "votekit",
   "language": "python",
   "name": "votekit"
  },
  "language_info": {
   "codemirror_mode": {
    "name": "ipython",
    "version": 3
   },
   "file_extension": ".py",
   "mimetype": "text/x-python",
   "name": "python",
   "nbconvert_exporter": "python",
   "pygments_lexer": "ipython3",
   "version": "3.11.5"
  }
 },
 "nbformat": 4,
 "nbformat_minor": 2
}
