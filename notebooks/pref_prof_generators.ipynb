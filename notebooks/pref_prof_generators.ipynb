{
 "cells": [
  {
   "cell_type": "markdown",
   "metadata": {},
   "source": [
    "# Generating `PreferenceProfiles`\n",
    "We have already seen the use of a  `PreferenceProfile` generator (the Impartial Culture Model) in the Plotting and Ballot Graph tutorials. Now, let's dive into the rest that are included in `votekit`. This tutorial will cover\n",
    "- Impartial Culture\n",
    "- Impartial Anonymous Culture\n",
    "- name-Plackett Luce\n",
    "- name-Bradley Terry\n",
    "- name-Cumulative"
   ]
  },
  {
   "cell_type": "code",
   "execution_count": 1,
   "metadata": {},
   "outputs": [],
   "source": [
    "import votekit.ballot_generator as bg\n",
    "from votekit.pref_interval import PreferenceInterval"
   ]
  },
  {
   "cell_type": "markdown",
   "metadata": {},
   "source": [
    "The two simplest to use are the Impartial Culture and Impartial Anonymous Culture. For $m$ candidates and $n$ voters, the Impartial Culture model generates `PreferenceProfiles` uniformly at random out of the $(m!)^n$ possible profiles. Remember, a `PreferenceProfile` is a tuple of length $n$ that stores a linear ranking $m$ in each slot.\n",
    "\n",
    "The Impartial Anonymous Culture model works a little bit differently. When it generates ballots, it chooses a candidate support vector uniformly at random from among all possible support vectors, and then generates ballots according to that vector."
   ]
  },
  {
   "cell_type": "code",
   "execution_count": 2,
   "metadata": {},
   "outputs": [],
   "source": [
    "candidates = [\"A\", \"B\", \"C\"]\n",
    "number_of_ballots = 50\n",
    "#Impartial Culture\n",
    "ic = bg.ImpartialCulture(candidates = candidates)\n",
    "ic_profile = ic.generate_profile(number_of_ballots)\n",
    "\n",
    "#Impartial Anonymous Culture\n",
    "iac = bg.ImpartialAnonymousCulture(candidates = candidates)\n",
    "iac_profile = iac.generate_profile(number_of_ballots)\n"
   ]
  },
  {
   "cell_type": "markdown",
   "metadata": {},
   "source": [
    "The 1-D Spatial model assigns each candidate a random point on the real line according to the standard normal distribution. It then does the same for each voter, and then a voter ranks candidates by their distance from the voter."
   ]
  },
  {
   "cell_type": "code",
   "execution_count": 3,
   "metadata": {},
   "outputs": [],
   "source": [
    "one_d = bg.OneDimSpatial(candidates = candidates)\n",
    "one_d_profile = one_d.generate_profile(number_of_ballots)"
   ]
  },
  {
   "cell_type": "markdown",
   "metadata": {},
   "source": [
    "# Ballots Generated Using Intervals\n",
    "\n",
    "The following generative models all depend on preference intervals.\n"
   ]
  },
  {
   "cell_type": "markdown",
   "metadata": {},
   "source": [
    "The name-Plackett-Luce, name-Bradley-Terry, and name-Cumulative models all use the interval $[0,1]$. To use these models, we need a bit more information than just the candidates. Suppose for now that there is one type of voter (or bloc $Q$) in the state (these models can be generalized to more than one bloc, but we will start simple for now). We record the proportion of voters in this bloc in a dictionary.\n",
    "\n",
    "### Name-PL and Name-BT\n",
    "In the upcoming election, there are three candidates, $A$, $B$, and $C$. In general, the bloc $Q$ prefers $A$ 1/2  of the time, $B$ 1/3 of the time, and $C$ 1/6 of the time. We can visualize this as the line segment $[0,1]$, with the segment $[0,1/2]$ labeled $A$, $[1/2, 5/6]$ labeled $B$, and $[5/6,1]$ labeled $C$. Note the slight abuse of notation in using the same name for the candidates and their intervals. We store this information in a `PreferenceInterval` object.\n",
    "\n",
    "\n",
    "<!-- Suppose there are two blocs (or groups) of voters, $Q$ and $R$. The $Q$ bloc is estimated to be about 70% of the voting population, while the $R$ block is about 30%. Within each bloc there is preference for different candidates, which we record in the variable `pref_interval_by_bloc`. \n",
    "\n",
    "In this example, suppose each bloc has two candidates running, but there is some crossover in which some voters from bloc $Q$ actually prefer the candidates from bloc $R$. The $R$ bloc, being much more insular, does not prefer either of $Q$'s candidates. -->"
   ]
  },
  {
   "cell_type": "code",
   "execution_count": 4,
   "metadata": {},
   "outputs": [],
   "source": [
    "candidates = [\"A\", \"B\", \"C\"]\n",
    "number_of_ballots = 50\n",
    "\n",
    "bloc_voter_prop = {\"Q\":1}\n",
    "\n",
    "pref_intervals_by_bloc = {\"Q\" : {\"Q\": \n",
    "                                 PreferenceInterval({\"A\": 1/2,  \"B\": 1/3, \"C\": 1/6})\n",
    "                                 }\n",
    "                                 }\n"
   ]
  },
  {
   "cell_type": "markdown",
   "metadata": {},
   "source": [
    "For each voter, the name-Plackett-Luce (PL) model samples from the list of candidates without replacement according to the distribution defined by the preference intervals. The first candidate it samples is in first place, then second, etc. Visualizing this as the line segment, the PL model uniformly at random selects a point in $[0,1]$. Whichever candidate's interval that point lies in is listed first in the ballot. It then removes that candidate's preference interval from $[0,1]$, rescales so the segment has length 1 again, and then samples a second candidate. Repeat until all candidates have been sampled. We will discuss the `cohesion_parameters` argument later."
   ]
  },
  {
   "cell_type": "code",
   "execution_count": 5,
   "metadata": {},
   "outputs": [
    {
     "name": "stdout",
     "output_type": "stream",
     "text": [
      "  Ballots Weight\n",
      "(A, B, C)     21\n",
      "(B, A, C)     12\n",
      "(C, A, B)      7\n",
      "(A, C, B)      4\n",
      "(C, B, A)      3\n",
      "(B, C, A)      3\n"
     ]
    }
   ],
   "source": [
    "# Plackett-Luce\n",
    "pl = bg.name_PlackettLuce(pref_intervals_by_bloc=pref_intervals_by_bloc,\n",
    "                     bloc_voter_prop=bloc_voter_prop, \n",
    "                     candidates=candidates,\n",
    "                     cohesion_parameters={\"Q\":{\"Q\":1}})\n",
    "\n",
    "pl_profile = pl.generate_profile(number_of_ballots)\n",
    "print(pl_profile)"
   ]
  },
  {
   "cell_type": "markdown",
   "metadata": {},
   "source": [
    "The name-Bradley-Terry (BT) model also fundamentally relies on these preference intervals. The probability that BT samples the ballot $(A>B>C)$ is proportional to the the product of the pairwise probabilities $(A>B), (A>C),$ and $(B>C)$. Using our preference intervals, the probability that $A>B$ is $\\frac{A}{A+B}$; out of a line segment of length $A+B$, this is the probability that a uniform random point lies in the $A$ portion. The other probabilities are computed similarly."
   ]
  },
  {
   "cell_type": "code",
   "execution_count": 6,
   "metadata": {},
   "outputs": [
    {
     "name": "stdout",
     "output_type": "stream",
     "text": [
      "  Ballots Weight\n",
      "(A, B, C)     22\n",
      "(B, A, C)     11\n",
      "(A, C, B)     10\n",
      "(B, C, A)      5\n",
      "(C, A, B)      1\n",
      "(C, B, A)      1\n"
     ]
    }
   ],
   "source": [
    "# Bradley-Terry\n",
    "bt = bg.name_BradleyTerry(pref_intervals_by_bloc=pref_intervals_by_bloc,\n",
    "                     bloc_voter_prop=bloc_voter_prop, \n",
    "                     candidates=candidates,\n",
    "                     cohesion_parameters = {\"Q\":{\"Q\":1}})\n",
    "\n",
    "bt_profile = bt.generate_profile(number_of_ballots)\n",
    "\n",
    "print(bt_profile)"
   ]
  },
  {
   "cell_type": "markdown",
   "metadata": {},
   "source": [
    "We can do a more complicated example of PL and BT. Consider an election where there are 2 blocs of voters, $Q$ and $R$. There are two candidates from the $Q$ bloc, and two from the $R$ bloc. The $R$ block is more insular, and expresses no interest in any of the $Q$ candidates, while the $Q$ bloc does have some preference for $R$'s candidates. We express this using `cohesion_parameters`, which stores the preference of each slate for the other slate's candidates."
   ]
  },
  {
   "cell_type": "code",
   "execution_count": 7,
   "metadata": {},
   "outputs": [],
   "source": [
    "candidates = [\"Q1\", \"Q2\", \"R1\", \"R2\"]\n",
    "number_of_ballots = 50\n",
    "\n",
    "bloc_voter_prop = {\"Q\": 0.7, \"R\": 0.3}\n",
    "\n",
    "pref_intervals_by_bloc = {\n",
    "    \"Q\": {\"Q\":PreferenceInterval({\"Q1\": 0.4, \"Q2\": 0.3}),\n",
    "          \"R\":PreferenceInterval({\"R1\": 0.2, \"R2\": 0.1})},\n",
    "    \"R\": {\"Q\":PreferenceInterval({\"Q1\": 0.3, \"Q2\": 0.7}),\n",
    "          \"R\":PreferenceInterval({\"R1\": 0.4, \"R2\": 0.6})}\n",
    "}\n",
    "\n",
    "cohesion_parameters = {\"Q\": {\"Q\": .8, \"R\":.2},\n",
    "                       \"R\": {\"R\":1, \"Q\":0}}"
   ]
  },
  {
   "cell_type": "code",
   "execution_count": 8,
   "metadata": {},
   "outputs": [
    {
     "name": "stdout",
     "output_type": "stream",
     "text": [
      "Number of ballots: 50\n",
      "PreferenceProfile too long, only showing 15 out of 15 rows.\n",
      "                                Ballots Weight\n",
      "                       (Q1, Q2, R1, R2)     11\n",
      "(R2, R1, frozenset({'Q1', 'Q2'}) (Tie))     11\n",
      "                       (R1, Q2, Q1, R2)      6\n",
      "                       (Q2, Q1, R1, R2)      5\n",
      "(R1, R2, frozenset({'Q1', 'Q2'}) (Tie))      4\n",
      "                       (Q1, R1, Q2, R2)      2\n",
      "                       (Q2, R1, Q1, R2)      2\n",
      "                       (Q1, Q2, R2, R1)      2\n",
      "                       (Q1, R1, R2, Q2)      1\n",
      "                       (Q2, R2, Q1, R1)      1\n",
      "                       (Q2, R2, R1, Q1)      1\n",
      "                       (R1, R2, Q2, Q1)      1\n",
      "                       (Q2, R1, R2, Q1)      1\n",
      "                       (Q1, R2, Q2, R1)      1\n",
      "                       (R2, Q2, Q1, R1)      1\n"
     ]
    }
   ],
   "source": [
    "pl = bg.name_PlackettLuce(pref_intervals_by_bloc=pref_intervals_by_bloc,\n",
    "                     bloc_voter_prop=bloc_voter_prop, \n",
    "                     candidates=candidates,\n",
    "                     cohesion_parameters=cohesion_parameters)\n",
    "\n",
    "pl_profile = pl.generate_profile(number_of_ballots)\n",
    "\n",
    "print(\"Number of ballots:\", pl_profile.num_ballots())\n",
    "print(pl_profile)"
   ]
  },
  {
   "cell_type": "markdown",
   "metadata": {},
   "source": [
    "Notice that for the first time we have ties on the ballots! The notation `{'Q1', 'Q2'} (Tie)` means that these two candidates are tied for third place."
   ]
  },
  {
   "cell_type": "code",
   "execution_count": 9,
   "metadata": {},
   "outputs": [
    {
     "name": "stdout",
     "output_type": "stream",
     "text": [
      "Number of ballots: 50\n",
      "                                Ballots Weight\n",
      "                       (Q1, Q2, R1, R2)      9\n",
      "(R1, R2, frozenset({'Q1', 'Q2'}) (Tie))      9\n",
      "                       (Q1, R1, Q2, R2)      7\n",
      "                       (Q2, Q1, R1, R2)      6\n",
      "(R2, R1, frozenset({'Q1', 'Q2'}) (Tie))      6\n",
      "                       (Q2, Q1, R2, R1)      3\n",
      "                       (Q1, Q2, R2, R1)      3\n",
      "                       (R1, Q1, Q2, R2)      3\n",
      "                       (Q2, R1, Q1, R2)      3\n",
      "                       (R1, Q2, Q1, R2)      1\n"
     ]
    }
   ],
   "source": [
    "# Bradley-Terry\n",
    "bt = bg.name_BradleyTerry(pref_intervals_by_bloc=pref_intervals_by_bloc,\n",
    "                     bloc_voter_prop=bloc_voter_prop, \n",
    "                     candidates=candidates,\n",
    "                     cohesion_parameters=cohesion_parameters)\n",
    "\n",
    "bt_profile = bt.generate_profile(number_of_ballots)\n",
    "print(\"Number of ballots:\", bt_profile.num_ballots())\n",
    "print(bt_profile)"
   ]
  },
  {
   "cell_type": "markdown",
   "metadata": {},
   "source": [
    "### Name-Cumulative\n",
    "\n",
    "Cumulative voting is a method in which voters are allowed to put candidates on the ballot with multiplicity."
   ]
  },
  {
   "cell_type": "code",
   "execution_count": 10,
   "metadata": {},
   "outputs": [],
   "source": [
    "candidates = [\"Q1\", \"Q2\", \"R1\", \"R2\"]\n",
    "number_of_ballots = 50\n",
    "\n",
    "bloc_voter_prop = {\"Q\": 0.7, \"R\": 0.3}\n",
    "\n",
    "pref_intervals_by_bloc = {\n",
    "    \"Q\": {\"Q\":PreferenceInterval({\"Q1\": 0.4, \"Q2\": 0.3}),\n",
    "          \"R\":PreferenceInterval({\"R1\": 0.2, \"R2\": 0.1})},\n",
    "    \"R\": {\"Q\":PreferenceInterval({\"Q1\": 0.3, \"Q2\": 0.7}),\n",
    "          \"R\":PreferenceInterval({\"R1\": 0.4, \"R2\": 0.6})}\n",
    "}\n",
    "\n",
    "cohesion_parameters = {\"Q\": {\"Q\": .8, \"R\":.2},\n",
    "                       \"R\": {\"R\":1, \"Q\":0}}\n",
    "\n",
    "num_votes_per_ballot = 3"
   ]
  },
  {
   "cell_type": "markdown",
   "metadata": {},
   "source": [
    "We will also take this chance to introduce the `by_bloc` parameter to the `generate_profile` method, which when set to `True` returns a tuple. The first entry is a dictionary, which records the ballots cast by each bloc. The second entry is the full profile, i.e. what you would get if you just ran `generate_profile` with `by_bloc=False`."
   ]
  },
  {
   "cell_type": "code",
   "execution_count": 11,
   "metadata": {},
   "outputs": [],
   "source": [
    "c  = bg.name_Cumulative(pref_intervals_by_bloc=pref_intervals_by_bloc,\n",
    "                     bloc_voter_prop=bloc_voter_prop, \n",
    "                     candidates=candidates,\n",
    "                     cohesion_parameters=cohesion_parameters,\n",
    "                     num_votes=num_votes_per_ballot)\n",
    "\n",
    "c_profile_dict, agg_profile = c.generate_profile(number_of_ballots=100, by_bloc=True)"
   ]
  },
  {
   "cell_type": "code",
   "execution_count": 12,
   "metadata": {},
   "outputs": [
    {
     "name": "stdout",
     "output_type": "stream",
     "text": [
      "PreferenceProfile too long, only showing 15 out of 31 rows.\n"
     ]
    },
    {
     "data": {
      "text/plain": [
       "     Ballots Weight\n",
       "(Q1, Q1, Q1)      6\n",
       "(Q1, Q1, R1)      6\n",
       "(Q1, Q2, Q1)      6\n",
       "(Q2, Q2, Q1)      4\n",
       "(Q1, R1, Q1)      4\n",
       "(Q1, Q1, Q2)      4\n",
       "(Q1, Q2, R1)      3\n",
       "(Q2, Q2, Q2)      3\n",
       "(Q2, Q1, Q1)      3\n",
       "(R2, Q2, Q2)      3\n",
       "(R1, Q1, Q2)      2\n",
       "(Q1, Q2, Q2)      2\n",
       "(Q2, Q2, R1)      2\n",
       "(Q2, Q1, R1)      2\n",
       "(R2, Q2, Q1)      2"
      ]
     },
     "execution_count": 12,
     "metadata": {},
     "output_type": "execute_result"
    }
   ],
   "source": [
    "c_profile_dict[\"Q\"]"
   ]
  },
  {
   "cell_type": "code",
   "execution_count": 13,
   "metadata": {},
   "outputs": [
    {
     "data": {
      "text/plain": [
       "     Ballots Weight\n",
       "(R2, R2, R2)     12\n",
       "(R1, R1, R2)      4\n",
       "(R1, R2, R1)      3\n",
       "(R1, R1, R1)      3\n",
       "(R2, R1, R2)      3\n",
       "(R2, R1, R1)      2\n",
       "(R2, R2, R1)      2\n",
       "(R1, R2, R2)      1"
      ]
     },
     "execution_count": 13,
     "metadata": {},
     "output_type": "execute_result"
    }
   ],
   "source": [
    "c_profile_dict[\"R\"]"
   ]
  },
  {
   "cell_type": "code",
   "execution_count": 14,
   "metadata": {},
   "outputs": [
    {
     "name": "stdout",
     "output_type": "stream",
     "text": [
      "PreferenceProfile too long, only showing 15 out of 39 rows.\n"
     ]
    },
    {
     "data": {
      "text/plain": [
       "     Ballots Weight\n",
       "(R2, R2, R2)     12\n",
       "(Q1, Q1, R1)      6\n",
       "(Q1, Q2, Q1)      6\n",
       "(Q1, Q1, Q1)      6\n",
       "(Q1, R1, Q1)      4\n",
       "(Q2, Q2, Q1)      4\n",
       "(Q1, Q1, Q2)      4\n",
       "(R1, R1, R2)      4\n",
       "(R2, Q2, Q2)      3\n",
       "(Q2, Q2, Q2)      3\n",
       "(R1, R2, R1)      3\n",
       "(Q2, Q1, Q1)      3\n",
       "(R1, R1, R1)      3\n",
       "(Q1, Q2, R1)      3\n",
       "(R2, R1, R2)      3"
      ]
     },
     "execution_count": 14,
     "metadata": {},
     "output_type": "execute_result"
    }
   ],
   "source": [
    "agg_profile"
   ]
  },
  {
   "cell_type": "markdown",
   "metadata": {},
   "source": [
    "Observe the multiplicity of candidates, as well as the fact that no voter in the `R` bloc cast a vote for `Q` candidates. To make the `Ballot` object as flexible as possible over different methods of election, we have implemented cumulative voting ballots as follows. The ranking on the ballot holds no meaning; all that matters is the multiplicity. That is, the ballot (R1, R1, R2) is the same as (R2, R1, R1). The `PreferenceProfile` object does not know that and thus displays them as different ballots, but our cumulative election class will handle tallying results for you."
   ]
  },
  {
   "cell_type": "markdown",
   "metadata": {},
   "source": [
    "We will discuss the slate models, as well as AC and CS in a later tutorial."
   ]
  },
  {
   "cell_type": "code",
   "execution_count": null,
   "metadata": {},
   "outputs": [],
   "source": []
  }
 ],
 "metadata": {
  "kernelspec": {
   "display_name": "votekit_release",
   "language": "python",
   "name": "votekit_release"
  },
  "language_info": {
   "codemirror_mode": {
    "name": "ipython",
    "version": 3
   },
   "file_extension": ".py",
   "mimetype": "text/x-python",
   "name": "python",
   "nbconvert_exporter": "python",
   "pygments_lexer": "ipython3",
   "version": "3.11.8"
  },
  "orig_nbformat": 4
 },
 "nbformat": 4,
 "nbformat_minor": 2
}
