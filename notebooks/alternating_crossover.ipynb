{
 "cells": [
  {
   "cell_type": "code",
   "execution_count": 1,
   "metadata": {},
   "outputs": [],
   "source": [
    "import votekit.ballot_generator as bg"
   ]
  },
  {
   "cell_type": "code",
   "execution_count": 2,
   "metadata": {},
   "outputs": [
    {
     "name": "stdout",
     "output_type": "stream",
     "text": [
      "  Ballots  Weight\n",
      "(A, B, C)     179\n",
      "(C, B, A)     178\n",
      "(B, C, A)     173\n",
      "(C, A, B)     162\n",
      "(A, C, B)     161\n",
      "(B, A, C)     147\n"
     ]
    }
   ],
   "source": [
    "bs_inf = bg.BallotSimplex(candidates= [\"A\", \"B\", \"C\"], alpha = float(\"inf\"))\n",
    "\n",
    "pp = bs_inf.generate_profile(1000)\n",
    "print(pp)\n"
   ]
  },
  {
   "cell_type": "code",
   "execution_count": 3,
   "metadata": {},
   "outputs": [
    {
     "name": "stdout",
     "output_type": "stream",
     "text": [
      "  Ballots  Weight\n",
      "(C, A, B)    1000\n"
     ]
    }
   ],
   "source": [
    "bs_inf = bg.BallotSimplex(candidates= [\"A\", \"B\", \"C\"], alpha = 0)\n",
    "\n",
    "pp = bs_inf.generate_profile(1000)\n",
    "print(pp)\n"
   ]
  },
  {
   "cell_type": "code",
   "execution_count": 4,
   "metadata": {},
   "outputs": [],
   "source": [
    "candidates = [\"Q1\", \"Q2\", \"R1\", \"R2\"]\n",
    "\n",
    "pref_interval_by_bloc = {\"Q\": {\"Q1\":.3, \"Q2\":.2, \"R1\":.3, \"R2\":.2},\n",
    "                          \"R\": {\"Q1\":.3, \"Q2\":.2, \"R1\":.3, \"R2\":.2}}\n",
    "\n",
    "bloc_voter_prop = {\"Q\": .7, \"R\": .3}\n",
    "slate_to_candidates = {\"Q\": [\"Q1\", \"Q2\"],\n",
    "                       \"R\": [\"R1\", \"R2\"]}\n",
    "cohesion_parameters = {\"Q\": .9, \"R\": .7}\n",
    "\n",
    "ac = bg.AlternatingCrossover(candidates = candidates,\n",
    "                             pref_interval_by_bloc =pref_interval_by_bloc,\n",
    "                             bloc_voter_prop = bloc_voter_prop,\n",
    "                             slate_to_candidates = slate_to_candidates,\n",
    "                             cohesion_parameters = cohesion_parameters)"
   ]
  },
  {
   "cell_type": "code",
   "execution_count": 5,
   "metadata": {},
   "outputs": [
    {
     "name": "stdout",
     "output_type": "stream",
     "text": [
      "{('Q', 'bloc'): 63, ('Q', 'cross'): 7, ('R', 'bloc'): 21, ('R', 'cross'): 9}\n"
     ]
    },
    {
     "data": {
      "text/plain": [
       "         Ballots  Weight\n",
       "(Q2, Q1, R2, R1)      20\n",
       "(Q2, Q1, R1, R2)      17\n",
       "(Q1, Q2, R2, R1)      13\n",
       "(Q1, Q2, R1, R2)      13\n",
       "(R1, R2, Q2, Q1)       9\n",
       "(R1, R2, Q1, Q2)       5\n",
       "(R2, Q1, R1, Q2)       4\n",
       "(Q1, R1, Q2, R2)       4\n",
       "(R2, R1, Q2, Q1)       4\n",
       "(Q1, R2, Q2, R1)       3\n",
       "(R2, R1, Q1, Q2)       3\n",
       "(R1, Q2, R2, Q1)       2\n",
       "(Q2, R2, Q1, R1)       2\n",
       "(R2, Q2, R1, Q1)       1"
      ]
     },
     "execution_count": 5,
     "metadata": {},
     "output_type": "execute_result"
    }
   ],
   "source": [
    "ac.generate_profile(100)"
   ]
  },
  {
   "cell_type": "code",
   "execution_count": 6,
   "metadata": {},
   "outputs": [
    {
     "name": "stdout",
     "output_type": "stream",
     "text": [
      "{('Q', 'bloc'): 63, ('Q', 'cross'): 7, ('R', 'bloc'): 21, ('R', 'cross'): 9}\n"
     ]
    },
    {
     "data": {
      "text/plain": [
       "     Ballots  Weight\n",
       "(Q1, Q2, R1)      35\n",
       "(Q2, Q1, R1)      28\n",
       "(R1, Q1, Q2)      14\n",
       "(R1, Q2, Q1)       7\n",
       "    (R1, Q1)       5\n",
       "    (Q2, R1)       5\n",
       "    (Q1, R1)       4\n",
       "    (R1, Q2)       2"
      ]
     },
     "execution_count": 6,
     "metadata": {},
     "output_type": "execute_result"
    }
   ],
   "source": [
    "candidates = [\"Q1\", \"Q2\", \"R1\", \"R2\"]\n",
    "\n",
    "pref_interval_by_bloc = {\"Q\": {\"Q1\":.3, \"Q2\":.2, \"R1\":.3},\n",
    "                          \"R\": {\"Q1\":.3, \"Q2\":.2, \"R1\":.3}}\n",
    "\n",
    "bloc_voter_prop = {\"Q\": .7, \"R\": .3}\n",
    "slate_to_candidates = {\"Q\": [\"Q1\", \"Q2\"],\n",
    "                       \"R\": [\"R1\"]}\n",
    "cohesion_parameters = {\"Q\": .9, \"R\": .7}\n",
    "\n",
    "ac = bg.AlternatingCrossover(candidates = candidates,\n",
    "                             pref_interval_by_bloc =pref_interval_by_bloc,\n",
    "                             bloc_voter_prop = bloc_voter_prop,\n",
    "                             slate_to_candidates = slate_to_candidates,\n",
    "                             cohesion_parameters = cohesion_parameters)\n",
    "\n",
    "ac.generate_profile(100)"
   ]
  },
  {
   "cell_type": "code",
   "execution_count": null,
   "metadata": {},
   "outputs": [],
   "source": []
  }
 ],
 "metadata": {
  "kernelspec": {
   "display_name": "votekit",
   "language": "python",
   "name": "votekit"
  },
  "language_info": {
   "codemirror_mode": {
    "name": "ipython",
    "version": 3
   },
   "file_extension": ".py",
   "mimetype": "text/x-python",
   "name": "python",
   "nbconvert_exporter": "python",
   "pygments_lexer": "ipython3",
   "version": "3.11.5"
  }
 },
 "nbformat": 4,
 "nbformat_minor": 2
}
