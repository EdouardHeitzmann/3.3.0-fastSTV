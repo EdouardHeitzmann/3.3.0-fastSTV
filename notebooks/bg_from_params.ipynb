{
 "cells": [
  {
   "cell_type": "markdown",
   "metadata": {},
   "source": [
    "# Ballots from Parameters\n",
    "\n",
    "In the VoteKit world of ballot generating, there are usually 4 parameters that need to be chosen.\n",
    "- Bloc proportions\n",
    "- Cohesion parameters\n",
    "- Preference intervals\n",
    "- Candidates per bloc\n",
    "\n",
    "Instead of choosing a preference interval, VoteKit also makes it possible to generate a preference interval using the Dirichlet distribution.\n",
    "The Dirichlet distribution samples a point from a simplex, in this case the candidate simplex. For three candidates, the candidate simplex is a triangle, where each corner represents a candidate. A point in the triangle is a vector of length 3 whose entries are non-negative and sum to 1 (exactly what a preference interval is!). A point that is close to a vertex is a preference interval with high support for one candidate. A point near the center of the triangle is a preference interval with near equal support for all three.\n",
    "\n",
    "The Dirichlet distribution is parameterized by a parameter $\\alpha \\in (0,\\infty)$.  As $\\alpha\\to\\infty$, the distribution's mass moves towards the center of the simplex, so we get preference intervals that have more equal support for all candidates. As $\\alpha\\to 0$, the distribution's mass moves towards the corners, so we get preference intervals that have strong support for one candidate. When $\\alpha=1$, all bets are off and could produce any preference interval.\n",
    "\n",
    "By using the Dirichlet distribution instead of a fixed preference interval, you can study how the behavior of voters impacts elections.\n",
    "- What happens in STV elections when voters have a strong preference for one candidate? A diffuse preference for all?\n",
    "\n",
    "Let's see an example of how to construct ballots using the Dirichlet parameters.\n",
    "\n"
   ]
  },
  {
   "cell_type": "code",
   "execution_count": 1,
   "metadata": {},
   "outputs": [],
   "source": [
    "import votekit.ballot_generator as bg"
   ]
  },
  {
   "cell_type": "code",
   "execution_count": 2,
   "metadata": {},
   "outputs": [],
   "source": [
    "# the slate-Plackett-Luce model\n",
    "\n",
    "bloc_proportions = {\"A\": .8, \"B\": .2}\n",
    "cohesion_parameters = {\"A\":{\"A\": .9, \"B\":.1},\n",
    "                       \"B\":{ \"B\": .9, \"A\":.1}}\n",
    "dirichlet_alphas = {\"A\": {\"A\":1, \"B\":1},\n",
    "                    \"B\": {\"A\":1, \"B\":1}}\n",
    "\n",
    "slate_to_candidates = {\"A\": [\"A1\", \"A2\"],\n",
    "                        \"B\": [\"B1\", \"B2\"]}"
   ]
  },
  {
   "cell_type": "markdown",
   "metadata": {},
   "source": [
    "We need four different Dirichlet parameter's; $\\alpha_{AA}$ generates the $A$ voters preference interval for $A$ candidates and $\\alpha_{AB}$ generates the $A$ voters preference interval for $B$ candidates. Likewise for the $B$ voters.\n",
    "\n",
    "Also notice that we need a bit more information in this case than if we gave the PL model a preference interval; we must specify the cohesion parameters and which candidates are in which bloc."
   ]
  },
  {
   "cell_type": "code",
   "execution_count": 3,
   "metadata": {},
   "outputs": [
    {
     "name": "stdout",
     "output_type": "stream",
     "text": [
      "PreferenceProfile too long, only showing 15 out of 34 rows.\n",
      "         Ballots Weight\n",
      "(A1, A2, B2, B1)    298\n",
      "(A2, A1, B2, B1)    222\n",
      "(B1, B2, A2, A1)    136\n",
      "(A1, A2, B1, B2)     72\n",
      "(A2, A1, B1, B2)     42\n",
      "(B2, A1, A2, B1)     30\n",
      "(A1, B2, A2, B1)     30\n",
      "(B2, A2, A1, B1)     27\n",
      "(A2, B2, A1, B1)     18\n",
      "(B1, A2, B2, A1)     18\n",
      "(B1, B2, A1, A2)     16\n",
      "(B1, A1, A2, B2)     14\n",
      "(A2, B1, B2, A1)     13\n",
      "(B2, B1, A2, A1)     11\n",
      "(B2, A2, B1, A1)      8\n"
     ]
    }
   ],
   "source": [
    "pl = bg.slate_PlackettLuce.from_params(slate_to_candidates=slate_to_candidates,\n",
    "                                 bloc_voter_prop=bloc_proportions,\n",
    "                                 cohesion_parameters=cohesion_parameters,\n",
    "                                 alphas=dirichlet_alphas)\n",
    "\n",
    "profile = pl.generate_profile(number_of_ballots=1000)\n",
    "print(profile)"
   ]
  },
  {
   "cell_type": "markdown",
   "metadata": {},
   "source": [
    "We can see what preference intervals were generated. Check for understanding; are these intervals what you would expect given the choices of parameter above?"
   ]
  },
  {
   "cell_type": "code",
   "execution_count": 4,
   "metadata": {},
   "outputs": [
    {
     "data": {
      "text/plain": [
       "{'A': {'A': {'A1': 0.586, 'A2': 0.414}, 'B': {'B1': 0.1574, 'B2': 0.8426}},\n",
       " 'B': {'A': {'A1': 0.0915, 'A2': 0.9085}, 'B': {'B1': 0.9184, 'B2': 0.0816}}}"
      ]
     },
     "execution_count": 4,
     "metadata": {},
     "output_type": "execute_result"
    }
   ],
   "source": [
    "pl.pref_intervals_by_bloc"
   ]
  },
  {
   "cell_type": "markdown",
   "metadata": {},
   "source": [
    "Let's fiddle with the Dirichlet parameter's to see how they impact things. By lowering $\\alpha_{AB}$, we expect to see that $A$ voters have a strong preference for a particular $B$ candidate. By raising $\\alpha_{BB}$, we expect $B$ voters to have relatively uniform preferences for $B$ candidates."
   ]
  },
  {
   "cell_type": "code",
   "execution_count": 7,
   "metadata": {},
   "outputs": [
    {
     "name": "stdout",
     "output_type": "stream",
     "text": [
      "A preference interval {'A': {'A1': 0.3228, 'A2': 0.6772}, 'B': {'B1': 0.0702, 'B2': 0.9298}}\n",
      "B preference interval {'A': {'A1': 0.5083, 'A2': 0.4917}, 'B': {'B1': 0.4888, 'B2': 0.5112}} \n",
      "\n",
      "A ballots\n",
      " PreferenceProfile too long, only showing 15 out of 19 rows.\n",
      "         Ballots Weight\n",
      "(A2, A1, B2, B1)    419\n",
      "(A1, A2, B2, B1)    206\n",
      "(A2, B2, A1, B1)     35\n",
      "(B2, A2, A1, B1)     34\n",
      "(A1, A2, B1, B2)     20\n",
      "(A1, B2, A2, B1)     19\n",
      "(A2, A1, B1, B2)     16\n",
      "(B2, A1, A2, B1)     15\n",
      "(B2, B1, A2, A1)      6\n",
      "(A2, B1, A1, B2)      6\n",
      "(B2, A2, B1, A1)      5\n",
      "(B2, A1, B1, A2)      5\n",
      "(B2, B1, A1, A2)      3\n",
      "(B1, A2, A1, B2)      3\n",
      "(A1, B1, A2, B2)      2\n",
      "\n",
      "B ballots\n",
      " PreferenceProfile too long, only showing 15 out of 16 rows.\n",
      "         Ballots Weight\n",
      "(B2, B1, A1, A2)     46\n",
      "(B2, B1, A2, A1)     42\n",
      "(B1, B2, A1, A2)     40\n",
      "(B1, B2, A2, A1)     37\n",
      "(B2, A1, B1, A2)      8\n",
      "(A2, B1, B2, A1)      6\n",
      "(A1, B1, B2, A2)      4\n",
      "(A1, B2, B1, A2)      4\n",
      "(A2, B2, B1, A1)      3\n",
      "(B1, A2, B2, A1)      3\n",
      "(B2, A2, B1, A1)      2\n",
      "(A2, B2, A1, B1)      1\n",
      "(A1, A2, B1, B2)      1\n",
      "(B1, A2, A1, B2)      1\n",
      "(A2, A1, B2, B1)      1\n"
     ]
    }
   ],
   "source": [
    "# the slate-Plackett-Luce model\n",
    "\n",
    "bloc_proportions = {\"A\": .8, \"B\": .2}\n",
    "cohesion_parameters = {\"A\":{\"A\": .9, \"B\":.1},\n",
    "                       \"B\":{ \"B\": .9, \"A\":.1}}\n",
    "dirichlet_alphas = {\"A\": {\"A\":1, \"B\":.1},\n",
    "                    \"B\": {\"A\":1, \"B\":1000}}\n",
    "\n",
    "slate_to_candidates = {\"A\": [\"A1\", \"A2\"],\n",
    "                        \"B\": [\"B1\", \"B2\"]}\n",
    "\n",
    "pl = bg.slate_PlackettLuce.from_params(slate_to_candidates=slate_to_candidates,\n",
    "                                 bloc_voter_prop=bloc_proportions,\n",
    "                                 cohesion_parameters=cohesion_parameters,\n",
    "                                 alphas=dirichlet_alphas)\n",
    "\n",
    "print(\"A preference interval\", pl.pref_intervals_by_bloc[\"A\"])\n",
    "print(\"B preference interval\", pl.pref_intervals_by_bloc[\"B\"], \"\\n\")\n",
    "\n",
    "profile_dict, pp = pl.generate_profile(number_of_ballots=1000, by_bloc=True)\n",
    "print(\"A ballots\\n\", profile_dict[\"A\"])\n",
    "print()\n",
    "print(\"B ballots\\n\", profile_dict[\"B\"])"
   ]
  },
  {
   "cell_type": "markdown",
   "metadata": {},
   "source": [
    "Check for understanding; are the intervals and ballots what you'd expect?"
   ]
  },
  {
   "cell_type": "markdown",
   "metadata": {},
   "source": [
    "Any of our other ballot generating models that rely on preference intervals can be generated from the Dirichlet distribution in a similar way."
   ]
  }
 ],
 "metadata": {
  "kernelspec": {
   "display_name": "votekit",
   "language": "python",
   "name": "votekit"
  },
  "language_info": {
   "codemirror_mode": {
    "name": "ipython",
    "version": 3
   },
   "file_extension": ".py",
   "mimetype": "text/x-python",
   "name": "python",
   "nbconvert_exporter": "python",
   "pygments_lexer": "ipython3",
   "version": "3.11.5"
  }
 },
 "nbformat": 4,
 "nbformat_minor": 2
}
