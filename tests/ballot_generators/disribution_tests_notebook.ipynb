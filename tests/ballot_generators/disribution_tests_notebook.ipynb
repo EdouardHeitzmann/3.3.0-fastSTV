{
 "cells": [
  {
   "cell_type": "code",
   "execution_count": 1,
   "id": "542e66b4-9bc6-4b9a-a407-3f873ebdbc20",
   "metadata": {},
   "outputs": [],
   "source": [
    "import sys\n",
    "import os\n",
    "\n",
    "# Add the repo root to sys.path\n",
    "repo_path = os.path.abspath(os.path.join(os.getcwd(), '../..'))  # adjust as needed\n",
    "if repo_path not in sys.path:\n",
    "    sys.path.insert(0, repo_path)\n",
    "\n",
    "from src.votekit.ballot_generator import name_BradleyTerry \n",
    "from src.votekit.pref_interval import PreferenceInterval\n",
    "from src.votekit.pref_profile import PreferenceProfile\n",
    "import matplotlib.pyplot as plt\n",
    "from tqdm import tqdm\n",
    "import numpy as np"
   ]
  },
  {
   "cell_type": "code",
   "execution_count": 5,
   "id": "5a8cdbee-4d01-4cca-80f6-8b469e237844",
   "metadata": {},
   "outputs": [],
   "source": [
    "def generate_BT_args(n_cands, alpha=1):\n",
    "    '''\n",
    "        generates arguments for name_BradleyTerry with n_cands,\n",
    "        generates single slate and single bloc, \n",
    "    '''\n",
    "    # num cands goes up to 26\n",
    "    cands = [chr(ord('a')+i) for i in range(n_cands)]\n",
    "    bloc_name = \"H\"\n",
    "    pref_interval = PreferenceInterval.from_dirichlet(candidates=cands, alpha=alpha)\n",
    "    pref_intervals_by_bloc = {\n",
    "        bloc_name: {\n",
    "            bloc_name : pref_interval\n",
    "        }\n",
    "    }\n",
    "    bloc_voter_prop = {bloc_name: 1}\n",
    "    cohesion_paramteters = {\n",
    "        bloc_name: {\n",
    "            bloc_name: 1\n",
    "        }\n",
    "    }\n",
    "    \n",
    "    return {\n",
    "        \"candidates\": cands,\n",
    "        \"pref_intervals_by_bloc\": pref_intervals_by_bloc,\n",
    "        \"bloc_voter_prop\" : bloc_voter_prop,\n",
    "        \"cohesion_parameters\": cohesion_paramteters\n",
    "    }"
   ]
  },
  {
   "cell_type": "code",
   "execution_count": 3,
   "id": "432a4481-7b1a-444f-9282-882a33554025",
   "metadata": {},
   "outputs": [
    {
     "name": "stdout",
     "output_type": "stream",
     "text": [
      "The number of ballots before is 100000\n",
      "The number of ballots after is 350\n",
      "The number of ballots before is 100000\n",
      "The number of ballots after is 150\n",
      "The number of ballots before is 100000\n",
      "The number of ballots after is 70000\n",
      "The number of ballots before is 100000\n",
      "The number of ballots after is 30000\n"
     ]
    },
    {
     "ename": "ValueError",
     "evalue": "The number of ballots to be sampled is more than the chain length; supply a greater chain length.",
     "output_type": "error",
     "traceback": [
      "\u001b[0;31m---------------------------------------------------------------------------\u001b[0m",
      "\u001b[0;31mValueError\u001b[0m                                Traceback (most recent call last)",
      "Cell \u001b[0;32mIn[3], line 39\u001b[0m\n\u001b[1;32m     36\u001b[0m \u001b[38;5;28;01massert\u001b[39;00m generated_profile\u001b[38;5;241m.\u001b[39mtotal_ballot_wt \u001b[38;5;241m==\u001b[39m number_of_ballots\n\u001b[1;32m     38\u001b[0m number_of_ballots \u001b[38;5;241m=\u001b[39m \u001b[38;5;241m100001\u001b[39m\n\u001b[0;32m---> 39\u001b[0m generated_profile \u001b[38;5;241m=\u001b[39m \u001b[43mbt\u001b[49m\u001b[38;5;241;43m.\u001b[39;49m\u001b[43mgenerate_profile_MCMC_even_subsample\u001b[49m\u001b[43m(\u001b[49m\u001b[43mnumber_of_ballots\u001b[49m\u001b[38;5;241;43m=\u001b[39;49m\u001b[43mnumber_of_ballots\u001b[49m\u001b[43m,\u001b[49m\u001b[43m \u001b[49m\u001b[43mchain_length\u001b[49m\u001b[38;5;241;43m=\u001b[39;49m\u001b[38;5;241;43m100\u001b[39;49m\u001b[43m)\u001b[49m\n\u001b[1;32m     40\u001b[0m \u001b[38;5;28;01massert\u001b[39;00m generated_profile\u001b[38;5;241m.\u001b[39mtotal_ballot_wt \u001b[38;5;241m==\u001b[39m number_of_ballots\n\u001b[1;32m     43\u001b[0m \u001b[38;5;66;03m# Length of ballot should be number_of_ballots, not chain length\u001b[39;00m\n\u001b[1;32m     44\u001b[0m \n\u001b[1;32m     45\u001b[0m \u001b[38;5;66;03m# chain length < number_of_ballots --> resorts to number_of_ballots\u001b[39;00m\n\u001b[0;32m   (...)\u001b[0m\n\u001b[1;32m     48\u001b[0m \n\u001b[1;32m     49\u001b[0m \u001b[38;5;66;03m# Acceptance ratio should be roughly be between two values\u001b[39;00m\n",
      "File \u001b[0;32m~/Documents/Research/votekit_bt/VoteKit/src/votekit/ballot_generator.py:2035\u001b[0m, in \u001b[0;36mname_BradleyTerry.generate_profile_MCMC_even_subsample\u001b[0;34m(self, number_of_ballots, chain_length, verbose, by_bloc, on_shortcut_graph, BURN_IN_TIME)\u001b[0m\n\u001b[1;32m   2013\u001b[0m     seed_ballot \u001b[38;5;241m=\u001b[39m Ballot(\n\u001b[1;32m   2014\u001b[0m         ranking\u001b[38;5;241m=\u001b[39m\u001b[38;5;28mtuple\u001b[39m([\u001b[38;5;28mfrozenset\u001b[39m({c}) \u001b[38;5;28;01mfor\u001b[39;00m c \u001b[38;5;129;01min\u001b[39;00m non_zero_cands])\n\u001b[1;32m   2015\u001b[0m     )\n\u001b[1;32m   2016\u001b[0m     \u001b[38;5;66;03m# if on_shortcut_graph:\u001b[39;00m\n\u001b[1;32m   2017\u001b[0m     \u001b[38;5;66;03m#     pp = self._BT_mcmc_shortcut(\u001b[39;00m\n\u001b[1;32m   2018\u001b[0m     \u001b[38;5;66;03m#         num_ballots,\u001b[39;00m\n\u001b[0;32m   (...)\u001b[0m\n\u001b[1;32m   2033\u001b[0m     \u001b[38;5;66;03m#         BURN_IN_TIME=BURN_IN_TIME\u001b[39;00m\n\u001b[1;32m   2034\u001b[0m     \u001b[38;5;66;03m#     )\u001b[39;00m\n\u001b[0;32m-> 2035\u001b[0m     pp \u001b[38;5;241m=\u001b[39m \u001b[38;5;28;43mself\u001b[39;49m\u001b[38;5;241;43m.\u001b[39;49m\u001b[43m_BT_mcmc_even_subsample\u001b[49m\u001b[43m(\u001b[49m\n\u001b[1;32m   2036\u001b[0m \u001b[43m        \u001b[49m\u001b[43mnum_ballots\u001b[49m\u001b[43m,\u001b[49m\n\u001b[1;32m   2037\u001b[0m \u001b[43m        \u001b[49m\u001b[43mpref_interval_dict\u001b[49m\u001b[43m,\u001b[49m\n\u001b[1;32m   2038\u001b[0m \u001b[43m        \u001b[49m\u001b[43mseed_ballot\u001b[49m\u001b[43m,\u001b[49m\n\u001b[1;32m   2039\u001b[0m \u001b[43m        \u001b[49m\u001b[43mzero_cands\u001b[49m\u001b[38;5;241;43m=\u001b[39;49m\u001b[43mzero_cands\u001b[49m\u001b[43m,\u001b[49m\n\u001b[1;32m   2040\u001b[0m \u001b[43m        \u001b[49m\u001b[43mverbose\u001b[49m\u001b[38;5;241;43m=\u001b[39;49m\u001b[43mverbose\u001b[49m\u001b[43m,\u001b[49m\n\u001b[1;32m   2041\u001b[0m \u001b[43m        \u001b[49m\u001b[43mBURN_IN_TIME\u001b[49m\u001b[38;5;241;43m=\u001b[39;49m\u001b[43mBURN_IN_TIME\u001b[49m\u001b[43m,\u001b[49m\n\u001b[1;32m   2042\u001b[0m \u001b[43m        \u001b[49m\u001b[43mchain_length\u001b[49m\u001b[38;5;241;43m=\u001b[39;49m\u001b[43mchain_length\u001b[49m\n\u001b[1;32m   2043\u001b[0m \u001b[43m    \u001b[49m\u001b[43m)\u001b[49m\n\u001b[1;32m   2045\u001b[0m     pp_by_bloc[bloc] \u001b[38;5;241m=\u001b[39m pp\n\u001b[1;32m   2047\u001b[0m \u001b[38;5;66;03m# combine the profiles\u001b[39;00m\n",
      "File \u001b[0;32m~/Documents/Research/votekit_bt/VoteKit/src/votekit/ballot_generator.py:1904\u001b[0m, in \u001b[0;36mname_BradleyTerry._BT_mcmc_even_subsample\u001b[0;34m(self, num_ballots, pref_interval, seed_ballot, zero_cands, verbose, BURN_IN_TIME, chain_length)\u001b[0m\n\u001b[1;32m   1901\u001b[0m     \u001b[38;5;28mprint\u001b[39m(\u001b[38;5;124m\"\u001b[39m\u001b[38;5;124mMCMC on non-shortcut graph\u001b[39m\u001b[38;5;124m\"\u001b[39m)\n\u001b[1;32m   1903\u001b[0m \u001b[38;5;28;01mif\u001b[39;00m chain_length \u001b[38;5;241m<\u001b[39m num_ballots:\n\u001b[0;32m-> 1904\u001b[0m     \u001b[38;5;28;01mraise\u001b[39;00m \u001b[38;5;167;01mValueError\u001b[39;00m(\u001b[38;5;124m\"\u001b[39m\u001b[38;5;124mThe number of ballots to be sampled is more than the chain length; supply a greater chain length.\u001b[39m\u001b[38;5;124m\"\u001b[39m\n\u001b[1;32m   1905\u001b[0m                      )\n\u001b[1;32m   1906\u001b[0m \u001b[38;5;66;03m# presample swap indices\u001b[39;00m\n\u001b[1;32m   1907\u001b[0m BURN_IN_TIME \u001b[38;5;241m=\u001b[39m BURN_IN_TIME \u001b[38;5;66;03m#int(10e5)\u001b[39;00m\n",
      "\u001b[0;31mValueError\u001b[0m: The number of ballots to be sampled is more than the chain length; supply a greater chain length."
     ]
    }
   ],
   "source": [
    "# Set-up\n",
    "number_of_ballots = 500\n",
    "chain_length = 10000\n",
    "\n",
    "candidates = [\"W1\", \"W2\", \"C1\", \"C2\"]\n",
    "pref_intervals_by_bloc = {\n",
    "    \"W\": {\n",
    "        \"W\": PreferenceInterval({\"W1\": 0.4, \"W2\": 0.3}),\n",
    "        \"C\": PreferenceInterval({\"C1\": 0.2, \"C2\": 0.1}),\n",
    "    },\n",
    "    \"C\": {\n",
    "        \"C\": PreferenceInterval({\"C1\": 0.3, \"C2\": 0.3}),\n",
    "        \"W\": PreferenceInterval({\"W1\": 0.2, \"W2\": 0.2}),\n",
    "    },\n",
    "}\n",
    "bloc_voter_prop = {\"W\": 0.7, \"C\": 0.3}\n",
    "cohesion_parameters = {\"W\": {\"W\": 0.7, \"C\": 0.3}, \"C\": {\"C\": 0.6, \"W\": 0.4}}\n",
    "bloc_voter_prop = {\"W\": 0.7, \"C\": 0.3}\n",
    "\n",
    "# Generate ballots\n",
    "bt = name_BradleyTerry(\n",
    "    candidates=candidates,\n",
    "    pref_intervals_by_bloc=pref_intervals_by_bloc,\n",
    "    bloc_voter_prop=bloc_voter_prop,\n",
    "    cohesion_parameters=cohesion_parameters,\n",
    ")\n",
    "\n",
    "# Even if you don't specify the length, you should have a well behaved object\n",
    "\n",
    "# Three cases \n",
    "generated_profile = bt.generate_profile_MCMC_even_subsample(number_of_ballots=number_of_ballots)\n",
    "assert generated_profile.total_ballot_wt == number_of_ballots\n",
    "\n",
    "number_of_ballots = 100000\n",
    "generated_profile = bt.generate_profile_MCMC_even_subsample(number_of_ballots=number_of_ballots)\n",
    "assert generated_profile.total_ballot_wt == number_of_ballots\n",
    "\n",
    "number_of_ballots = 100001\n",
    "generated_profile = bt.generate_profile_MCMC_even_subsample(number_of_ballots=number_of_ballots, chain_length=100)\n",
    "assert generated_profile.total_ballot_wt == number_of_ballots\n",
    "\n",
    "\n",
    "# Length of ballot should be number_of_ballots, not chain length\n",
    "\n",
    "# chain length < number_of_ballots --> resorts to number_of_ballots\n",
    "\n",
    "# Continuous sampling should do worse than spaced out subsampling w.h.p. \n",
    "\n",
    "# Acceptance ratio should be roughly be between two values"
   ]
  },
  {
   "cell_type": "code",
   "execution_count": 4,
   "id": "a7ff5704-2a40-4743-9db0-9040f50cbcae",
   "metadata": {},
   "outputs": [],
   "source": [
    "def total_variation_distance(P, Q, labels):\n",
    "    sum = 0 \n",
    "    for x in labels:\n",
    "        sum += abs(P[x] - Q[x])\n",
    "    return (1/2)*sum"
   ]
  },
  {
   "cell_type": "code",
   "execution_count": null,
   "id": "53086362-6ef4-4190-9fc9-5170724c4e3f",
   "metadata": {},
   "outputs": [],
   "source": [
    "generated_profile.total_ballot_wt"
   ]
  },
  {
   "cell_type": "code",
   "execution_count": 16,
   "id": "f8f5803e-647e-4d17-be97-4ad177c1de04",
   "metadata": {},
   "outputs": [],
   "source": [
    "assert generated_profile.total_ballot_wt == number_of_ballots"
   ]
  }
 ],
 "metadata": {
  "kernelspec": {
   "display_name": "Python 3 (ipykernel)",
   "language": "python",
   "name": "python3"
  },
  "language_info": {
   "codemirror_mode": {
    "name": "ipython",
    "version": 3
   },
   "file_extension": ".py",
   "mimetype": "text/x-python",
   "name": "python",
   "nbconvert_exporter": "python",
   "pygments_lexer": "ipython3",
   "version": "3.12.5"
  }
 },
 "nbformat": 4,
 "nbformat_minor": 5
}
