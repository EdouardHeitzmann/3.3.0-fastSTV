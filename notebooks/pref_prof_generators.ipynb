{
 "cells": [
  {
   "cell_type": "markdown",
   "metadata": {},
   "source": [
    "# Generating `PreferenceProfiles`\n",
    "We have already seen the use of a  `PreferenceProfile` generator (the Impartial Culture Model) in the Plotting and Ballot Graph tutorials. Now, let's dive into the rest that are included in `votekit`:\n",
    "- Impartial Culture\n",
    "- Impartial Anonymous Culture\n",
    "- Plackett Luce\n",
    "- Bradley Terry\n",
    "- Alternating Crossover\n",
    "- OneDimSpatial\n",
    "- Cambridge Sampler"
   ]
  },
  {
   "cell_type": "code",
   "execution_count": 7,
   "metadata": {},
   "outputs": [],
   "source": [
    "import votekit.ballot_generator as bg\n",
    "from votekit.plots.profile_plots import plot_summary_stats"
   ]
  },
  {
   "cell_type": "markdown",
   "metadata": {},
   "source": [
    "The three simplest to use are the Impartial Culture, Impartial Anonymous Culture, and 1-D spatial models. For $m$ candidates and $n$ voters, the Impartial Culture model generates `PreferenceProfiles` uniformly at random out of the $(m!)^n$ possible profiles. Remember, a `PreferenceProfile` is a tuple of length $n$ that stores a linear ranking in each slot.\n",
    "\n",
    "The Impartial Anonymous Culture model does the same thing, but treats profiles that are the same up to permutation of the voters as identical. That is, the profile $(A>B, B>A)$ is now identical to $(B>A, A>B)$. It's like the IAC model treats profiles as sets, rather than tuples. "
   ]
  },
  {
   "cell_type": "code",
   "execution_count": 18,
   "metadata": {},
   "outputs": [],
   "source": [
    "candidates = [\"A\", \"B\", \"C\"]\n",
    "number_of_ballots = 50\n",
    "#Impartial Culture\n",
    "ic = bg.ImpartialCulture(candidates = candidates)\n",
    "ic_profile = ic.generate_profile(number_of_ballots)\n",
    "\n",
    "#Impartial Anonymous Culture\n",
    "iac = bg.ImpartialAnonymousCulture(candidates = candidates)\n",
    "iac_profile = iac.generate_profile(number_of_ballots)\n"
   ]
  },
  {
   "cell_type": "markdown",
   "metadata": {},
   "source": [
    "The 1-D Spatial model assigns each candidate a random point on the real line according to the standard normal distribution. It then does the same for each voter, and then a voter ranks candidates by their distance from the voter."
   ]
  },
  {
   "cell_type": "code",
   "execution_count": 17,
   "metadata": {},
   "outputs": [],
   "source": [
    "one_d = bg.OneDimSpatial(candidates = candidates)\n",
    "one_d_profile = one_d.generate_profile(number_of_ballots)"
   ]
  },
  {
   "cell_type": "markdown",
   "metadata": {},
   "source": [
    "To use the other models, we need a bit more information than just the candidates. Suppose there are two blocs (or groups) of voters, $Q$ and $R$. The $Q$ bloc is estimated to be about 70% of the voting population, while the $R$ block is about 30%. Within each bloc there is preference for different candidates, which we record in the variable `pref_interval_by_bloc`. \n",
    "\n",
    "In this example, suppose each bloc has two candidates running, but there is some crossover in which some voters from bloc $Q$ actually prefer the candidates from bloc $R$. The $R$ bloc, being much more insular, does not prefer either of $Q$s candidates."
   ]
  },
  {
   "cell_type": "code",
   "execution_count": 19,
   "metadata": {},
   "outputs": [],
   "source": [
    "candidates = [\"Q1\", \"Q2\", \"R1\", \"R2\"]\n",
    "\n",
    "# presumably tells me the percent of the population in each bloc\n",
    "bloc_voter_prop = {\"Q\": 0.7, \"R\": 0.3}\n",
    "\n",
    "# within each block, who prefers which candidate\n",
    "pref_interval_by_bloc = {\n",
    "    \"Q\": {\"Q1\": 0.4, \"Q2\": 0.3, \"R1\": 0.2, \"R2\": 0.1},\n",
    "    \"R\": {\"Q1\": 0, \"Q2\": 0, \"R1\": 0.4, \"R2\": 0.6}\n",
    "}"
   ]
  },
  {
   "cell_type": "markdown",
   "metadata": {},
   "source": [
    "For both the Plackett-Luce and Bradley-Terry model, this is now all the information they need to generate profiles.\n",
    "\n",
    "For each voter, the Plackett-Luce model samples from the list of candidates without replacement according to the distribution defined by that voter's bloc in `pref_interval_by_bloc`.\n",
    "\n",
    "# HOW DO THEY WORK"
   ]
  },
  {
   "cell_type": "code",
   "execution_count": 20,
   "metadata": {},
   "outputs": [
    {
     "ename": "ValueError",
     "evalue": "Fewer non-zero entries in p than size",
     "output_type": "error",
     "traceback": [
      "\u001b[0;31m---------------------------------------------------------------------------\u001b[0m",
      "\u001b[0;31mValueError\u001b[0m                                Traceback (most recent call last)",
      "\u001b[1;32m/Users/cdonnay/PycharmProjects/VoteKit/notebooks/pref_prof_generators.ipynb Cell 10\u001b[0m line \u001b[0;36m6\n\u001b[1;32m      <a href='vscode-notebook-cell:/Users/cdonnay/PycharmProjects/VoteKit/notebooks/pref_prof_generators.ipynb#X12sZmlsZQ%3D%3D?line=0'>1</a>\u001b[0m \u001b[39m# Plackett-Luce\u001b[39;00m\n\u001b[1;32m      <a href='vscode-notebook-cell:/Users/cdonnay/PycharmProjects/VoteKit/notebooks/pref_prof_generators.ipynb#X12sZmlsZQ%3D%3D?line=1'>2</a>\u001b[0m pl \u001b[39m=\u001b[39m bg\u001b[39m.\u001b[39mPlackettLuce(pref_interval_by_bloc\u001b[39m=\u001b[39mpref_interval_by_bloc,\n\u001b[1;32m      <a href='vscode-notebook-cell:/Users/cdonnay/PycharmProjects/VoteKit/notebooks/pref_prof_generators.ipynb#X12sZmlsZQ%3D%3D?line=2'>3</a>\u001b[0m                      bloc_voter_prop\u001b[39m=\u001b[39mbloc_voter_prop, \n\u001b[1;32m      <a href='vscode-notebook-cell:/Users/cdonnay/PycharmProjects/VoteKit/notebooks/pref_prof_generators.ipynb#X12sZmlsZQ%3D%3D?line=3'>4</a>\u001b[0m                      candidates\u001b[39m=\u001b[39mcandidates)\n\u001b[0;32m----> <a href='vscode-notebook-cell:/Users/cdonnay/PycharmProjects/VoteKit/notebooks/pref_prof_generators.ipynb#X12sZmlsZQ%3D%3D?line=5'>6</a>\u001b[0m pl_profile \u001b[39m=\u001b[39m pl\u001b[39m.\u001b[39mgenerate_profile(number_of_ballots)\n\u001b[1;32m      <a href='vscode-notebook-cell:/Users/cdonnay/PycharmProjects/VoteKit/notebooks/pref_prof_generators.ipynb#X12sZmlsZQ%3D%3D?line=7'>8</a>\u001b[0m \u001b[39m# Bradley-Terry\u001b[39;00m\n\u001b[1;32m      <a href='vscode-notebook-cell:/Users/cdonnay/PycharmProjects/VoteKit/notebooks/pref_prof_generators.ipynb#X12sZmlsZQ%3D%3D?line=8'>9</a>\u001b[0m bt \u001b[39m=\u001b[39m bg\u001b[39m.\u001b[39mBradleyTerry(pref_interval_by_bloc\u001b[39m=\u001b[39mpref_interval_by_bloc,\n\u001b[1;32m     <a href='vscode-notebook-cell:/Users/cdonnay/PycharmProjects/VoteKit/notebooks/pref_prof_generators.ipynb#X12sZmlsZQ%3D%3D?line=9'>10</a>\u001b[0m                      bloc_voter_prop\u001b[39m=\u001b[39mbloc_voter_prop, \n\u001b[1;32m     <a href='vscode-notebook-cell:/Users/cdonnay/PycharmProjects/VoteKit/notebooks/pref_prof_generators.ipynb#X12sZmlsZQ%3D%3D?line=10'>11</a>\u001b[0m                      candidates\u001b[39m=\u001b[39mcandidates)\n",
      "File \u001b[0;32m~/PycharmProjects/VoteKit/src/votekit/ballot_generator.py:382\u001b[0m, in \u001b[0;36mPlackettLuce.generate_profile\u001b[0;34m(self, number_of_ballots)\u001b[0m\n\u001b[1;32m    377\u001b[0m     cand_support_vec \u001b[39m=\u001b[39m [pref_interval_dict[cand] \u001b[39mfor\u001b[39;00m cand \u001b[39min\u001b[39;00m \u001b[39mself\u001b[39m\u001b[39m.\u001b[39mcandidates]\n\u001b[1;32m    379\u001b[0m     \u001b[39mfor\u001b[39;00m _ \u001b[39min\u001b[39;00m \u001b[39mrange\u001b[39m(num_ballots):\n\u001b[1;32m    380\u001b[0m         \u001b[39m# generates ranking based on probability distribution of candidate support\u001b[39;00m\n\u001b[1;32m    381\u001b[0m         ballot \u001b[39m=\u001b[39m \u001b[39mlist\u001b[39m(\n\u001b[0;32m--> 382\u001b[0m             np\u001b[39m.\u001b[39mrandom\u001b[39m.\u001b[39mchoice(\n\u001b[1;32m    383\u001b[0m                 \u001b[39mself\u001b[39m\u001b[39m.\u001b[39mcandidates,\n\u001b[1;32m    384\u001b[0m                 \u001b[39mself\u001b[39m\u001b[39m.\u001b[39mballot_length,\n\u001b[1;32m    385\u001b[0m                 p\u001b[39m=\u001b[39mcand_support_vec,\n\u001b[1;32m    386\u001b[0m                 replace\u001b[39m=\u001b[39m\u001b[39mFalse\u001b[39;00m,\n\u001b[1;32m    387\u001b[0m             )\n\u001b[1;32m    388\u001b[0m         )\n\u001b[1;32m    390\u001b[0m         ballot_pool\u001b[39m.\u001b[39mappend(ballot)\n\u001b[1;32m    392\u001b[0m pp \u001b[39m=\u001b[39m \u001b[39mself\u001b[39m\u001b[39m.\u001b[39mballot_pool_to_profile(\n\u001b[1;32m    393\u001b[0m     ballot_pool\u001b[39m=\u001b[39mballot_pool, candidates\u001b[39m=\u001b[39m\u001b[39mself\u001b[39m\u001b[39m.\u001b[39mcandidates\n\u001b[1;32m    394\u001b[0m )\n",
      "File \u001b[0;32mnumpy/random/mtrand.pyx:1007\u001b[0m, in \u001b[0;36mnumpy.random.mtrand.RandomState.choice\u001b[0;34m()\u001b[0m\n",
      "\u001b[0;31mValueError\u001b[0m: Fewer non-zero entries in p than size"
     ]
    }
   ],
   "source": [
    "# Plackett-Luce\n",
    "pl = bg.PlackettLuce(pref_interval_by_bloc=pref_interval_by_bloc,\n",
    "                     bloc_voter_prop=bloc_voter_prop, \n",
    "                     candidates=candidates)\n",
    "\n",
    "pl_profile = pl.generate_profile(number_of_ballots)\n",
    "\n",
    "# Bradley-Terry\n",
    "bt = bg.BradleyTerry(pref_interval_by_bloc=pref_interval_by_bloc,\n",
    "                     bloc_voter_prop=bloc_voter_prop, \n",
    "                     candidates=candidates)\n",
    "\n",
    "bt_profile = bt.generate_profile(number_of_ballots)\n",
    "\n",
    "print(pl_profile)"
   ]
  },
  {
   "cell_type": "markdown",
   "metadata": {},
   "source": [
    "Alternating Crossover\n",
    "Cambridge Sampler"
   ]
  }
 ],
 "metadata": {
  "kernelspec": {
   "display_name": "votekit",
   "language": "python",
   "name": "votekit"
  },
  "language_info": {
   "codemirror_mode": {
    "name": "ipython",
    "version": 3
   },
   "file_extension": ".py",
   "mimetype": "text/x-python",
   "name": "python",
   "nbconvert_exporter": "python",
   "pygments_lexer": "ipython3",
   "version": "3.11.5"
  },
  "orig_nbformat": 4
 },
 "nbformat": 4,
 "nbformat_minor": 2
}
