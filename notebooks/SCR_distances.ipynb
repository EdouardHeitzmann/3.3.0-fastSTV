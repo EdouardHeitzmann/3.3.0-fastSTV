{
 "cells": [
  {
   "cell_type": "markdown",
   "metadata": {},
   "source": [
    "# Distances between PreferenceProfiles"
   ]
  },
  {
   "cell_type": "markdown",
   "metadata": {},
   "source": [
    "# Earthmover Distance\n",
    "\n",
    "The Earthmover distance is a measure of how far apart two distributions are over a given metric space. In our case, the metric space is the `BallotGraph` endowed with the shortes path metric. We then consider a `PreferenceProfile` to be a distribution that assigns the number of times a ballot was cast to a node of the `BallotGraph`. Informally, the Earthmover distance is the minimum cost of moving the \"dirt\" piled on the nodes by the first profile to the second profile given the distance it must travel."
   ]
  },
  {
   "cell_type": "markdown",
   "metadata": {},
   "source": [
    "# $L_p$ Distance\n",
    "\n",
    "The $L_p$ distance is a metric parameterized by $p\\in (0,\\infty]$. It is computed as $d(P_1,P_2) = \\left(\\sum |P_1(b)-P_2(b)|^p\\right)^{1/p}$, where the sum is indexed over all possible ballots, and $P_i(b)$ denotes the number of times that ballot was cast."
   ]
  },
  {
   "cell_type": "code",
   "execution_count": null,
   "metadata": {},
   "outputs": [],
   "source": []
  }
 ],
 "metadata": {
  "kernelspec": {
   "display_name": "Python 3 (ipykernel)",
   "language": "python",
   "name": "python3"
  },
  "language_info": {
   "codemirror_mode": {
    "name": "ipython",
    "version": 3
   },
   "file_extension": ".py",
   "mimetype": "text/x-python",
   "name": "python",
   "nbconvert_exporter": "python",
   "pygments_lexer": "ipython3",
   "version": "3.8.8"
  }
 },
 "nbformat": 4,
 "nbformat_minor": 2
}
