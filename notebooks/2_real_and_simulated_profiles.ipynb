{
 "cells": [
  {
   "cell_type": "markdown",
   "metadata": {
    "id": "fC8Ba_m4JadG"
   },
   "source": [
    "# Real and Simulated Profiles\n",
    "\n",
    "In the previous section, we discussed the `Ballot` class. It was very flexible, allowing for many possible rankings (beyond full linear rankings) to be stored. By the end of this section, you should be able to read and clean ballots from real-world voting records, generate ballots using a variety of models, and understand the candidate simplex."
   ]
  },
  {
   "cell_type": "markdown",
   "metadata": {
    "id": "xRqG7nKGJaY-"
   },
   "source": [
    "## Real-World Data\n",
    "\n",
    "We will use the 2013 Minneapolis mayoral election as our first example. This election had 35 candidates running for one seat, and used a single-winner IRV election to choose the winner. Voters were allowed to rank their top three candidates.\n",
    "\n",
    "Let's load in the **cast vote record** (CVR) from the election, which we have stored in the VoteKit GitHub repository. Please download the file and place it in your working directory (the same folder as your code). The file can be found [here](https://github.com/mggg/VoteKit/blob/main/notebooks/mn_2013_cast_vote_record.csv).\n",
    "\n",
    "First we load the appropriate modules."
   ]
  },
  {
   "cell_type": "code",
   "execution_count": 1,
   "metadata": {
    "id": "Ee-z36TYJWeH"
   },
   "outputs": [],
   "source": [
    "from votekit.cvr_loaders import load_csv\n",
    "from votekit.elections import IRV\n",
    "from votekit.cleaning import remove_cand"
   ]
  },
  {
   "cell_type": "markdown",
   "metadata": {
    "id": "ml5v2gicM2zT"
   },
   "source": [
    "Next we'll use the `load_csv` function to load the data. The data should be a csv file, where each row is a ballot, and there is a column for every position---i.e., a first-place vote column, a second-place vote column, and so on.\n",
    "\n",
    "The `load_csv` function has some optional parameters; you can specify which columns of the csv contain ranking data (all of our columns did so no need to specify), whether there is a weight column, some choice of end-of-line delimiters (besides the standard, which is a carriage return), and a voter ID column. It will return a `PreferenceProfile` object."
   ]
  },
  {
   "cell_type": "code",
   "execution_count": 2,
   "metadata": {
    "id": "aS72GYgNKZLa"
   },
   "outputs": [
    {
     "name": "stdout",
     "output_type": "stream",
     "text": [
      "Profile contains rankings: True\n",
      "Maximum ranking length: 3\n",
      "Profile contains scores: False\n",
      "Candidates: ('ABDUL M RAHAMAN \"THE ROCK\"', 'DAN COHEN', 'JAMES EVERETT', 'MARK V ANDERSON', 'TROY BENJEGERDES', 'undervote', 'ALICIA K. BENNETT', 'BETSY HODGES', 'MARK ANDREW', 'MIKE GOULD', 'BILL KAHN', 'BOB FINE', 'CAM WINTON', 'DON SAMUELS', 'JACKIE CHERRYHOMES', 'JEFFREY ALAN WAGNER', 'JOHN LESLIE HARTWIG', 'KURTIS W. HANNA', 'JOSHUA REA', 'MERRILL ANDERSON', 'NEAL BAXTER', 'STEPHANIE WOODRUFF', 'UWI', 'BOB \"AGAIN\" CARNEY JR', 'TONY LANE', 'CAPTAIN JACK SPARROW', 'GREGG A. IVERSON', 'JAMES \"JIMMY\" L. STROUD, JR.', 'JAYMIE KELLY', 'CYD GORMAN', 'EDMUND BERNARD BRUYERE', 'DOUG MANN', 'CHRISTOPHER ROBIN ZIMMERMAN', 'RAHN V. WORKCUFF', 'JOHN CHARLES WILSON', 'OLE SAVIOR', 'overvote', 'CHRISTOPHER CLARK')\n",
      "Candidates who received votes: ('ABDUL M RAHAMAN \"THE ROCK\"', 'DAN COHEN', 'JAMES EVERETT', 'MARK V ANDERSON', 'TROY BENJEGERDES', 'undervote', 'ALICIA K. BENNETT', 'BETSY HODGES', 'MARK ANDREW', 'MIKE GOULD', 'BILL KAHN', 'BOB FINE', 'CAM WINTON', 'DON SAMUELS', 'JACKIE CHERRYHOMES', 'JEFFREY ALAN WAGNER', 'JOHN LESLIE HARTWIG', 'KURTIS W. HANNA', 'JOSHUA REA', 'MERRILL ANDERSON', 'NEAL BAXTER', 'STEPHANIE WOODRUFF', 'UWI', 'BOB \"AGAIN\" CARNEY JR', 'TONY LANE', 'CAPTAIN JACK SPARROW', 'GREGG A. IVERSON', 'JAMES \"JIMMY\" L. STROUD, JR.', 'JAYMIE KELLY', 'CYD GORMAN', 'EDMUND BERNARD BRUYERE', 'DOUG MANN', 'CHRISTOPHER ROBIN ZIMMERMAN', 'RAHN V. WORKCUFF', 'JOHN CHARLES WILSON', 'OLE SAVIOR', 'overvote', 'CHRISTOPHER CLARK')\n",
      "Total number of Ballot objects: 7084\n",
      "Total weight of Ballot objects: 80101.0\n",
      "\n"
     ]
    }
   ],
   "source": [
    "minneapolis_profile = load_csv(\"mn_2013_cast_vote_record.csv\")\n",
    "print(minneapolis_profile)"
   ]
  },
  {
   "cell_type": "markdown",
   "metadata": {
    "id": "ugj1FvRgNbt-"
   },
   "source": [
    "Note that the `load_csv` function automatically condenses the profile.\n",
    "\n",
    "Let's explore the profile using some of the tools we learned in the previous notebook."
   ]
  },
  {
   "cell_type": "code",
   "execution_count": 3,
   "metadata": {},
   "outputs": [
    {
     "name": "stdout",
     "output_type": "stream",
     "text": [
      "The list of candidates is\n",
      "\tABDUL M RAHAMAN \"THE ROCK\"\n",
      "\tALICIA K. BENNETT\n",
      "\tBETSY HODGES\n",
      "\tBILL KAHN\n",
      "\tBOB \"AGAIN\" CARNEY JR\n",
      "\tBOB FINE\n",
      "\tCAM WINTON\n",
      "\tCAPTAIN JACK SPARROW\n",
      "\tCHRISTOPHER CLARK\n",
      "\tCHRISTOPHER ROBIN ZIMMERMAN\n",
      "\tCYD GORMAN\n",
      "\tDAN COHEN\n",
      "\tDON SAMUELS\n",
      "\tDOUG MANN\n",
      "\tEDMUND BERNARD BRUYERE\n",
      "\tGREGG A. IVERSON\n",
      "\tJACKIE CHERRYHOMES\n",
      "\tJAMES \"JIMMY\" L. STROUD, JR.\n",
      "\tJAMES EVERETT\n",
      "\tJAYMIE KELLY\n",
      "\tJEFFREY ALAN WAGNER\n",
      "\tJOHN CHARLES WILSON\n",
      "\tJOHN LESLIE HARTWIG\n",
      "\tJOSHUA REA\n",
      "\tKURTIS W. HANNA\n",
      "\tMARK ANDREW\n",
      "\tMARK V ANDERSON\n",
      "\tMERRILL ANDERSON\n",
      "\tMIKE GOULD\n",
      "\tNEAL BAXTER\n",
      "\tOLE SAVIOR\n",
      "\tRAHN V. WORKCUFF\n",
      "\tSTEPHANIE WOODRUFF\n",
      "\tTONY LANE\n",
      "\tTROY BENJEGERDES\n",
      "\tUWI\n",
      "\tovervote\n",
      "\tundervote\n",
      "There are 38 candidates.\n"
     ]
    }
   ],
   "source": [
    "print(\"The list of candidates is\")\n",
    "\n",
    "for candidate in sorted(minneapolis_profile.candidates):\n",
    "    print(f\"\\t{candidate}\")\n",
    "\n",
    "print(f\"There are {len(minneapolis_profile.candidates)} candidates.\")"
   ]
  },
  {
   "cell_type": "markdown",
   "metadata": {
    "id": "g3bFDwMgNxPq"
   },
   "source": [
    "Woah, that's a little funky! There are candidates called\n",
    "'undervote', 'overvote', and 'UWI'. This cast vote record was already cleaned by the City of Minneapolis, and they chose this way of parsing the ballots:  'undervote' indicates that the voter left a position unfilled, such as by having no candidate listed in second place. The 'overvote' notation arises when a voter puts two candidates in one position, like by putting Hodges and Samuels both in first place.  Unfortunately this way of storing the profile means we have lost any knowledge of the voter intent (which was probably to indicate equal preference). 'UWI' stands for unregistered write-in.\n",
    "\n",
    "This reminds us that it is really important to think carefully about how we want to handle cleaning ballots, as some storage methods are efficient but lossy. For now, let's assume that we want to further condense the ballots, discarding 'undervote', 'overvote', and 'UWI' as candidates. The function `remove_noncands` will do this for us once we specify which (non)candidates to remove. If a ballot was \"A B undervote\", it will become \"A B\". If a ballot was \"A UWI B\" it will now be \"A B\" as well. Many other cleaning options are reasonable."
   ]
  },
  {
   "cell_type": "code",
   "execution_count": 4,
   "metadata": {
    "colab": {
     "base_uri": "https://localhost:8080/"
    },
    "id": "c8c-JqA0No99",
    "outputId": "07b51be5-24b1-4ad4-ab41-d3a457e6e52d"
   },
   "outputs": [
    {
     "name": "stdout",
     "output_type": "stream",
     "text": [
      "There were 38 candidates\n",
      "\n",
      "('JAYMIE KELLY', 'JOHN CHARLES WILSON', 'JAMES \"JIMMY\" L. STROUD, JR.', 'ALICIA K. BENNETT', 'MERRILL ANDERSON', 'CHRISTOPHER ROBIN ZIMMERMAN', 'TONY LANE', 'MARK ANDREW', 'BOB \"AGAIN\" CARNEY JR', 'JACKIE CHERRYHOMES', 'BILL KAHN', 'NEAL BAXTER', 'ABDUL M RAHAMAN \"THE ROCK\"', 'KURTIS W. HANNA', 'CAPTAIN JACK SPARROW', 'CAM WINTON', 'DOUG MANN', 'OLE SAVIOR', 'DAN COHEN', 'CHRISTOPHER CLARK', 'DON SAMUELS', 'MARK V ANDERSON', 'JOHN LESLIE HARTWIG', 'GREGG A. IVERSON', 'MIKE GOULD', 'TROY BENJEGERDES', 'BETSY HODGES', 'RAHN V. WORKCUFF', 'JOSHUA REA', 'STEPHANIE WOODRUFF', 'BOB FINE', 'CYD GORMAN', 'EDMUND BERNARD BRUYERE', 'JAMES EVERETT', 'JEFFREY ALAN WAGNER')\n",
      "\n",
      "There are now 35 candidates\n",
      "Profile has been cleaned\n",
      "Profile contains rankings: True\n",
      "Maximum ranking length: 3\n",
      "Profile contains scores: False\n",
      "Candidates: ('JAYMIE KELLY', 'JOHN CHARLES WILSON', 'JAMES \"JIMMY\" L. STROUD, JR.', 'ALICIA K. BENNETT', 'MERRILL ANDERSON', 'CHRISTOPHER ROBIN ZIMMERMAN', 'TONY LANE', 'MARK ANDREW', 'BOB \"AGAIN\" CARNEY JR', 'JACKIE CHERRYHOMES', 'BILL KAHN', 'NEAL BAXTER', 'ABDUL M RAHAMAN \"THE ROCK\"', 'KURTIS W. HANNA', 'CAPTAIN JACK SPARROW', 'CAM WINTON', 'DOUG MANN', 'OLE SAVIOR', 'DAN COHEN', 'CHRISTOPHER CLARK', 'DON SAMUELS', 'MARK V ANDERSON', 'JOHN LESLIE HARTWIG', 'GREGG A. IVERSON', 'MIKE GOULD', 'TROY BENJEGERDES', 'BETSY HODGES', 'RAHN V. WORKCUFF', 'JOSHUA REA', 'STEPHANIE WOODRUFF', 'BOB FINE', 'CYD GORMAN', 'EDMUND BERNARD BRUYERE', 'JAMES EVERETT', 'JEFFREY ALAN WAGNER')\n",
      "Candidates who received votes: ('ABDUL M RAHAMAN \"THE ROCK\"', 'DAN COHEN', 'JAMES EVERETT', 'MARK V ANDERSON', 'TROY BENJEGERDES', 'ALICIA K. BENNETT', 'BETSY HODGES', 'MARK ANDREW', 'MIKE GOULD', 'BILL KAHN', 'BOB FINE', 'CAM WINTON', 'DON SAMUELS', 'JACKIE CHERRYHOMES', 'JEFFREY ALAN WAGNER', 'JOHN LESLIE HARTWIG', 'KURTIS W. HANNA', 'JOSHUA REA', 'MERRILL ANDERSON', 'NEAL BAXTER', 'STEPHANIE WOODRUFF', 'BOB \"AGAIN\" CARNEY JR', 'TONY LANE', 'CAPTAIN JACK SPARROW', 'GREGG A. IVERSON', 'JAMES \"JIMMY\" L. STROUD, JR.', 'JAYMIE KELLY', 'CYD GORMAN', 'EDMUND BERNARD BRUYERE', 'DOUG MANN', 'CHRISTOPHER ROBIN ZIMMERMAN', 'RAHN V. WORKCUFF', 'JOHN CHARLES WILSON', 'OLE SAVIOR', 'CHRISTOPHER CLARK')\n",
      "Total number of Ballot objects: 7084\n",
      "Total weight of Ballot objects: 80101.0\n",
      "\n"
     ]
    }
   ],
   "source": [
    "print(\"There were\", len(minneapolis_profile.candidates), \"candidates\\n\")\n",
    "\n",
    "clean_profile = remove_cand([\"undervote\", \"overvote\", \"UWI\"], minneapolis_profile)\n",
    "print(clean_profile.candidates)\n",
    "\n",
    "print(\"\\nThere are now\", len(clean_profile.candidates), \"candidates\")\n",
    "\n",
    "print(clean_profile)"
   ]
  },
  {
   "cell_type": "markdown",
   "metadata": {},
   "source": [
    "Things look a bit cleaner; all three of the non-candidate strings have been removed.  Note that the order of candidates is not very meaningful; it's just the order in which the names occurred in the input data. When listing by weight, note how the top ballot changed from (Mark Andrew, undervote, undervote) to just a bullet vote for Mark Andrew, which occurred on almost 5 percent of ballots! Briefly, let's run the same kind of election type that was conducted in 2013 to verify we get the same outcome as the city announced. The city used IRV elections (which are equivalent to STV for one seat). Let's check it out."
   ]
  },
  {
   "cell_type": "code",
   "execution_count": 5,
   "metadata": {
    "colab": {
     "base_uri": "https://localhost:8080/"
    },
    "id": "0HxQC_zQOOue",
    "outputId": "f612ecdd-2f7a-4519-bd1e-dba7a3bd20aa"
   },
   "outputs": [
    {
     "name": "stdout",
     "output_type": "stream",
     "text": [
      "                                  Status  Round\n",
      "BETSY HODGES                     Elected     35\n",
      "MARK ANDREW                   Eliminated     34\n",
      "DON SAMUELS                   Eliminated     33\n",
      "CAM WINTON                    Eliminated     32\n",
      "JACKIE CHERRYHOMES            Eliminated     31\n",
      "BOB FINE                      Eliminated     30\n",
      "DAN COHEN                     Eliminated     29\n",
      "STEPHANIE WOODRUFF            Eliminated     28\n",
      "MARK V ANDERSON               Eliminated     27\n",
      "DOUG MANN                     Eliminated     26\n",
      "OLE SAVIOR                    Eliminated     25\n",
      "JAMES EVERETT                 Eliminated     24\n",
      "ALICIA K. BENNETT             Eliminated     23\n",
      "ABDUL M RAHAMAN \"THE ROCK\"    Eliminated     22\n",
      "CAPTAIN JACK SPARROW          Eliminated     21\n",
      "CHRISTOPHER CLARK             Eliminated     20\n",
      "TONY LANE                     Eliminated     19\n",
      "JAYMIE KELLY                  Eliminated     18\n",
      "MIKE GOULD                    Eliminated     17\n",
      "KURTIS W. HANNA               Eliminated     16\n",
      "CHRISTOPHER ROBIN ZIMMERMAN   Eliminated     15\n",
      "JEFFREY ALAN WAGNER           Eliminated     14\n",
      "NEAL BAXTER                   Eliminated     13\n",
      "TROY BENJEGERDES              Eliminated     12\n",
      "GREGG A. IVERSON              Eliminated     11\n",
      "MERRILL ANDERSON              Eliminated     10\n",
      "JOSHUA REA                    Eliminated      9\n",
      "BILL KAHN                     Eliminated      8\n",
      "JOHN LESLIE HARTWIG           Eliminated      7\n",
      "EDMUND BERNARD BRUYERE        Eliminated      6\n",
      "JAMES \"JIMMY\" L. STROUD, JR.  Eliminated      5\n",
      "RAHN V. WORKCUFF              Eliminated      4\n",
      "BOB \"AGAIN\" CARNEY JR         Eliminated      3\n",
      "CYD GORMAN                    Eliminated      2\n",
      "JOHN CHARLES WILSON           Eliminated      1\n"
     ]
    },
    {
     "name": "stderr",
     "output_type": "stream",
     "text": [
      "/mnt/efs/h/Dropbox/MADLAB/Git_Repos/mggg/VoteKit/src/votekit/pref_profile/pref_profile.py:1107: UserWarning: Profile does not contain rankings but max_ranking_length=3. Setting max_ranking_length to 0.\n",
      "  warnings.warn(\n"
     ]
    }
   ],
   "source": [
    "# an IRV election for one seat\n",
    "minn_election = IRV(profile=clean_profile)\n",
    "print(minn_election)"
   ]
  },
  {
   "cell_type": "markdown",
   "metadata": {
    "id": "KDqSLOEIPKTY"
   },
   "source": [
    "If you're so moved, take a moment to [go verify](https://en.wikipedia.org/wiki/2013_Minneapolis_mayoral_election) that we got the same order of elimination and the same winning candidate as in the official election.\n",
    "\n",
    "Well that was simple! One takeaway: cleaning your data is a crucial step, and how you clean your data depends on your own context. This is why VoteKit provides helper functions to clean ballots, but it does not automatically apply them."
   ]
  },
  {
   "cell_type": "markdown",
   "metadata": {
    "id": "moCV4JoNQHp3"
   },
   "source": [
    "## Simulated voting with ballot generators\n",
    "\n",
    "If we want to get a large sample of ballots without using real-world data, we can use a variety of ballot generators included in VoteKit."
   ]
  },
  {
   "cell_type": "markdown",
   "metadata": {
    "id": "uG1N-OeTi7K4"
   },
   "source": [
    "### Bradley-Terry\n",
    "\n",
    "The slate-Bradley-Terry model (s-BT) uses the same set of input parameters as s-PL: `slate_to_candidates`, `bloc_voter_prop`, `cohesion_parameters`, and `pref_intervals_by_bloc`. We call s-BT the deliberative voter model because part of the generation process involves making all pairwise comparisons between candidates on the ballot. A more detailed discussion can be found in our [social choice documentation](../../social_choice_docs/scr.html#slate-bradley-terry).\n",
    "\n",
    "\n"
   ]
  },
  {
   "cell_type": "code",
   "execution_count": 6,
   "metadata": {
    "id": "AVLGSHlPjA44"
   },
   "outputs": [
    {
     "name": "stdout",
     "output_type": "stream",
     "text": [
      "Profile contains rankings: True\n",
      "Maximum ranking length: 4\n",
      "Profile contains scores: False\n",
      "Candidates: ('Y', 'X', 'B', 'A')\n",
      "Candidates who received votes: ('A', 'B', 'Y', 'X')\n",
      "Total number of Ballot objects: 12\n",
      "Total weight of Ballot objects: 100.0\n",
      "\n"
     ]
    }
   ],
   "source": [
    "import votekit.ballot_generator as bg\n",
    "from votekit import PreferenceInterval\n",
    "\n",
    "slate_to_candidates = {\"Alpha\": [\"A\", \"B\"], \"Xenon\": [\"X\", \"Y\"]}\n",
    "\n",
    "# note that we include candidates with 0 support, and that our preference intervals\n",
    "# will automatically rescale to sum to 1\n",
    "\n",
    "pref_intervals_by_bloc = {\n",
    "    \"Alpha\": {\n",
    "        \"Alpha\": PreferenceInterval({\"A\": 0.8, \"B\": 0.15}),\n",
    "        \"Xenon\": PreferenceInterval({\"X\": 0, \"Y\": 0.05}),\n",
    "    },\n",
    "    \"Xenon\": {\n",
    "        \"Alpha\": PreferenceInterval({\"A\": 0.05, \"B\": 0.05}),\n",
    "        \"Xenon\": PreferenceInterval({\"X\": 0.45, \"Y\": 0.45}),\n",
    "    },\n",
    "}\n",
    "\n",
    "\n",
    "bloc_voter_prop = {\"Alpha\": 0.8, \"Xenon\": 0.2}\n",
    "\n",
    "# assume that each bloc is 90% cohesive\n",
    "cohesion_parameters = {\n",
    "    \"Alpha\": {\"Alpha\": 0.9, \"Xenon\": 0.1},\n",
    "    \"Xenon\": {\"Xenon\": 0.9, \"Alpha\": 0.1},\n",
    "}\n",
    "\n",
    "bt = bg.slate_BradleyTerry(\n",
    "    pref_intervals_by_bloc=pref_intervals_by_bloc,\n",
    "    bloc_voter_prop=bloc_voter_prop,\n",
    "    slate_to_candidates=slate_to_candidates,\n",
    "    cohesion_parameters=cohesion_parameters,\n",
    ")\n",
    "\n",
    "profile = bt.generate_profile(number_of_ballots=100)\n",
    "print(profile)"
   ]
  },
  {
   "cell_type": "markdown",
   "metadata": {},
   "source": [
    ".. admonition:: A note on s-BT\n",
    "    :class: note\n",
    "    The probability distribution that s-BT samples from is too cumbersome to compute for more than 12 candidates. We have implemented a Markov chain Monte Carlo (MCMC) sampling method to account for this. Simply set `deterministic = False` in the `generate_profile` method to use the MCMC code. The sample size should be increased to ensure mixing of the chain."
   ]
  },
  {
   "cell_type": "code",
   "execution_count": 7,
   "metadata": {},
   "outputs": [
    {
     "name": "stdout",
     "output_type": "stream",
     "text": [
      "Profile contains rankings: True\n",
      "Maximum ranking length: 4\n",
      "Profile contains scores: False\n",
      "Candidates: ('Y', 'X', 'B', 'A')\n",
      "Candidates who received votes: ('A', 'B', 'Y', 'X')\n",
      "Total number of Ballot objects: 12\n",
      "Total weight of Ballot objects: 100.0\n",
      "\n"
     ]
    }
   ],
   "source": [
    "mcmc_profile = bt.generate_profile(number_of_ballots=10000, deterministic=False)\n",
    "print(profile)"
   ]
  },
  {
   "cell_type": "markdown",
   "metadata": {
    "id": "8kYWOS-sQKlL"
   },
   "source": [
    "## Generating Preference Intervals from Hyperparameters\n",
    "\n",
    "Now that we have seen a few ballot generators, we can introduce the candidate simplex and the Dirichlet distribution.\n",
    "\n",
    "\n",
    "We saw that you can initialize the Plackett-Luce model and the Bradley-Terry model from a preference interval (or multiple ones if you have different voting blocs). Recall, a preference interval stores a voter's preference for candidates as a vector of non-negative values that sum to 1. Other models that rely on preference intervals include the Alternating Crossover model (AC) and the Cambridge Sampler (CS). There is a nice geometric representation of preference intervals via the candidate simplex.\n",
    "\n",
    "### Candidate Simplex\n",
    "\n",
    "Informally, the candidate simplex is a geometric representation of the space of preference intervals. With two candidates, it is an interval; with three candidates, it is a triangle; with four, a tetrahedron; and so on getting harder to visualize as the dimension goes up.\n",
    "\n",
    "This will be easiest to visualize with three candidates $A,B,C$. Then there is a one-to-one correspondence between positions in the triangle and what are called **convex combinations** of the extreme points.  For instance, $.8A+.15B+.05C$ is a weighted average of those points giving 80% of the weight to $A$, 15% to $B$, and 5% to $C$.  The result is a point that is closest to $A$, as seen in the picture.  \n",
    "\n",
    "Those coefficients, which sum to 1, become the lengths of the candidate's sub-intervals.  So this lets us see the simplex as the space of all preference intervals.\n",
    "\n",
    "![png](../../_static/assets/candidate_simplex.png)"
   ]
  },
  {
   "cell_type": "markdown",
   "metadata": {
    "id": "ZyTKdFsVSE1E"
   },
   "source": [
    "### Dirichlet Distribution\n",
    "\n",
    "**Dirichlet distributions** are a one-parameter family of probability distributions on the simplex---this is used here to choose a preference interval at random. We parameterize it with a value $\\alpha \\in (0,\\infty)$. As $\\alpha\\to \\infty$, the support of the distribution moves to the center of the simplex. This means we are more likely to sample preference intervals that have roughly equal support for all candidates, which will translate to all orderings being equally likely. As $\\alpha\\to 0$, the mass moves to the vertices. This means we are more likely to choose a preference interval that has strong support for a single candidate.  In between is $\\alpha=1$, where any region of the simplex is weighted in proportion to its area.  We think of this as the \"all bets are off\" setting -- you might choose a balanced preference, a concentrated preference, or something in between.\n",
    "\n",
    "The value $\\alpha$ is never allowed to equal 0 or $\\infty$ in Python, so VoteKit changes these to a very small number ($10^{-10}$) and a very large number $(10^{20})$.  We don't recommend using values that extreme. In previous studies, MGGG members have taken $\\alpha = 1/2$ to be \"small\" and $\\alpha = 2$ to be \"big.\"\n",
    "\n",
    "![png](../../_static/assets/dirichlet_distribution.png)"
   ]
  },
  {
   "cell_type": "markdown",
   "metadata": {},
   "source": [
    "It is easy to sample a `PreferenceInterval` from the Dirichlet distribution. Rerun the code below several times to get a feel for how these change with randomness."
   ]
  },
  {
   "cell_type": "code",
   "execution_count": 8,
   "metadata": {},
   "outputs": [
    {
     "name": "stdout",
     "output_type": "stream",
     "text": [
      "Strong preference for one candidate {'A': np.float64(0.9983), 'B': np.float64(0.0), 'C': np.float64(0.0017)}\n",
      "All bets are off preference {'A': np.float64(0.2992), 'B': np.float64(0.6655), 'C': np.float64(0.0352)}\n",
      "Uniform preference for all candidates {'A': np.float64(0.388), 'B': np.float64(0.2281), 'C': np.float64(0.3839)}\n"
     ]
    }
   ],
   "source": [
    "strong_pref_interval = PreferenceInterval.from_dirichlet(\n",
    "    candidates=[\"A\", \"B\", \"C\"], alpha=0.1\n",
    ")\n",
    "print(\"Strong preference for one candidate\", strong_pref_interval)\n",
    "\n",
    "abo_pref_interval = PreferenceInterval.from_dirichlet(\n",
    "    candidates=[\"A\", \"B\", \"C\"], alpha=1\n",
    ")\n",
    "print(\"All bets are off preference\", abo_pref_interval)\n",
    "\n",
    "unif_pref_interval = PreferenceInterval.from_dirichlet(\n",
    "    candidates=[\"A\", \"B\", \"C\"], alpha=10\n",
    ")\n",
    "print(\"Uniform preference for all candidates\", unif_pref_interval)"
   ]
  },
  {
   "cell_type": "markdown",
   "metadata": {
    "id": "pPgbRqTbj02x"
   },
   "source": [
    "Let's initialize the s-PL model from the Dirichlet distribution, using that to build a preference interval rather than specifying the interval. Each bloc will need two Dirichlet alpha values; one to describe their own preference interval, and another to describe their preference for the opposing candidates."
   ]
  },
  {
   "cell_type": "code",
   "execution_count": 9,
   "metadata": {
    "id": "SoSNuACsmXPa"
   },
   "outputs": [
    {
     "name": "stdout",
     "output_type": "stream",
     "text": [
      "Preference interval for X bloc and X candidates\n",
      "{'X1': np.float64(0.5259), 'X2': np.float64(0.4741)}\n",
      "\n",
      "Preference interval for X bloc and Y candidates\n",
      "{'Y1': np.float64(0.5913), 'Y2': np.float64(0.4087)}\n",
      "\n",
      "Profile contains rankings: True\n",
      "Maximum ranking length: 4\n",
      "Profile contains scores: False\n",
      "Candidates: ('X1', 'X2', 'Y2', 'Y1')\n",
      "Candidates who received votes: ('Y2', 'Y1', 'X2', 'X1')\n",
      "Total number of Ballot objects: 11\n",
      "Total weight of Ballot objects: 80.0\n",
      "\n"
     ]
    }
   ],
   "source": [
    "bloc_voter_prop = {\"X\": 0.8, \"Y\": 0.2}\n",
    "\n",
    "# the values of .9 indicate that these blocs are highly polarized;\n",
    "# they prefer their own candidates much more than the opposing slate\n",
    "cohesion_parameters = {\"X\": {\"X\": 0.9, \"Y\": 0.1}, \"Y\": {\"Y\": 0.9, \"X\": 0.1}}\n",
    "\n",
    "alphas = {\"X\": {\"X\": 2, \"Y\": 1}, \"Y\": {\"X\": 1, \"Y\": 0.5}}\n",
    "\n",
    "slate_to_candidates = {\"X\": [\"X1\", \"X2\"], \"Y\": [\"Y1\", \"Y2\"]}\n",
    "\n",
    "# the from_params method allows us to sample from\n",
    "# the Dirichlet distribution for our intervals\n",
    "pl = bg.slate_PlackettLuce.from_params(\n",
    "    slate_to_candidates=slate_to_candidates,\n",
    "    bloc_voter_prop=bloc_voter_prop,\n",
    "    cohesion_parameters=cohesion_parameters,\n",
    "    alphas=alphas,\n",
    ")\n",
    "\n",
    "print(\"Preference interval for X bloc and X candidates\")\n",
    "print(pl.pref_intervals_by_bloc[\"X\"][\"X\"])\n",
    "print()\n",
    "print(\"Preference interval for X bloc and Y candidates\")\n",
    "print(pl.pref_intervals_by_bloc[\"X\"][\"Y\"])\n",
    "\n",
    "print()\n",
    "profile_dict, agg_profile = pl.generate_profile(number_of_ballots=100, by_bloc=True)\n",
    "print(profile_dict[\"X\"])"
   ]
  },
  {
   "cell_type": "markdown",
   "metadata": {
    "id": "RJzKu9CXneg_"
   },
   "source": [
    "Let's confirm that the intervals and ballots look reasonable. We have $\\alpha_{XX} = 2$ and $\\alpha_{XY} = 1$. This means that the $X$ voters tend to be relatively indifferent among their own candidates, but might adopt any candidate strength behavior for the $Y$ slate.\n",
    "\n",
    "\n",
    "### **Try it yourself**\n",
    "> Change the code above to check that the preference intervals and ballots for the $Y$ bloc look reasonable.\n",
    "\n"
   ]
  },
  {
   "cell_type": "markdown",
   "metadata": {
    "id": "54xq-4RERNDA"
   },
   "source": [
    "## Cambridge Sampler\n",
    "We introduce one more method of generating ballots: the **Cambridge Sampler** (CS). CS generates ranked ballots using historical election data from Cambridge, MA (which has been continuously conducting ranked choice elections since 1941). It is the only ballot generator we will see today that is capable of producing incomplete ballots, including bullet votes.\n",
    "\n",
    "By default, CS uses five elections (2009-2017, odd years); with the help of local organizers, we coded the candidates as White (W) or People of Color (POC, or C for short).  This is not necessarily the biggest factor predicting people's vote in Cambridge -- housing policy is the biggie -- but it's a good place to find realistic rankings, with candidates of two types.\n",
    "\n",
    "You also have the option of providing CS with your own historical election data from which to generate ballots instead of using Cambridge data."
   ]
  },
  {
   "cell_type": "code",
   "execution_count": 10,
   "metadata": {
    "id": "g0V0sl6VRMoG"
   },
   "outputs": [
    {
     "name": "stdout",
     "output_type": "stream",
     "text": [
      "Profile contains rankings: True\n",
      "Maximum ranking length: 5\n",
      "Profile contains scores: False\n",
      "Candidates: ('W2', 'C2', 'C1', 'W1', 'W3')\n",
      "Candidates who received votes: ('W1', 'W3', 'W2', 'C1', 'C2')\n",
      "Total number of Ballot objects: 256\n",
      "Total weight of Ballot objects: 1000.0\n",
      "\n"
     ]
    }
   ],
   "source": [
    "bloc_voter_prop = {\"W\": 0.8, \"C\": 0.2}\n",
    "\n",
    "# the values of .9 indicate that these blocs are highly polarized;\n",
    "# they prefer their own candidates much more than the opposing slate\n",
    "cohesion_parameters = {\"W\": {\"W\": 0.9, \"C\": 0.1}, \"C\": {\"C\": 0.9, \"W\": 0.1}}\n",
    "\n",
    "alphas = {\"W\": {\"W\": 2, \"C\": 1}, \"C\": {\"W\": 1, \"C\": 0.5}}\n",
    "\n",
    "slate_to_candidates = {\"W\": [\"W1\", \"W2\", \"W3\"], \"C\": [\"C1\", \"C2\"]}\n",
    "\n",
    "cs = bg.CambridgeSampler.from_params(\n",
    "    slate_to_candidates=slate_to_candidates,\n",
    "    bloc_voter_prop=bloc_voter_prop,\n",
    "    cohesion_parameters=cohesion_parameters,\n",
    "    alphas=alphas,\n",
    ")\n",
    "\n",
    "\n",
    "profile = cs.generate_profile(number_of_ballots=1000)\n",
    "print(profile)"
   ]
  },
  {
   "cell_type": "markdown",
   "metadata": {
    "id": "Kn69SvUurIu4"
   },
   "source": [
    "Note: the ballot type (as in, Ws and Cs) is strictly drawn from the historical frequencies.  The candidate IDs (as in W1 and W2 among the W slate) are filled in by sampling without replacement from the preference interval that you either provided or made from Dirichlet alphas. That is the only role of the preference interval."
   ]
  },
  {
   "cell_type": "markdown",
   "metadata": {
    "id": "pQ2ALxh-oUdW"
   },
   "source": [
    "## Conclusion\n",
    "\n",
    "There are many other models of ballot generation in VoteKit, both for ranked choice ballots and score based ballots (think cumulative or approval voting). See the [ballot generator](../../package_info/api.html#module-votekit.ballot_generator) section of the VoteKit documentation for more."
   ]
  }
 ],
 "metadata": {
  "colab": {
   "provenance": []
  },
  "kernelspec": {
   "display_name": ".venv",
   "language": "python",
   "name": "python3"
  },
  "language_info": {
   "codemirror_mode": {
    "name": "ipython",
    "version": 3
   },
   "file_extension": ".py",
   "mimetype": "text/x-python",
   "name": "python",
   "nbconvert_exporter": "python",
   "pygments_lexer": "ipython3",
   "version": "3.13.3"
  }
 },
 "nbformat": 4,
 "nbformat_minor": 0
}
