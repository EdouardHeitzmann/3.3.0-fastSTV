{
 "cells": [
  {
   "cell_type": "markdown",
   "id": "4b805fa1",
   "metadata": {},
   "source": [
    "## Introduction: Computationally Sampling Bradley-Terry\n",
    "\n",
    "Given a preference interval $\\mathbf u$ Bradley-Terry (BT) is a model for\n",
    "drawing ballots when generating elections (TODO: insert link here).\n",
    "In particular, `name_Bradley_Terry.generate_profile()` is a method\n",
    "which, when given a preference interval, list of candidates and a number of ballots,\n",
    "samples a profile of ballots according to the Bradley-Terry\n",
    "distribution.  \n",
    "\n",
    "In votekit today, sampling BT profiles is done by computing the probability mass function on\n",
    "the set of ballots and then drawing from this pmf a single ballot at a\n",
    "time. However, this involves computing $n!$ terms and\n",
    "then storing all $n!$ probabilities. Using this method would mean that\n",
    "Votekit is only able to support BT generative elections with up $11$\n",
    "candidates. In this notebook we detail and investigate a Markov Chain\n",
    "Monte Carlo approach which allows us to effectively simulate BT\n",
    "elections with more than $30$ candidates and more than $1,000,000$\n",
    "ballots."
   ]
  },
  {
   "cell_type": "markdown",
   "id": "22686372",
   "metadata": {},
   "source": [
    "### Imports and Helper functions"
   ]
  },
  {
   "cell_type": "code",
   "execution_count": 2,
   "id": "30365274",
   "metadata": {},
   "outputs": [
    {
     "name": "stdout",
     "output_type": "stream",
     "text": [
      "['/home/willithg/MGGG/VoteKit', '/home/willithg/miniconda3/lib/python312.zip', '/home/willithg/miniconda3/lib/python3.12', '/home/willithg/miniconda3/lib/python3.12/lib-dynload', '', '/home/willithg/miniconda3/lib/python3.12/site-packages']\n"
     ]
    }
   ],
   "source": [
    "# adjust the directory so that we can import local source\n",
    "import sys\n",
    "import os\n",
    "\n",
    "# Add the repo root to sys.path\n",
    "ROOT_REL_PATH_FROM_NB = \"../..\"\n",
    "repo_path = os.path.abspath(os.path.join(os.getcwd(), ROOT_REL_PATH_FROM_NB))  # adjust as needed\n",
    "if repo_path not in sys.path:\n",
    "    sys.path.insert(0, repo_path)\n",
    "\n",
    "print(sys.path)\n",
    "\n",
    "from src.votekit.ballot_generator import name_BradleyTerry \n",
    "from src.votekit.pref_interval import PreferenceInterval\n",
    "import matplotlib.pyplot as plt\n",
    "import numpy as np\n",
    "from tqdm import tqdm\n",
    "from math import factorial"
   ]
  },
  {
   "cell_type": "code",
   "execution_count": null,
   "id": "7b52ac4e",
   "metadata": {},
   "outputs": [],
   "source": [
    "def total_variation_distance(P, Q, labels):\n",
    "    sum = 0 \n",
    "    for x in labels:\n",
    "        sum += abs(P[x] - Q[x])\n",
    "    return (1/2)*sum\n",
    "\n",
    "def generate_BT_args(n_cands, alpha=1):\n",
    "    '''\n",
    "        generates arguments for name_BradleyTerry class\n",
    "        with n_cands, generates single slate and single bloc.\n",
    "    '''\n",
    "    if n_cands == 0:\n",
    "        raise Exception(\"cannot generate BT args for 0 candidates\")\n",
    "\n",
    "    #cands = [chr(ord('a')+i) for i in range(n_cands)] # alphabetic candidates\n",
    "    cands = [f\"Cand{i}\" for i in range(n_cands)]\n",
    "    bloc_name = \"H\"\n",
    "    pref_interval = PreferenceInterval.from_dirichlet(candidates=cands, alpha=alpha)\n",
    "    pref_intervals_by_bloc = {\n",
    "        bloc_name: {\n",
    "            bloc_name : pref_interval\n",
    "        }\n",
    "    }\n",
    "    bloc_voter_prop = {bloc_name: 1}\n",
    "    cohesion_paramteters = {\n",
    "        bloc_name: {\n",
    "            bloc_name: 1\n",
    "        }\n",
    "    }\n",
    "    \n",
    "    return {\n",
    "        \"candidates\": cands,\n",
    "        \"pref_intervals_by_bloc\": pref_intervals_by_bloc,\n",
    "        \"bloc_voter_prop\" : bloc_voter_prop,\n",
    "        \"cohesion_parameters\": cohesion_paramteters\n",
    "    }\n",
    "\n",
    "def get_pdf_from_BT_instance(bt_inst):\n",
    "    '''\n",
    "        Given an instance of `name_BradleyTerry` this method returns\n",
    "        the bt-pdf stored on the instance\n",
    "    '''\n",
    "    blocs = bt_inst.blocs\n",
    "    if len(blocs) != 1:\n",
    "        raise Exception(\"Non-one bloc on bt_inst\")\n",
    "    return bt_inst.pdfs_by_bloc[blocs[0]]"
   ]
  },
  {
   "cell_type": "code",
   "execution_count": null,
   "id": "4cd3ac32",
   "metadata": {},
   "outputs": [
    {
     "data": {
      "text/plain": [
       "('Cand1', 'Cand3', 'Cand2', 'Cand0', 'Cand4')"
      ]
     },
     "execution_count": 17,
     "metadata": {},
     "output_type": "execute_result"
    }
   ],
   "source": [
    "bt = name_BradleyTerry(**generate_BT_args(n_cands=5, alpha=1))\n",
    "pdf1 = get_pdf_from_BT_instance(bt)\n",
    "\n",
    "prof = bt.generate_profile(number_of_ballots=10)\n",
    "print(pdf1[tuple([list(i)[0] for i in prof.ballots[0].ranking])])\n",
    "#prof.ballots[0].ranking\n"
   ]
  },
  {
   "cell_type": "markdown",
   "id": "603f10d4",
   "metadata": {},
   "source": [
    "## Comparing MCMC on Different Ballot Graphs\n",
    "\n",
    "The method described in (TODO: link to general section) will also work\n",
    "on any regular graph whose nodes are valid ballots. In particular\n",
    "there are two commonly (citation?) used ballot graphs. Previously we\n",
    "have defined two ballots to be adjacent if they differe by a single\n",
    "neighbour swap. We can define the *shortcut ballot graph* by extending\n",
    "this and defining two edges to be adjacent if they differ by a swap of\n",
    "any two candidates. If our score function is the same as previously\n",
    "defined then Metropolis-Hastings on the shortcut ballot graph still\n",
    "has Bradley-Terry as a stationary distribution. \n",
    "\n",
    "In this section we will run some experiements comparing\n",
    "Metropolois-Hastings on the two different kinds of Ballot graph."
   ]
  },
  {
   "cell_type": "markdown",
   "id": "06c6bdeb",
   "metadata": {},
   "source": [
    "### Comparing TV distance to BT Pdf\n",
    "\n",
    "In the following cell we generate BT profiles by continuously sampled\n",
    "MH on the shortcut and non-shortcut ballot graph. We do this on a\n",
    "small enough set of candidates so that we can directly compute the\n",
    "exact pdf. We then compare the TV distance between each sampled\n",
    "profile to the known distribution."
   ]
  },
  {
   "cell_type": "code",
   "execution_count": null,
   "id": "542c609c",
   "metadata": {},
   "outputs": [],
   "source": [
    "total_ballots = 10_000\n",
    "num_ballots_array = np.linspace(100, total_ballots, 100)\n",
    "num_ballots_array = num_ballots_array.astype(int)[1:]\n",
    "num_trials_per_ballot_size = 10\n",
    "\n",
    "N_CANDS_FOR_BALLOTS = 6\n",
    "bt = name_BradleyTerry(**generate_BT_args(n_cands=N_CANDS_FOR_BALLOTS, alpha=1))\n",
    "bt_pdfs = get_pdf_from_BT_instance(bt)\n",
    "\n",
    "tv_distances_non_shortcut = []\n",
    "tv_distances_shortcut = []\n",
    "for num_ballots in tqdm(num_ballots_array):\n",
    "    running_total_non_shortcut = 0\n",
    "    running_total_shortcut = 0\n",
    "    for _ in range(num_trials_per_ballot_size):\n",
    "        ## -- Intialize the ballots ------------ \n",
    "        bals_BT_MCMC = bt.generate_profile_MCMC(num_ballots).group_ballots()\n",
    "        bals_BT_MCMC_shortcut = bt.generate_profile_MCMC(num_ballots, on_shortcut_graph=True).group_ballots() \n",
    "        bals_BT_classic = bt.generate_profile(num_ballots).group_ballots()\n",
    "\n",
    "        ## -- Calculate the frequencies ----------------\n",
    "        ballot_rankings_MCMC = [bal.ranking for bal in bals_BT_MCMC.ballots]\n",
    "        bal_labels_MCMC = [\"\".join([list(cand)[0] for cand in ranking]) for ranking in ballot_rankings_MCMC]\n",
    "        bal_weights_MCMC = [int(bal.weight) for bal in bals_BT_MCMC.ballots]\n",
    "\n",
    "        ballot_rankings_MCMC_shortcut = [bal.ranking for bal in bals_BT_MCMC_shortcut.ballots]\n",
    "        bal_labels_MCMC_shortcut = [\"\".join([list(cand)[0] for cand in ranking]) for ranking in ballot_rankings_MCMC_shortcut]\n",
    "        bal_weights_MCMC_shortcut = [int(bal.weight) for bal in bals_BT_MCMC_shortcut.ballots]\n",
    "        \n",
    "        ballot_rankings_classic = [bal.ranking for bal in bals_BT_classic.ballots]\n",
    "        bal_labels_classic = [\"\".join([list(cand)[0] for cand in ranking]) for ranking in ballot_rankings_classic]\n",
    "        bal_weights_classic = [int(bal.weight) for bal in bals_BT_classic.ballots]\n",
    "        \n",
    "        \n",
    "        bal_rankings_map_classic_as_freq = {bal_labels_classic[i]: bal_weights_classic[i]/num_ballots for i in range(len(bal_labels_classic))}\n",
    "        bal_rankings_map_MCMC = {bal_labels_MCMC[i]: bal_weights_MCMC[i]/num_ballots for i in range(len(bal_labels_MCMC))}\n",
    "        bal_rankings_map_MCMC_shortcut_as_freq = {bal_labels_MCMC_shortcut[i]: bal_weights_MCMC_shortcut[i] / num_ballots for i in range(len(bal_labels_MCMC_shortcut))}\n",
    "\n",
    "        # populate any missing keys\n",
    "        # note: in general the classic map should have all the keys since\n",
    "        # it computes the pdf directly. However, this procedure should\n",
    "        # work in cases where we may not have the classic map\n",
    "        all_keys = [list(m.keys()) for m in [\n",
    "            bal_rankings_map_classic_as_freq, bal_rankings_map_MCMC, bal_rankings_map_MCMC_shortcut_as_freq\n",
    "        ]]\n",
    "        flattened_keys = [k for sublist in all_keys for k in sublist]\n",
    "\n",
    "        for key in flattened_keys:\n",
    "            bal_rankings_map_MCMC_shortcut_as_freq.setdefault(key, 0) \n",
    "            bal_rankings_map_MCMC.setdefault(key, 0) \n",
    "            bal_rankings_map_classic_as_freq.setdefault(key, 0) \n",
    "\n",
    "        # increment the recorded tv distances\n",
    "        x_labels = list(bal_rankings_map_classic_as_freq.keys())\n",
    "        running_total_non_shortcut += total_variation_distance(bal_rankings_map_MCMC, bal_rankings_map_classic_as_freq, x_labels)\n",
    "        running_total_shortcut += total_variation_distance(bal_rankings_map_MCMC_shortcut_as_freq, bal_rankings_map_classic_as_freq, x_labels)\n",
    "\n",
    "    tv_distances_non_shortcut.append(running_total_non_shortcut/num_trials_per_ballot_size)\n",
    "    tv_distances_shortcut.append(running_total_shortcut/num_trials_per_ballot_size)"
   ]
  }
 ],
 "metadata": {
  "kernelspec": {
   "display_name": "base",
   "language": "python",
   "name": "python3"
  },
  "language_info": {
   "codemirror_mode": {
    "name": "ipython",
    "version": 3
   },
   "file_extension": ".py",
   "mimetype": "text/x-python",
   "name": "python",
   "nbconvert_exporter": "python",
   "pygments_lexer": "ipython3",
   "version": "3.12.3"
  }
 },
 "nbformat": 4,
 "nbformat_minor": 5
}
