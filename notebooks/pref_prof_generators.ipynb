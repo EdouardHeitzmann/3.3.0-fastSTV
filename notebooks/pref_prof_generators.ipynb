{
 "cells": [
  {
   "cell_type": "markdown",
   "metadata": {},
   "source": [
    "# Generating `PreferenceProfiles`\n",
    "We have already seen the use of a  `PreferenceProfile` generator (the Impartial Culture Model) in the Plotting and Ballot Graph tutorials. Now, let's dive into the rest that are included in `votekit`:\n",
    "- Impartial Culture\n",
    "- Impartial Anonymous Culture\n",
    "- Plackett Luce\n",
    "- Bradley Terry\n",
    "- Alternating Crossover\n",
    "- OneDimSpatial\n",
    "- Cambridge Sampler"
   ]
  },
  {
   "cell_type": "code",
   "execution_count": 3,
   "metadata": {},
   "outputs": [],
   "source": [
    "import votekit.ballot_generator as bg"
   ]
  },
  {
   "cell_type": "markdown",
   "metadata": {},
   "source": [
    "The two simplest to use are the Impartial Culture and Impartial Anonymous Culture. For $m$ candidates and $n$ voters, the Impartial Culture model generates `PreferenceProfiles` uniformly at random out of the $(m!)^n$ possible profiles. Remember, a `PreferenceProfile` is a tuple of length $n$ that stores a linear ranking $m$ in each slot.\n",
    "\n",
    "The Impartial Anonymous Culture model works a little bit differently. When it generates ballots, it chooses a candidate support vector uniformly at random from among all possible support vectors, and then generates ballots according to that vector."
   ]
  },
  {
   "cell_type": "code",
   "execution_count": 2,
   "metadata": {},
   "outputs": [],
   "source": [
    "candidates = [\"A\", \"B\", \"C\"]\n",
    "number_of_ballots = 50\n",
    "#Impartial Culture\n",
    "ic = bg.ImpartialCulture(candidates = candidates)\n",
    "ic_profile = ic.generate_profile(number_of_ballots)\n",
    "\n",
    "#Impartial Anonymous Culture\n",
    "iac = bg.ImpartialAnonymousCulture(candidates = candidates)\n",
    "iac_profile = iac.generate_profile(number_of_ballots)\n"
   ]
  },
  {
   "cell_type": "markdown",
   "metadata": {},
   "source": [
    "# Ballots Generated Using Intervals\n",
    "\n",
    "The following generative models all depend on the real line in some way.\n",
    "\n",
    "The 1-D Spatial model assigns each candidate a random point on the real line according to the standard normal distribution. It then does the same for each voter, and then a voter ranks candidates by their distance from the voter."
   ]
  },
  {
   "cell_type": "code",
   "execution_count": 3,
   "metadata": {},
   "outputs": [],
   "source": [
    "one_d = bg.OneDimSpatial(candidates = candidates)\n",
    "one_d_profile = one_d.generate_profile(number_of_ballots)"
   ]
  },
  {
   "cell_type": "markdown",
   "metadata": {},
   "source": [
    "The Plackett-Luce and Bradley-Terry models both use the interval $[0,1]$. To use these models, we need a bit more information than just the candidates. Suppose for now that there is one type of voter (or bloc $Q$) in the state (these models can be generalized to more than one bloc, but we will start simple for now). We record the proportion of voters in this bloc in a dictionary.\n",
    "\n",
    "In the upcoming election, there are three candidates, $A$, $B$, and $C$. In general, the bloc $Q$ prefers $A$ 1/2  of the time, $B$ 1/3 of the time, and $C$ 1/6 of the time. We can visualize this as the line segment $[0,1]$, with the segment $[0,1/2]$ labeled $A$, $[1/2, 5/6]$ labeled $B$, and $[5/6,1]$ labeled $C$. Note the slight abuse of notation in using the same name for the candidates and their intervals. We store this information in a dictionary.\n",
    "\n",
    "\n",
    "<!-- Suppose there are two blocs (or groups) of voters, $Q$ and $R$. The $Q$ bloc is estimated to be about 70% of the voting population, while the $R$ block is about 30%. Within each bloc there is preference for different candidates, which we record in the variable `pref_interval_by_bloc`. \n",
    "\n",
    "In this example, suppose each bloc has two candidates running, but there is some crossover in which some voters from bloc $Q$ actually prefer the candidates from bloc $R$. The $R$ bloc, being much more insular, does not prefer either of $Q$'s candidates. -->"
   ]
  },
  {
   "cell_type": "code",
   "execution_count": 11,
   "metadata": {},
   "outputs": [],
   "source": [
    "candidates = [\"A\", \"B\", \"C\"]\n",
    "number_of_ballots = 50\n",
    "\n",
    "bloc_voter_prop = {\"Q\":1}\n",
    "\n",
    "pref_interval_by_bloc = {\"Q\" : {\"A\": 1/2, \n",
    "                                \"B\": 1/3,\n",
    "                                \"C\": 1/6}}\n"
   ]
  },
  {
   "cell_type": "markdown",
   "metadata": {},
   "source": [
    "For each voter, the Plackett-Luce (PL) model samples from the list of candidates without replacement according to the distribution defined by the preference intervals. The first candidate it samples is in first place, then second, etc. Visualizing this as the line segment, the PL model uniformly at random selects a point in $[0,1]$. Whichever candidate's interval that point lies in is listed first in the ballot. It then removes that candidate's preference interval from $[0,1]$, rescales so the segment has length 1 again, and then samples a second candidate. Repeat until all candidates have been sampled."
   ]
  },
  {
   "cell_type": "code",
   "execution_count": 12,
   "metadata": {},
   "outputs": [
    {
     "name": "stdout",
     "output_type": "stream",
     "text": [
      "  Ballots  Weight\n",
      "(A, B, C)      20\n",
      "(B, A, C)      11\n",
      "(B, C, A)       5\n",
      "(A, C, B)       5\n",
      "(C, B, A)       5\n",
      "(C, A, B)       4\n"
     ]
    }
   ],
   "source": [
    "# Plackett-Luce\n",
    "pl = bg.PlackettLuce(pref_interval_by_bloc=pref_interval_by_bloc,\n",
    "                     bloc_voter_prop=bloc_voter_prop, \n",
    "                     candidates=candidates)\n",
    "\n",
    "pl_profile = pl.generate_profile(number_of_ballots)\n",
    "print(pl_profile)"
   ]
  },
  {
   "cell_type": "markdown",
   "metadata": {},
   "source": [
    "The Bradley-Terry (BT) model also fundamentally relies on these preference intervals. The probability that BT samples the ballot $(A>B>C)$ is the product of the pairwise probabilities $(A>B), (A>C),$ and $(B>C)$. Using our preference intervals, the probability that $A>B$ is $\\frac{A}{A+B}$; out of a line segment of length $A+B$, this is the probability that a uniform random point lies in the $A$ portion. The other probabilities are computed similarly."
   ]
  },
  {
   "cell_type": "code",
   "execution_count": 13,
   "metadata": {},
   "outputs": [
    {
     "name": "stdout",
     "output_type": "stream",
     "text": [
      "  Ballots  Weight\n",
      "(A, B, C)      16\n",
      "(B, A, C)      15\n",
      "(A, C, B)      11\n",
      "(B, C, A)       4\n",
      "(C, A, B)       2\n",
      "(C, B, A)       2\n"
     ]
    }
   ],
   "source": [
    "# Bradley-Terry\n",
    "bt = bg.BradleyTerry(pref_interval_by_bloc=pref_interval_by_bloc,\n",
    "                     bloc_voter_prop=bloc_voter_prop, \n",
    "                     candidates=candidates)\n",
    "\n",
    "bt_profile = bt.generate_profile(number_of_ballots)\n",
    "\n",
    "print(bt_profile)"
   ]
  },
  {
   "cell_type": "markdown",
   "metadata": {},
   "source": [
    "We can do a more complicated example of PL and BT. Consider an election where there are 2 blocs of voters, $Q$ and $R$. There are two candidates from the $Q$ bloc, and two from the $R$ bloc. The $R$ block is more insular, and expresses no interest in any of the $Q$ candidates, while the $Q$ bloc does have some preference for $R$'s candidates."
   ]
  },
  {
   "cell_type": "code",
   "execution_count": 1,
   "metadata": {},
   "outputs": [],
   "source": [
    "candidates = [\"Q1\", \"Q2\", \"R1\", \"R2\"]\n",
    "number_of_ballots = 50\n",
    "\n",
    "bloc_voter_prop = {\"Q\": 0.7, \"R\": 0.3}\n",
    "\n",
    "pref_interval_by_bloc = {\n",
    "    \"Q\": {\"Q1\": 0.4, \"Q2\": 0.3, \"R1\": 0.2, \"R2\": 0.1},\n",
    "    \"R\": {\"Q1\": 0, \"Q2\": 0, \"R1\": 0.4, \"R2\": 0.6}\n",
    "}"
   ]
  },
  {
   "cell_type": "code",
   "execution_count": 7,
   "metadata": {},
   "outputs": [
    {
     "name": "stdout",
     "output_type": "stream",
     "text": [
      "50\n",
      "                     Ballots  Weight\n",
      "(R1, R2, {'Q1', 'Q2'} (Tie))       9\n",
      "(R2, R1, {'Q1', 'Q2'} (Tie))       6\n",
      "            (Q1, Q2, R1, R2)       5\n",
      "            (R1, Q2, Q1, R2)       4\n",
      "            (Q1, R1, R2, Q2)       4\n",
      "            (Q2, Q1, R1, R2)       4\n",
      "            (Q2, R1, Q1, R2)       3\n",
      "            (R1, Q1, Q2, R2)       3\n",
      "            (R1, Q1, R2, Q2)       2\n",
      "            (Q1, R1, Q2, R2)       2\n",
      "            (R2, Q2, R1, Q1)       1\n",
      "            (R1, R2, Q2, Q1)       1\n",
      "            (R2, Q2, Q1, R1)       1\n",
      "            (Q1, Q2, R2, R1)       1\n",
      "            (Q2, R1, R2, Q1)       1\n"
     ]
    }
   ],
   "source": [
    "pl = bg.PlackettLuce(pref_interval_by_bloc=pref_interval_by_bloc,\n",
    "                     bloc_voter_prop=bloc_voter_prop, \n",
    "                     candidates=candidates)\n",
    "\n",
    "pl_profile = pl.generate_profile(number_of_ballots)\n",
    "\n",
    "print(\"Number of ballots:\", pl_profile.num_ballots())\n",
    "print(pl_profile)"
   ]
  },
  {
   "cell_type": "markdown",
   "metadata": {},
   "source": [
    "Notice that for the first time we have ties on the ballots! The notation `{'Q1', 'Q2'} (Tie)` means that these two candidates are tied for third place."
   ]
  },
  {
   "cell_type": "code",
   "execution_count": 4,
   "metadata": {},
   "outputs": [
    {
     "name": "stdout",
     "output_type": "stream",
     "text": [
      "659\n",
      "                     Ballots  Weight\n",
      "(R2, R1, {'Q1', 'Q2'} (Tie))     114\n",
      "(R1, R2, {'Q1', 'Q2'} (Tie))      84\n",
      "            (Q1, Q2, R1, R2)      83\n",
      "            (Q2, Q1, R1, R2)      78\n",
      "            (Q1, R1, Q2, R2)      48\n",
      "            (Q2, R1, Q1, R2)      42\n",
      "            (Q1, Q2, R2, R1)      38\n",
      "            (R1, Q1, Q2, R2)      34\n",
      "            (Q2, Q1, R2, R1)      30\n",
      "            (R1, Q2, Q1, R2)      24\n",
      "            (Q1, R1, R2, Q2)      20\n",
      "            (Q1, R2, Q2, R1)      14\n",
      "            (Q1, R2, R1, Q2)      12\n",
      "            (R1, Q1, R2, Q2)       7\n",
      "            (Q2, R2, Q1, R1)       6\n"
     ]
    }
   ],
   "source": [
    "# Bradley-Terry\n",
    "bt = bg.BradleyTerry(pref_interval_by_bloc=pref_interval_by_bloc,\n",
    "                     bloc_voter_prop=bloc_voter_prop, \n",
    "                     candidates=candidates)\n",
    "\n",
    "bt_profile = bt.generate_profile(number_of_ballots)\n",
    "print(\"Number of ballots:\", bt_profile.num_ballots())\n",
    "print(bt_profile)"
   ]
  },
  {
   "cell_type": "markdown",
   "metadata": {},
   "source": [
    "It remains for us to discuss the Alternating Crossover and Cambridge Sampler methods."
   ]
  },
  {
   "cell_type": "markdown",
   "metadata": {},
   "source": []
  }
 ],
 "metadata": {
  "kernelspec": {
   "display_name": "votekit",
   "language": "python",
   "name": "votekit"
  },
  "language_info": {
   "codemirror_mode": {
    "name": "ipython",
    "version": 3
   },
   "file_extension": ".py",
   "mimetype": "text/x-python",
   "name": "python",
   "nbconvert_exporter": "python",
   "pygments_lexer": "ipython3",
   "version": "3.11.5"
  },
  "orig_nbformat": 4
 },
 "nbformat": 4,
 "nbformat_minor": 2
}
