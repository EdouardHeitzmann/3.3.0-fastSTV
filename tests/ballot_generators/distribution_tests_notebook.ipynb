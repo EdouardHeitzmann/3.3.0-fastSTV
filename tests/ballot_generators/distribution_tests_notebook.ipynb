{
 "cells": [
  {
   "cell_type": "code",
   "execution_count": 2,
   "id": "d686c871-8053-4797-bebe-cb88e4bc51ec",
   "metadata": {},
   "outputs": [],
   "source": [
    "import itertools as it\n",
    "import math\n",
    "import scipy.stats as stats\n",
    "from pathlib import Path\n",
    "import pickle\n",
    "import numpy as np\n",
    "\n",
    "from votekit.ballot_generator import (\n",
    "    ImpartialAnonymousCulture,\n",
    "    ImpartialCulture,\n",
    "    name_PlackettLuce,\n",
    "    # name_BradleyTerry,\n",
    "    AlternatingCrossover,\n",
    "    CambridgeSampler,\n",
    "    BallotSimplex,\n",
    "    slate_PlackettLuce,\n",
    "    slate_BradleyTerry,\n",
    "    name_Cumulative,\n",
    "    sample_cohesion_ballot_types,\n",
    ")\n",
    "from votekit.pref_profile import PreferenceProfile\n",
    "from votekit.pref_interval import PreferenceInterval, combine_preference_intervals\n",
    "from votekit import Ballot\n",
    "\n",
    "\n",
    "# Overwrite the bradley-terry module \n",
    "\n",
    "import sys\n",
    "import os\n",
    "sys.path.append(os.path.abspath(\"src\"))\n",
    "from votekit.ballot_generator import name_BradleyTerry"
   ]
  },
  {
   "cell_type": "code",
   "execution_count": 3,
   "id": "b503b1d9-5143-47b2-9529-bbfc69d12078",
   "metadata": {},
   "outputs": [
    {
     "ename": "ValueError",
     "evalue": "Blocs are not the same between bloc_voter_prop and pref_intervals_by_bloc.",
     "output_type": "error",
     "traceback": [
      "\u001b[0;31m---------------------------------------------------------------------------\u001b[0m",
      "\u001b[0;31mValueError\u001b[0m                                Traceback (most recent call last)",
      "Cell \u001b[0;32mIn[3], line 19\u001b[0m\n\u001b[1;32m     15\u001b[0m cohesion_parameters \u001b[38;5;241m=\u001b[39m {\u001b[38;5;124m\"\u001b[39m\u001b[38;5;124mW\u001b[39m\u001b[38;5;124m\"\u001b[39m: {\u001b[38;5;124m\"\u001b[39m\u001b[38;5;124mW\u001b[39m\u001b[38;5;124m\"\u001b[39m: \u001b[38;5;241m1\u001b[39m, \u001b[38;5;124m\"\u001b[39m\u001b[38;5;124mC\u001b[39m\u001b[38;5;124m\"\u001b[39m: \u001b[38;5;241m0\u001b[39m}, \u001b[38;5;124m\"\u001b[39m\u001b[38;5;124mC\u001b[39m\u001b[38;5;124m\"\u001b[39m: {\u001b[38;5;124m\"\u001b[39m\u001b[38;5;124mC\u001b[39m\u001b[38;5;124m\"\u001b[39m: \u001b[38;5;241m1\u001b[39m, \u001b[38;5;124m\"\u001b[39m\u001b[38;5;124mW\u001b[39m\u001b[38;5;124m\"\u001b[39m: \u001b[38;5;241m0\u001b[39m}}\n\u001b[1;32m     16\u001b[0m \u001b[38;5;66;03m# bloc_voter_prop = {\"W\": 0.7, \"C\": 0.3}\u001b[39;00m\n\u001b[1;32m     17\u001b[0m \n\u001b[1;32m     18\u001b[0m \u001b[38;5;66;03m# Generate ballots\u001b[39;00m\n\u001b[0;32m---> 19\u001b[0m bt \u001b[38;5;241m=\u001b[39m \u001b[43mname_BradleyTerry\u001b[49m\u001b[43m(\u001b[49m\n\u001b[1;32m     20\u001b[0m \u001b[43m    \u001b[49m\u001b[43mcandidates\u001b[49m\u001b[38;5;241;43m=\u001b[39;49m\u001b[43mcandidates\u001b[49m\u001b[43m,\u001b[49m\n\u001b[1;32m     21\u001b[0m \u001b[43m    \u001b[49m\u001b[43mpref_intervals_by_bloc\u001b[49m\u001b[38;5;241;43m=\u001b[39;49m\u001b[43mpref_intervals_by_bloc\u001b[49m\u001b[43m,\u001b[49m\n\u001b[1;32m     22\u001b[0m \u001b[43m    \u001b[49m\u001b[43mbloc_voter_prop\u001b[49m\u001b[38;5;241;43m=\u001b[39;49m\u001b[43mbloc_voter_prop\u001b[49m\u001b[43m,\u001b[49m\n\u001b[1;32m     23\u001b[0m \u001b[43m    \u001b[49m\u001b[43mcohesion_parameters\u001b[49m\u001b[38;5;241;43m=\u001b[39;49m\u001b[43mcohesion_parameters\u001b[49m\u001b[43m,\u001b[49m\n\u001b[1;32m     24\u001b[0m \u001b[43m)\u001b[49m\n",
      "File \u001b[0;32m~/miniforge3/lib/python3.12/site-packages/votekit/ballot_generator.py:678\u001b[0m, in \u001b[0;36mname_BradleyTerry.__init__\u001b[0;34m(self, cohesion_parameters, **data)\u001b[0m\n\u001b[1;32m    676\u001b[0m \u001b[38;5;28;01mdef\u001b[39;00m \u001b[38;5;21m__init__\u001b[39m(\u001b[38;5;28mself\u001b[39m, cohesion_parameters: \u001b[38;5;28mdict\u001b[39m, \u001b[38;5;241m*\u001b[39m\u001b[38;5;241m*\u001b[39mdata):\n\u001b[1;32m    677\u001b[0m     \u001b[38;5;66;03m# Call the parent class's __init__ method to handle common parameters\u001b[39;00m\n\u001b[0;32m--> 678\u001b[0m     \u001b[38;5;28;43msuper\u001b[39;49m\u001b[43m(\u001b[49m\u001b[43m)\u001b[49m\u001b[38;5;241;43m.\u001b[39;49m\u001b[38;5;21;43m__init__\u001b[39;49m\u001b[43m(\u001b[49m\u001b[43mcohesion_parameters\u001b[49m\u001b[38;5;241;43m=\u001b[39;49m\u001b[43mcohesion_parameters\u001b[49m\u001b[43m,\u001b[49m\u001b[43m \u001b[49m\u001b[38;5;241;43m*\u001b[39;49m\u001b[38;5;241;43m*\u001b[39;49m\u001b[43mdata\u001b[49m\u001b[43m)\u001b[49m\n\u001b[1;32m    680\u001b[0m     \u001b[38;5;66;03m# if dictionary of pref intervals\u001b[39;00m\n\u001b[1;32m    681\u001b[0m     \u001b[38;5;28;01mif\u001b[39;00m \u001b[38;5;28misinstance\u001b[39m(\n\u001b[1;32m    682\u001b[0m         \u001b[38;5;28mlist\u001b[39m(\u001b[38;5;28mself\u001b[39m\u001b[38;5;241m.\u001b[39mpref_intervals_by_bloc\u001b[38;5;241m.\u001b[39mvalues())[\u001b[38;5;241m0\u001b[39m], PreferenceInterval\n\u001b[1;32m    683\u001b[0m     ):\n",
      "File \u001b[0;32m~/miniforge3/lib/python3.12/site-packages/votekit/ballot_generator.py:142\u001b[0m, in \u001b[0;36mBallotGenerator.__init__\u001b[0;34m(self, **kwargs)\u001b[0m\n\u001b[1;32m    139\u001b[0m     \u001b[38;5;28;01mraise\u001b[39;00m \u001b[38;5;167;01mValueError\u001b[39;00m(\u001b[38;5;124m\"\u001b[39m\u001b[38;5;124mVoter proportion for blocs must sum to 1\u001b[39m\u001b[38;5;124m\"\u001b[39m)\n\u001b[1;32m    141\u001b[0m \u001b[38;5;28;01mif\u001b[39;00m bloc_voter_prop\u001b[38;5;241m.\u001b[39mkeys() \u001b[38;5;241m!=\u001b[39m pref_intervals_by_bloc\u001b[38;5;241m.\u001b[39mkeys():\n\u001b[0;32m--> 142\u001b[0m     \u001b[38;5;28;01mraise\u001b[39;00m \u001b[38;5;167;01mValueError\u001b[39;00m(\n\u001b[1;32m    143\u001b[0m         \u001b[38;5;124m\"\u001b[39m\u001b[38;5;124mBlocs are not the same between bloc_voter_prop and pref_intervals_by_bloc.\u001b[39m\u001b[38;5;124m\"\u001b[39m\n\u001b[1;32m    144\u001b[0m     )\n\u001b[1;32m    146\u001b[0m \u001b[38;5;28;01mif\u001b[39;00m bloc_voter_prop\u001b[38;5;241m.\u001b[39mkeys() \u001b[38;5;241m!=\u001b[39m cohesion_parameters\u001b[38;5;241m.\u001b[39mkeys():\n\u001b[1;32m    147\u001b[0m     \u001b[38;5;28;01mraise\u001b[39;00m \u001b[38;5;167;01mValueError\u001b[39;00m(\n\u001b[1;32m    148\u001b[0m         \u001b[38;5;124m\"\u001b[39m\u001b[38;5;124mBlocs are not the same between bloc_voter_prop and cohesion_parameters.\u001b[39m\u001b[38;5;124m\"\u001b[39m\n\u001b[1;32m    149\u001b[0m     )\n",
      "\u001b[0;31mValueError\u001b[0m: Blocs are not the same between bloc_voter_prop and pref_intervals_by_bloc."
     ]
    }
   ],
   "source": []
  },
  {
   "cell_type": "code",
   "execution_count": 4,
   "id": "0b7bafd3-7adb-4237-9576-a4412c1f9ffd",
   "metadata": {},
   "outputs": [
    {
     "data": {
      "text/plain": [
       "<votekit.ballot_generator.name_BradleyTerry at 0x2b6fd2780>"
      ]
     },
     "execution_count": 4,
     "metadata": {},
     "output_type": "execute_result"
    }
   ],
   "source": [
    "bt"
   ]
  },
  {
   "cell_type": "code",
   "execution_count": 3,
   "id": "d11d9166-8285-44b7-a1c5-1be1f18aa06a",
   "metadata": {},
   "outputs": [
    {
     "ename": "AttributeError",
     "evalue": "'name_BradleyTerry' object has no attribute 'generate_profile_MCMC_even_subsample'",
     "output_type": "error",
     "traceback": [
      "\u001b[0;31m---------------------------------------------------------------------------\u001b[0m",
      "\u001b[0;31mAttributeError\u001b[0m                            Traceback (most recent call last)",
      "Cell \u001b[0;32mIn[3], line 1\u001b[0m\n\u001b[0;32m----> 1\u001b[0m generated_profile \u001b[38;5;241m=\u001b[39m \u001b[43mbt\u001b[49m\u001b[38;5;241;43m.\u001b[39;49m\u001b[43mgenerate_profile_MCMC_even_subsample\u001b[49m(\n\u001b[1;32m      2\u001b[0m     candidates\u001b[38;5;241m=\u001b[39mcandidates,\n\u001b[1;32m      3\u001b[0m     pref_intervals_by_bloc\u001b[38;5;241m=\u001b[39mpref_intervals_by_bloc,\n\u001b[1;32m      4\u001b[0m     bloc_voter_prop\u001b[38;5;241m=\u001b[39mbloc_voter_prop,\n\u001b[1;32m      5\u001b[0m     cohesion_parameters\u001b[38;5;241m=\u001b[39mcohesion_parameters,\n\u001b[1;32m      6\u001b[0m )\n",
      "\u001b[0;31mAttributeError\u001b[0m: 'name_BradleyTerry' object has no attribute 'generate_profile_MCMC_even_subsample'"
     ]
    }
   ],
   "source": [
    "generated_profile = bt.generate_profile_MCMC_even_subsample(\n",
    "    candidates=candidates,\n",
    "    pref_intervals_by_bloc=pref_intervals_by_bloc,\n",
    "    bloc_voter_prop=bloc_voter_prop,\n",
    "    cohesion_parameters=cohesion_parameters,\n",
    ")"
   ]
  },
  {
   "cell_type": "code",
   "execution_count": null,
   "id": "c2ccfd24-0249-4d09-a7e1-48827ebc144c",
   "metadata": {},
   "outputs": [],
   "source": []
  }
 ],
 "metadata": {
  "kernelspec": {
   "display_name": "Python 3 (ipykernel)",
   "language": "python",
   "name": "python3"
  },
  "language_info": {
   "codemirror_mode": {
    "name": "ipython",
    "version": 3
   },
   "file_extension": ".py",
   "mimetype": "text/x-python",
   "name": "python",
   "nbconvert_exporter": "python",
   "pygments_lexer": "ipython3",
   "version": "3.12.5"
  }
 },
 "nbformat": 4,
 "nbformat_minor": 5
}
